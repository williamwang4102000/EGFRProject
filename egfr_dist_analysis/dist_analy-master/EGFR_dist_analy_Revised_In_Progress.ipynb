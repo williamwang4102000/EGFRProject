{
 "cells": [
  {
   "cell_type": "code",
   "execution_count": 25,
   "metadata": {},
   "outputs": [
    {
     "name": "stdout",
     "output_type": "stream",
     "text": [
      "The autoreload extension is already loaded. To reload it, use:\n",
      "  %reload_ext autoreload\n"
     ]
    }
   ],
   "source": [
    "from dist_analy.pypdb import Query, get_pdb_file\n",
    "from dist_analy.dist_analy import get_shortest_dist_matrix, get_ca_dist_matrix\n",
    "import dist_analy.import_pdb\n",
    "import dist_analy.pca\n",
    "from sklearn import decomposition\n",
    "import dist_analy.pca\n",
    "import numpy as np\n",
    "import matplotlib.pyplot as plt\n",
    "\n",
    "%load_ext autoreload\n",
    "%autoreload 2"
   ]
  },
  {
   "cell_type": "code",
   "execution_count": 26,
   "metadata": {},
   "outputs": [],
   "source": [
    "egfr_uniprot = 'P00533'\n",
    "# editted pypdb to search by uniprot accession ... will need to submit a pull request eventually\n",
    "\n",
    "found_pdbs = Query(egfr_uniprot, query_type=\"uniprot\").search()"
   ]
  },
  {
   "cell_type": "code",
   "execution_count": 27,
   "metadata": {},
   "outputs": [
    {
     "name": "stdout",
     "output_type": "stream",
     "text": [
      "['1IVO', '1M14', '1M17', '1MOX', '1NQL', '1XKK', '1YY9', '1Z9I', '2EB2', '2EB3', '2GS2', '2GS6', '2GS7', '2ITN', '2ITO', '2ITP', '2ITQ', '2ITT', '2ITU', '2ITV', '2ITW', '2ITX', '2ITY', '2ITZ', '2J5E', '2J5F', '2J6M', '2JIT', '2JIU', '2JIV', '2KS1', '2M0B', '2M20', '2N5S', '2RF9', '2RFD', '2RFE', '2RGP', '3B2U', '3B2V', '3BEL', '3BUO', '3C09', '3G5V', '3G5Y', '3GOP', '3GT8', '3IKA', '3LZB', '3NJP', '3OB2', '3OP0', '3P0Y', '3PFV', '3POZ', '3QWQ', '3UG1', '3UG2', '3VJN', '3VJO', '3VRP', '3VRR', '3W2O', '3W2P', '3W2Q', '3W2R', '3W2S', '3W32', '3W33', '4G5J', '4G5P', '4HJO', '4I1Z', '4I20', '4I21', '4I22', '4I23', '4I24', '4JQ7', '4JQ8', '4JR3', '4JRV', '4KRL', '4KRM', '4KRO', '4KRP', '4LI5', '4LL0', '4LQM', '4LRM', '4R3P', '4R3R', '4R5S', '4RIW', '4RIX', '4RIY', '4RJ4', '4RJ5', '4RJ6', '4RJ7', '4RJ8', '4TKS', '4UIP', '4UV7', '4WD5', '4WKQ', '4WRG', '4ZAU', '4ZJV', '4ZSE', '5C8K', '5C8M', '5C8N', '5CAL', '5CAN', '5CAO', '5CAP', '5CAQ', '5CAS', '5CAU', '5CAV', '5CNN', '5CNO', '5CZH', '5CZI', '5D41', '5EDP', '5EDQ', '5EDR', '5EM5', '5EM6', '5EM7', '5EM8', '5FED', '5FEE', '5FEQ', '5GMP', '5GNK', '5GTY', '5GTZ', '5HCX', '5HCY', '5HCZ', '5HG5', '5HG7', '5HG8', '5HG9', '5HIB', '5HIC', '5J9Y', '5J9Z', '5JEB', '5LV6', '5SX4', '5SX5', '5U8L', '5UG8', '5UG9', '5UGA', '5UGB', '5UGC', '5UWD', '5WB7', '5WB8', '5X26', '5X27', '5X28', '5X2A', '5X2C', '5X2F', '5X2K', '5XDK', '5XDL', '5XGM', '5XGN', '5XWD', '5Y25', '5Y9T', '5YU9', '5ZTO', '5ZWJ', '6ARU', '6B3S', '6D8E', '6DUK', '6JRJ', '6JRK', '6JRX', '6JWL', '6JX0', '6JX4', '6JXT', '6JZ0', '6LUB', '6LUD', '6P1D', '6P1L', '6P8Q', '6S89', '6S8A', '6S9B', '6S9C', '6S9D', '6TFU', '6TFV', '6TFW', '6TFY', '6TFZ', '6TG0', '6TG1', '6V5N', '6V5P', '6V66', '6V6K', '6V6O', '6VH4', '6VHN', '6VHP', '6WA2', '6WAK', '6WXN', '6XL4', '6Z4B', '6Z4D', '7A2A', '7AEI', '7AEM', '7JXI', '7JXK', '7JXL', '7JXM', '7JXP', '7JXQ', '7JXW', '7K1H', '7K1I', '7LEN', '7LFR', '7LFS', '7LGS', '7OXB', '7SZ7']\n"
     ]
    }
   ],
   "source": [
    "print(found_pdbs)"
   ]
  },
  {
   "cell_type": "code",
   "execution_count": 28,
   "metadata": {
    "scrolled": true
   },
   "outputs": [
    {
     "name": "stdout",
     "output_type": "stream",
     "text": [
      "./datafiles/raw_pdb/1IVO.pdb\n",
      "./datafiles/raw_pdb/1M14.pdb\n",
      "./datafiles/raw_pdb/1M17.pdb\n",
      "./datafiles/raw_pdb/1MOX.pdb\n",
      "./datafiles/raw_pdb/1NQL.pdb\n",
      "./datafiles/raw_pdb/1XKK.pdb\n",
      "./datafiles/raw_pdb/1YY9.pdb\n",
      "./datafiles/raw_pdb/1Z9I.pdb\n",
      "./datafiles/raw_pdb/2EB2.pdb\n",
      "./datafiles/raw_pdb/2EB3.pdb\n",
      "./datafiles/raw_pdb/2GS2.pdb\n",
      "./datafiles/raw_pdb/2GS6.pdb\n",
      "./datafiles/raw_pdb/2GS7.pdb\n",
      "./datafiles/raw_pdb/2ITN.pdb\n",
      "./datafiles/raw_pdb/2ITO.pdb\n",
      "./datafiles/raw_pdb/2ITP.pdb\n",
      "./datafiles/raw_pdb/2ITQ.pdb\n",
      "./datafiles/raw_pdb/2ITT.pdb\n",
      "./datafiles/raw_pdb/2ITU.pdb\n",
      "./datafiles/raw_pdb/2ITV.pdb\n",
      "./datafiles/raw_pdb/2ITW.pdb\n",
      "./datafiles/raw_pdb/2ITX.pdb\n",
      "./datafiles/raw_pdb/2ITY.pdb\n",
      "./datafiles/raw_pdb/2ITZ.pdb\n",
      "./datafiles/raw_pdb/2J5E.pdb\n",
      "./datafiles/raw_pdb/2J5F.pdb\n",
      "./datafiles/raw_pdb/2J6M.pdb\n",
      "./datafiles/raw_pdb/2JIT.pdb\n",
      "./datafiles/raw_pdb/2JIU.pdb\n",
      "./datafiles/raw_pdb/2JIV.pdb\n",
      "./datafiles/raw_pdb/2KS1.pdb\n",
      "./datafiles/raw_pdb/2M0B.pdb\n",
      "./datafiles/raw_pdb/2M20.pdb\n",
      "./datafiles/raw_pdb/2N5S.pdb\n",
      "./datafiles/raw_pdb/2RF9.pdb\n",
      "./datafiles/raw_pdb/2RFD.pdb\n",
      "./datafiles/raw_pdb/2RFE.pdb\n",
      "./datafiles/raw_pdb/2RGP.pdb\n",
      "./datafiles/raw_pdb/3B2U.pdb\n",
      "./datafiles/raw_pdb/3B2V.pdb\n",
      "./datafiles/raw_pdb/3BEL.pdb\n",
      "./datafiles/raw_pdb/3BUO.pdb\n",
      "./datafiles/raw_pdb/3C09.pdb\n",
      "./datafiles/raw_pdb/3G5V.pdb\n",
      "./datafiles/raw_pdb/3G5Y.pdb\n",
      "./datafiles/raw_pdb/3GOP.pdb\n",
      "./datafiles/raw_pdb/3GT8.pdb\n",
      "./datafiles/raw_pdb/3IKA.pdb\n",
      "./datafiles/raw_pdb/3LZB.pdb\n",
      "./datafiles/raw_pdb/3NJP.pdb\n",
      "./datafiles/raw_pdb/3OB2.pdb\n",
      "./datafiles/raw_pdb/3OP0.pdb\n",
      "./datafiles/raw_pdb/3P0Y.pdb\n",
      "./datafiles/raw_pdb/3PFV.pdb\n",
      "./datafiles/raw_pdb/3POZ.pdb\n",
      "./datafiles/raw_pdb/3QWQ.pdb\n",
      "./datafiles/raw_pdb/3UG1.pdb\n",
      "./datafiles/raw_pdb/3UG2.pdb\n",
      "./datafiles/raw_pdb/3VJN.pdb\n",
      "./datafiles/raw_pdb/3VJO.pdb\n",
      "./datafiles/raw_pdb/3VRP.pdb\n",
      "./datafiles/raw_pdb/3VRR.pdb\n",
      "./datafiles/raw_pdb/3W2O.pdb\n",
      "./datafiles/raw_pdb/3W2P.pdb\n",
      "./datafiles/raw_pdb/3W2Q.pdb\n",
      "./datafiles/raw_pdb/3W2R.pdb\n",
      "./datafiles/raw_pdb/3W2S.pdb\n",
      "./datafiles/raw_pdb/3W32.pdb\n",
      "./datafiles/raw_pdb/3W33.pdb\n",
      "./datafiles/raw_pdb/4G5J.pdb\n",
      "./datafiles/raw_pdb/4G5P.pdb\n",
      "./datafiles/raw_pdb/4HJO.pdb\n",
      "./datafiles/raw_pdb/4I1Z.pdb\n",
      "./datafiles/raw_pdb/4I20.pdb\n",
      "./datafiles/raw_pdb/4I21.pdb\n",
      "./datafiles/raw_pdb/4I22.pdb\n",
      "./datafiles/raw_pdb/4I23.pdb\n",
      "./datafiles/raw_pdb/4I24.pdb\n",
      "./datafiles/raw_pdb/4JQ7.pdb\n",
      "./datafiles/raw_pdb/4JQ8.pdb\n",
      "./datafiles/raw_pdb/4JR3.pdb\n",
      "./datafiles/raw_pdb/4JRV.pdb\n",
      "./datafiles/raw_pdb/4KRL.pdb\n",
      "./datafiles/raw_pdb/4KRM.pdb\n",
      "./datafiles/raw_pdb/4KRO.pdb\n",
      "./datafiles/raw_pdb/4KRP.pdb\n",
      "./datafiles/raw_pdb/4LI5.pdb\n",
      "./datafiles/raw_pdb/4LL0.pdb\n",
      "./datafiles/raw_pdb/4LQM.pdb\n",
      "./datafiles/raw_pdb/4LRM.pdb\n",
      "./datafiles/raw_pdb/4R3P.pdb\n",
      "./datafiles/raw_pdb/4R3R.pdb\n",
      "./datafiles/raw_pdb/4R5S.pdb\n",
      "./datafiles/raw_pdb/4RIW.pdb\n",
      "./datafiles/raw_pdb/4RIX.pdb\n",
      "./datafiles/raw_pdb/4RIY.pdb\n",
      "./datafiles/raw_pdb/4RJ4.pdb\n",
      "./datafiles/raw_pdb/4RJ5.pdb\n",
      "./datafiles/raw_pdb/4RJ6.pdb\n",
      "./datafiles/raw_pdb/4RJ7.pdb\n",
      "./datafiles/raw_pdb/4RJ8.pdb\n",
      "./datafiles/raw_pdb/4TKS.pdb\n",
      "./datafiles/raw_pdb/4UIP.pdb\n",
      "./datafiles/raw_pdb/4UV7.pdb\n",
      "./datafiles/raw_pdb/4WD5.pdb\n",
      "./datafiles/raw_pdb/4WKQ.pdb\n",
      "./datafiles/raw_pdb/4WRG.pdb\n",
      "./datafiles/raw_pdb/4ZAU.pdb\n",
      "./datafiles/raw_pdb/4ZJV.pdb\n",
      "./datafiles/raw_pdb/4ZSE.pdb\n",
      "./datafiles/raw_pdb/5C8K.pdb\n",
      "./datafiles/raw_pdb/5C8M.pdb\n",
      "./datafiles/raw_pdb/5C8N.pdb\n",
      "./datafiles/raw_pdb/5CAL.pdb\n",
      "./datafiles/raw_pdb/5CAN.pdb\n",
      "./datafiles/raw_pdb/5CAO.pdb\n",
      "./datafiles/raw_pdb/5CAP.pdb\n",
      "./datafiles/raw_pdb/5CAQ.pdb\n",
      "./datafiles/raw_pdb/5CAS.pdb\n",
      "./datafiles/raw_pdb/5CAU.pdb\n",
      "./datafiles/raw_pdb/5CAV.pdb\n",
      "./datafiles/raw_pdb/5CNN.pdb\n",
      "./datafiles/raw_pdb/5CNO.pdb\n",
      "./datafiles/raw_pdb/5CZH.pdb\n",
      "./datafiles/raw_pdb/5CZI.pdb\n",
      "./datafiles/raw_pdb/5D41.pdb\n",
      "./datafiles/raw_pdb/5EDP.pdb\n",
      "./datafiles/raw_pdb/5EDQ.pdb\n",
      "./datafiles/raw_pdb/5EDR.pdb\n",
      "./datafiles/raw_pdb/5EM5.pdb\n",
      "./datafiles/raw_pdb/5EM6.pdb\n",
      "./datafiles/raw_pdb/5EM7.pdb\n",
      "./datafiles/raw_pdb/5EM8.pdb\n",
      "./datafiles/raw_pdb/5FED.pdb\n",
      "./datafiles/raw_pdb/5FEE.pdb\n",
      "./datafiles/raw_pdb/5FEQ.pdb\n",
      "./datafiles/raw_pdb/5GMP.pdb\n",
      "./datafiles/raw_pdb/5GNK.pdb\n",
      "./datafiles/raw_pdb/5GTY.pdb\n",
      "./datafiles/raw_pdb/5GTZ.pdb\n",
      "./datafiles/raw_pdb/5HCX.pdb\n",
      "./datafiles/raw_pdb/5HCY.pdb\n",
      "./datafiles/raw_pdb/5HCZ.pdb\n",
      "./datafiles/raw_pdb/5HG5.pdb\n",
      "./datafiles/raw_pdb/5HG7.pdb\n",
      "./datafiles/raw_pdb/5HG8.pdb\n",
      "./datafiles/raw_pdb/5HG9.pdb\n",
      "./datafiles/raw_pdb/5HIB.pdb\n",
      "./datafiles/raw_pdb/5HIC.pdb\n",
      "./datafiles/raw_pdb/5J9Y.pdb\n",
      "./datafiles/raw_pdb/5J9Z.pdb\n",
      "./datafiles/raw_pdb/5JEB.pdb\n",
      "./datafiles/raw_pdb/5LV6.pdb\n",
      "./datafiles/raw_pdb/5SX4.pdb\n",
      "./datafiles/raw_pdb/5SX5.pdb\n",
      "./datafiles/raw_pdb/5U8L.pdb\n",
      "./datafiles/raw_pdb/5UG8.pdb\n",
      "./datafiles/raw_pdb/5UG9.pdb\n",
      "./datafiles/raw_pdb/5UGA.pdb\n",
      "./datafiles/raw_pdb/5UGB.pdb\n",
      "./datafiles/raw_pdb/5UGC.pdb\n",
      "./datafiles/raw_pdb/5UWD.pdb\n",
      "./datafiles/raw_pdb/5WB7.pdb\n",
      "./datafiles/raw_pdb/5WB8.pdb\n",
      "./datafiles/raw_pdb/5X26.pdb\n",
      "./datafiles/raw_pdb/5X27.pdb\n",
      "./datafiles/raw_pdb/5X28.pdb\n",
      "./datafiles/raw_pdb/5X2A.pdb\n",
      "./datafiles/raw_pdb/5X2C.pdb\n",
      "./datafiles/raw_pdb/5X2F.pdb\n",
      "./datafiles/raw_pdb/5X2K.pdb\n",
      "./datafiles/raw_pdb/5XDK.pdb\n",
      "./datafiles/raw_pdb/5XDL.pdb\n",
      "./datafiles/raw_pdb/5XGM.pdb\n",
      "./datafiles/raw_pdb/5XGN.pdb\n",
      "./datafiles/raw_pdb/5XWD.pdb\n",
      "./datafiles/raw_pdb/5Y25.pdb\n",
      "./datafiles/raw_pdb/5Y9T.pdb\n",
      "./datafiles/raw_pdb/5YU9.pdb\n",
      "./datafiles/raw_pdb/5ZTO.pdb\n",
      "./datafiles/raw_pdb/5ZWJ.pdb\n",
      "./datafiles/raw_pdb/6ARU.pdb\n",
      "./datafiles/raw_pdb/6B3S.pdb\n",
      "./datafiles/raw_pdb/6D8E.pdb\n",
      "./datafiles/raw_pdb/6DUK.pdb\n",
      "./datafiles/raw_pdb/6JRJ.pdb\n",
      "./datafiles/raw_pdb/6JRK.pdb\n",
      "./datafiles/raw_pdb/6JRX.pdb\n",
      "./datafiles/raw_pdb/6JWL.pdb\n",
      "./datafiles/raw_pdb/6JX0.pdb\n",
      "./datafiles/raw_pdb/6JX4.pdb\n",
      "./datafiles/raw_pdb/6JXT.pdb\n",
      "./datafiles/raw_pdb/6JZ0.pdb\n",
      "./datafiles/raw_pdb/6LUB.pdb\n",
      "./datafiles/raw_pdb/6LUD.pdb\n",
      "./datafiles/raw_pdb/6P1D.pdb\n",
      "./datafiles/raw_pdb/6P1L.pdb\n",
      "./datafiles/raw_pdb/6P8Q.pdb\n",
      "./datafiles/raw_pdb/6S89.pdb\n",
      "./datafiles/raw_pdb/6S8A.pdb\n",
      "./datafiles/raw_pdb/6S9B.pdb\n",
      "./datafiles/raw_pdb/6S9C.pdb\n",
      "./datafiles/raw_pdb/6S9D.pdb\n",
      "./datafiles/raw_pdb/6TFU.pdb\n",
      "./datafiles/raw_pdb/6TFV.pdb\n",
      "./datafiles/raw_pdb/6TFW.pdb\n",
      "./datafiles/raw_pdb/6TFY.pdb\n",
      "./datafiles/raw_pdb/6TFZ.pdb\n",
      "./datafiles/raw_pdb/6TG0.pdb\n",
      "./datafiles/raw_pdb/6TG1.pdb\n",
      "./datafiles/raw_pdb/6V5N.pdb\n",
      "./datafiles/raw_pdb/6V5P.pdb\n",
      "./datafiles/raw_pdb/6V66.pdb\n",
      "./datafiles/raw_pdb/6V6K.pdb\n",
      "./datafiles/raw_pdb/6V6O.pdb\n",
      "./datafiles/raw_pdb/6VH4.pdb\n",
      "./datafiles/raw_pdb/6VHN.pdb\n",
      "./datafiles/raw_pdb/6VHP.pdb\n",
      "./datafiles/raw_pdb/6WA2.pdb\n",
      "./datafiles/raw_pdb/6WAK.pdb\n",
      "./datafiles/raw_pdb/6WXN.pdb\n",
      "./datafiles/raw_pdb/6XL4.pdb\n",
      "./datafiles/raw_pdb/6Z4B.pdb\n",
      "./datafiles/raw_pdb/6Z4D.pdb\n",
      "./datafiles/raw_pdb/7A2A.pdb\n",
      "./datafiles/raw_pdb/7AEI.pdb\n",
      "./datafiles/raw_pdb/7AEM.pdb\n",
      "./datafiles/raw_pdb/7JXI.pdb\n",
      "./datafiles/raw_pdb/7JXK.pdb\n",
      "./datafiles/raw_pdb/7JXL.pdb\n",
      "./datafiles/raw_pdb/7JXM.pdb\n",
      "./datafiles/raw_pdb/7JXP.pdb\n",
      "./datafiles/raw_pdb/7JXQ.pdb\n",
      "./datafiles/raw_pdb/7JXW.pdb\n",
      "./datafiles/raw_pdb/7K1H.pdb\n",
      "./datafiles/raw_pdb/7K1I.pdb\n",
      "./datafiles/raw_pdb/7LEN.pdb\n",
      "./datafiles/raw_pdb/7LFR.pdb\n",
      "./datafiles/raw_pdb/7LFS.pdb\n",
      "./datafiles/raw_pdb/7LGS.pdb\n",
      "./datafiles/raw_pdb/7OXB.pdb\n",
      "./datafiles/raw_pdb/7SZ7.pdb\n"
     ]
    }
   ],
   "source": [
    "outdir = './datafiles/raw_pdb/'\n",
    "for pdb in found_pdbs:\n",
    "    pdb_file = get_pdb_file(pdb, filetype='pdb', compression=False)\n",
    "    fn = outdir + pdb + \".pdb\"\n",
    "    print(fn)\n",
    "    with open(fn,'w') as f1:\n",
    "        f1.write(pdb_file)\n",
    "    "
   ]
  },
  {
   "cell_type": "code",
   "execution_count": 29,
   "metadata": {},
   "outputs": [
    {
     "name": "stdout",
     "output_type": "stream",
     "text": [
      "{'GLY', 'HIS', 'GLU', 'LYS', 'VAL', 'ASP', 'PTR', 'THR', 'LEU', 'ILE', 'ARG', 'ASN', 'PHE', 'PRO', 'KCX', 'OCS', 'MET', 'TRP', 'CSD', 'ALY', 'GLN', 'ALA', 'TYR', 'TPO', 'CYS', 'SER'}\n",
      "{'GLY', 'HIS', 'GLU', 'LYS', 'VAL', 'ASP', 'PTR', 'THR', 'LEU', 'ILE', 'ARG', 'ASN', 'PHE', 'PRO', 'KCX', 'OCS', 'MET', 'TRP', 'CSD', 'ALY', 'GLN', 'ALA', 'TYR', 'TPO', 'CYS', 'SER'}\n",
      "{'GLY', 'HIS', 'GLU', 'LYS', 'VAL', 'ASP', 'PTR', 'THR', 'LEU', 'ILE', 'ARG', 'ASN', 'PHE', 'PRO', 'KCX', 'OCS', 'MET', 'TRP', 'CSD', 'ALY', 'GLN', 'ALA', 'TYR', 'TPO', 'CYS', 'SER'}\n",
      "{'GLY', 'HIS', 'GLU', 'LYS', 'VAL', 'ASP', 'PTR', 'THR', 'LEU', 'ILE', 'ARG', 'ASN', 'PHE', 'PRO', 'KCX', 'OCS', 'MET', 'TRP', 'CSD', 'ALY', 'GLN', 'ALA', 'TYR', 'TPO', 'CYS', 'SER'}\n",
      "{'GLY', 'HIS', 'GLU', 'LYS', 'VAL', 'ASP', 'PTR', 'THR', 'LEU', 'ILE', 'ARG', 'ASN', 'PHE', 'PRO', 'KCX', 'OCS', 'MET', 'TRP', 'CSD', 'ALY', 'GLN', 'ALA', 'TYR', 'TPO', 'CYS', 'SER'}\n",
      "{'GLY', 'HIS', 'GLU', 'LYS', 'VAL', 'ASP', 'PTR', 'THR', 'LEU', 'ILE', 'ARG', 'ASN', 'PHE', 'PRO', 'KCX', 'OCS', 'MET', 'TRP', 'CSD', 'ALY', 'GLN', 'ALA', 'TYR', 'TPO', 'CYS', 'SER'}\n",
      "{'GLY', 'HIS', 'GLU', 'LYS', 'VAL', 'ASP', 'PTR', 'THR', 'LEU', 'ILE', 'ARG', 'ASN', 'PHE', 'PRO', 'KCX', 'OCS', 'MET', 'TRP', 'CSD', 'ALY', 'GLN', 'ALA', 'TYR', 'TPO', 'CYS', 'SER'}\n",
      "{'GLY', 'HIS', 'GLU', 'LYS', 'VAL', 'ASP', 'PTR', 'THR', 'LEU', 'ILE', 'ARG', 'ASN', 'PHE', 'PRO', 'KCX', 'OCS', 'MET', 'TRP', 'CSD', 'ALY', 'GLN', 'ALA', 'TYR', 'TPO', 'CYS', 'SER'}\n",
      "991 ms ± 45.4 ms per loop (mean ± std. dev. of 7 runs, 1 loop each)\n"
     ]
    }
   ],
   "source": [
    "%%timeit\n",
    "pdb_proc = dist_analy.import_pdb.PDB_Processer()\n",
    "pdb_list = pdb_proc.process_pdb('1M14.pdb', pdb_dir, proc_dir, egfr_uniprot)\n"
   ]
  },
  {
   "cell_type": "code",
   "execution_count": 34,
   "metadata": {},
   "outputs": [
    {
     "name": "stdout",
     "output_type": "stream",
     "text": [
      "{'GLY', 'HIS', 'GLU', 'LYS', 'VAL', 'ASP', 'PTR', 'THR', 'LEU', 'ILE', 'ARG', 'ASN', 'PHE', 'PRO', 'KCX', 'OCS', 'CY0', 'SEP', 'CSX', 'MET', 'TRP', 'CSD', 'ALY', 'GLN', 'ALA', 'TYR', 'TPO', 'CYS', 'SER'}\n",
      "1IVO_A.pdb\n",
      "1IVO_B.pdb\n",
      "1M14_A.pdb\n",
      "1M17_A.pdb\n",
      "1MOX_A.pdb\n",
      "1MOX_B.pdb\n",
      "1NQL_A.pdb\n",
      "1XKK_A.pdb\n"
     ]
    },
    {
     "name": "stderr",
     "output_type": "stream",
     "text": [
      "C:\\Users\\wwang\\Desktop\\egfr_dist_analysis\\dist_analy-master\\dist_analy\\util\\pdb_info.py:206: UserWarning: No data found\n",
      "  warnings.warn(\"No data found\")\n"
     ]
    },
    {
     "name": "stdout",
     "output_type": "stream",
     "text": [
      "unable to find data with 1YY9 entity #2, skipping\n",
      "unable to find data with 1YY9 entity #3, skipping\n",
      "1YY9_A.pdb\n",
      "1Z9I_A_0.pdb\n",
      "1Z9I_A_1.pdb\n",
      "1Z9I_A_2.pdb\n",
      "1Z9I_A_3.pdb\n",
      "1Z9I_A_4.pdb\n",
      "1Z9I_A_5.pdb\n",
      "1Z9I_A_6.pdb\n",
      "1Z9I_A_7.pdb\n",
      "1Z9I_A_8.pdb\n",
      "1Z9I_A_9.pdb\n",
      "1Z9I_A_10.pdb\n",
      "1Z9I_A_11.pdb\n",
      "1Z9I_A_12.pdb\n",
      "1Z9I_A_13.pdb\n",
      "1Z9I_A_14.pdb\n",
      "1Z9I_A_15.pdb\n",
      "1Z9I_A_16.pdb\n",
      "1Z9I_A_17.pdb\n",
      "1Z9I_A_18.pdb\n",
      "1Z9I_A_19.pdb\n",
      "1Z9I_A_20.pdb\n",
      "1Z9I_A_21.pdb\n",
      "1Z9I_A_22.pdb\n",
      "1Z9I_A_23.pdb\n",
      "1Z9I_A_24.pdb\n",
      "2EB2_A.pdb\n",
      "2EB3_A.pdb\n",
      "2GS2_A.pdb\n",
      "unable to find data with 2GS6 entity #2, skipping\n"
     ]
    },
    {
     "name": "stderr",
     "output_type": "stream",
     "text": [
      "C:\\Users\\wwang\\Desktop\\egfr_dist_analysis\\dist_analy-master\\dist_analy\\util\\pdb_info.py:206: UserWarning: No data found\n",
      "  warnings.warn(\"No data found\")\n"
     ]
    },
    {
     "name": "stdout",
     "output_type": "stream",
     "text": [
      "2GS6_A.pdb\n",
      "2GS7_A.pdb\n",
      "2GS7_B.pdb\n",
      "2ITN_A.pdb\n",
      "2ITO_A.pdb\n",
      "2ITP_A.pdb\n",
      "2ITQ_A.pdb\n",
      "2ITT_A.pdb\n",
      "2ITU_A.pdb\n",
      "2ITV_A.pdb\n",
      "2ITW_A.pdb\n",
      "2ITX_A.pdb\n",
      "2ITY_A.pdb\n",
      "2ITZ_A.pdb\n",
      "2J5E_A.pdb\n",
      "2J5F_A.pdb\n",
      "2J6M_A.pdb\n",
      "2JIT_A.pdb\n",
      "2JIT_B.pdb\n",
      "2JIU_A.pdb\n",
      "2JIU_B.pdb\n",
      "2JIV_A.pdb\n",
      "2JIV_B.pdb\n",
      "2KS1_B_0.pdb\n",
      "2KS1_B_1.pdb\n",
      "2KS1_B_2.pdb\n",
      "2KS1_B_3.pdb\n",
      "2KS1_B_4.pdb\n",
      "2KS1_B_5.pdb\n",
      "2KS1_B_6.pdb\n",
      "2KS1_B_7.pdb\n",
      "2KS1_B_8.pdb\n",
      "2KS1_B_9.pdb\n",
      "2KS1_B_10.pdb\n",
      "2KS1_B_11.pdb\n",
      "2M0B_A_0.pdb\n",
      "2M0B_A_1.pdb\n",
      "2M0B_A_2.pdb\n",
      "2M0B_A_3.pdb\n",
      "2M0B_A_4.pdb\n",
      "2M0B_A_5.pdb\n",
      "2M0B_A_6.pdb\n",
      "2M0B_A_7.pdb\n",
      "2M0B_A_8.pdb\n",
      "2M0B_A_9.pdb\n",
      "2M0B_A_10.pdb\n",
      "2M0B_A_11.pdb\n",
      "2M0B_A_12.pdb\n",
      "2M0B_A_13.pdb\n",
      "2M0B_A_14.pdb\n",
      "2M0B_A_15.pdb\n",
      "2M0B_A_16.pdb\n",
      "2M0B_A_17.pdb\n",
      "2M0B_A_18.pdb\n",
      "2M0B_A_19.pdb\n",
      "2M0B_B_0.pdb\n",
      "2M0B_B_1.pdb\n",
      "2M0B_B_2.pdb\n",
      "2M0B_B_3.pdb\n",
      "2M0B_B_4.pdb\n",
      "2M0B_B_5.pdb\n",
      "2M0B_B_6.pdb\n",
      "2M0B_B_7.pdb\n",
      "2M0B_B_8.pdb\n",
      "2M0B_B_9.pdb\n",
      "2M0B_B_10.pdb\n",
      "2M0B_B_11.pdb\n",
      "2M0B_B_12.pdb\n",
      "2M0B_B_13.pdb\n",
      "2M0B_B_14.pdb\n",
      "2M0B_B_15.pdb\n",
      "2M0B_B_16.pdb\n",
      "2M0B_B_17.pdb\n",
      "2M0B_B_18.pdb\n",
      "2M0B_B_19.pdb\n",
      "2M20_A_0.pdb\n",
      "2M20_A_1.pdb\n",
      "2M20_A_2.pdb\n",
      "2M20_A_3.pdb\n",
      "2M20_A_4.pdb\n",
      "2M20_A_5.pdb\n",
      "2M20_A_6.pdb\n",
      "2M20_A_7.pdb\n",
      "2M20_A_8.pdb\n",
      "2M20_A_9.pdb\n",
      "2M20_B_0.pdb\n",
      "2M20_B_1.pdb\n",
      "2M20_B_2.pdb\n",
      "2M20_B_3.pdb\n",
      "2M20_B_4.pdb\n",
      "2M20_B_5.pdb\n",
      "2M20_B_6.pdb\n",
      "2M20_B_7.pdb\n",
      "2M20_B_8.pdb\n",
      "2M20_B_9.pdb\n",
      "2N5S_A_0.pdb\n",
      "2N5S_A_1.pdb\n",
      "2N5S_A_2.pdb\n",
      "2N5S_A_3.pdb\n",
      "2N5S_A_4.pdb\n",
      "2N5S_A_5.pdb\n",
      "2N5S_A_6.pdb\n",
      "2N5S_A_7.pdb\n",
      "2N5S_A_8.pdb\n",
      "2N5S_A_9.pdb\n",
      "2RF9_A.pdb\n",
      "2RF9_B.pdb\n",
      "2RFD_A.pdb\n",
      "2RFD_B.pdb\n",
      "2RFE_A.pdb\n",
      "2RFE_B.pdb\n",
      "2RFE_C.pdb\n",
      "2RFE_D.pdb\n",
      "2RGP_A.pdb\n"
     ]
    },
    {
     "name": "stderr",
     "output_type": "stream",
     "text": [
      "C:\\Users\\wwang\\Desktop\\egfr_dist_analysis\\dist_analy-master\\dist_analy\\util\\pdb_info.py:206: UserWarning: No data found\n",
      "  warnings.warn(\"No data found\")\n"
     ]
    },
    {
     "name": "stdout",
     "output_type": "stream",
     "text": [
      "unable to find data with 3B2U entity #1, skipping\n",
      "3B2U_A.pdb\n",
      "3B2U_B.pdb\n",
      "3B2U_E.pdb\n",
      "3B2U_I.pdb\n",
      "3B2U_M.pdb\n",
      "3B2U_P.pdb\n",
      "3B2U_S.pdb\n",
      "3B2U_V.pdb\n",
      "unable to find data with 3B2V entity #1, skipping\n"
     ]
    },
    {
     "name": "stderr",
     "output_type": "stream",
     "text": [
      "C:\\Users\\wwang\\Desktop\\egfr_dist_analysis\\dist_analy-master\\dist_analy\\util\\pdb_info.py:206: UserWarning: No data found\n",
      "  warnings.warn(\"No data found\")\n"
     ]
    },
    {
     "name": "stdout",
     "output_type": "stream",
     "text": [
      "3B2V_A.pdb\n",
      "3BEL_A.pdb\n",
      "3BUO_A.pdb\n",
      "3BUO_C.pdb\n",
      "unable to find data with 3C09 entity #1, skipping\n"
     ]
    },
    {
     "name": "stderr",
     "output_type": "stream",
     "text": [
      "C:\\Users\\wwang\\Desktop\\egfr_dist_analysis\\dist_analy-master\\dist_analy\\util\\pdb_info.py:206: UserWarning: No data found\n",
      "  warnings.warn(\"No data found\")\n"
     ]
    },
    {
     "name": "stdout",
     "output_type": "stream",
     "text": [
      "unable to find data with 3C09 entity #2, skipping\n",
      "3C09_A.pdb\n",
      "3C09_D.pdb\n",
      "unable to find data with 3G5V entity #1, skipping\n"
     ]
    },
    {
     "name": "stderr",
     "output_type": "stream",
     "text": [
      "C:\\Users\\wwang\\Desktop\\egfr_dist_analysis\\dist_analy-master\\dist_analy\\util\\pdb_info.py:206: UserWarning: No data found\n",
      "  warnings.warn(\"No data found\")\n"
     ]
    },
    {
     "name": "stdout",
     "output_type": "stream",
     "text": [
      "unable to find data with 3G5V entity #2, skipping\n",
      "3G5V_C.pdb\n"
     ]
    },
    {
     "name": "stderr",
     "output_type": "stream",
     "text": [
      "C:\\Users\\wwang\\Desktop\\egfr_dist_analysis\\dist_analy-master\\dist_analy\\util\\pdb_info.py:206: UserWarning: No data found\n",
      "  warnings.warn(\"No data found\")\n"
     ]
    },
    {
     "name": "stdout",
     "output_type": "stream",
     "text": [
      "unable to find data with 3G5Y entity #1, skipping\n",
      "unable to find data with 3G5Y entity #2, skipping\n",
      "3G5Y_E.pdb\n",
      "3GOP_A.pdb\n"
     ]
    },
    {
     "name": "stderr",
     "output_type": "stream",
     "text": [
      "C:\\Users\\wwang\\Desktop\\egfr_dist_analysis\\dist_analy-master\\dist_analy\\util\\pdb_info.py:206: UserWarning: No data found\n",
      "  warnings.warn(\"No data found\")\n"
     ]
    },
    {
     "name": "stdout",
     "output_type": "stream",
     "text": [
      "unable to find data with 3GT8 entity #2, skipping\n",
      "3GT8_B.pdb\n",
      "3GT8_A.pdb\n",
      "3GT8_C.pdb\n",
      "3GT8_D.pdb\n",
      "3IKA_A.pdb\n",
      "3IKA_B.pdb\n",
      "3LZB_A.pdb\n",
      "3LZB_B.pdb\n",
      "3LZB_C.pdb\n",
      "3LZB_D.pdb\n",
      "3LZB_E.pdb\n",
      "3LZB_F.pdb\n",
      "3LZB_G.pdb\n",
      "3LZB_H.pdb\n",
      "3NJP_A.pdb\n",
      "3NJP_B.pdb\n",
      "3OB2_A.pdb\n",
      "3OP0_C.pdb\n",
      "3OP0_D.pdb\n"
     ]
    },
    {
     "name": "stderr",
     "output_type": "stream",
     "text": [
      "C:\\Users\\wwang\\Desktop\\egfr_dist_analysis\\dist_analy-master\\dist_analy\\util\\pdb_info.py:206: UserWarning: No data found\n",
      "  warnings.warn(\"No data found\")\n"
     ]
    },
    {
     "name": "stdout",
     "output_type": "stream",
     "text": [
      "unable to find data with 3P0Y entity #2, skipping\n",
      "unable to find data with 3P0Y entity #3, skipping\n",
      "3P0Y_A.pdb\n",
      "3PFV_C.pdb\n",
      "3PFV_D.pdb\n",
      "3POZ_A.pdb\n"
     ]
    },
    {
     "name": "stderr",
     "output_type": "stream",
     "text": [
      "C:\\Users\\wwang\\Desktop\\egfr_dist_analysis\\dist_analy-master\\dist_analy\\util\\pdb_info.py:206: UserWarning: No data found\n",
      "  warnings.warn(\"No data found\")\n"
     ]
    },
    {
     "name": "stdout",
     "output_type": "stream",
     "text": [
      "unable to find data with 3QWQ entity #2, skipping\n",
      "3QWQ_A.pdb\n",
      "3UG1_A.pdb\n",
      "3UG2_A.pdb\n",
      "3VJN_A.pdb\n",
      "3VJO_A.pdb\n",
      "3VRP_B.pdb\n",
      "3VRR_C.pdb\n",
      "3W2O_A.pdb\n",
      "3W2P_A.pdb\n",
      "3W2Q_A.pdb\n",
      "3W2R_A.pdb\n",
      "3W2S_A.pdb\n",
      "3W32_A.pdb\n",
      "3W33_A.pdb\n",
      "4G5J_A.pdb\n",
      "4G5P_A.pdb\n",
      "4G5P_B.pdb\n",
      "4HJO_A.pdb\n",
      "4I1Z_A.pdb\n",
      "4I20_A.pdb\n",
      "4I21_A.pdb\n",
      "4I21_B.pdb\n",
      "4I22_A.pdb\n",
      "4I23_A.pdb\n",
      "4I24_A.pdb\n",
      "4I24_B.pdb\n",
      "4JQ7_A.pdb\n",
      "4JQ8_A.pdb\n",
      "4JR3_A.pdb\n",
      "4JRV_A.pdb\n",
      "unable to find data with 4KRL entity #1, skipping\n"
     ]
    },
    {
     "name": "stderr",
     "output_type": "stream",
     "text": [
      "C:\\Users\\wwang\\Desktop\\egfr_dist_analysis\\dist_analy-master\\dist_analy\\util\\pdb_info.py:206: UserWarning: No data found\n",
      "  warnings.warn(\"No data found\")\n"
     ]
    },
    {
     "name": "stdout",
     "output_type": "stream",
     "text": [
      "4KRL_A.pdb\n"
     ]
    },
    {
     "name": "stderr",
     "output_type": "stream",
     "text": [
      "C:\\Users\\wwang\\Desktop\\egfr_dist_analysis\\dist_analy-master\\dist_analy\\util\\pdb_info.py:206: UserWarning: No data found\n",
      "  warnings.warn(\"No data found\")\n"
     ]
    },
    {
     "name": "stdout",
     "output_type": "stream",
     "text": [
      "unable to find data with 4KRM entity #2, skipping\n",
      "4KRM_A.pdb\n",
      "4KRM_C.pdb\n",
      "4KRM_E.pdb\n",
      "4KRM_G.pdb\n",
      "4KRM_I.pdb\n",
      "4KRM_K.pdb\n"
     ]
    },
    {
     "name": "stderr",
     "output_type": "stream",
     "text": [
      "C:\\Users\\wwang\\Desktop\\egfr_dist_analysis\\dist_analy-master\\dist_analy\\util\\pdb_info.py:206: UserWarning: No data found\n",
      "  warnings.warn(\"No data found\")\n"
     ]
    },
    {
     "name": "stdout",
     "output_type": "stream",
     "text": [
      "unable to find data with 4KRO entity #2, skipping\n",
      "unable to find data with 4KRO entity #3, skipping\n",
      "unable to find data with 4KRO entity #4, skipping\n",
      "4KRO_A.pdb\n"
     ]
    },
    {
     "name": "stderr",
     "output_type": "stream",
     "text": [
      "C:\\Users\\wwang\\Desktop\\egfr_dist_analysis\\dist_analy-master\\dist_analy\\util\\pdb_info.py:206: UserWarning: No data found\n",
      "  warnings.warn(\"No data found\")\n"
     ]
    },
    {
     "name": "stdout",
     "output_type": "stream",
     "text": [
      "unable to find data with 4KRP entity #2, skipping\n",
      "unable to find data with 4KRP entity #3, skipping\n",
      "unable to find data with 4KRP entity #4, skipping\n",
      "4KRP_A.pdb\n",
      "4LI5_A.pdb\n",
      "4LL0_A.pdb\n",
      "4LL0_B.pdb\n",
      "4LQM_A.pdb\n",
      "4LRM_A.pdb\n",
      "4LRM_B.pdb\n",
      "4LRM_C.pdb\n",
      "4LRM_D.pdb\n",
      "4LRM_E.pdb\n",
      "4R3P_A.pdb\n",
      "4R3R_A.pdb\n",
      "4R5S_A.pdb\n",
      "4RIW_B.pdb\n",
      "4RIW_D.pdb\n",
      "4RIX_B.pdb\n",
      "4RIX_D.pdb\n",
      "4RIY_B.pdb\n",
      "4RIY_D.pdb\n",
      "4RJ4_A.pdb\n",
      "4RJ5_A.pdb\n",
      "4RJ6_A.pdb\n",
      "4RJ7_A.pdb\n",
      "4RJ8_A.pdb\n",
      "4TKS_A.pdb\n",
      "4UIP_A.pdb\n"
     ]
    },
    {
     "name": "stderr",
     "output_type": "stream",
     "text": [
      "C:\\Users\\wwang\\Desktop\\egfr_dist_analysis\\dist_analy-master\\dist_analy\\util\\pdb_info.py:206: UserWarning: No data found\n",
      "  warnings.warn(\"No data found\")\n"
     ]
    },
    {
     "name": "stdout",
     "output_type": "stream",
     "text": [
      "unable to find data with 4UV7 entity #2, skipping\n",
      "unable to find data with 4UV7 entity #3, skipping\n",
      "4UV7_A.pdb\n",
      "4WD5_A.pdb\n",
      "4WD5_B.pdb\n",
      "4WKQ_A.pdb\n",
      "4WRG_A.pdb\n",
      "4ZAU_A.pdb\n",
      "4ZJV_A.pdb\n",
      "4ZJV_B.pdb\n",
      "4ZSE_A.pdb\n",
      "4ZSE_B.pdb\n",
      "4ZSE_C.pdb\n",
      "4ZSE_D.pdb\n",
      "5C8K_A.pdb\n",
      "5C8M_A.pdb\n",
      "5C8N_A.pdb\n",
      "5CAL_A.pdb\n",
      "5CAN_A.pdb\n",
      "5CAO_A.pdb\n",
      "5CAP_A.pdb\n",
      "5CAQ_A.pdb\n",
      "5CAS_A.pdb\n",
      "5CAU_A.pdb\n",
      "5CAV_A.pdb\n",
      "5CNN_A.pdb\n",
      "5CNN_B.pdb\n",
      "5CNO_A.pdb\n",
      "5CNO_B.pdb\n",
      "5CNO_X.pdb\n",
      "unable to find data with 5CZH entity #2, skipping\n"
     ]
    },
    {
     "name": "stderr",
     "output_type": "stream",
     "text": [
      "C:\\Users\\wwang\\Desktop\\egfr_dist_analysis\\dist_analy-master\\dist_analy\\util\\pdb_info.py:206: UserWarning: No data found\n",
      "  warnings.warn(\"No data found\")\n"
     ]
    },
    {
     "name": "stdout",
     "output_type": "stream",
     "text": [
      "5CZH_A.pdb\n",
      "5CZI_A.pdb\n",
      "5D41_A.pdb\n",
      "5D41_B.pdb\n",
      "5EDP_A.pdb\n",
      "5EDQ_A.pdb\n",
      "5EDR_A.pdb\n",
      "5EM5_A.pdb\n",
      "5EM6_A.pdb\n",
      "5EM7_A.pdb\n",
      "5EM8_A.pdb\n",
      "5FED_A.pdb\n",
      "5FEE_A.pdb\n",
      "5FEQ_A.pdb\n",
      "5GMP_A.pdb\n",
      "5GNK_A.pdb\n",
      "5GTY_A.pdb\n",
      "5GTY_B.pdb\n",
      "5GTY_D.pdb\n",
      "5GTY_E.pdb\n",
      "5GTY_F.pdb\n",
      "5GTY_G.pdb\n",
      "5GTY_H.pdb\n",
      "5GTY_C.pdb\n",
      "5GTZ_A.pdb\n",
      "5HCX_A.pdb\n",
      "5HCY_A.pdb\n",
      "5HCZ_A.pdb\n",
      "5HG5_A.pdb\n",
      "5HG7_A.pdb\n",
      "5HG8_A.pdb\n",
      "5HG9_A.pdb\n",
      "5HIB_A.pdb\n",
      "5HIC_A.pdb\n",
      "5J9Y_A.pdb\n",
      "5J9Z_A.pdb\n",
      "5JEB_A.pdb\n",
      "5LV6_A_0.pdb\n",
      "5LV6_A_1.pdb\n",
      "5LV6_A_2.pdb\n",
      "5LV6_A_3.pdb\n",
      "5LV6_A_4.pdb\n",
      "5LV6_A_5.pdb\n",
      "5LV6_A_6.pdb\n",
      "5LV6_A_7.pdb\n",
      "5LV6_A_8.pdb\n",
      "5LV6_A_9.pdb\n",
      "5LV6_A_10.pdb\n",
      "5LV6_A_11.pdb\n",
      "5LV6_A_12.pdb\n",
      "5LV6_A_13.pdb\n",
      "5LV6_A_14.pdb\n",
      "5LV6_A_15.pdb\n",
      "5LV6_A_16.pdb\n",
      "5LV6_A_17.pdb\n",
      "5LV6_A_18.pdb\n",
      "5LV6_A_19.pdb\n",
      "5LV6_B_0.pdb\n",
      "5LV6_B_1.pdb\n",
      "5LV6_B_2.pdb\n",
      "5LV6_B_3.pdb\n",
      "5LV6_B_4.pdb\n",
      "5LV6_B_5.pdb\n",
      "5LV6_B_6.pdb\n",
      "5LV6_B_7.pdb\n",
      "5LV6_B_8.pdb\n",
      "5LV6_B_9.pdb\n",
      "5LV6_B_10.pdb\n",
      "5LV6_B_11.pdb\n",
      "5LV6_B_12.pdb\n",
      "5LV6_B_13.pdb\n",
      "5LV6_B_14.pdb\n",
      "5LV6_B_15.pdb\n",
      "5LV6_B_16.pdb\n",
      "5LV6_B_17.pdb\n",
      "5LV6_B_18.pdb\n",
      "5LV6_B_19.pdb\n"
     ]
    },
    {
     "name": "stderr",
     "output_type": "stream",
     "text": [
      "C:\\Users\\wwang\\Desktop\\egfr_dist_analysis\\dist_analy-master\\dist_analy\\util\\pdb_info.py:206: UserWarning: No data found\n",
      "  warnings.warn(\"No data found\")\n"
     ]
    },
    {
     "name": "stdout",
     "output_type": "stream",
     "text": [
      "unable to find data with 5SX4 entity #1, skipping\n",
      "unable to find data with 5SX4 entity #2, skipping\n",
      "5SX4_M.pdb\n",
      "5SX4_N.pdb\n"
     ]
    },
    {
     "name": "stderr",
     "output_type": "stream",
     "text": [
      "C:\\Users\\wwang\\Desktop\\egfr_dist_analysis\\dist_analy-master\\dist_analy\\util\\pdb_info.py:206: UserWarning: No data found\n",
      "  warnings.warn(\"No data found\")\n"
     ]
    },
    {
     "name": "stdout",
     "output_type": "stream",
     "text": [
      "unable to find data with 5SX5 entity #1, skipping\n",
      "unable to find data with 5SX5 entity #2, skipping\n",
      "5SX5_M.pdb\n",
      "5SX5_N.pdb\n",
      "5U8L_A.pdb\n",
      "5UG8_A.pdb\n",
      "5UG9_A.pdb\n",
      "5UGA_A.pdb\n",
      "5UGB_A.pdb\n",
      "5UGC_A.pdb\n",
      "5UWD_A.pdb\n",
      "5WB7_A.pdb\n",
      "5WB7_B.pdb\n",
      "5WB7_C.pdb\n",
      "5WB7_D.pdb\n",
      "5WB8_A.pdb\n",
      "5WB8_D.pdb\n",
      "5X26_A.pdb\n",
      "5X27_A.pdb\n",
      "5X28_A.pdb\n",
      "5X2A_A.pdb\n",
      "5X2A_B.pdb\n",
      "5X2A_C.pdb\n",
      "5X2A_D.pdb\n",
      "5X2C_A.pdb\n",
      "5X2C_B.pdb\n",
      "5X2F_A.pdb\n",
      "5X2F_B.pdb\n",
      "5X2F_C.pdb\n",
      "5X2F_D.pdb\n",
      "5X2K_A.pdb\n",
      "5XDK_A.pdb\n",
      "5XDL_A.pdb\n",
      "5XGM_A.pdb\n",
      "5XGN_A.pdb\n",
      "5XGN_B.pdb\n"
     ]
    },
    {
     "name": "stderr",
     "output_type": "stream",
     "text": [
      "C:\\Users\\wwang\\Desktop\\egfr_dist_analysis\\dist_analy-master\\dist_analy\\util\\pdb_info.py:206: UserWarning: No data found\n",
      "  warnings.warn(\"No data found\")\n"
     ]
    },
    {
     "name": "stdout",
     "output_type": "stream",
     "text": [
      "unable to find data with 5XWD entity #2, skipping\n",
      "unable to find data with 5XWD entity #3, skipping\n",
      "5XWD_A.pdb\n",
      "5Y25_A.pdb\n",
      "5Y9T_A.pdb\n",
      "5YU9_A.pdb\n",
      "5YU9_B.pdb\n",
      "5YU9_C.pdb\n",
      "5YU9_D.pdb\n",
      "5ZTO_A.pdb\n",
      "5ZWJ_A.pdb\n",
      "6ARU_A.pdb\n"
     ]
    },
    {
     "name": "stderr",
     "output_type": "stream",
     "text": [
      "C:\\Users\\wwang\\Desktop\\egfr_dist_analysis\\dist_analy-master\\dist_analy\\util\\pdb_info.py:206: UserWarning: No data found\n",
      "  warnings.warn(\"No data found\")\n"
     ]
    },
    {
     "name": "stdout",
     "output_type": "stream",
     "text": [
      "unable to find data with 6B3S entity #2, skipping\n",
      "unable to find data with 6B3S entity #3, skipping\n",
      "6B3S_A.pdb\n",
      "6B3S_B.pdb\n",
      "6B3S_E.pdb\n",
      "6B3S_I.pdb\n",
      "6D8E_A.pdb\n",
      "6DUK_A.pdb\n",
      "6DUK_B.pdb\n",
      "6DUK_C.pdb\n",
      "6DUK_D.pdb\n",
      "6DUK_E.pdb\n",
      "6DUK_F.pdb\n",
      "6JRJ_A.pdb\n",
      "6JRK_A.pdb\n",
      "6JRX_A.pdb\n",
      "6JWL_A.pdb\n",
      "6JX0_A.pdb\n",
      "6JX4_A.pdb\n",
      "6JXT_A.pdb\n",
      "6JZ0_A.pdb\n",
      "6LUB_A.pdb\n",
      "6LUD_A.pdb\n",
      "6P1D_D.pdb\n",
      "6P1D_A.pdb\n",
      "6P1D_B.pdb\n",
      "6P1D_C.pdb\n",
      "6P1L_A.pdb\n",
      "6P1L_B.pdb\n",
      "6P1L_C.pdb\n",
      "6P1L_D.pdb\n",
      "6P8Q_A.pdb\n",
      "6P8Q_B.pdb\n",
      "6P8Q_C.pdb\n",
      "6P8Q_D.pdb\n",
      "6S89_A.pdb\n",
      "6S8A_A.pdb\n",
      "6S9B_A.pdb\n",
      "6S9C_A.pdb\n",
      "6S9D_A.pdb\n",
      "6TFU_A.pdb\n",
      "6TFU_B.pdb\n",
      "6TFV_A.pdb\n",
      "6TFV_B.pdb\n",
      "6TFW_A.pdb\n",
      "6TFW_B.pdb\n",
      "6TFY_A.pdb\n",
      "6TFY_B.pdb\n",
      "6TFZ_A.pdb\n",
      "6TFZ_B.pdb\n",
      "6TG0_A.pdb\n",
      "6TG0_B.pdb\n",
      "6TG1_A.pdb\n",
      "6TG1_B.pdb\n",
      "6V5N_D.pdb\n",
      "6V5N_A.pdb\n",
      "6V5N_B.pdb\n",
      "6V5N_C.pdb\n",
      "6V5P_A.pdb\n",
      "6V5P_B.pdb\n",
      "6V5P_C.pdb\n",
      "6V5P_D.pdb\n",
      "6V66_D.pdb\n",
      "6V66_A.pdb\n",
      "6V66_B.pdb\n",
      "6V66_C.pdb\n",
      "6V6K_D.pdb\n",
      "6V6K_A.pdb\n",
      "6V6K_B.pdb\n",
      "6V6K_C.pdb\n",
      "6V6K_E.pdb\n",
      "6V6K_F.pdb\n",
      "6V6K_G.pdb\n",
      "6V6K_H.pdb\n",
      "6V6O_D.pdb\n",
      "6V6O_A.pdb\n",
      "6V6O_B.pdb\n",
      "6V6O_C.pdb\n",
      "6V6O_E.pdb\n",
      "6V6O_F.pdb\n",
      "6V6O_G.pdb\n",
      "6V6O_H.pdb\n",
      "6VH4_A.pdb\n",
      "6VHN_A.pdb\n",
      "6VHP_A.pdb\n",
      "6WA2_D.pdb\n",
      "6WA2_A.pdb\n",
      "6WA2_B.pdb\n",
      "6WA2_C.pdb\n",
      "6WAK_D.pdb\n",
      "6WAK_A.pdb\n",
      "6WAK_B.pdb\n",
      "6WAK_C.pdb\n",
      "6WXN_D.pdb\n",
      "6WXN_A.pdb\n",
      "6WXN_B.pdb\n",
      "6WXN_C.pdb\n",
      "6XL4_A.pdb\n",
      "6XL4_B.pdb\n",
      "6XL4_C.pdb\n",
      "6XL4_D.pdb\n",
      "6Z4B_A.pdb\n",
      "6Z4B_B.pdb\n",
      "6Z4D_A.pdb\n",
      "6Z4D_B.pdb\n",
      "7A2A_A.pdb\n",
      "7A2A_B.pdb\n",
      "7AEI_A.pdb\n",
      "7AEM_A.pdb\n",
      "7JXI_D.pdb\n",
      "7JXI_A.pdb\n",
      "7JXI_C.pdb\n",
      "7JXI_B.pdb\n",
      "7JXK_D.pdb\n",
      "7JXK_A.pdb\n",
      "7JXK_C.pdb\n",
      "7JXK_F.pdb\n",
      "7JXK_E.pdb\n",
      "7JXK_B.pdb\n",
      "7JXL_D.pdb\n",
      "7JXL_A.pdb\n",
      "7JXL_C.pdb\n",
      "7JXL_B.pdb\n",
      "7JXM_D.pdb\n",
      "7JXM_A.pdb\n",
      "7JXM_C.pdb\n",
      "7JXM_B.pdb\n",
      "7JXP_D.pdb\n",
      "7JXP_A.pdb\n",
      "7JXP_C.pdb\n",
      "7JXP_F.pdb\n",
      "7JXP_B.pdb\n",
      "7JXP_E.pdb\n",
      "7JXQ_D.pdb\n",
      "7JXQ_A.pdb\n",
      "7JXQ_B.pdb\n",
      "7JXQ_C.pdb\n",
      "7JXW_D.pdb\n",
      "7JXW_A.pdb\n",
      "7JXW_C.pdb\n",
      "7JXW_B.pdb\n",
      "7K1H_B.pdb\n",
      "7K1H_A.pdb\n",
      "7K1H_C.pdb\n",
      "7K1H_D.pdb\n",
      "7K1H_E.pdb\n",
      "7K1H_F.pdb\n",
      "7K1I_A.pdb\n",
      "7LEN_A.pdb\n",
      "7LEN_B.pdb\n",
      "7LFR_A.pdb\n",
      "7LFR_B.pdb\n",
      "7LFS_A.pdb\n",
      "7LFS_B.pdb\n",
      "7LFS_C.pdb\n",
      "7LFS_D.pdb\n",
      "7LGS_A.pdb\n",
      "7LGS_B.pdb\n",
      "7LGS_C.pdb\n",
      "7LGS_D.pdb\n",
      "7OXB_A.pdb\n",
      "7SZ7_A.pdb\n",
      "7SZ7_B.pdb\n"
     ]
    }
   ],
   "source": [
    "pdb_dir = './datafiles/raw_pdb/'\n",
    "proc_dir = './datafiles/processed_pdb/'\n",
    "EGFR_KLIFS_IDENT = [582, 584, 587, 591, 592, 595, 596, 617, 620, 624, 628, 636, 669, 683, 690, 691, 692, 694, 700, 705, 706, 708, 711, 715, 716, 717, 718, 719, 720, 721, 722, 723, 724, 725, 726, 727, 728, 729, 731, 733, 735, 736, 740, 741, 742, 743, 744, 745, 746, 757, 758, 759, 760, 761, 762, 763, 764, 765, 766, 767, 768, 769, 771, 772, 773, 774, 775, 776, 777, 778, 779, 781, 786, 787, 788, 789, 790, 791, 792, 793, 794, 795, 796, 797, 798, 799, 800, 801, 802, 803, 810, 814, 815, 816, 817, 820, 821, 822, 824, 825, 826, 827, 828, 829, 830, 831, 832, 833, 834, 835, 836, 837, 838, 839, 840, 841, 842, 843, 844, 848, 851, 852, 853, 854, 855, 856, 857, 858, 859, 862, 875, 877, 878, 879, 880, 882, 883, 884, 886, 892, 895, 896, 897, 898, 901, 902, 903, 905, 906, 909, 911, 914, 928, 930, 933, 935, 936, 938, 939, 942, 944, 950, 951, 954, 958, 959, 961, 964, 968, 973, 974, 975, 977, 981]\n",
    "proc_pdb_list = []\n",
    "NCAA = ['PTR', 'SEP', 'CSX', 'CY0']\n",
    "pdb_proc = dist_analy.import_pdb.PDB_Processer(NCAA)\n",
    "for pdb_fn in found_pdbs:\n",
    "    pdb_list = pdb_proc.process_pdb(pdb_fn+'.pdb', pdb_dir, proc_dir, egfr_uniprot)\n",
    "    for proc in pdb_list:\n",
    "        print(proc)\n",
    "        proc_pdb_list.append(proc)"
   ]
  },
  {
   "cell_type": "code",
   "execution_count": 37,
   "metadata": {
    "scrolled": true
   },
   "outputs": [
    {
     "name": "stdout",
     "output_type": "stream",
     "text": [
      "{'GLY', 'HIS', 'GLU', 'LYS', 'VAL', 'ASP', 'PTR', 'THR', 'LEU', 'ILE', 'ARG', 'ASN', 'PHE', 'PRO', 'KCX', 'OCS', 'CY0', 'SEP', 'CSX', 'MET', 'TRP', 'CSD', 'ALY', 'GLN', 'ALA', 'TYR', 'TPO', 'CYS', 'SER'}\n"
     ]
    },
    {
     "name": "stderr",
     "output_type": "stream",
     "text": [
      "@> 3956 atoms and 1 coordinate set(s) were parsed in 0.04s.\n",
      "@> 3947 atoms and 1 coordinate set(s) were parsed in 0.04s.\n"
     ]
    },
    {
     "name": "stdout",
     "output_type": "stream",
     "text": [
      "./datafiles/processed_pdb/1IVO_A.pdb A\n",
      "./datafiles/processed_pdb/1IVO_B.pdb B\n"
     ]
    },
    {
     "name": "stderr",
     "output_type": "stream",
     "text": [
      "@> 2452 atoms and 1 coordinate set(s) were parsed in 0.02s.\n"
     ]
    },
    {
     "name": "stdout",
     "output_type": "stream",
     "text": [
      "./datafiles/processed_pdb/1M14_A.pdb A\n"
     ]
    },
    {
     "name": "stderr",
     "output_type": "stream",
     "text": [
      "@> 2497 atoms and 1 coordinate set(s) were parsed in 0.02s.\n"
     ]
    },
    {
     "name": "stdout",
     "output_type": "stream",
     "text": [
      "./datafiles/processed_pdb/1M17_A.pdb A\n"
     ]
    },
    {
     "name": "stderr",
     "output_type": "stream",
     "text": [
      "@> 3820 atoms and 1 coordinate set(s) were parsed in 0.03s.\n",
      "@> 3844 atoms and 1 coordinate set(s) were parsed in 0.04s.\n"
     ]
    },
    {
     "name": "stdout",
     "output_type": "stream",
     "text": [
      "./datafiles/processed_pdb/1MOX_A.pdb A\n",
      "./datafiles/processed_pdb/1MOX_B.pdb B\n"
     ]
    },
    {
     "name": "stderr",
     "output_type": "stream",
     "text": [
      "@> 4597 atoms and 1 coordinate set(s) were parsed in 0.04s.\n"
     ]
    },
    {
     "name": "stdout",
     "output_type": "stream",
     "text": [
      "./datafiles/processed_pdb/1NQL_A.pdb A\n"
     ]
    },
    {
     "name": "stderr",
     "output_type": "stream",
     "text": [
      "@> 2249 atoms and 1 coordinate set(s) were parsed in 0.02s.\n"
     ]
    },
    {
     "name": "stdout",
     "output_type": "stream",
     "text": [
      "./datafiles/processed_pdb/1XKK_A.pdb A\n"
     ]
    },
    {
     "name": "stderr",
     "output_type": "stream",
     "text": [
      "C:\\Users\\wwang\\Desktop\\egfr_dist_analysis\\dist_analy-master\\dist_analy\\util\\pdb_info.py:206: UserWarning: No data found\n",
      "  warnings.warn(\"No data found\")\n"
     ]
    },
    {
     "name": "stdout",
     "output_type": "stream",
     "text": [
      "unable to find data with 1YY9 entity #2, skipping\n",
      "unable to find data with 1YY9 entity #3, skipping\n"
     ]
    },
    {
     "name": "stderr",
     "output_type": "stream",
     "text": [
      "@> 4653 atoms and 1 coordinate set(s) were parsed in 0.04s.\n"
     ]
    },
    {
     "name": "stdout",
     "output_type": "stream",
     "text": [
      "./datafiles/processed_pdb/1YY9_A.pdb A\n"
     ]
    },
    {
     "name": "stderr",
     "output_type": "stream",
     "text": [
      "@> WARNING Atomic data could not be parsed, please check the input file.\n",
      "@> WARNING Atomic data could not be parsed, please check the input file.\n",
      "@> WARNING Atomic data could not be parsed, please check the input file.\n",
      "@> WARNING Atomic data could not be parsed, please check the input file.\n",
      "@> WARNING Atomic data could not be parsed, please check the input file.\n",
      "@> WARNING Atomic data could not be parsed, please check the input file.\n",
      "@> WARNING Atomic data could not be parsed, please check the input file.\n",
      "@> WARNING Atomic data could not be parsed, please check the input file.\n",
      "@> WARNING Atomic data could not be parsed, please check the input file.\n",
      "@> WARNING Atomic data could not be parsed, please check the input file.\n",
      "@> WARNING Atomic data could not be parsed, please check the input file.\n",
      "@> WARNING Atomic data could not be parsed, please check the input file.\n",
      "@> WARNING Atomic data could not be parsed, please check the input file.\n",
      "@> WARNING Atomic data could not be parsed, please check the input file.\n",
      "@> WARNING Atomic data could not be parsed, please check the input file.\n",
      "@> WARNING Atomic data could not be parsed, please check the input file.\n"
     ]
    },
    {
     "name": "stdout",
     "output_type": "stream",
     "text": [
      "./datafiles/processed_pdb/1Z9I_A_0.pdb 0\n",
      "problematic pdb file\n",
      "./datafiles/processed_pdb/1Z9I_A_1.pdb 1\n",
      "problematic pdb file\n",
      "./datafiles/processed_pdb/1Z9I_A_2.pdb 2\n",
      "problematic pdb file\n",
      "./datafiles/processed_pdb/1Z9I_A_3.pdb 3\n",
      "problematic pdb file\n",
      "./datafiles/processed_pdb/1Z9I_A_4.pdb 4\n",
      "problematic pdb file\n",
      "./datafiles/processed_pdb/1Z9I_A_5.pdb 5\n",
      "problematic pdb file\n",
      "./datafiles/processed_pdb/1Z9I_A_6.pdb 6\n",
      "problematic pdb file\n",
      "./datafiles/processed_pdb/1Z9I_A_7.pdb 7\n",
      "problematic pdb file\n",
      "./datafiles/processed_pdb/1Z9I_A_8.pdb 8\n",
      "problematic pdb file\n",
      "./datafiles/processed_pdb/1Z9I_A_9.pdb 9\n",
      "problematic pdb file\n",
      "./datafiles/processed_pdb/1Z9I_A_10.pdb 10\n",
      "problematic pdb file\n",
      "./datafiles/processed_pdb/1Z9I_A_11.pdb 11\n",
      "problematic pdb file\n",
      "./datafiles/processed_pdb/1Z9I_A_12.pdb 12\n",
      "problematic pdb file\n",
      "./datafiles/processed_pdb/1Z9I_A_13.pdb 13\n",
      "problematic pdb file\n",
      "./datafiles/processed_pdb/1Z9I_A_14.pdb 14\n",
      "problematic pdb file\n",
      "./datafiles/processed_pdb/1Z9I_A_15.pdb 15\n"
     ]
    },
    {
     "name": "stderr",
     "output_type": "stream",
     "text": [
      "@> WARNING Atomic data could not be parsed, please check the input file.\n",
      "@> WARNING Atomic data could not be parsed, please check the input file.\n",
      "@> WARNING Atomic data could not be parsed, please check the input file.\n",
      "@> WARNING Atomic data could not be parsed, please check the input file.\n",
      "@> WARNING Atomic data could not be parsed, please check the input file.\n",
      "@> WARNING Atomic data could not be parsed, please check the input file.\n",
      "@> WARNING Atomic data could not be parsed, please check the input file.\n",
      "@> WARNING Atomic data could not be parsed, please check the input file.\n",
      "@> WARNING Atomic data could not be parsed, please check the input file.\n"
     ]
    },
    {
     "name": "stdout",
     "output_type": "stream",
     "text": [
      "problematic pdb file\n",
      "./datafiles/processed_pdb/1Z9I_A_16.pdb 16\n",
      "problematic pdb file\n",
      "./datafiles/processed_pdb/1Z9I_A_17.pdb 17\n",
      "problematic pdb file\n",
      "./datafiles/processed_pdb/1Z9I_A_18.pdb 18\n",
      "problematic pdb file\n",
      "./datafiles/processed_pdb/1Z9I_A_19.pdb 19\n",
      "problematic pdb file\n",
      "./datafiles/processed_pdb/1Z9I_A_20.pdb 20\n",
      "problematic pdb file\n",
      "./datafiles/processed_pdb/1Z9I_A_21.pdb 21\n",
      "problematic pdb file\n",
      "./datafiles/processed_pdb/1Z9I_A_22.pdb 22\n",
      "problematic pdb file\n",
      "./datafiles/processed_pdb/1Z9I_A_23.pdb 23\n",
      "problematic pdb file\n",
      "./datafiles/processed_pdb/1Z9I_A_24.pdb 24\n",
      "problematic pdb file\n"
     ]
    },
    {
     "name": "stderr",
     "output_type": "stream",
     "text": [
      "@> 2443 atoms and 1 coordinate set(s) were parsed in 0.02s.\n"
     ]
    },
    {
     "name": "stdout",
     "output_type": "stream",
     "text": [
      "./datafiles/processed_pdb/2EB2_A.pdb A\n"
     ]
    },
    {
     "name": "stderr",
     "output_type": "stream",
     "text": [
      "@> 2365 atoms and 1 coordinate set(s) were parsed in 0.02s.\n"
     ]
    },
    {
     "name": "stdout",
     "output_type": "stream",
     "text": [
      "./datafiles/processed_pdb/2EB3_A.pdb A\n"
     ]
    },
    {
     "name": "stderr",
     "output_type": "stream",
     "text": [
      "@> 2419 atoms and 1 coordinate set(s) were parsed in 0.02s.\n"
     ]
    },
    {
     "name": "stdout",
     "output_type": "stream",
     "text": [
      "./datafiles/processed_pdb/2GS2_A.pdb A\n"
     ]
    },
    {
     "name": "stderr",
     "output_type": "stream",
     "text": [
      "C:\\Users\\wwang\\Desktop\\egfr_dist_analysis\\dist_analy-master\\dist_analy\\util\\pdb_info.py:206: UserWarning: No data found\n",
      "  warnings.warn(\"No data found\")\n"
     ]
    },
    {
     "name": "stdout",
     "output_type": "stream",
     "text": [
      "unable to find data with 2GS6 entity #2, skipping\n"
     ]
    },
    {
     "name": "stderr",
     "output_type": "stream",
     "text": [
      "@> 2465 atoms and 1 coordinate set(s) were parsed in 0.02s.\n"
     ]
    },
    {
     "name": "stdout",
     "output_type": "stream",
     "text": [
      "./datafiles/processed_pdb/2GS6_A.pdb A\n"
     ]
    },
    {
     "name": "stderr",
     "output_type": "stream",
     "text": [
      "@> 2227 atoms and 1 coordinate set(s) were parsed in 0.02s.\n"
     ]
    },
    {
     "name": "stdout",
     "output_type": "stream",
     "text": [
      "./datafiles/processed_pdb/2GS7_A.pdb A\n"
     ]
    },
    {
     "name": "stderr",
     "output_type": "stream",
     "text": [
      "@> 2278 atoms and 1 coordinate set(s) were parsed in 0.02s.\n"
     ]
    },
    {
     "name": "stdout",
     "output_type": "stream",
     "text": [
      "./datafiles/processed_pdb/2GS7_B.pdb B\n"
     ]
    },
    {
     "name": "stderr",
     "output_type": "stream",
     "text": [
      "@> 2415 atoms and 1 coordinate set(s) were parsed in 0.02s.\n"
     ]
    },
    {
     "name": "stdout",
     "output_type": "stream",
     "text": [
      "./datafiles/processed_pdb/2ITN_A.pdb A\n"
     ]
    },
    {
     "name": "stderr",
     "output_type": "stream",
     "text": [
      "@> 2419 atoms and 1 coordinate set(s) were parsed in 0.03s.\n"
     ]
    },
    {
     "name": "stdout",
     "output_type": "stream",
     "text": [
      "./datafiles/processed_pdb/2ITO_A.pdb A\n"
     ]
    },
    {
     "name": "stderr",
     "output_type": "stream",
     "text": [
      "@> 2442 atoms and 1 coordinate set(s) were parsed in 0.02s.\n"
     ]
    },
    {
     "name": "stdout",
     "output_type": "stream",
     "text": [
      "./datafiles/processed_pdb/2ITP_A.pdb A\n"
     ]
    },
    {
     "name": "stderr",
     "output_type": "stream",
     "text": [
      "@> 2400 atoms and 1 coordinate set(s) were parsed in 0.02s.\n"
     ]
    },
    {
     "name": "stdout",
     "output_type": "stream",
     "text": [
      "./datafiles/processed_pdb/2ITQ_A.pdb A\n"
     ]
    },
    {
     "name": "stderr",
     "output_type": "stream",
     "text": [
      "@> 2413 atoms and 1 coordinate set(s) were parsed in 0.02s.\n"
     ]
    },
    {
     "name": "stdout",
     "output_type": "stream",
     "text": [
      "./datafiles/processed_pdb/2ITT_A.pdb A\n"
     ]
    },
    {
     "name": "stderr",
     "output_type": "stream",
     "text": [
      "@> 2417 atoms and 1 coordinate set(s) were parsed in 0.03s.\n"
     ]
    },
    {
     "name": "stdout",
     "output_type": "stream",
     "text": [
      "./datafiles/processed_pdb/2ITU_A.pdb A\n"
     ]
    },
    {
     "name": "stderr",
     "output_type": "stream",
     "text": [
      "@> 2417 atoms and 1 coordinate set(s) were parsed in 0.02s.\n"
     ]
    },
    {
     "name": "stdout",
     "output_type": "stream",
     "text": [
      "./datafiles/processed_pdb/2ITV_A.pdb A\n"
     ]
    },
    {
     "name": "stderr",
     "output_type": "stream",
     "text": [
      "@> 2395 atoms and 1 coordinate set(s) were parsed in 0.02s.\n"
     ]
    },
    {
     "name": "stdout",
     "output_type": "stream",
     "text": [
      "./datafiles/processed_pdb/2ITW_A.pdb A\n"
     ]
    },
    {
     "name": "stderr",
     "output_type": "stream",
     "text": [
      "@> 2448 atoms and 1 coordinate set(s) were parsed in 0.02s.\n"
     ]
    },
    {
     "name": "stdout",
     "output_type": "stream",
     "text": [
      "./datafiles/processed_pdb/2ITX_A.pdb A\n"
     ]
    },
    {
     "name": "stderr",
     "output_type": "stream",
     "text": [
      "@> 2396 atoms and 1 coordinate set(s) were parsed in 0.03s.\n"
     ]
    },
    {
     "name": "stdout",
     "output_type": "stream",
     "text": [
      "./datafiles/processed_pdb/2ITY_A.pdb A\n"
     ]
    },
    {
     "name": "stderr",
     "output_type": "stream",
     "text": [
      "@> 2415 atoms and 1 coordinate set(s) were parsed in 0.02s.\n"
     ]
    },
    {
     "name": "stdout",
     "output_type": "stream",
     "text": [
      "./datafiles/processed_pdb/2ITZ_A.pdb A\n"
     ]
    },
    {
     "name": "stderr",
     "output_type": "stream",
     "text": [
      "@> 2483 atoms and 1 coordinate set(s) were parsed in 0.03s.\n"
     ]
    },
    {
     "name": "stdout",
     "output_type": "stream",
     "text": [
      "./datafiles/processed_pdb/2J5E_A.pdb A\n"
     ]
    },
    {
     "name": "stderr",
     "output_type": "stream",
     "text": [
      "@> 2447 atoms and 1 coordinate set(s) were parsed in 0.03s.\n"
     ]
    },
    {
     "name": "stdout",
     "output_type": "stream",
     "text": [
      "./datafiles/processed_pdb/2J5F_A.pdb A\n"
     ]
    },
    {
     "name": "stderr",
     "output_type": "stream",
     "text": [
      "@> 2433 atoms and 1 coordinate set(s) were parsed in 0.04s.\n"
     ]
    },
    {
     "name": "stdout",
     "output_type": "stream",
     "text": [
      "./datafiles/processed_pdb/2J6M_A.pdb A\n"
     ]
    },
    {
     "name": "stderr",
     "output_type": "stream",
     "text": [
      "@> 2363 atoms and 1 coordinate set(s) were parsed in 0.02s.\n"
     ]
    },
    {
     "name": "stdout",
     "output_type": "stream",
     "text": [
      "./datafiles/processed_pdb/2JIT_A.pdb A\n"
     ]
    },
    {
     "name": "stderr",
     "output_type": "stream",
     "text": [
      "@> 2450 atoms and 1 coordinate set(s) were parsed in 0.03s.\n"
     ]
    },
    {
     "name": "stdout",
     "output_type": "stream",
     "text": [
      "./datafiles/processed_pdb/2JIT_B.pdb B\n"
     ]
    },
    {
     "name": "stderr",
     "output_type": "stream",
     "text": [
      "@> 2380 atoms and 1 coordinate set(s) were parsed in 0.03s.\n"
     ]
    },
    {
     "name": "stdout",
     "output_type": "stream",
     "text": [
      "./datafiles/processed_pdb/2JIU_A.pdb A\n"
     ]
    },
    {
     "name": "stderr",
     "output_type": "stream",
     "text": [
      "@> 2407 atoms and 1 coordinate set(s) were parsed in 0.03s.\n"
     ]
    },
    {
     "name": "stdout",
     "output_type": "stream",
     "text": [
      "./datafiles/processed_pdb/2JIU_B.pdb B\n"
     ]
    },
    {
     "name": "stderr",
     "output_type": "stream",
     "text": [
      "@> 2137 atoms and 1 coordinate set(s) were parsed in 0.02s.\n"
     ]
    },
    {
     "name": "stdout",
     "output_type": "stream",
     "text": [
      "./datafiles/processed_pdb/2JIV_A.pdb A\n"
     ]
    },
    {
     "name": "stderr",
     "output_type": "stream",
     "text": [
      "@> 2140 atoms and 1 coordinate set(s) were parsed in 0.02s.\n"
     ]
    },
    {
     "name": "stdout",
     "output_type": "stream",
     "text": [
      "./datafiles/processed_pdb/2JIV_B.pdb B\n"
     ]
    },
    {
     "name": "stderr",
     "output_type": "stream",
     "text": [
      "@> WARNING Atomic data could not be parsed, please check the input file.\n",
      "@> WARNING Atomic data could not be parsed, please check the input file.\n",
      "@> WARNING Atomic data could not be parsed, please check the input file.\n",
      "@> WARNING Atomic data could not be parsed, please check the input file.\n",
      "@> WARNING Atomic data could not be parsed, please check the input file.\n",
      "@> WARNING Atomic data could not be parsed, please check the input file.\n",
      "@> WARNING Atomic data could not be parsed, please check the input file.\n",
      "@> WARNING Atomic data could not be parsed, please check the input file.\n",
      "@> WARNING Atomic data could not be parsed, please check the input file.\n",
      "@> WARNING Atomic data could not be parsed, please check the input file.\n",
      "@> WARNING Atomic data could not be parsed, please check the input file.\n",
      "@> WARNING Atomic data could not be parsed, please check the input file.\n"
     ]
    },
    {
     "name": "stdout",
     "output_type": "stream",
     "text": [
      "./datafiles/processed_pdb/2KS1_B_0.pdb 0\n",
      "problematic pdb file\n",
      "./datafiles/processed_pdb/2KS1_B_1.pdb 1\n",
      "problematic pdb file\n",
      "./datafiles/processed_pdb/2KS1_B_2.pdb 2\n",
      "problematic pdb file\n",
      "./datafiles/processed_pdb/2KS1_B_3.pdb 3\n",
      "problematic pdb file\n",
      "./datafiles/processed_pdb/2KS1_B_4.pdb 4\n",
      "problematic pdb file\n",
      "./datafiles/processed_pdb/2KS1_B_5.pdb 5\n",
      "problematic pdb file\n",
      "./datafiles/processed_pdb/2KS1_B_6.pdb 6\n",
      "problematic pdb file\n",
      "./datafiles/processed_pdb/2KS1_B_7.pdb 7\n",
      "problematic pdb file\n",
      "./datafiles/processed_pdb/2KS1_B_8.pdb 8\n",
      "problematic pdb file\n",
      "./datafiles/processed_pdb/2KS1_B_9.pdb 9\n",
      "problematic pdb file\n",
      "./datafiles/processed_pdb/2KS1_B_10.pdb 10\n",
      "problematic pdb file\n",
      "./datafiles/processed_pdb/2KS1_B_11.pdb 11\n",
      "problematic pdb file\n"
     ]
    },
    {
     "name": "stderr",
     "output_type": "stream",
     "text": [
      "@> WARNING Atomic data could not be parsed, please check the input file.\n",
      "@> WARNING Atomic data could not be parsed, please check the input file.\n",
      "@> WARNING Atomic data could not be parsed, please check the input file.\n",
      "@> WARNING Atomic data could not be parsed, please check the input file.\n",
      "@> WARNING Atomic data could not be parsed, please check the input file.\n",
      "@> WARNING Atomic data could not be parsed, please check the input file.\n",
      "@> WARNING Atomic data could not be parsed, please check the input file.\n",
      "@> WARNING Atomic data could not be parsed, please check the input file.\n",
      "@> WARNING Atomic data could not be parsed, please check the input file.\n",
      "@> WARNING Atomic data could not be parsed, please check the input file.\n",
      "@> WARNING Atomic data could not be parsed, please check the input file.\n",
      "@> WARNING Atomic data could not be parsed, please check the input file.\n",
      "@> WARNING Atomic data could not be parsed, please check the input file.\n",
      "@> WARNING Atomic data could not be parsed, please check the input file.\n",
      "@> WARNING Atomic data could not be parsed, please check the input file.\n",
      "@> WARNING Atomic data could not be parsed, please check the input file.\n",
      "@> WARNING Atomic data could not be parsed, please check the input file.\n",
      "@> WARNING Atomic data could not be parsed, please check the input file.\n",
      "@> WARNING Atomic data could not be parsed, please check the input file.\n"
     ]
    },
    {
     "name": "stdout",
     "output_type": "stream",
     "text": [
      "./datafiles/processed_pdb/2M0B_A_0.pdb 0\n",
      "problematic pdb file\n",
      "./datafiles/processed_pdb/2M0B_A_1.pdb 1\n",
      "problematic pdb file\n",
      "./datafiles/processed_pdb/2M0B_A_2.pdb 2\n",
      "problematic pdb file\n",
      "./datafiles/processed_pdb/2M0B_A_3.pdb 3\n",
      "problematic pdb file\n",
      "./datafiles/processed_pdb/2M0B_A_4.pdb 4\n",
      "problematic pdb file\n",
      "./datafiles/processed_pdb/2M0B_A_5.pdb 5\n",
      "problematic pdb file\n",
      "./datafiles/processed_pdb/2M0B_A_6.pdb 6\n",
      "problematic pdb file\n",
      "./datafiles/processed_pdb/2M0B_A_7.pdb 7\n",
      "problematic pdb file\n",
      "./datafiles/processed_pdb/2M0B_A_8.pdb 8\n",
      "problematic pdb file\n",
      "./datafiles/processed_pdb/2M0B_A_9.pdb 9\n",
      "problematic pdb file\n",
      "./datafiles/processed_pdb/2M0B_A_10.pdb 10\n",
      "problematic pdb file\n",
      "./datafiles/processed_pdb/2M0B_A_11.pdb 11\n",
      "problematic pdb file\n",
      "./datafiles/processed_pdb/2M0B_A_12.pdb 12\n",
      "problematic pdb file\n",
      "./datafiles/processed_pdb/2M0B_A_13.pdb 13\n",
      "problematic pdb file\n",
      "./datafiles/processed_pdb/2M0B_A_14.pdb 14\n",
      "problematic pdb file\n",
      "./datafiles/processed_pdb/2M0B_A_15.pdb 15\n",
      "problematic pdb file\n",
      "./datafiles/processed_pdb/2M0B_A_16.pdb 16\n",
      "problematic pdb file\n",
      "./datafiles/processed_pdb/2M0B_A_17.pdb 17\n",
      "problematic pdb file\n",
      "./datafiles/processed_pdb/2M0B_A_18.pdb 18\n"
     ]
    },
    {
     "name": "stderr",
     "output_type": "stream",
     "text": [
      "@> WARNING Atomic data could not be parsed, please check the input file.\n",
      "@> WARNING Atomic data could not be parsed, please check the input file.\n",
      "@> WARNING Atomic data could not be parsed, please check the input file.\n",
      "@> WARNING Atomic data could not be parsed, please check the input file.\n",
      "@> WARNING Atomic data could not be parsed, please check the input file.\n",
      "@> WARNING Atomic data could not be parsed, please check the input file.\n",
      "@> WARNING Atomic data could not be parsed, please check the input file.\n",
      "@> WARNING Atomic data could not be parsed, please check the input file.\n",
      "@> WARNING Atomic data could not be parsed, please check the input file.\n",
      "@> WARNING Atomic data could not be parsed, please check the input file.\n",
      "@> WARNING Atomic data could not be parsed, please check the input file.\n",
      "@> WARNING Atomic data could not be parsed, please check the input file.\n",
      "@> WARNING Atomic data could not be parsed, please check the input file.\n",
      "@> WARNING Atomic data could not be parsed, please check the input file.\n",
      "@> WARNING Atomic data could not be parsed, please check the input file.\n",
      "@> WARNING Atomic data could not be parsed, please check the input file.\n",
      "@> WARNING Atomic data could not be parsed, please check the input file.\n"
     ]
    },
    {
     "name": "stdout",
     "output_type": "stream",
     "text": [
      "problematic pdb file\n",
      "./datafiles/processed_pdb/2M0B_A_19.pdb 19\n",
      "problematic pdb file\n",
      "./datafiles/processed_pdb/2M0B_B_0.pdb 0\n",
      "problematic pdb file\n",
      "./datafiles/processed_pdb/2M0B_B_1.pdb 1\n",
      "problematic pdb file\n",
      "./datafiles/processed_pdb/2M0B_B_2.pdb 2\n",
      "problematic pdb file\n",
      "./datafiles/processed_pdb/2M0B_B_3.pdb 3\n",
      "problematic pdb file\n",
      "./datafiles/processed_pdb/2M0B_B_4.pdb 4\n",
      "problematic pdb file\n",
      "./datafiles/processed_pdb/2M0B_B_5.pdb 5\n",
      "problematic pdb file\n",
      "./datafiles/processed_pdb/2M0B_B_6.pdb 6\n",
      "problematic pdb file\n",
      "./datafiles/processed_pdb/2M0B_B_7.pdb 7\n",
      "problematic pdb file\n",
      "./datafiles/processed_pdb/2M0B_B_8.pdb 8\n",
      "problematic pdb file\n",
      "./datafiles/processed_pdb/2M0B_B_9.pdb 9\n",
      "problematic pdb file\n",
      "./datafiles/processed_pdb/2M0B_B_10.pdb 10\n",
      "problematic pdb file\n",
      "./datafiles/processed_pdb/2M0B_B_11.pdb 11\n",
      "problematic pdb file\n",
      "./datafiles/processed_pdb/2M0B_B_12.pdb 12\n",
      "problematic pdb file\n",
      "./datafiles/processed_pdb/2M0B_B_13.pdb 13\n",
      "problematic pdb file\n",
      "./datafiles/processed_pdb/2M0B_B_14.pdb 14\n",
      "problematic pdb file\n",
      "./datafiles/processed_pdb/2M0B_B_15.pdb 15\n"
     ]
    },
    {
     "name": "stderr",
     "output_type": "stream",
     "text": [
      "@> WARNING Atomic data could not be parsed, please check the input file.\n",
      "@> WARNING Atomic data could not be parsed, please check the input file.\n",
      "@> WARNING Atomic data could not be parsed, please check the input file.\n",
      "@> WARNING Atomic data could not be parsed, please check the input file.\n"
     ]
    },
    {
     "name": "stdout",
     "output_type": "stream",
     "text": [
      "problematic pdb file\n",
      "./datafiles/processed_pdb/2M0B_B_16.pdb 16\n",
      "problematic pdb file\n",
      "./datafiles/processed_pdb/2M0B_B_17.pdb 17\n",
      "problematic pdb file\n",
      "./datafiles/processed_pdb/2M0B_B_18.pdb 18\n",
      "problematic pdb file\n",
      "./datafiles/processed_pdb/2M0B_B_19.pdb 19\n",
      "problematic pdb file\n"
     ]
    },
    {
     "name": "stderr",
     "output_type": "stream",
     "text": [
      "@> WARNING Atomic data could not be parsed, please check the input file.\n",
      "@> WARNING Atomic data could not be parsed, please check the input file.\n",
      "@> WARNING Atomic data could not be parsed, please check the input file.\n",
      "@> WARNING Atomic data could not be parsed, please check the input file.\n",
      "@> WARNING Atomic data could not be parsed, please check the input file.\n",
      "@> WARNING Atomic data could not be parsed, please check the input file.\n",
      "@> WARNING Atomic data could not be parsed, please check the input file.\n",
      "@> WARNING Atomic data could not be parsed, please check the input file.\n",
      "@> WARNING Atomic data could not be parsed, please check the input file.\n",
      "@> WARNING Atomic data could not be parsed, please check the input file.\n",
      "@> WARNING Atomic data could not be parsed, please check the input file.\n",
      "@> WARNING Atomic data could not be parsed, please check the input file.\n",
      "@> WARNING Atomic data could not be parsed, please check the input file.\n",
      "@> WARNING Atomic data could not be parsed, please check the input file.\n",
      "@> WARNING Atomic data could not be parsed, please check the input file.\n",
      "@> WARNING Atomic data could not be parsed, please check the input file.\n"
     ]
    },
    {
     "name": "stdout",
     "output_type": "stream",
     "text": [
      "./datafiles/processed_pdb/2M20_A_0.pdb 0\n",
      "problematic pdb file\n",
      "./datafiles/processed_pdb/2M20_A_1.pdb 1\n",
      "problematic pdb file\n",
      "./datafiles/processed_pdb/2M20_A_2.pdb 2\n",
      "problematic pdb file\n",
      "./datafiles/processed_pdb/2M20_A_3.pdb 3\n",
      "problematic pdb file\n",
      "./datafiles/processed_pdb/2M20_A_4.pdb 4\n",
      "problematic pdb file\n",
      "./datafiles/processed_pdb/2M20_A_5.pdb 5\n",
      "problematic pdb file\n",
      "./datafiles/processed_pdb/2M20_A_6.pdb 6\n",
      "problematic pdb file\n",
      "./datafiles/processed_pdb/2M20_A_7.pdb 7\n",
      "problematic pdb file\n",
      "./datafiles/processed_pdb/2M20_A_8.pdb 8\n",
      "problematic pdb file\n",
      "./datafiles/processed_pdb/2M20_A_9.pdb 9\n",
      "problematic pdb file\n",
      "./datafiles/processed_pdb/2M20_B_0.pdb 0\n",
      "problematic pdb file\n",
      "./datafiles/processed_pdb/2M20_B_1.pdb 1\n",
      "problematic pdb file\n",
      "./datafiles/processed_pdb/2M20_B_2.pdb 2\n",
      "problematic pdb file\n",
      "./datafiles/processed_pdb/2M20_B_3.pdb 3\n",
      "problematic pdb file\n",
      "./datafiles/processed_pdb/2M20_B_4.pdb 4\n",
      "problematic pdb file\n",
      "./datafiles/processed_pdb/2M20_B_5.pdb 5\n"
     ]
    },
    {
     "name": "stderr",
     "output_type": "stream",
     "text": [
      "@> WARNING Atomic data could not be parsed, please check the input file.\n",
      "@> WARNING Atomic data could not be parsed, please check the input file.\n",
      "@> WARNING Atomic data could not be parsed, please check the input file.\n",
      "@> WARNING Atomic data could not be parsed, please check the input file.\n"
     ]
    },
    {
     "name": "stdout",
     "output_type": "stream",
     "text": [
      "problematic pdb file\n",
      "./datafiles/processed_pdb/2M20_B_6.pdb 6\n",
      "problematic pdb file\n",
      "./datafiles/processed_pdb/2M20_B_7.pdb 7\n",
      "problematic pdb file\n",
      "./datafiles/processed_pdb/2M20_B_8.pdb 8\n",
      "problematic pdb file\n",
      "./datafiles/processed_pdb/2M20_B_9.pdb 9\n",
      "problematic pdb file\n"
     ]
    },
    {
     "name": "stderr",
     "output_type": "stream",
     "text": [
      "@> WARNING Atomic data could not be parsed, please check the input file.\n",
      "@> WARNING Atomic data could not be parsed, please check the input file.\n",
      "@> WARNING Atomic data could not be parsed, please check the input file.\n",
      "@> WARNING Atomic data could not be parsed, please check the input file.\n",
      "@> WARNING Atomic data could not be parsed, please check the input file.\n",
      "@> WARNING Atomic data could not be parsed, please check the input file.\n",
      "@> WARNING Atomic data could not be parsed, please check the input file.\n",
      "@> WARNING Atomic data could not be parsed, please check the input file.\n",
      "@> WARNING Atomic data could not be parsed, please check the input file.\n",
      "@> WARNING Atomic data could not be parsed, please check the input file.\n"
     ]
    },
    {
     "name": "stdout",
     "output_type": "stream",
     "text": [
      "./datafiles/processed_pdb/2N5S_A_0.pdb 0\n",
      "problematic pdb file\n",
      "./datafiles/processed_pdb/2N5S_A_1.pdb 1\n",
      "problematic pdb file\n",
      "./datafiles/processed_pdb/2N5S_A_2.pdb 2\n",
      "problematic pdb file\n",
      "./datafiles/processed_pdb/2N5S_A_3.pdb 3\n",
      "problematic pdb file\n",
      "./datafiles/processed_pdb/2N5S_A_4.pdb 4\n",
      "problematic pdb file\n",
      "./datafiles/processed_pdb/2N5S_A_5.pdb 5\n",
      "problematic pdb file\n",
      "./datafiles/processed_pdb/2N5S_A_6.pdb 6\n",
      "problematic pdb file\n",
      "./datafiles/processed_pdb/2N5S_A_7.pdb 7\n",
      "problematic pdb file\n",
      "./datafiles/processed_pdb/2N5S_A_8.pdb 8\n",
      "problematic pdb file\n",
      "./datafiles/processed_pdb/2N5S_A_9.pdb 9\n",
      "problematic pdb file\n"
     ]
    },
    {
     "name": "stderr",
     "output_type": "stream",
     "text": [
      "@> 2068 atoms and 1 coordinate set(s) were parsed in 0.02s.\n"
     ]
    },
    {
     "name": "stdout",
     "output_type": "stream",
     "text": [
      "./datafiles/processed_pdb/2RF9_A.pdb A\n"
     ]
    },
    {
     "name": "stderr",
     "output_type": "stream",
     "text": [
      "@> 2010 atoms and 1 coordinate set(s) were parsed in 0.02s.\n"
     ]
    },
    {
     "name": "stdout",
     "output_type": "stream",
     "text": [
      "./datafiles/processed_pdb/2RF9_B.pdb B\n"
     ]
    },
    {
     "name": "stderr",
     "output_type": "stream",
     "text": [
      "@> 2260 atoms and 1 coordinate set(s) were parsed in 0.03s.\n"
     ]
    },
    {
     "name": "stdout",
     "output_type": "stream",
     "text": [
      "./datafiles/processed_pdb/2RFD_A.pdb A\n"
     ]
    },
    {
     "name": "stderr",
     "output_type": "stream",
     "text": [
      "@> 2242 atoms and 1 coordinate set(s) were parsed in 0.02s.\n"
     ]
    },
    {
     "name": "stdout",
     "output_type": "stream",
     "text": [
      "./datafiles/processed_pdb/2RFD_B.pdb B\n"
     ]
    },
    {
     "name": "stderr",
     "output_type": "stream",
     "text": [
      "@> 2210 atoms and 1 coordinate set(s) were parsed in 0.02s.\n"
     ]
    },
    {
     "name": "stdout",
     "output_type": "stream",
     "text": [
      "./datafiles/processed_pdb/2RFE_A.pdb A\n"
     ]
    },
    {
     "name": "stderr",
     "output_type": "stream",
     "text": [
      "@> 2116 atoms and 1 coordinate set(s) were parsed in 0.03s.\n"
     ]
    },
    {
     "name": "stdout",
     "output_type": "stream",
     "text": [
      "./datafiles/processed_pdb/2RFE_B.pdb B\n"
     ]
    },
    {
     "name": "stderr",
     "output_type": "stream",
     "text": [
      "@> 2028 atoms and 1 coordinate set(s) were parsed in 0.02s.\n"
     ]
    },
    {
     "name": "stdout",
     "output_type": "stream",
     "text": [
      "./datafiles/processed_pdb/2RFE_C.pdb C\n"
     ]
    },
    {
     "name": "stderr",
     "output_type": "stream",
     "text": [
      "@> 2130 atoms and 1 coordinate set(s) were parsed in 0.02s.\n"
     ]
    },
    {
     "name": "stdout",
     "output_type": "stream",
     "text": [
      "./datafiles/processed_pdb/2RFE_D.pdb D\n"
     ]
    },
    {
     "name": "stderr",
     "output_type": "stream",
     "text": [
      "@> 2289 atoms and 1 coordinate set(s) were parsed in 0.02s.\n"
     ]
    },
    {
     "name": "stdout",
     "output_type": "stream",
     "text": [
      "./datafiles/processed_pdb/2RGP_A.pdb A\n"
     ]
    },
    {
     "name": "stderr",
     "output_type": "stream",
     "text": [
      "C:\\Users\\wwang\\Desktop\\egfr_dist_analysis\\dist_analy-master\\dist_analy\\util\\pdb_info.py:206: UserWarning: No data found\n",
      "  warnings.warn(\"No data found\")\n"
     ]
    },
    {
     "name": "stdout",
     "output_type": "stream",
     "text": [
      "unable to find data with 3B2U entity #1, skipping\n"
     ]
    },
    {
     "name": "stderr",
     "output_type": "stream",
     "text": [
      "@> 1452 atoms and 1 coordinate set(s) were parsed in 0.02s.\n",
      "@> 1424 atoms and 1 coordinate set(s) were parsed in 0.01s.\n",
      "@> 1441 atoms and 1 coordinate set(s) were parsed in 0.01s.\n",
      "@> 1454 atoms and 1 coordinate set(s) were parsed in 0.01s.\n",
      "@> 1444 atoms and 1 coordinate set(s) were parsed in 0.01s.\n",
      "@> 1441 atoms and 1 coordinate set(s) were parsed in 0.01s.\n"
     ]
    },
    {
     "name": "stdout",
     "output_type": "stream",
     "text": [
      "./datafiles/processed_pdb/3B2U_A.pdb A\n",
      "./datafiles/processed_pdb/3B2U_B.pdb B\n",
      "./datafiles/processed_pdb/3B2U_E.pdb E\n",
      "./datafiles/processed_pdb/3B2U_I.pdb I\n",
      "./datafiles/processed_pdb/3B2U_M.pdb M\n",
      "./datafiles/processed_pdb/3B2U_P.pdb P\n"
     ]
    },
    {
     "name": "stderr",
     "output_type": "stream",
     "text": [
      "@> 1427 atoms and 1 coordinate set(s) were parsed in 0.01s.\n",
      "@> 1422 atoms and 1 coordinate set(s) were parsed in 0.01s.\n"
     ]
    },
    {
     "name": "stdout",
     "output_type": "stream",
     "text": [
      "./datafiles/processed_pdb/3B2U_S.pdb S\n",
      "./datafiles/processed_pdb/3B2U_V.pdb V\n"
     ]
    },
    {
     "name": "stderr",
     "output_type": "stream",
     "text": [
      "C:\\Users\\wwang\\Desktop\\egfr_dist_analysis\\dist_analy-master\\dist_analy\\util\\pdb_info.py:206: UserWarning: No data found\n",
      "  warnings.warn(\"No data found\")\n"
     ]
    },
    {
     "name": "stdout",
     "output_type": "stream",
     "text": [
      "unable to find data with 3B2V entity #1, skipping\n"
     ]
    },
    {
     "name": "stderr",
     "output_type": "stream",
     "text": [
      "@> 2559 atoms and 1 coordinate set(s) were parsed in 0.03s.\n"
     ]
    },
    {
     "name": "stdout",
     "output_type": "stream",
     "text": [
      "./datafiles/processed_pdb/3B2V_A.pdb A\n"
     ]
    },
    {
     "name": "stderr",
     "output_type": "stream",
     "text": [
      "@> 2249 atoms and 1 coordinate set(s) were parsed in 0.02s.\n"
     ]
    },
    {
     "name": "stdout",
     "output_type": "stream",
     "text": [
      "./datafiles/processed_pdb/3BEL_A.pdb A\n"
     ]
    },
    {
     "name": "stderr",
     "output_type": "stream",
     "text": [
      "@> 95 atoms and 1 coordinate set(s) were parsed in 0.00s.\n",
      "@> 95 atoms and 1 coordinate set(s) were parsed in 0.00s.\n"
     ]
    },
    {
     "name": "stdout",
     "output_type": "stream",
     "text": [
      "./datafiles/processed_pdb/3BUO_A.pdb A\n",
      "./datafiles/processed_pdb/3BUO_C.pdb C\n"
     ]
    },
    {
     "name": "stderr",
     "output_type": "stream",
     "text": [
      "C:\\Users\\wwang\\Desktop\\egfr_dist_analysis\\dist_analy-master\\dist_analy\\util\\pdb_info.py:206: UserWarning: No data found\n",
      "  warnings.warn(\"No data found\")\n"
     ]
    },
    {
     "name": "stdout",
     "output_type": "stream",
     "text": [
      "unable to find data with 3C09 entity #1, skipping\n",
      "unable to find data with 3C09 entity #2, skipping\n"
     ]
    },
    {
     "name": "stderr",
     "output_type": "stream",
     "text": [
      "@> 1371 atoms and 1 coordinate set(s) were parsed in 0.01s.\n",
      "@> 1296 atoms and 1 coordinate set(s) were parsed in 0.01s.\n"
     ]
    },
    {
     "name": "stdout",
     "output_type": "stream",
     "text": [
      "./datafiles/processed_pdb/3C09_A.pdb A\n",
      "./datafiles/processed_pdb/3C09_D.pdb D\n"
     ]
    },
    {
     "name": "stderr",
     "output_type": "stream",
     "text": [
      "C:\\Users\\wwang\\Desktop\\egfr_dist_analysis\\dist_analy-master\\dist_analy\\util\\pdb_info.py:206: UserWarning: No data found\n",
      "  warnings.warn(\"No data found\")\n"
     ]
    },
    {
     "name": "stdout",
     "output_type": "stream",
     "text": [
      "unable to find data with 3G5V entity #1, skipping\n",
      "unable to find data with 3G5V entity #2, skipping\n"
     ]
    },
    {
     "name": "stderr",
     "output_type": "stream",
     "text": [
      "@> 122 atoms and 1 coordinate set(s) were parsed in 0.00s.\n"
     ]
    },
    {
     "name": "stdout",
     "output_type": "stream",
     "text": [
      "./datafiles/processed_pdb/3G5V_C.pdb C\n",
      "unable to find data with 3G5Y entity #1, skipping\n",
      "unable to find data with 3G5Y entity #2, skipping\n"
     ]
    },
    {
     "name": "stderr",
     "output_type": "stream",
     "text": [
      "C:\\Users\\wwang\\Desktop\\egfr_dist_analysis\\dist_analy-master\\dist_analy\\util\\pdb_info.py:206: UserWarning: No data found\n",
      "  warnings.warn(\"No data found\")\n",
      "@> 122 atoms and 1 coordinate set(s) were parsed in 0.00s.\n"
     ]
    },
    {
     "name": "stdout",
     "output_type": "stream",
     "text": [
      "./datafiles/processed_pdb/3G5Y_E.pdb E\n"
     ]
    },
    {
     "name": "stderr",
     "output_type": "stream",
     "text": [
      "@> 2380 atoms and 1 coordinate set(s) were parsed in 0.03s.\n"
     ]
    },
    {
     "name": "stdout",
     "output_type": "stream",
     "text": [
      "./datafiles/processed_pdb/3GOP_A.pdb A\n"
     ]
    },
    {
     "name": "stderr",
     "output_type": "stream",
     "text": [
      "C:\\Users\\wwang\\Desktop\\egfr_dist_analysis\\dist_analy-master\\dist_analy\\util\\pdb_info.py:206: UserWarning: No data found\n",
      "  warnings.warn(\"No data found\")\n"
     ]
    },
    {
     "name": "stdout",
     "output_type": "stream",
     "text": [
      "unable to find data with 3GT8 entity #2, skipping\n"
     ]
    },
    {
     "name": "stderr",
     "output_type": "stream",
     "text": [
      "@> 2356 atoms and 1 coordinate set(s) were parsed in 0.02s.\n"
     ]
    },
    {
     "name": "stdout",
     "output_type": "stream",
     "text": [
      "./datafiles/processed_pdb/3GT8_B.pdb B\n"
     ]
    },
    {
     "name": "stderr",
     "output_type": "stream",
     "text": [
      "@> 2415 atoms and 1 coordinate set(s) were parsed in 0.02s.\n"
     ]
    },
    {
     "name": "stdout",
     "output_type": "stream",
     "text": [
      "./datafiles/processed_pdb/3GT8_A.pdb A\n"
     ]
    },
    {
     "name": "stderr",
     "output_type": "stream",
     "text": [
      "@> 2386 atoms and 1 coordinate set(s) were parsed in 0.02s.\n",
      "@> 2379 atoms and 1 coordinate set(s) were parsed in 0.02s.\n"
     ]
    },
    {
     "name": "stdout",
     "output_type": "stream",
     "text": [
      "./datafiles/processed_pdb/3GT8_C.pdb C\n",
      "./datafiles/processed_pdb/3GT8_D.pdb D\n"
     ]
    },
    {
     "name": "stderr",
     "output_type": "stream",
     "text": [
      "@> 2440 atoms and 1 coordinate set(s) were parsed in 0.02s.\n"
     ]
    },
    {
     "name": "stdout",
     "output_type": "stream",
     "text": [
      "./datafiles/processed_pdb/3IKA_A.pdb A\n"
     ]
    },
    {
     "name": "stderr",
     "output_type": "stream",
     "text": [
      "@> 2473 atoms and 1 coordinate set(s) were parsed in 0.02s.\n"
     ]
    },
    {
     "name": "stdout",
     "output_type": "stream",
     "text": [
      "./datafiles/processed_pdb/3IKA_B.pdb B\n"
     ]
    },
    {
     "name": "stderr",
     "output_type": "stream",
     "text": [
      "@> 2120 atoms and 1 coordinate set(s) were parsed in 0.02s.\n"
     ]
    },
    {
     "name": "stdout",
     "output_type": "stream",
     "text": [
      "./datafiles/processed_pdb/3LZB_A.pdb A\n"
     ]
    },
    {
     "name": "stderr",
     "output_type": "stream",
     "text": [
      "@> 2116 atoms and 1 coordinate set(s) were parsed in 0.02s.\n"
     ]
    },
    {
     "name": "stdout",
     "output_type": "stream",
     "text": [
      "./datafiles/processed_pdb/3LZB_B.pdb B\n"
     ]
    },
    {
     "name": "stderr",
     "output_type": "stream",
     "text": [
      "@> 2078 atoms and 1 coordinate set(s) were parsed in 0.02s.\n"
     ]
    },
    {
     "name": "stdout",
     "output_type": "stream",
     "text": [
      "./datafiles/processed_pdb/3LZB_C.pdb C\n"
     ]
    },
    {
     "name": "stderr",
     "output_type": "stream",
     "text": [
      "@> 2087 atoms and 1 coordinate set(s) were parsed in 0.02s.\n"
     ]
    },
    {
     "name": "stdout",
     "output_type": "stream",
     "text": [
      "./datafiles/processed_pdb/3LZB_D.pdb D\n"
     ]
    },
    {
     "name": "stderr",
     "output_type": "stream",
     "text": [
      "@> WARNING Atomic data could not be parsed, please check the input file.\n",
      "@> WARNING Atomic data could not be parsed, please check the input file.\n",
      "@> WARNING Atomic data could not be parsed, please check the input file.\n",
      "@> WARNING Atomic data could not be parsed, please check the input file.\n"
     ]
    },
    {
     "name": "stdout",
     "output_type": "stream",
     "text": [
      "./datafiles/processed_pdb/3LZB_E.pdb E\n",
      "problematic pdb file\n",
      "./datafiles/processed_pdb/3LZB_F.pdb F\n",
      "problematic pdb file\n",
      "./datafiles/processed_pdb/3LZB_G.pdb G\n",
      "problematic pdb file\n",
      "./datafiles/processed_pdb/3LZB_H.pdb H\n",
      "problematic pdb file\n"
     ]
    },
    {
     "name": "stderr",
     "output_type": "stream",
     "text": [
      "@> 4717 atoms and 1 coordinate set(s) were parsed in 0.04s.\n",
      "@> 4725 atoms and 1 coordinate set(s) were parsed in 0.06s.\n"
     ]
    },
    {
     "name": "stdout",
     "output_type": "stream",
     "text": [
      "./datafiles/processed_pdb/3NJP_A.pdb A\n",
      "./datafiles/processed_pdb/3NJP_B.pdb B\n"
     ]
    },
    {
     "name": "stderr",
     "output_type": "stream",
     "text": [
      "@> 100 atoms and 1 coordinate set(s) were parsed in 0.00s.\n"
     ]
    },
    {
     "name": "stdout",
     "output_type": "stream",
     "text": [
      "./datafiles/processed_pdb/3OB2_A.pdb A\n"
     ]
    },
    {
     "name": "stderr",
     "output_type": "stream",
     "text": [
      "@> 82 atoms and 1 coordinate set(s) were parsed in 0.00s.\n",
      "@> 82 atoms and 1 coordinate set(s) were parsed in 0.00s.\n"
     ]
    },
    {
     "name": "stdout",
     "output_type": "stream",
     "text": [
      "./datafiles/processed_pdb/3OP0_C.pdb C\n",
      "./datafiles/processed_pdb/3OP0_D.pdb D\n"
     ]
    },
    {
     "name": "stderr",
     "output_type": "stream",
     "text": [
      "C:\\Users\\wwang\\Desktop\\egfr_dist_analysis\\dist_analy-master\\dist_analy\\util\\pdb_info.py:206: UserWarning: No data found\n",
      "  warnings.warn(\"No data found\")\n"
     ]
    },
    {
     "name": "stdout",
     "output_type": "stream",
     "text": [
      "unable to find data with 3P0Y entity #2, skipping\n",
      "unable to find data with 3P0Y entity #3, skipping\n"
     ]
    },
    {
     "name": "stderr",
     "output_type": "stream",
     "text": [
      "@> 1496 atoms and 1 coordinate set(s) were parsed in 0.01s.\n"
     ]
    },
    {
     "name": "stdout",
     "output_type": "stream",
     "text": [
      "./datafiles/processed_pdb/3P0Y_A.pdb A\n"
     ]
    },
    {
     "name": "stderr",
     "output_type": "stream",
     "text": [
      "@> 75 atoms and 1 coordinate set(s) were parsed in 0.00s.\n",
      "@> 80 atoms and 1 coordinate set(s) were parsed in 0.00s.\n"
     ]
    },
    {
     "name": "stdout",
     "output_type": "stream",
     "text": [
      "./datafiles/processed_pdb/3PFV_C.pdb C\n",
      "./datafiles/processed_pdb/3PFV_D.pdb D\n"
     ]
    },
    {
     "name": "stderr",
     "output_type": "stream",
     "text": [
      "@> 2357 atoms and 1 coordinate set(s) were parsed in 0.02s.\n"
     ]
    },
    {
     "name": "stdout",
     "output_type": "stream",
     "text": [
      "./datafiles/processed_pdb/3POZ_A.pdb A\n"
     ]
    },
    {
     "name": "stderr",
     "output_type": "stream",
     "text": [
      "C:\\Users\\wwang\\Desktop\\egfr_dist_analysis\\dist_analy-master\\dist_analy\\util\\pdb_info.py:206: UserWarning: No data found\n",
      "  warnings.warn(\"No data found\")\n"
     ]
    },
    {
     "name": "stdout",
     "output_type": "stream",
     "text": [
      "unable to find data with 3QWQ entity #2, skipping\n"
     ]
    },
    {
     "name": "stderr",
     "output_type": "stream",
     "text": [
      "@> 4612 atoms and 1 coordinate set(s) were parsed in 0.06s.\n"
     ]
    },
    {
     "name": "stdout",
     "output_type": "stream",
     "text": [
      "./datafiles/processed_pdb/3QWQ_A.pdb A\n"
     ]
    },
    {
     "name": "stderr",
     "output_type": "stream",
     "text": [
      "@> 2301 atoms and 1 coordinate set(s) were parsed in 0.02s.\n"
     ]
    },
    {
     "name": "stdout",
     "output_type": "stream",
     "text": [
      "./datafiles/processed_pdb/3UG1_A.pdb A\n"
     ]
    },
    {
     "name": "stderr",
     "output_type": "stream",
     "text": [
      "@> 2338 atoms and 1 coordinate set(s) were parsed in 0.02s.\n"
     ]
    },
    {
     "name": "stdout",
     "output_type": "stream",
     "text": [
      "./datafiles/processed_pdb/3UG2_A.pdb A\n"
     ]
    },
    {
     "name": "stderr",
     "output_type": "stream",
     "text": [
      "@> 2378 atoms and 1 coordinate set(s) were parsed in 0.03s.\n"
     ]
    },
    {
     "name": "stdout",
     "output_type": "stream",
     "text": [
      "./datafiles/processed_pdb/3VJN_A.pdb A\n"
     ]
    },
    {
     "name": "stderr",
     "output_type": "stream",
     "text": [
      "@> 2382 atoms and 1 coordinate set(s) were parsed in 0.02s.\n"
     ]
    },
    {
     "name": "stdout",
     "output_type": "stream",
     "text": [
      "./datafiles/processed_pdb/3VJO_A.pdb A\n"
     ]
    },
    {
     "name": "stderr",
     "output_type": "stream",
     "text": [
      "@> 70 atoms and 1 coordinate set(s) were parsed in 0.00s.\n"
     ]
    },
    {
     "name": "stdout",
     "output_type": "stream",
     "text": [
      "./datafiles/processed_pdb/3VRP_B.pdb B\n"
     ]
    },
    {
     "name": "stderr",
     "output_type": "stream",
     "text": [
      "@> 70 atoms and 1 coordinate set(s) were parsed in 0.00s.\n"
     ]
    },
    {
     "name": "stdout",
     "output_type": "stream",
     "text": [
      "./datafiles/processed_pdb/3VRR_C.pdb C\n"
     ]
    },
    {
     "name": "stderr",
     "output_type": "stream",
     "text": [
      "@> 2448 atoms and 1 coordinate set(s) were parsed in 0.02s.\n"
     ]
    },
    {
     "name": "stdout",
     "output_type": "stream",
     "text": [
      "./datafiles/processed_pdb/3W2O_A.pdb A\n"
     ]
    },
    {
     "name": "stderr",
     "output_type": "stream",
     "text": [
      "@> 2470 atoms and 1 coordinate set(s) were parsed in 0.02s.\n"
     ]
    },
    {
     "name": "stdout",
     "output_type": "stream",
     "text": [
      "./datafiles/processed_pdb/3W2P_A.pdb A\n"
     ]
    },
    {
     "name": "stderr",
     "output_type": "stream",
     "text": [
      "@> 2461 atoms and 1 coordinate set(s) were parsed in 0.02s.\n"
     ]
    },
    {
     "name": "stdout",
     "output_type": "stream",
     "text": [
      "./datafiles/processed_pdb/3W2Q_A.pdb A\n"
     ]
    },
    {
     "name": "stderr",
     "output_type": "stream",
     "text": [
      "@> 2391 atoms and 1 coordinate set(s) were parsed in 0.04s.\n"
     ]
    },
    {
     "name": "stdout",
     "output_type": "stream",
     "text": [
      "./datafiles/processed_pdb/3W2R_A.pdb A\n"
     ]
    },
    {
     "name": "stderr",
     "output_type": "stream",
     "text": [
      "@> 2471 atoms and 1 coordinate set(s) were parsed in 0.02s.\n"
     ]
    },
    {
     "name": "stdout",
     "output_type": "stream",
     "text": [
      "./datafiles/processed_pdb/3W2S_A.pdb A\n"
     ]
    },
    {
     "name": "stderr",
     "output_type": "stream",
     "text": [
      "@> 2545 atoms and 1 coordinate set(s) were parsed in 0.03s.\n"
     ]
    },
    {
     "name": "stdout",
     "output_type": "stream",
     "text": [
      "./datafiles/processed_pdb/3W32_A.pdb A\n"
     ]
    },
    {
     "name": "stderr",
     "output_type": "stream",
     "text": [
      "@> 2396 atoms and 1 coordinate set(s) were parsed in 0.03s.\n"
     ]
    },
    {
     "name": "stdout",
     "output_type": "stream",
     "text": [
      "./datafiles/processed_pdb/3W33_A.pdb A\n"
     ]
    },
    {
     "name": "stderr",
     "output_type": "stream",
     "text": [
      "@> 2471 atoms and 1 coordinate set(s) were parsed in 0.03s.\n"
     ]
    },
    {
     "name": "stdout",
     "output_type": "stream",
     "text": [
      "./datafiles/processed_pdb/4G5J_A.pdb A\n"
     ]
    },
    {
     "name": "stderr",
     "output_type": "stream",
     "text": [
      "@> 2391 atoms and 1 coordinate set(s) were parsed in 0.02s.\n"
     ]
    },
    {
     "name": "stdout",
     "output_type": "stream",
     "text": [
      "./datafiles/processed_pdb/4G5P_A.pdb A\n"
     ]
    },
    {
     "name": "stderr",
     "output_type": "stream",
     "text": [
      "@> 2439 atoms and 1 coordinate set(s) were parsed in 0.03s.\n"
     ]
    },
    {
     "name": "stdout",
     "output_type": "stream",
     "text": [
      "./datafiles/processed_pdb/4G5P_B.pdb B\n"
     ]
    },
    {
     "name": "stderr",
     "output_type": "stream",
     "text": [
      "@> 2201 atoms and 1 coordinate set(s) were parsed in 0.02s.\n"
     ]
    },
    {
     "name": "stdout",
     "output_type": "stream",
     "text": [
      "./datafiles/processed_pdb/4HJO_A.pdb A\n"
     ]
    },
    {
     "name": "stderr",
     "output_type": "stream",
     "text": [
      "@> 2309 atoms and 1 coordinate set(s) were parsed in 0.03s.\n"
     ]
    },
    {
     "name": "stdout",
     "output_type": "stream",
     "text": [
      "./datafiles/processed_pdb/4I1Z_A.pdb A\n"
     ]
    },
    {
     "name": "stderr",
     "output_type": "stream",
     "text": [
      "@> 2308 atoms and 1 coordinate set(s) were parsed in 0.03s.\n"
     ]
    },
    {
     "name": "stdout",
     "output_type": "stream",
     "text": [
      "./datafiles/processed_pdb/4I20_A.pdb A\n"
     ]
    },
    {
     "name": "stderr",
     "output_type": "stream",
     "text": [
      "@> 2335 atoms and 1 coordinate set(s) were parsed in 0.04s.\n"
     ]
    },
    {
     "name": "stdout",
     "output_type": "stream",
     "text": [
      "./datafiles/processed_pdb/4I21_A.pdb A\n"
     ]
    },
    {
     "name": "stderr",
     "output_type": "stream",
     "text": [
      "@> 2424 atoms and 1 coordinate set(s) were parsed in 0.02s.\n"
     ]
    },
    {
     "name": "stdout",
     "output_type": "stream",
     "text": [
      "./datafiles/processed_pdb/4I21_B.pdb B\n"
     ]
    },
    {
     "name": "stderr",
     "output_type": "stream",
     "text": [
      "@> 2400 atoms and 1 coordinate set(s) were parsed in 0.02s.\n"
     ]
    },
    {
     "name": "stdout",
     "output_type": "stream",
     "text": [
      "./datafiles/processed_pdb/4I22_A.pdb A\n"
     ]
    },
    {
     "name": "stderr",
     "output_type": "stream",
     "text": [
      "@> 2429 atoms and 1 coordinate set(s) were parsed in 0.02s.\n"
     ]
    },
    {
     "name": "stdout",
     "output_type": "stream",
     "text": [
      "./datafiles/processed_pdb/4I23_A.pdb A\n"
     ]
    },
    {
     "name": "stderr",
     "output_type": "stream",
     "text": [
      "@> 2373 atoms and 1 coordinate set(s) were parsed in 0.02s.\n"
     ]
    },
    {
     "name": "stdout",
     "output_type": "stream",
     "text": [
      "./datafiles/processed_pdb/4I24_A.pdb A\n"
     ]
    },
    {
     "name": "stderr",
     "output_type": "stream",
     "text": [
      "@> 2440 atoms and 1 coordinate set(s) were parsed in 0.02s.\n"
     ]
    },
    {
     "name": "stdout",
     "output_type": "stream",
     "text": [
      "./datafiles/processed_pdb/4I24_B.pdb B\n"
     ]
    },
    {
     "name": "stderr",
     "output_type": "stream",
     "text": [
      "@> 2409 atoms and 1 coordinate set(s) were parsed in 0.04s.\n"
     ]
    },
    {
     "name": "stdout",
     "output_type": "stream",
     "text": [
      "./datafiles/processed_pdb/4JQ7_A.pdb A\n"
     ]
    },
    {
     "name": "stderr",
     "output_type": "stream",
     "text": [
      "@> 2409 atoms and 1 coordinate set(s) were parsed in 0.05s.\n"
     ]
    },
    {
     "name": "stdout",
     "output_type": "stream",
     "text": [
      "./datafiles/processed_pdb/4JQ8_A.pdb A\n"
     ]
    },
    {
     "name": "stderr",
     "output_type": "stream",
     "text": [
      "@> 2417 atoms and 1 coordinate set(s) were parsed in 0.03s.\n"
     ]
    },
    {
     "name": "stdout",
     "output_type": "stream",
     "text": [
      "./datafiles/processed_pdb/4JR3_A.pdb A\n"
     ]
    },
    {
     "name": "stderr",
     "output_type": "stream",
     "text": [
      "@> 2392 atoms and 1 coordinate set(s) were parsed in 0.05s.\n"
     ]
    },
    {
     "name": "stdout",
     "output_type": "stream",
     "text": [
      "./datafiles/processed_pdb/4JRV_A.pdb A\n"
     ]
    },
    {
     "name": "stderr",
     "output_type": "stream",
     "text": [
      "C:\\Users\\wwang\\Desktop\\egfr_dist_analysis\\dist_analy-master\\dist_analy\\util\\pdb_info.py:206: UserWarning: No data found\n",
      "  warnings.warn(\"No data found\")\n"
     ]
    },
    {
     "name": "stdout",
     "output_type": "stream",
     "text": [
      "unable to find data with 4KRL entity #1, skipping\n"
     ]
    },
    {
     "name": "stderr",
     "output_type": "stream",
     "text": [
      "@> 1513 atoms and 1 coordinate set(s) were parsed in 0.03s.\n"
     ]
    },
    {
     "name": "stdout",
     "output_type": "stream",
     "text": [
      "./datafiles/processed_pdb/4KRL_A.pdb A\n"
     ]
    },
    {
     "name": "stderr",
     "output_type": "stream",
     "text": [
      "C:\\Users\\wwang\\Desktop\\egfr_dist_analysis\\dist_analy-master\\dist_analy\\util\\pdb_info.py:206: UserWarning: No data found\n",
      "  warnings.warn(\"No data found\")\n"
     ]
    },
    {
     "name": "stdout",
     "output_type": "stream",
     "text": [
      "unable to find data with 4KRM entity #2, skipping\n"
     ]
    },
    {
     "name": "stderr",
     "output_type": "stream",
     "text": [
      "@> 2885 atoms and 1 coordinate set(s) were parsed in 0.04s.\n",
      "@> 2906 atoms and 1 coordinate set(s) were parsed in 0.05s.\n"
     ]
    },
    {
     "name": "stdout",
     "output_type": "stream",
     "text": [
      "./datafiles/processed_pdb/4KRM_A.pdb A\n",
      "./datafiles/processed_pdb/4KRM_C.pdb C\n",
      "./datafiles/processed_pdb/4KRM_E.pdb E\n"
     ]
    },
    {
     "name": "stderr",
     "output_type": "stream",
     "text": [
      "@> 2885 atoms and 1 coordinate set(s) were parsed in 0.05s.\n",
      "@> 2912 atoms and 1 coordinate set(s) were parsed in 0.04s.\n",
      "@> 2851 atoms and 1 coordinate set(s) were parsed in 0.04s.\n"
     ]
    },
    {
     "name": "stdout",
     "output_type": "stream",
     "text": [
      "./datafiles/processed_pdb/4KRM_G.pdb G\n",
      "./datafiles/processed_pdb/4KRM_I.pdb I\n",
      "./datafiles/processed_pdb/4KRM_K.pdb K\n"
     ]
    },
    {
     "name": "stderr",
     "output_type": "stream",
     "text": [
      "@> 2847 atoms and 1 coordinate set(s) were parsed in 0.04s.\n",
      "C:\\Users\\wwang\\Desktop\\egfr_dist_analysis\\dist_analy-master\\dist_analy\\util\\pdb_info.py:206: UserWarning: No data found\n",
      "  warnings.warn(\"No data found\")\n"
     ]
    },
    {
     "name": "stdout",
     "output_type": "stream",
     "text": [
      "unable to find data with 4KRO entity #2, skipping\n",
      "unable to find data with 4KRO entity #3, skipping\n",
      "unable to find data with 4KRO entity #4, skipping\n"
     ]
    },
    {
     "name": "stderr",
     "output_type": "stream",
     "text": [
      "@> 7064 atoms and 1 coordinate set(s) were parsed in 0.11s.\n"
     ]
    },
    {
     "name": "stdout",
     "output_type": "stream",
     "text": [
      "./datafiles/processed_pdb/4KRO_A.pdb A\n"
     ]
    },
    {
     "name": "stderr",
     "output_type": "stream",
     "text": [
      "C:\\Users\\wwang\\Desktop\\egfr_dist_analysis\\dist_analy-master\\dist_analy\\util\\pdb_info.py:206: UserWarning: No data found\n",
      "  warnings.warn(\"No data found\")\n"
     ]
    },
    {
     "name": "stdout",
     "output_type": "stream",
     "text": [
      "unable to find data with 4KRP entity #2, skipping\n",
      "unable to find data with 4KRP entity #3, skipping\n",
      "unable to find data with 4KRP entity #4, skipping\n"
     ]
    },
    {
     "name": "stderr",
     "output_type": "stream",
     "text": [
      "@> 7001 atoms and 1 coordinate set(s) were parsed in 0.13s.\n"
     ]
    },
    {
     "name": "stdout",
     "output_type": "stream",
     "text": [
      "./datafiles/processed_pdb/4KRP_A.pdb A\n"
     ]
    },
    {
     "name": "stderr",
     "output_type": "stream",
     "text": [
      "@> 2437 atoms and 1 coordinate set(s) were parsed in 0.04s.\n"
     ]
    },
    {
     "name": "stdout",
     "output_type": "stream",
     "text": [
      "./datafiles/processed_pdb/4LI5_A.pdb A\n"
     ]
    },
    {
     "name": "stderr",
     "output_type": "stream",
     "text": [
      "@> 2287 atoms and 1 coordinate set(s) were parsed in 0.04s.\n"
     ]
    },
    {
     "name": "stdout",
     "output_type": "stream",
     "text": [
      "./datafiles/processed_pdb/4LL0_A.pdb A\n"
     ]
    },
    {
     "name": "stderr",
     "output_type": "stream",
     "text": [
      "@> 2219 atoms and 1 coordinate set(s) were parsed in 0.02s.\n"
     ]
    },
    {
     "name": "stdout",
     "output_type": "stream",
     "text": [
      "./datafiles/processed_pdb/4LL0_B.pdb B\n"
     ]
    },
    {
     "name": "stderr",
     "output_type": "stream",
     "text": [
      "@> 2425 atoms and 1 coordinate set(s) were parsed in 0.04s.\n"
     ]
    },
    {
     "name": "stdout",
     "output_type": "stream",
     "text": [
      "./datafiles/processed_pdb/4LQM_A.pdb A\n"
     ]
    },
    {
     "name": "stderr",
     "output_type": "stream",
     "text": [
      "@> 2391 atoms and 1 coordinate set(s) were parsed in 0.03s.\n"
     ]
    },
    {
     "name": "stdout",
     "output_type": "stream",
     "text": [
      "./datafiles/processed_pdb/4LRM_A.pdb A\n"
     ]
    },
    {
     "name": "stderr",
     "output_type": "stream",
     "text": [
      "@> 2313 atoms and 1 coordinate set(s) were parsed in 0.03s.\n"
     ]
    },
    {
     "name": "stdout",
     "output_type": "stream",
     "text": [
      "./datafiles/processed_pdb/4LRM_B.pdb B\n"
     ]
    },
    {
     "name": "stderr",
     "output_type": "stream",
     "text": [
      "@> 2293 atoms and 1 coordinate set(s) were parsed in 0.03s.\n"
     ]
    },
    {
     "name": "stdout",
     "output_type": "stream",
     "text": [
      "./datafiles/processed_pdb/4LRM_C.pdb C\n"
     ]
    },
    {
     "name": "stderr",
     "output_type": "stream",
     "text": [
      "@> 2279 atoms and 1 coordinate set(s) were parsed in 0.03s.\n"
     ]
    },
    {
     "name": "stdout",
     "output_type": "stream",
     "text": [
      "./datafiles/processed_pdb/4LRM_D.pdb D\n"
     ]
    },
    {
     "name": "stderr",
     "output_type": "stream",
     "text": [
      "@> 2289 atoms and 1 coordinate set(s) were parsed in 0.04s.\n"
     ]
    },
    {
     "name": "stdout",
     "output_type": "stream",
     "text": [
      "./datafiles/processed_pdb/4LRM_E.pdb E\n"
     ]
    },
    {
     "name": "stderr",
     "output_type": "stream",
     "text": [
      "@> 2437 atoms and 1 coordinate set(s) were parsed in 0.03s.\n"
     ]
    },
    {
     "name": "stdout",
     "output_type": "stream",
     "text": [
      "./datafiles/processed_pdb/4R3P_A.pdb A\n"
     ]
    },
    {
     "name": "stderr",
     "output_type": "stream",
     "text": [
      "@> 2440 atoms and 1 coordinate set(s) were parsed in 0.02s.\n"
     ]
    },
    {
     "name": "stdout",
     "output_type": "stream",
     "text": [
      "./datafiles/processed_pdb/4R3R_A.pdb A\n"
     ]
    },
    {
     "name": "stderr",
     "output_type": "stream",
     "text": [
      "@> 2367 atoms and 1 coordinate set(s) were parsed in 0.02s.\n"
     ]
    },
    {
     "name": "stdout",
     "output_type": "stream",
     "text": [
      "./datafiles/processed_pdb/4R5S_A.pdb A\n"
     ]
    },
    {
     "name": "stderr",
     "output_type": "stream",
     "text": [
      "@> 2343 atoms and 1 coordinate set(s) were parsed in 0.03s.\n"
     ]
    },
    {
     "name": "stdout",
     "output_type": "stream",
     "text": [
      "./datafiles/processed_pdb/4RIW_B.pdb B\n"
     ]
    },
    {
     "name": "stderr",
     "output_type": "stream",
     "text": [
      "@> 2369 atoms and 1 coordinate set(s) were parsed in 0.02s.\n"
     ]
    },
    {
     "name": "stdout",
     "output_type": "stream",
     "text": [
      "./datafiles/processed_pdb/4RIW_D.pdb D\n"
     ]
    },
    {
     "name": "stderr",
     "output_type": "stream",
     "text": [
      "@> 2343 atoms and 1 coordinate set(s) were parsed in 0.03s.\n"
     ]
    },
    {
     "name": "stdout",
     "output_type": "stream",
     "text": [
      "./datafiles/processed_pdb/4RIX_B.pdb B\n"
     ]
    },
    {
     "name": "stderr",
     "output_type": "stream",
     "text": [
      "@> 2369 atoms and 1 coordinate set(s) were parsed in 0.02s.\n"
     ]
    },
    {
     "name": "stdout",
     "output_type": "stream",
     "text": [
      "./datafiles/processed_pdb/4RIX_D.pdb D\n"
     ]
    },
    {
     "name": "stderr",
     "output_type": "stream",
     "text": [
      "@> 2343 atoms and 1 coordinate set(s) were parsed in 0.02s.\n"
     ]
    },
    {
     "name": "stdout",
     "output_type": "stream",
     "text": [
      "./datafiles/processed_pdb/4RIY_B.pdb B\n"
     ]
    },
    {
     "name": "stderr",
     "output_type": "stream",
     "text": [
      "@> 2369 atoms and 1 coordinate set(s) were parsed in 0.03s.\n"
     ]
    },
    {
     "name": "stdout",
     "output_type": "stream",
     "text": [
      "./datafiles/processed_pdb/4RIY_D.pdb D\n"
     ]
    },
    {
     "name": "stderr",
     "output_type": "stream",
     "text": [
      "@> 2403 atoms and 1 coordinate set(s) were parsed in 0.02s.\n"
     ]
    },
    {
     "name": "stdout",
     "output_type": "stream",
     "text": [
      "./datafiles/processed_pdb/4RJ4_A.pdb A\n"
     ]
    },
    {
     "name": "stderr",
     "output_type": "stream",
     "text": [
      "@> 2379 atoms and 1 coordinate set(s) were parsed in 0.04s.\n"
     ]
    },
    {
     "name": "stdout",
     "output_type": "stream",
     "text": [
      "./datafiles/processed_pdb/4RJ5_A.pdb A\n"
     ]
    },
    {
     "name": "stderr",
     "output_type": "stream",
     "text": [
      "@> 2389 atoms and 1 coordinate set(s) were parsed in 0.02s.\n"
     ]
    },
    {
     "name": "stdout",
     "output_type": "stream",
     "text": [
      "./datafiles/processed_pdb/4RJ6_A.pdb A\n"
     ]
    },
    {
     "name": "stderr",
     "output_type": "stream",
     "text": [
      "@> 2370 atoms and 1 coordinate set(s) were parsed in 0.02s.\n"
     ]
    },
    {
     "name": "stdout",
     "output_type": "stream",
     "text": [
      "./datafiles/processed_pdb/4RJ7_A.pdb A\n"
     ]
    },
    {
     "name": "stderr",
     "output_type": "stream",
     "text": [
      "@> 2399 atoms and 1 coordinate set(s) were parsed in 0.02s.\n"
     ]
    },
    {
     "name": "stdout",
     "output_type": "stream",
     "text": [
      "./datafiles/processed_pdb/4RJ8_A.pdb A\n"
     ]
    },
    {
     "name": "stderr",
     "output_type": "stream",
     "text": [
      "@> 2459 atoms and 1 coordinate set(s) were parsed in 0.03s.\n"
     ]
    },
    {
     "name": "stdout",
     "output_type": "stream",
     "text": [
      "./datafiles/processed_pdb/4TKS_A.pdb A\n"
     ]
    },
    {
     "name": "stderr",
     "output_type": "stream",
     "text": [
      "@> 4708 atoms and 1 coordinate set(s) were parsed in 0.04s.\n"
     ]
    },
    {
     "name": "stdout",
     "output_type": "stream",
     "text": [
      "./datafiles/processed_pdb/4UIP_A.pdb A\n"
     ]
    },
    {
     "name": "stderr",
     "output_type": "stream",
     "text": [
      "C:\\Users\\wwang\\Desktop\\egfr_dist_analysis\\dist_analy-master\\dist_analy\\util\\pdb_info.py:206: UserWarning: No data found\n",
      "  warnings.warn(\"No data found\")\n"
     ]
    },
    {
     "name": "stdout",
     "output_type": "stream",
     "text": [
      "unable to find data with 4UV7 entity #2, skipping\n",
      "unable to find data with 4UV7 entity #3, skipping\n"
     ]
    },
    {
     "name": "stderr",
     "output_type": "stream",
     "text": [
      "@> 4583 atoms and 1 coordinate set(s) were parsed in 0.04s.\n"
     ]
    },
    {
     "name": "stdout",
     "output_type": "stream",
     "text": [
      "./datafiles/processed_pdb/4UV7_A.pdb A\n"
     ]
    },
    {
     "name": "stderr",
     "output_type": "stream",
     "text": [
      "@> 2384 atoms and 1 coordinate set(s) were parsed in 0.02s.\n"
     ]
    },
    {
     "name": "stdout",
     "output_type": "stream",
     "text": [
      "./datafiles/processed_pdb/4WD5_A.pdb A\n"
     ]
    },
    {
     "name": "stderr",
     "output_type": "stream",
     "text": [
      "@> 2368 atoms and 1 coordinate set(s) were parsed in 0.02s.\n"
     ]
    },
    {
     "name": "stdout",
     "output_type": "stream",
     "text": [
      "./datafiles/processed_pdb/4WD5_B.pdb B\n"
     ]
    },
    {
     "name": "stderr",
     "output_type": "stream",
     "text": [
      "@> 2317 atoms and 1 coordinate set(s) were parsed in 0.04s.\n"
     ]
    },
    {
     "name": "stdout",
     "output_type": "stream",
     "text": [
      "./datafiles/processed_pdb/4WKQ_A.pdb A\n"
     ]
    },
    {
     "name": "stderr",
     "output_type": "stream",
     "text": [
      "@> 2297 atoms and 1 coordinate set(s) were parsed in 0.02s.\n"
     ]
    },
    {
     "name": "stdout",
     "output_type": "stream",
     "text": [
      "./datafiles/processed_pdb/4WRG_A.pdb A\n"
     ]
    },
    {
     "name": "stderr",
     "output_type": "stream",
     "text": [
      "@> 2177 atoms and 1 coordinate set(s) were parsed in 0.05s.\n"
     ]
    },
    {
     "name": "stdout",
     "output_type": "stream",
     "text": [
      "./datafiles/processed_pdb/4ZAU_A.pdb A\n"
     ]
    },
    {
     "name": "stderr",
     "output_type": "stream",
     "text": [
      "@> 2255 atoms and 1 coordinate set(s) were parsed in 0.04s.\n"
     ]
    },
    {
     "name": "stdout",
     "output_type": "stream",
     "text": [
      "./datafiles/processed_pdb/4ZJV_A.pdb A\n"
     ]
    },
    {
     "name": "stderr",
     "output_type": "stream",
     "text": [
      "@> 2191 atoms and 1 coordinate set(s) were parsed in 0.07s.\n"
     ]
    },
    {
     "name": "stdout",
     "output_type": "stream",
     "text": [
      "./datafiles/processed_pdb/4ZJV_B.pdb B\n"
     ]
    },
    {
     "name": "stderr",
     "output_type": "stream",
     "text": [
      "@> 2373 atoms and 1 coordinate set(s) were parsed in 0.02s.\n"
     ]
    },
    {
     "name": "stdout",
     "output_type": "stream",
     "text": [
      "./datafiles/processed_pdb/4ZSE_A.pdb A\n"
     ]
    },
    {
     "name": "stderr",
     "output_type": "stream",
     "text": [
      "@> 2491 atoms and 1 coordinate set(s) were parsed in 0.03s.\n"
     ]
    },
    {
     "name": "stdout",
     "output_type": "stream",
     "text": [
      "./datafiles/processed_pdb/4ZSE_B.pdb B\n"
     ]
    },
    {
     "name": "stderr",
     "output_type": "stream",
     "text": [
      "@> 2391 atoms and 1 coordinate set(s) were parsed in 0.02s.\n"
     ]
    },
    {
     "name": "stdout",
     "output_type": "stream",
     "text": [
      "./datafiles/processed_pdb/4ZSE_C.pdb C\n"
     ]
    },
    {
     "name": "stderr",
     "output_type": "stream",
     "text": [
      "@> 2355 atoms and 1 coordinate set(s) were parsed in 0.02s.\n"
     ]
    },
    {
     "name": "stdout",
     "output_type": "stream",
     "text": [
      "./datafiles/processed_pdb/4ZSE_D.pdb D\n"
     ]
    },
    {
     "name": "stderr",
     "output_type": "stream",
     "text": [
      "@> 2412 atoms and 1 coordinate set(s) were parsed in 0.02s.\n"
     ]
    },
    {
     "name": "stdout",
     "output_type": "stream",
     "text": [
      "./datafiles/processed_pdb/5C8K_A.pdb A\n"
     ]
    },
    {
     "name": "stderr",
     "output_type": "stream",
     "text": [
      "@> 2427 atoms and 1 coordinate set(s) were parsed in 0.02s.\n"
     ]
    },
    {
     "name": "stdout",
     "output_type": "stream",
     "text": [
      "./datafiles/processed_pdb/5C8M_A.pdb A\n"
     ]
    },
    {
     "name": "stderr",
     "output_type": "stream",
     "text": [
      "@> 2408 atoms and 1 coordinate set(s) were parsed in 0.02s.\n"
     ]
    },
    {
     "name": "stdout",
     "output_type": "stream",
     "text": [
      "./datafiles/processed_pdb/5C8N_A.pdb A\n"
     ]
    },
    {
     "name": "stderr",
     "output_type": "stream",
     "text": [
      "@> 2412 atoms and 1 coordinate set(s) were parsed in 0.02s.\n"
     ]
    },
    {
     "name": "stdout",
     "output_type": "stream",
     "text": [
      "./datafiles/processed_pdb/5CAL_A.pdb A\n"
     ]
    },
    {
     "name": "stderr",
     "output_type": "stream",
     "text": [
      "@> 2413 atoms and 1 coordinate set(s) were parsed in 0.02s.\n"
     ]
    },
    {
     "name": "stdout",
     "output_type": "stream",
     "text": [
      "./datafiles/processed_pdb/5CAN_A.pdb A\n"
     ]
    },
    {
     "name": "stderr",
     "output_type": "stream",
     "text": [
      "@> 2416 atoms and 1 coordinate set(s) were parsed in 0.02s.\n"
     ]
    },
    {
     "name": "stdout",
     "output_type": "stream",
     "text": [
      "./datafiles/processed_pdb/5CAO_A.pdb A\n"
     ]
    },
    {
     "name": "stderr",
     "output_type": "stream",
     "text": [
      "@> 2437 atoms and 1 coordinate set(s) were parsed in 0.02s.\n"
     ]
    },
    {
     "name": "stdout",
     "output_type": "stream",
     "text": [
      "./datafiles/processed_pdb/5CAP_A.pdb A\n"
     ]
    },
    {
     "name": "stderr",
     "output_type": "stream",
     "text": [
      "@> 2420 atoms and 1 coordinate set(s) were parsed in 0.02s.\n"
     ]
    },
    {
     "name": "stdout",
     "output_type": "stream",
     "text": [
      "./datafiles/processed_pdb/5CAQ_A.pdb A\n"
     ]
    },
    {
     "name": "stderr",
     "output_type": "stream",
     "text": [
      "@> 2401 atoms and 1 coordinate set(s) were parsed in 0.02s.\n"
     ]
    },
    {
     "name": "stdout",
     "output_type": "stream",
     "text": [
      "./datafiles/processed_pdb/5CAS_A.pdb A\n"
     ]
    },
    {
     "name": "stderr",
     "output_type": "stream",
     "text": [
      "@> 2386 atoms and 1 coordinate set(s) were parsed in 0.02s.\n"
     ]
    },
    {
     "name": "stdout",
     "output_type": "stream",
     "text": [
      "./datafiles/processed_pdb/5CAU_A.pdb A\n"
     ]
    },
    {
     "name": "stderr",
     "output_type": "stream",
     "text": [
      "@> 2448 atoms and 1 coordinate set(s) were parsed in 0.02s.\n"
     ]
    },
    {
     "name": "stdout",
     "output_type": "stream",
     "text": [
      "./datafiles/processed_pdb/5CAV_A.pdb A\n"
     ]
    },
    {
     "name": "stderr",
     "output_type": "stream",
     "text": [
      "@> 2415 atoms and 1 coordinate set(s) were parsed in 0.02s.\n"
     ]
    },
    {
     "name": "stdout",
     "output_type": "stream",
     "text": [
      "./datafiles/processed_pdb/5CNN_A.pdb A\n"
     ]
    },
    {
     "name": "stderr",
     "output_type": "stream",
     "text": [
      "@> 2440 atoms and 1 coordinate set(s) were parsed in 0.02s.\n"
     ]
    },
    {
     "name": "stdout",
     "output_type": "stream",
     "text": [
      "./datafiles/processed_pdb/5CNN_B.pdb B\n"
     ]
    },
    {
     "name": "stderr",
     "output_type": "stream",
     "text": [
      "@> 2418 atoms and 1 coordinate set(s) were parsed in 0.02s.\n"
     ]
    },
    {
     "name": "stdout",
     "output_type": "stream",
     "text": [
      "./datafiles/processed_pdb/5CNO_A.pdb A\n"
     ]
    },
    {
     "name": "stderr",
     "output_type": "stream",
     "text": [
      "@> 2435 atoms and 1 coordinate set(s) were parsed in 0.02s.\n",
      "@> 79 atoms and 1 coordinate set(s) were parsed in 0.00s.\n"
     ]
    },
    {
     "name": "stdout",
     "output_type": "stream",
     "text": [
      "./datafiles/processed_pdb/5CNO_B.pdb B\n",
      "./datafiles/processed_pdb/5CNO_X.pdb X\n"
     ]
    },
    {
     "name": "stderr",
     "output_type": "stream",
     "text": [
      "C:\\Users\\wwang\\Desktop\\egfr_dist_analysis\\dist_analy-master\\dist_analy\\util\\pdb_info.py:206: UserWarning: No data found\n",
      "  warnings.warn(\"No data found\")\n"
     ]
    },
    {
     "name": "stdout",
     "output_type": "stream",
     "text": [
      "unable to find data with 5CZH entity #2, skipping\n"
     ]
    },
    {
     "name": "stderr",
     "output_type": "stream",
     "text": [
      "@> 2434 atoms and 1 coordinate set(s) were parsed in 0.02s.\n"
     ]
    },
    {
     "name": "stdout",
     "output_type": "stream",
     "text": [
      "./datafiles/processed_pdb/5CZH_A.pdb A\n"
     ]
    },
    {
     "name": "stderr",
     "output_type": "stream",
     "text": [
      "@> 2449 atoms and 1 coordinate set(s) were parsed in 0.02s.\n"
     ]
    },
    {
     "name": "stdout",
     "output_type": "stream",
     "text": [
      "./datafiles/processed_pdb/5CZI_A.pdb A\n"
     ]
    },
    {
     "name": "stderr",
     "output_type": "stream",
     "text": [
      "@> 2403 atoms and 1 coordinate set(s) were parsed in 0.02s.\n"
     ]
    },
    {
     "name": "stdout",
     "output_type": "stream",
     "text": [
      "./datafiles/processed_pdb/5D41_A.pdb A\n"
     ]
    },
    {
     "name": "stderr",
     "output_type": "stream",
     "text": [
      "@> 2412 atoms and 1 coordinate set(s) were parsed in 0.02s.\n"
     ]
    },
    {
     "name": "stdout",
     "output_type": "stream",
     "text": [
      "./datafiles/processed_pdb/5D41_B.pdb B\n"
     ]
    },
    {
     "name": "stderr",
     "output_type": "stream",
     "text": [
      "@> 2366 atoms and 1 coordinate set(s) were parsed in 0.02s.\n"
     ]
    },
    {
     "name": "stdout",
     "output_type": "stream",
     "text": [
      "./datafiles/processed_pdb/5EDP_A.pdb A\n"
     ]
    },
    {
     "name": "stderr",
     "output_type": "stream",
     "text": [
      "@> 2393 atoms and 1 coordinate set(s) were parsed in 0.02s.\n"
     ]
    },
    {
     "name": "stdout",
     "output_type": "stream",
     "text": [
      "./datafiles/processed_pdb/5EDQ_A.pdb A\n"
     ]
    },
    {
     "name": "stderr",
     "output_type": "stream",
     "text": [
      "@> 2403 atoms and 1 coordinate set(s) were parsed in 0.02s.\n"
     ]
    },
    {
     "name": "stdout",
     "output_type": "stream",
     "text": [
      "./datafiles/processed_pdb/5EDR_A.pdb A\n"
     ]
    },
    {
     "name": "stderr",
     "output_type": "stream",
     "text": [
      "@> 2397 atoms and 1 coordinate set(s) were parsed in 0.02s.\n"
     ]
    },
    {
     "name": "stdout",
     "output_type": "stream",
     "text": [
      "./datafiles/processed_pdb/5EM5_A.pdb A\n"
     ]
    },
    {
     "name": "stderr",
     "output_type": "stream",
     "text": [
      "@> 2422 atoms and 1 coordinate set(s) were parsed in 0.02s.\n"
     ]
    },
    {
     "name": "stdout",
     "output_type": "stream",
     "text": [
      "./datafiles/processed_pdb/5EM6_A.pdb A\n"
     ]
    },
    {
     "name": "stderr",
     "output_type": "stream",
     "text": [
      "@> 2405 atoms and 1 coordinate set(s) were parsed in 0.02s.\n"
     ]
    },
    {
     "name": "stdout",
     "output_type": "stream",
     "text": [
      "./datafiles/processed_pdb/5EM7_A.pdb A\n"
     ]
    },
    {
     "name": "stderr",
     "output_type": "stream",
     "text": [
      "@> 2417 atoms and 1 coordinate set(s) were parsed in 0.02s.\n"
     ]
    },
    {
     "name": "stdout",
     "output_type": "stream",
     "text": [
      "./datafiles/processed_pdb/5EM8_A.pdb A\n"
     ]
    },
    {
     "name": "stderr",
     "output_type": "stream",
     "text": [
      "@> 2312 atoms and 1 coordinate set(s) were parsed in 0.02s.\n"
     ]
    },
    {
     "name": "stdout",
     "output_type": "stream",
     "text": [
      "./datafiles/processed_pdb/5FED_A.pdb A\n"
     ]
    },
    {
     "name": "stderr",
     "output_type": "stream",
     "text": [
      "@> 2308 atoms and 1 coordinate set(s) were parsed in 0.03s.\n"
     ]
    },
    {
     "name": "stdout",
     "output_type": "stream",
     "text": [
      "./datafiles/processed_pdb/5FEE_A.pdb A\n"
     ]
    },
    {
     "name": "stderr",
     "output_type": "stream",
     "text": [
      "@> 2320 atoms and 1 coordinate set(s) were parsed in 0.02s.\n"
     ]
    },
    {
     "name": "stdout",
     "output_type": "stream",
     "text": [
      "./datafiles/processed_pdb/5FEQ_A.pdb A\n"
     ]
    },
    {
     "name": "stderr",
     "output_type": "stream",
     "text": [
      "@> 2364 atoms and 1 coordinate set(s) were parsed in 0.02s.\n"
     ]
    },
    {
     "name": "stdout",
     "output_type": "stream",
     "text": [
      "./datafiles/processed_pdb/5GMP_A.pdb A\n"
     ]
    },
    {
     "name": "stderr",
     "output_type": "stream",
     "text": [
      "@> 2200 atoms and 1 coordinate set(s) were parsed in 0.02s.\n"
     ]
    },
    {
     "name": "stdout",
     "output_type": "stream",
     "text": [
      "./datafiles/processed_pdb/5GNK_A.pdb A\n"
     ]
    },
    {
     "name": "stderr",
     "output_type": "stream",
     "text": [
      "@> 2363 atoms and 1 coordinate set(s) were parsed in 0.02s.\n"
     ]
    },
    {
     "name": "stdout",
     "output_type": "stream",
     "text": [
      "./datafiles/processed_pdb/5GTY_A.pdb A\n"
     ]
    },
    {
     "name": "stderr",
     "output_type": "stream",
     "text": [
      "@> 2333 atoms and 1 coordinate set(s) were parsed in 0.02s.\n"
     ]
    },
    {
     "name": "stdout",
     "output_type": "stream",
     "text": [
      "./datafiles/processed_pdb/5GTY_B.pdb B\n"
     ]
    },
    {
     "name": "stderr",
     "output_type": "stream",
     "text": [
      "@> 2281 atoms and 1 coordinate set(s) were parsed in 0.02s.\n"
     ]
    },
    {
     "name": "stdout",
     "output_type": "stream",
     "text": [
      "./datafiles/processed_pdb/5GTY_D.pdb D\n"
     ]
    },
    {
     "name": "stderr",
     "output_type": "stream",
     "text": [
      "@> 2297 atoms and 1 coordinate set(s) were parsed in 0.02s.\n"
     ]
    },
    {
     "name": "stdout",
     "output_type": "stream",
     "text": [
      "./datafiles/processed_pdb/5GTY_E.pdb E\n"
     ]
    },
    {
     "name": "stderr",
     "output_type": "stream",
     "text": [
      "@> 2328 atoms and 1 coordinate set(s) were parsed in 0.02s.\n"
     ]
    },
    {
     "name": "stdout",
     "output_type": "stream",
     "text": [
      "./datafiles/processed_pdb/5GTY_F.pdb F\n"
     ]
    },
    {
     "name": "stderr",
     "output_type": "stream",
     "text": [
      "@> 2360 atoms and 1 coordinate set(s) were parsed in 0.02s.\n"
     ]
    },
    {
     "name": "stdout",
     "output_type": "stream",
     "text": [
      "./datafiles/processed_pdb/5GTY_G.pdb G\n"
     ]
    },
    {
     "name": "stderr",
     "output_type": "stream",
     "text": [
      "@> 2362 atoms and 1 coordinate set(s) were parsed in 0.02s.\n"
     ]
    },
    {
     "name": "stdout",
     "output_type": "stream",
     "text": [
      "./datafiles/processed_pdb/5GTY_H.pdb H\n"
     ]
    },
    {
     "name": "stderr",
     "output_type": "stream",
     "text": [
      "@> 2325 atoms and 1 coordinate set(s) were parsed in 0.02s.\n"
     ]
    },
    {
     "name": "stdout",
     "output_type": "stream",
     "text": [
      "./datafiles/processed_pdb/5GTY_C.pdb C\n"
     ]
    },
    {
     "name": "stderr",
     "output_type": "stream",
     "text": [
      "@> 2527 atoms and 1 coordinate set(s) were parsed in 0.02s.\n"
     ]
    },
    {
     "name": "stdout",
     "output_type": "stream",
     "text": [
      "./datafiles/processed_pdb/5GTZ_A.pdb A\n"
     ]
    },
    {
     "name": "stderr",
     "output_type": "stream",
     "text": [
      "@> 2389 atoms and 1 coordinate set(s) were parsed in 0.03s.\n"
     ]
    },
    {
     "name": "stdout",
     "output_type": "stream",
     "text": [
      "./datafiles/processed_pdb/5HCX_A.pdb A\n"
     ]
    },
    {
     "name": "stderr",
     "output_type": "stream",
     "text": [
      "@> 2421 atoms and 1 coordinate set(s) were parsed in 0.02s.\n"
     ]
    },
    {
     "name": "stdout",
     "output_type": "stream",
     "text": [
      "./datafiles/processed_pdb/5HCY_A.pdb A\n"
     ]
    },
    {
     "name": "stderr",
     "output_type": "stream",
     "text": [
      "@> 2408 atoms and 1 coordinate set(s) were parsed in 0.02s.\n"
     ]
    },
    {
     "name": "stdout",
     "output_type": "stream",
     "text": [
      "./datafiles/processed_pdb/5HCZ_A.pdb A\n"
     ]
    },
    {
     "name": "stderr",
     "output_type": "stream",
     "text": [
      "@> 2431 atoms and 1 coordinate set(s) were parsed in 0.02s.\n"
     ]
    },
    {
     "name": "stdout",
     "output_type": "stream",
     "text": [
      "./datafiles/processed_pdb/5HG5_A.pdb A\n"
     ]
    },
    {
     "name": "stderr",
     "output_type": "stream",
     "text": [
      "@> 2251 atoms and 1 coordinate set(s) were parsed in 0.03s.\n"
     ]
    },
    {
     "name": "stdout",
     "output_type": "stream",
     "text": [
      "./datafiles/processed_pdb/5HG7_A.pdb A\n"
     ]
    },
    {
     "name": "stderr",
     "output_type": "stream",
     "text": [
      "@> 2418 atoms and 1 coordinate set(s) were parsed in 0.03s.\n"
     ]
    },
    {
     "name": "stdout",
     "output_type": "stream",
     "text": [
      "./datafiles/processed_pdb/5HG8_A.pdb A\n"
     ]
    },
    {
     "name": "stderr",
     "output_type": "stream",
     "text": [
      "@> 2254 atoms and 1 coordinate set(s) were parsed in 0.02s.\n"
     ]
    },
    {
     "name": "stdout",
     "output_type": "stream",
     "text": [
      "./datafiles/processed_pdb/5HG9_A.pdb A\n"
     ]
    },
    {
     "name": "stderr",
     "output_type": "stream",
     "text": [
      "@> 2520 atoms and 1 coordinate set(s) were parsed in 0.03s.\n"
     ]
    },
    {
     "name": "stdout",
     "output_type": "stream",
     "text": [
      "./datafiles/processed_pdb/5HIB_A.pdb A\n"
     ]
    },
    {
     "name": "stderr",
     "output_type": "stream",
     "text": [
      "@> 2427 atoms and 1 coordinate set(s) were parsed in 0.02s.\n"
     ]
    },
    {
     "name": "stdout",
     "output_type": "stream",
     "text": [
      "./datafiles/processed_pdb/5HIC_A.pdb A\n"
     ]
    },
    {
     "name": "stderr",
     "output_type": "stream",
     "text": [
      "@> 2405 atoms and 1 coordinate set(s) were parsed in 0.02s.\n"
     ]
    },
    {
     "name": "stdout",
     "output_type": "stream",
     "text": [
      "./datafiles/processed_pdb/5J9Y_A.pdb A\n"
     ]
    },
    {
     "name": "stderr",
     "output_type": "stream",
     "text": [
      "@> 2333 atoms and 1 coordinate set(s) were parsed in 0.02s.\n"
     ]
    },
    {
     "name": "stdout",
     "output_type": "stream",
     "text": [
      "./datafiles/processed_pdb/5J9Z_A.pdb A\n"
     ]
    },
    {
     "name": "stderr",
     "output_type": "stream",
     "text": [
      "@> 2308 atoms and 1 coordinate set(s) were parsed in 0.02s.\n"
     ]
    },
    {
     "name": "stdout",
     "output_type": "stream",
     "text": [
      "./datafiles/processed_pdb/5JEB_A.pdb A\n"
     ]
    },
    {
     "name": "stderr",
     "output_type": "stream",
     "text": [
      "@> WARNING Atomic data could not be parsed, please check the input file.\n",
      "@> WARNING Atomic data could not be parsed, please check the input file.\n",
      "@> WARNING Atomic data could not be parsed, please check the input file.\n",
      "@> WARNING Atomic data could not be parsed, please check the input file.\n",
      "@> WARNING Atomic data could not be parsed, please check the input file.\n",
      "@> WARNING Atomic data could not be parsed, please check the input file.\n",
      "@> WARNING Atomic data could not be parsed, please check the input file.\n",
      "@> WARNING Atomic data could not be parsed, please check the input file.\n",
      "@> WARNING Atomic data could not be parsed, please check the input file.\n",
      "@> WARNING Atomic data could not be parsed, please check the input file.\n",
      "@> WARNING Atomic data could not be parsed, please check the input file.\n",
      "@> WARNING Atomic data could not be parsed, please check the input file.\n",
      "@> WARNING Atomic data could not be parsed, please check the input file.\n",
      "@> WARNING Atomic data could not be parsed, please check the input file.\n",
      "@> WARNING Atomic data could not be parsed, please check the input file.\n",
      "@> WARNING Atomic data could not be parsed, please check the input file.\n",
      "@> WARNING Atomic data could not be parsed, please check the input file.\n",
      "@> WARNING Atomic data could not be parsed, please check the input file.\n",
      "@> WARNING Atomic data could not be parsed, please check the input file.\n",
      "@> WARNING Atomic data could not be parsed, please check the input file.\n"
     ]
    },
    {
     "name": "stdout",
     "output_type": "stream",
     "text": [
      "./datafiles/processed_pdb/5LV6_A_0.pdb 0\n",
      "problematic pdb file\n",
      "./datafiles/processed_pdb/5LV6_A_1.pdb 1\n",
      "problematic pdb file\n",
      "./datafiles/processed_pdb/5LV6_A_2.pdb 2\n",
      "problematic pdb file\n",
      "./datafiles/processed_pdb/5LV6_A_3.pdb 3\n",
      "problematic pdb file\n",
      "./datafiles/processed_pdb/5LV6_A_4.pdb 4\n",
      "problematic pdb file\n",
      "./datafiles/processed_pdb/5LV6_A_5.pdb 5\n",
      "problematic pdb file\n",
      "./datafiles/processed_pdb/5LV6_A_6.pdb 6\n",
      "problematic pdb file\n",
      "./datafiles/processed_pdb/5LV6_A_7.pdb 7\n",
      "problematic pdb file\n",
      "./datafiles/processed_pdb/5LV6_A_8.pdb 8\n",
      "problematic pdb file\n",
      "./datafiles/processed_pdb/5LV6_A_9.pdb 9\n",
      "problematic pdb file\n",
      "./datafiles/processed_pdb/5LV6_A_10.pdb 10\n",
      "problematic pdb file\n",
      "./datafiles/processed_pdb/5LV6_A_11.pdb 11\n",
      "problematic pdb file\n",
      "./datafiles/processed_pdb/5LV6_A_12.pdb 12\n",
      "problematic pdb file\n",
      "./datafiles/processed_pdb/5LV6_A_13.pdb 13\n",
      "problematic pdb file\n",
      "./datafiles/processed_pdb/5LV6_A_14.pdb 14\n",
      "problematic pdb file\n",
      "./datafiles/processed_pdb/5LV6_A_15.pdb 15\n",
      "problematic pdb file\n",
      "./datafiles/processed_pdb/5LV6_A_16.pdb 16\n",
      "problematic pdb file\n",
      "./datafiles/processed_pdb/5LV6_A_17.pdb 17\n",
      "problematic pdb file\n",
      "./datafiles/processed_pdb/5LV6_A_18.pdb 18\n",
      "problematic pdb file\n",
      "./datafiles/processed_pdb/5LV6_A_19.pdb 19\n"
     ]
    },
    {
     "name": "stderr",
     "output_type": "stream",
     "text": [
      "@> WARNING Atomic data could not be parsed, please check the input file.\n",
      "@> WARNING Atomic data could not be parsed, please check the input file.\n",
      "@> WARNING Atomic data could not be parsed, please check the input file.\n",
      "@> WARNING Atomic data could not be parsed, please check the input file.\n",
      "@> WARNING Atomic data could not be parsed, please check the input file.\n",
      "@> WARNING Atomic data could not be parsed, please check the input file.\n",
      "@> WARNING Atomic data could not be parsed, please check the input file.\n",
      "@> WARNING Atomic data could not be parsed, please check the input file.\n",
      "@> WARNING Atomic data could not be parsed, please check the input file.\n",
      "@> WARNING Atomic data could not be parsed, please check the input file.\n",
      "@> WARNING Atomic data could not be parsed, please check the input file.\n",
      "@> WARNING Atomic data could not be parsed, please check the input file.\n",
      "@> WARNING Atomic data could not be parsed, please check the input file.\n",
      "@> WARNING Atomic data could not be parsed, please check the input file.\n",
      "@> WARNING Atomic data could not be parsed, please check the input file.\n",
      "@> WARNING Atomic data could not be parsed, please check the input file.\n",
      "@> WARNING Atomic data could not be parsed, please check the input file.\n",
      "@> WARNING Atomic data could not be parsed, please check the input file.\n",
      "@> WARNING Atomic data could not be parsed, please check the input file.\n",
      "@> WARNING Atomic data could not be parsed, please check the input file.\n"
     ]
    },
    {
     "name": "stdout",
     "output_type": "stream",
     "text": [
      "problematic pdb file\n",
      "./datafiles/processed_pdb/5LV6_B_0.pdb 0\n",
      "problematic pdb file\n",
      "./datafiles/processed_pdb/5LV6_B_1.pdb 1\n",
      "problematic pdb file\n",
      "./datafiles/processed_pdb/5LV6_B_2.pdb 2\n",
      "problematic pdb file\n",
      "./datafiles/processed_pdb/5LV6_B_3.pdb 3\n",
      "problematic pdb file\n",
      "./datafiles/processed_pdb/5LV6_B_4.pdb 4\n",
      "problematic pdb file\n",
      "./datafiles/processed_pdb/5LV6_B_5.pdb 5\n",
      "problematic pdb file\n",
      "./datafiles/processed_pdb/5LV6_B_6.pdb 6\n",
      "problematic pdb file\n",
      "./datafiles/processed_pdb/5LV6_B_7.pdb 7\n",
      "problematic pdb file\n",
      "./datafiles/processed_pdb/5LV6_B_8.pdb 8\n",
      "problematic pdb file\n",
      "./datafiles/processed_pdb/5LV6_B_9.pdb 9\n",
      "problematic pdb file\n",
      "./datafiles/processed_pdb/5LV6_B_10.pdb 10\n",
      "problematic pdb file\n",
      "./datafiles/processed_pdb/5LV6_B_11.pdb 11\n",
      "problematic pdb file\n",
      "./datafiles/processed_pdb/5LV6_B_12.pdb 12\n",
      "problematic pdb file\n",
      "./datafiles/processed_pdb/5LV6_B_13.pdb 13\n",
      "problematic pdb file\n",
      "./datafiles/processed_pdb/5LV6_B_14.pdb 14\n",
      "problematic pdb file\n",
      "./datafiles/processed_pdb/5LV6_B_15.pdb 15\n",
      "problematic pdb file\n",
      "./datafiles/processed_pdb/5LV6_B_16.pdb 16\n",
      "problematic pdb file\n",
      "./datafiles/processed_pdb/5LV6_B_17.pdb 17\n",
      "problematic pdb file\n",
      "./datafiles/processed_pdb/5LV6_B_18.pdb 18\n",
      "problematic pdb file\n",
      "./datafiles/processed_pdb/5LV6_B_19.pdb 19\n",
      "problematic pdb file\n"
     ]
    },
    {
     "name": "stderr",
     "output_type": "stream",
     "text": [
      "C:\\Users\\wwang\\Desktop\\egfr_dist_analysis\\dist_analy-master\\dist_analy\\util\\pdb_info.py:206: UserWarning: No data found\n",
      "  warnings.warn(\"No data found\")\n"
     ]
    },
    {
     "name": "stdout",
     "output_type": "stream",
     "text": [
      "unable to find data with 5SX4 entity #1, skipping\n",
      "unable to find data with 5SX4 entity #2, skipping\n"
     ]
    },
    {
     "name": "stderr",
     "output_type": "stream",
     "text": [
      "@> 1469 atoms and 1 coordinate set(s) were parsed in 0.01s.\n",
      "@> 1440 atoms and 1 coordinate set(s) were parsed in 0.01s.\n"
     ]
    },
    {
     "name": "stdout",
     "output_type": "stream",
     "text": [
      "./datafiles/processed_pdb/5SX4_M.pdb M\n",
      "./datafiles/processed_pdb/5SX4_N.pdb N\n"
     ]
    },
    {
     "name": "stderr",
     "output_type": "stream",
     "text": [
      "C:\\Users\\wwang\\Desktop\\egfr_dist_analysis\\dist_analy-master\\dist_analy\\util\\pdb_info.py:206: UserWarning: No data found\n",
      "  warnings.warn(\"No data found\")\n"
     ]
    },
    {
     "name": "stdout",
     "output_type": "stream",
     "text": [
      "unable to find data with 5SX5 entity #1, skipping\n",
      "unable to find data with 5SX5 entity #2, skipping\n"
     ]
    },
    {
     "name": "stderr",
     "output_type": "stream",
     "text": [
      "@> 1502 atoms and 1 coordinate set(s) were parsed in 0.01s.\n",
      "@> 1482 atoms and 1 coordinate set(s) were parsed in 0.01s.\n"
     ]
    },
    {
     "name": "stdout",
     "output_type": "stream",
     "text": [
      "./datafiles/processed_pdb/5SX5_M.pdb M\n",
      "./datafiles/processed_pdb/5SX5_N.pdb N\n"
     ]
    },
    {
     "name": "stderr",
     "output_type": "stream",
     "text": [
      "@> 2325 atoms and 1 coordinate set(s) were parsed in 0.02s.\n"
     ]
    },
    {
     "name": "stdout",
     "output_type": "stream",
     "text": [
      "./datafiles/processed_pdb/5U8L_A.pdb A\n"
     ]
    },
    {
     "name": "stderr",
     "output_type": "stream",
     "text": [
      "@> 2254 atoms and 1 coordinate set(s) were parsed in 0.02s.\n"
     ]
    },
    {
     "name": "stdout",
     "output_type": "stream",
     "text": [
      "./datafiles/processed_pdb/5UG8_A.pdb A\n"
     ]
    },
    {
     "name": "stderr",
     "output_type": "stream",
     "text": [
      "@> 2254 atoms and 1 coordinate set(s) were parsed in 0.02s.\n"
     ]
    },
    {
     "name": "stdout",
     "output_type": "stream",
     "text": [
      "./datafiles/processed_pdb/5UG9_A.pdb A\n"
     ]
    },
    {
     "name": "stderr",
     "output_type": "stream",
     "text": [
      "@> 2276 atoms and 1 coordinate set(s) were parsed in 0.02s.\n"
     ]
    },
    {
     "name": "stdout",
     "output_type": "stream",
     "text": [
      "./datafiles/processed_pdb/5UGA_A.pdb A\n"
     ]
    },
    {
     "name": "stderr",
     "output_type": "stream",
     "text": [
      "@> 2449 atoms and 1 coordinate set(s) were parsed in 0.02s.\n"
     ]
    },
    {
     "name": "stdout",
     "output_type": "stream",
     "text": [
      "./datafiles/processed_pdb/5UGB_A.pdb A\n"
     ]
    },
    {
     "name": "stderr",
     "output_type": "stream",
     "text": [
      "@> 2254 atoms and 1 coordinate set(s) were parsed in 0.02s.\n"
     ]
    },
    {
     "name": "stdout",
     "output_type": "stream",
     "text": [
      "./datafiles/processed_pdb/5UGC_A.pdb A\n"
     ]
    },
    {
     "name": "stderr",
     "output_type": "stream",
     "text": [
      "@> 2183 atoms and 1 coordinate set(s) were parsed in 0.02s.\n"
     ]
    },
    {
     "name": "stdout",
     "output_type": "stream",
     "text": [
      "./datafiles/processed_pdb/5UWD_A.pdb A\n"
     ]
    },
    {
     "name": "stderr",
     "output_type": "stream",
     "text": [
      "@> 3816 atoms and 1 coordinate set(s) were parsed in 0.04s.\n",
      "@> 3882 atoms and 1 coordinate set(s) were parsed in 0.04s.\n",
      "@> 3791 atoms and 1 coordinate set(s) were parsed in 0.04s.\n"
     ]
    },
    {
     "name": "stdout",
     "output_type": "stream",
     "text": [
      "./datafiles/processed_pdb/5WB7_A.pdb A\n",
      "./datafiles/processed_pdb/5WB7_B.pdb B\n",
      "./datafiles/processed_pdb/5WB7_C.pdb C\n",
      "./datafiles/processed_pdb/5WB7_D.pdb D\n"
     ]
    },
    {
     "name": "stderr",
     "output_type": "stream",
     "text": [
      "@> 3757 atoms and 1 coordinate set(s) were parsed in 0.04s.\n",
      "@> 3740 atoms and 1 coordinate set(s) were parsed in 0.03s.\n",
      "@> 3774 atoms and 1 coordinate set(s) were parsed in 0.03s.\n"
     ]
    },
    {
     "name": "stdout",
     "output_type": "stream",
     "text": [
      "./datafiles/processed_pdb/5WB8_A.pdb A\n",
      "./datafiles/processed_pdb/5WB8_D.pdb D\n"
     ]
    },
    {
     "name": "stderr",
     "output_type": "stream",
     "text": [
      "@> 2372 atoms and 1 coordinate set(s) were parsed in 0.02s.\n"
     ]
    },
    {
     "name": "stdout",
     "output_type": "stream",
     "text": [
      "./datafiles/processed_pdb/5X26_A.pdb A\n"
     ]
    },
    {
     "name": "stderr",
     "output_type": "stream",
     "text": [
      "@> 2376 atoms and 1 coordinate set(s) were parsed in 0.02s.\n"
     ]
    },
    {
     "name": "stdout",
     "output_type": "stream",
     "text": [
      "./datafiles/processed_pdb/5X27_A.pdb A\n"
     ]
    },
    {
     "name": "stderr",
     "output_type": "stream",
     "text": [
      "@> 2410 atoms and 1 coordinate set(s) were parsed in 0.02s.\n"
     ]
    },
    {
     "name": "stdout",
     "output_type": "stream",
     "text": [
      "./datafiles/processed_pdb/5X28_A.pdb A\n"
     ]
    },
    {
     "name": "stderr",
     "output_type": "stream",
     "text": [
      "@> 2386 atoms and 1 coordinate set(s) were parsed in 0.03s.\n"
     ]
    },
    {
     "name": "stdout",
     "output_type": "stream",
     "text": [
      "./datafiles/processed_pdb/5X2A_A.pdb A\n"
     ]
    },
    {
     "name": "stderr",
     "output_type": "stream",
     "text": [
      "@> 2549 atoms and 1 coordinate set(s) were parsed in 0.03s.\n"
     ]
    },
    {
     "name": "stdout",
     "output_type": "stream",
     "text": [
      "./datafiles/processed_pdb/5X2A_B.pdb B\n"
     ]
    },
    {
     "name": "stderr",
     "output_type": "stream",
     "text": [
      "@> 2415 atoms and 1 coordinate set(s) were parsed in 0.03s.\n"
     ]
    },
    {
     "name": "stdout",
     "output_type": "stream",
     "text": [
      "./datafiles/processed_pdb/5X2A_C.pdb C\n"
     ]
    },
    {
     "name": "stderr",
     "output_type": "stream",
     "text": [
      "@> 2385 atoms and 1 coordinate set(s) were parsed in 0.02s.\n"
     ]
    },
    {
     "name": "stdout",
     "output_type": "stream",
     "text": [
      "./datafiles/processed_pdb/5X2A_D.pdb D\n"
     ]
    },
    {
     "name": "stderr",
     "output_type": "stream",
     "text": [
      "@> 2438 atoms and 1 coordinate set(s) were parsed in 0.02s.\n"
     ]
    },
    {
     "name": "stdout",
     "output_type": "stream",
     "text": [
      "./datafiles/processed_pdb/5X2C_A.pdb A\n"
     ]
    },
    {
     "name": "stderr",
     "output_type": "stream",
     "text": [
      "@> 2426 atoms and 1 coordinate set(s) were parsed in 0.02s.\n"
     ]
    },
    {
     "name": "stdout",
     "output_type": "stream",
     "text": [
      "./datafiles/processed_pdb/5X2C_B.pdb B\n"
     ]
    },
    {
     "name": "stderr",
     "output_type": "stream",
     "text": [
      "@> 2399 atoms and 1 coordinate set(s) were parsed in 0.02s.\n"
     ]
    },
    {
     "name": "stdout",
     "output_type": "stream",
     "text": [
      "./datafiles/processed_pdb/5X2F_A.pdb A\n"
     ]
    },
    {
     "name": "stderr",
     "output_type": "stream",
     "text": [
      "@> 2465 atoms and 1 coordinate set(s) were parsed in 0.02s.\n"
     ]
    },
    {
     "name": "stdout",
     "output_type": "stream",
     "text": [
      "./datafiles/processed_pdb/5X2F_B.pdb B\n"
     ]
    },
    {
     "name": "stderr",
     "output_type": "stream",
     "text": [
      "@> 2395 atoms and 1 coordinate set(s) were parsed in 0.02s.\n"
     ]
    },
    {
     "name": "stdout",
     "output_type": "stream",
     "text": [
      "./datafiles/processed_pdb/5X2F_C.pdb C\n"
     ]
    },
    {
     "name": "stderr",
     "output_type": "stream",
     "text": [
      "@> 2435 atoms and 1 coordinate set(s) were parsed in 0.03s.\n"
     ]
    },
    {
     "name": "stdout",
     "output_type": "stream",
     "text": [
      "./datafiles/processed_pdb/5X2F_D.pdb D\n"
     ]
    },
    {
     "name": "stderr",
     "output_type": "stream",
     "text": [
      "@> 2412 atoms and 1 coordinate set(s) were parsed in 0.02s.\n"
     ]
    },
    {
     "name": "stdout",
     "output_type": "stream",
     "text": [
      "./datafiles/processed_pdb/5X2K_A.pdb A\n"
     ]
    },
    {
     "name": "stderr",
     "output_type": "stream",
     "text": [
      "@> 2397 atoms and 1 coordinate set(s) were parsed in 0.03s.\n"
     ]
    },
    {
     "name": "stdout",
     "output_type": "stream",
     "text": [
      "./datafiles/processed_pdb/5XDK_A.pdb A\n"
     ]
    },
    {
     "name": "stderr",
     "output_type": "stream",
     "text": [
      "@> 2284 atoms and 1 coordinate set(s) were parsed in 0.02s.\n"
     ]
    },
    {
     "name": "stdout",
     "output_type": "stream",
     "text": [
      "./datafiles/processed_pdb/5XDL_A.pdb A\n"
     ]
    },
    {
     "name": "stderr",
     "output_type": "stream",
     "text": [
      "@> 2248 atoms and 1 coordinate set(s) were parsed in 0.02s.\n"
     ]
    },
    {
     "name": "stdout",
     "output_type": "stream",
     "text": [
      "./datafiles/processed_pdb/5XGM_A.pdb A\n"
     ]
    },
    {
     "name": "stderr",
     "output_type": "stream",
     "text": [
      "@> 2344 atoms and 1 coordinate set(s) were parsed in 0.02s.\n"
     ]
    },
    {
     "name": "stdout",
     "output_type": "stream",
     "text": [
      "./datafiles/processed_pdb/5XGN_A.pdb A\n"
     ]
    },
    {
     "name": "stderr",
     "output_type": "stream",
     "text": [
      "@> 2389 atoms and 1 coordinate set(s) were parsed in 0.02s.\n"
     ]
    },
    {
     "name": "stdout",
     "output_type": "stream",
     "text": [
      "./datafiles/processed_pdb/5XGN_B.pdb B\n"
     ]
    },
    {
     "name": "stderr",
     "output_type": "stream",
     "text": [
      "C:\\Users\\wwang\\Desktop\\egfr_dist_analysis\\dist_analy-master\\dist_analy\\util\\pdb_info.py:206: UserWarning: No data found\n",
      "  warnings.warn(\"No data found\")\n"
     ]
    },
    {
     "name": "stdout",
     "output_type": "stream",
     "text": [
      "unable to find data with 5XWD entity #2, skipping\n",
      "unable to find data with 5XWD entity #3, skipping\n"
     ]
    },
    {
     "name": "stderr",
     "output_type": "stream",
     "text": [
      "@> 4697 atoms and 1 coordinate set(s) were parsed in 0.04s.\n"
     ]
    },
    {
     "name": "stdout",
     "output_type": "stream",
     "text": [
      "./datafiles/processed_pdb/5XWD_A.pdb A\n"
     ]
    },
    {
     "name": "stderr",
     "output_type": "stream",
     "text": [
      "@> 2312 atoms and 1 coordinate set(s) were parsed in 0.03s.\n"
     ]
    },
    {
     "name": "stdout",
     "output_type": "stream",
     "text": [
      "./datafiles/processed_pdb/5Y25_A.pdb A\n"
     ]
    },
    {
     "name": "stderr",
     "output_type": "stream",
     "text": [
      "@> 2380 atoms and 1 coordinate set(s) were parsed in 0.02s.\n"
     ]
    },
    {
     "name": "stdout",
     "output_type": "stream",
     "text": [
      "./datafiles/processed_pdb/5Y9T_A.pdb A\n"
     ]
    },
    {
     "name": "stderr",
     "output_type": "stream",
     "text": [
      "@> 2414 atoms and 1 coordinate set(s) were parsed in 0.02s.\n"
     ]
    },
    {
     "name": "stdout",
     "output_type": "stream",
     "text": [
      "./datafiles/processed_pdb/5YU9_A.pdb A\n"
     ]
    },
    {
     "name": "stderr",
     "output_type": "stream",
     "text": [
      "@> 2368 atoms and 1 coordinate set(s) were parsed in 0.02s.\n"
     ]
    },
    {
     "name": "stdout",
     "output_type": "stream",
     "text": [
      "./datafiles/processed_pdb/5YU9_B.pdb B\n"
     ]
    },
    {
     "name": "stderr",
     "output_type": "stream",
     "text": [
      "@> 2435 atoms and 1 coordinate set(s) were parsed in 0.02s.\n"
     ]
    },
    {
     "name": "stdout",
     "output_type": "stream",
     "text": [
      "./datafiles/processed_pdb/5YU9_C.pdb C\n"
     ]
    },
    {
     "name": "stderr",
     "output_type": "stream",
     "text": [
      "@> 2394 atoms and 1 coordinate set(s) were parsed in 0.02s.\n"
     ]
    },
    {
     "name": "stdout",
     "output_type": "stream",
     "text": [
      "./datafiles/processed_pdb/5YU9_D.pdb D\n"
     ]
    },
    {
     "name": "stderr",
     "output_type": "stream",
     "text": [
      "@> 2268 atoms and 1 coordinate set(s) were parsed in 0.02s.\n"
     ]
    },
    {
     "name": "stdout",
     "output_type": "stream",
     "text": [
      "./datafiles/processed_pdb/5ZTO_A.pdb A\n"
     ]
    },
    {
     "name": "stderr",
     "output_type": "stream",
     "text": [
      "@> 2064 atoms and 1 coordinate set(s) were parsed in 0.02s.\n"
     ]
    },
    {
     "name": "stdout",
     "output_type": "stream",
     "text": [
      "./datafiles/processed_pdb/5ZWJ_A.pdb A\n"
     ]
    },
    {
     "name": "stderr",
     "output_type": "stream",
     "text": [
      "@> 4686 atoms and 1 coordinate set(s) were parsed in 0.04s.\n"
     ]
    },
    {
     "name": "stdout",
     "output_type": "stream",
     "text": [
      "./datafiles/processed_pdb/6ARU_A.pdb A\n"
     ]
    },
    {
     "name": "stderr",
     "output_type": "stream",
     "text": [
      "C:\\Users\\wwang\\Desktop\\egfr_dist_analysis\\dist_analy-master\\dist_analy\\util\\pdb_info.py:206: UserWarning: No data found\n",
      "  warnings.warn(\"No data found\")\n"
     ]
    },
    {
     "name": "stdout",
     "output_type": "stream",
     "text": [
      "unable to find data with 6B3S entity #2, skipping\n",
      "unable to find data with 6B3S entity #3, skipping\n"
     ]
    },
    {
     "name": "stderr",
     "output_type": "stream",
     "text": [
      "@> 1426 atoms and 1 coordinate set(s) were parsed in 0.01s.\n",
      "@> 1434 atoms and 1 coordinate set(s) were parsed in 0.01s.\n",
      "@> 1469 atoms and 1 coordinate set(s) were parsed in 0.01s.\n",
      "@> 1457 atoms and 1 coordinate set(s) were parsed in 0.01s.\n"
     ]
    },
    {
     "name": "stdout",
     "output_type": "stream",
     "text": [
      "./datafiles/processed_pdb/6B3S_A.pdb A\n",
      "./datafiles/processed_pdb/6B3S_B.pdb B\n",
      "./datafiles/processed_pdb/6B3S_E.pdb E\n",
      "./datafiles/processed_pdb/6B3S_I.pdb I\n"
     ]
    },
    {
     "name": "stderr",
     "output_type": "stream",
     "text": [
      "@> 2364 atoms and 1 coordinate set(s) were parsed in 0.02s.\n"
     ]
    },
    {
     "name": "stdout",
     "output_type": "stream",
     "text": [
      "./datafiles/processed_pdb/6D8E_A.pdb A\n"
     ]
    },
    {
     "name": "stderr",
     "output_type": "stream",
     "text": [
      "@> 2452 atoms and 1 coordinate set(s) were parsed in 0.02s.\n"
     ]
    },
    {
     "name": "stdout",
     "output_type": "stream",
     "text": [
      "./datafiles/processed_pdb/6DUK_A.pdb A\n"
     ]
    },
    {
     "name": "stderr",
     "output_type": "stream",
     "text": [
      "@> 2349 atoms and 1 coordinate set(s) were parsed in 0.02s.\n"
     ]
    },
    {
     "name": "stdout",
     "output_type": "stream",
     "text": [
      "./datafiles/processed_pdb/6DUK_B.pdb B\n"
     ]
    },
    {
     "name": "stderr",
     "output_type": "stream",
     "text": [
      "@> 2333 atoms and 1 coordinate set(s) were parsed in 0.02s.\n"
     ]
    },
    {
     "name": "stdout",
     "output_type": "stream",
     "text": [
      "./datafiles/processed_pdb/6DUK_C.pdb C\n"
     ]
    },
    {
     "name": "stderr",
     "output_type": "stream",
     "text": [
      "@> 2449 atoms and 1 coordinate set(s) were parsed in 0.02s.\n"
     ]
    },
    {
     "name": "stdout",
     "output_type": "stream",
     "text": [
      "./datafiles/processed_pdb/6DUK_D.pdb D\n"
     ]
    },
    {
     "name": "stderr",
     "output_type": "stream",
     "text": [
      "@> 2387 atoms and 1 coordinate set(s) were parsed in 0.02s.\n"
     ]
    },
    {
     "name": "stdout",
     "output_type": "stream",
     "text": [
      "./datafiles/processed_pdb/6DUK_E.pdb E\n"
     ]
    },
    {
     "name": "stderr",
     "output_type": "stream",
     "text": [
      "@> 2344 atoms and 1 coordinate set(s) were parsed in 0.02s.\n"
     ]
    },
    {
     "name": "stdout",
     "output_type": "stream",
     "text": [
      "./datafiles/processed_pdb/6DUK_F.pdb F\n"
     ]
    },
    {
     "name": "stderr",
     "output_type": "stream",
     "text": [
      "@> 2287 atoms and 1 coordinate set(s) were parsed in 0.02s.\n"
     ]
    },
    {
     "name": "stdout",
     "output_type": "stream",
     "text": [
      "./datafiles/processed_pdb/6JRJ_A.pdb A\n"
     ]
    },
    {
     "name": "stderr",
     "output_type": "stream",
     "text": [
      "@> 2249 atoms and 1 coordinate set(s) were parsed in 0.02s.\n"
     ]
    },
    {
     "name": "stdout",
     "output_type": "stream",
     "text": [
      "./datafiles/processed_pdb/6JRK_A.pdb A\n"
     ]
    },
    {
     "name": "stderr",
     "output_type": "stream",
     "text": [
      "@> 2390 atoms and 1 coordinate set(s) were parsed in 0.02s.\n"
     ]
    },
    {
     "name": "stdout",
     "output_type": "stream",
     "text": [
      "./datafiles/processed_pdb/6JRX_A.pdb A\n"
     ]
    },
    {
     "name": "stderr",
     "output_type": "stream",
     "text": [
      "@> 2454 atoms and 1 coordinate set(s) were parsed in 0.02s.\n"
     ]
    },
    {
     "name": "stdout",
     "output_type": "stream",
     "text": [
      "./datafiles/processed_pdb/6JWL_A.pdb A\n"
     ]
    },
    {
     "name": "stderr",
     "output_type": "stream",
     "text": [
      "@> 2250 atoms and 1 coordinate set(s) were parsed in 0.02s.\n"
     ]
    },
    {
     "name": "stdout",
     "output_type": "stream",
     "text": [
      "./datafiles/processed_pdb/6JX0_A.pdb A\n"
     ]
    },
    {
     "name": "stderr",
     "output_type": "stream",
     "text": [
      "@> 2435 atoms and 1 coordinate set(s) were parsed in 0.02s.\n"
     ]
    },
    {
     "name": "stdout",
     "output_type": "stream",
     "text": [
      "./datafiles/processed_pdb/6JX4_A.pdb A\n"
     ]
    },
    {
     "name": "stderr",
     "output_type": "stream",
     "text": [
      "@> 2229 atoms and 1 coordinate set(s) were parsed in 0.02s.\n"
     ]
    },
    {
     "name": "stdout",
     "output_type": "stream",
     "text": [
      "./datafiles/processed_pdb/6JXT_A.pdb A\n"
     ]
    },
    {
     "name": "stderr",
     "output_type": "stream",
     "text": [
      "@> 2488 atoms and 1 coordinate set(s) were parsed in 0.02s.\n"
     ]
    },
    {
     "name": "stdout",
     "output_type": "stream",
     "text": [
      "./datafiles/processed_pdb/6JZ0_A.pdb A\n"
     ]
    },
    {
     "name": "stderr",
     "output_type": "stream",
     "text": [
      "@> 2345 atoms and 1 coordinate set(s) were parsed in 0.02s.\n"
     ]
    },
    {
     "name": "stdout",
     "output_type": "stream",
     "text": [
      "./datafiles/processed_pdb/6LUB_A.pdb A\n"
     ]
    },
    {
     "name": "stderr",
     "output_type": "stream",
     "text": [
      "@> 2388 atoms and 1 coordinate set(s) were parsed in 0.03s.\n"
     ]
    },
    {
     "name": "stdout",
     "output_type": "stream",
     "text": [
      "./datafiles/processed_pdb/6LUD_A.pdb A\n"
     ]
    },
    {
     "name": "stderr",
     "output_type": "stream",
     "text": [
      "@> 2380 atoms and 1 coordinate set(s) were parsed in 0.02s.\n"
     ]
    },
    {
     "name": "stdout",
     "output_type": "stream",
     "text": [
      "./datafiles/processed_pdb/6P1D_D.pdb D\n"
     ]
    },
    {
     "name": "stderr",
     "output_type": "stream",
     "text": [
      "@> 2494 atoms and 1 coordinate set(s) were parsed in 0.02s.\n"
     ]
    },
    {
     "name": "stdout",
     "output_type": "stream",
     "text": [
      "./datafiles/processed_pdb/6P1D_A.pdb A\n"
     ]
    },
    {
     "name": "stderr",
     "output_type": "stream",
     "text": [
      "@> 2410 atoms and 1 coordinate set(s) were parsed in 0.02s.\n"
     ]
    },
    {
     "name": "stdout",
     "output_type": "stream",
     "text": [
      "./datafiles/processed_pdb/6P1D_B.pdb B\n"
     ]
    },
    {
     "name": "stderr",
     "output_type": "stream",
     "text": [
      "@> 2351 atoms and 1 coordinate set(s) were parsed in 0.02s.\n"
     ]
    },
    {
     "name": "stdout",
     "output_type": "stream",
     "text": [
      "./datafiles/processed_pdb/6P1D_C.pdb C\n"
     ]
    },
    {
     "name": "stderr",
     "output_type": "stream",
     "text": [
      "@> 2329 atoms and 1 coordinate set(s) were parsed in 0.02s.\n"
     ]
    },
    {
     "name": "stdout",
     "output_type": "stream",
     "text": [
      "./datafiles/processed_pdb/6P1L_A.pdb A\n"
     ]
    },
    {
     "name": "stderr",
     "output_type": "stream",
     "text": [
      "@> 2355 atoms and 1 coordinate set(s) were parsed in 0.02s.\n"
     ]
    },
    {
     "name": "stdout",
     "output_type": "stream",
     "text": [
      "./datafiles/processed_pdb/6P1L_B.pdb B\n"
     ]
    },
    {
     "name": "stderr",
     "output_type": "stream",
     "text": [
      "@> 2269 atoms and 1 coordinate set(s) were parsed in 0.02s.\n"
     ]
    },
    {
     "name": "stdout",
     "output_type": "stream",
     "text": [
      "./datafiles/processed_pdb/6P1L_C.pdb C\n"
     ]
    },
    {
     "name": "stderr",
     "output_type": "stream",
     "text": [
      "@> 2385 atoms and 1 coordinate set(s) were parsed in 0.03s.\n"
     ]
    },
    {
     "name": "stdout",
     "output_type": "stream",
     "text": [
      "./datafiles/processed_pdb/6P1L_D.pdb D\n"
     ]
    },
    {
     "name": "stderr",
     "output_type": "stream",
     "text": [
      "@> 2482 atoms and 1 coordinate set(s) were parsed in 0.02s.\n"
     ]
    },
    {
     "name": "stdout",
     "output_type": "stream",
     "text": [
      "./datafiles/processed_pdb/6P8Q_A.pdb A\n"
     ]
    },
    {
     "name": "stderr",
     "output_type": "stream",
     "text": [
      "@> 2406 atoms and 1 coordinate set(s) were parsed in 0.02s.\n"
     ]
    },
    {
     "name": "stdout",
     "output_type": "stream",
     "text": [
      "./datafiles/processed_pdb/6P8Q_B.pdb B\n"
     ]
    },
    {
     "name": "stderr",
     "output_type": "stream",
     "text": [
      "@> 2529 atoms and 1 coordinate set(s) were parsed in 0.02s.\n"
     ]
    },
    {
     "name": "stdout",
     "output_type": "stream",
     "text": [
      "./datafiles/processed_pdb/6P8Q_C.pdb C\n"
     ]
    },
    {
     "name": "stderr",
     "output_type": "stream",
     "text": [
      "@> 2384 atoms and 1 coordinate set(s) were parsed in 0.03s.\n"
     ]
    },
    {
     "name": "stdout",
     "output_type": "stream",
     "text": [
      "./datafiles/processed_pdb/6P8Q_D.pdb D\n"
     ]
    },
    {
     "name": "stderr",
     "output_type": "stream",
     "text": [
      "@> 2395 atoms and 1 coordinate set(s) were parsed in 0.02s.\n"
     ]
    },
    {
     "name": "stdout",
     "output_type": "stream",
     "text": [
      "./datafiles/processed_pdb/6S89_A.pdb A\n"
     ]
    },
    {
     "name": "stderr",
     "output_type": "stream",
     "text": [
      "@> 2425 atoms and 1 coordinate set(s) were parsed in 0.02s.\n"
     ]
    },
    {
     "name": "stdout",
     "output_type": "stream",
     "text": [
      "./datafiles/processed_pdb/6S8A_A.pdb A\n"
     ]
    },
    {
     "name": "stderr",
     "output_type": "stream",
     "text": [
      "@> 2337 atoms and 1 coordinate set(s) were parsed in 0.02s.\n"
     ]
    },
    {
     "name": "stdout",
     "output_type": "stream",
     "text": [
      "./datafiles/processed_pdb/6S9B_A.pdb A\n"
     ]
    },
    {
     "name": "stderr",
     "output_type": "stream",
     "text": [
      "@> 2416 atoms and 1 coordinate set(s) were parsed in 0.02s.\n"
     ]
    },
    {
     "name": "stdout",
     "output_type": "stream",
     "text": [
      "./datafiles/processed_pdb/6S9C_A.pdb A\n"
     ]
    },
    {
     "name": "stderr",
     "output_type": "stream",
     "text": [
      "@> 2402 atoms and 1 coordinate set(s) were parsed in 0.02s.\n"
     ]
    },
    {
     "name": "stdout",
     "output_type": "stream",
     "text": [
      "./datafiles/processed_pdb/6S9D_A.pdb A\n"
     ]
    },
    {
     "name": "stderr",
     "output_type": "stream",
     "text": [
      "@> 2041 atoms and 1 coordinate set(s) were parsed in 0.03s.\n"
     ]
    },
    {
     "name": "stdout",
     "output_type": "stream",
     "text": [
      "./datafiles/processed_pdb/6TFU_A.pdb A\n"
     ]
    },
    {
     "name": "stderr",
     "output_type": "stream",
     "text": [
      "@> 1996 atoms and 1 coordinate set(s) were parsed in 0.02s.\n"
     ]
    },
    {
     "name": "stdout",
     "output_type": "stream",
     "text": [
      "./datafiles/processed_pdb/6TFU_B.pdb B\n"
     ]
    },
    {
     "name": "stderr",
     "output_type": "stream",
     "text": [
      "@> 2130 atoms and 1 coordinate set(s) were parsed in 0.02s.\n"
     ]
    },
    {
     "name": "stdout",
     "output_type": "stream",
     "text": [
      "./datafiles/processed_pdb/6TFV_A.pdb A\n"
     ]
    },
    {
     "name": "stderr",
     "output_type": "stream",
     "text": [
      "@> 2118 atoms and 1 coordinate set(s) were parsed in 0.02s.\n"
     ]
    },
    {
     "name": "stdout",
     "output_type": "stream",
     "text": [
      "./datafiles/processed_pdb/6TFV_B.pdb B\n"
     ]
    },
    {
     "name": "stderr",
     "output_type": "stream",
     "text": [
      "@> 2065 atoms and 1 coordinate set(s) were parsed in 0.03s.\n"
     ]
    },
    {
     "name": "stdout",
     "output_type": "stream",
     "text": [
      "./datafiles/processed_pdb/6TFW_A.pdb A\n"
     ]
    },
    {
     "name": "stderr",
     "output_type": "stream",
     "text": [
      "@> 2032 atoms and 1 coordinate set(s) were parsed in 0.02s.\n"
     ]
    },
    {
     "name": "stdout",
     "output_type": "stream",
     "text": [
      "./datafiles/processed_pdb/6TFW_B.pdb B\n"
     ]
    },
    {
     "name": "stderr",
     "output_type": "stream",
     "text": [
      "@> 2112 atoms and 1 coordinate set(s) were parsed in 0.03s.\n"
     ]
    },
    {
     "name": "stdout",
     "output_type": "stream",
     "text": [
      "./datafiles/processed_pdb/6TFY_A.pdb A\n"
     ]
    },
    {
     "name": "stderr",
     "output_type": "stream",
     "text": [
      "@> 2109 atoms and 1 coordinate set(s) were parsed in 0.02s.\n"
     ]
    },
    {
     "name": "stdout",
     "output_type": "stream",
     "text": [
      "./datafiles/processed_pdb/6TFY_B.pdb B\n"
     ]
    },
    {
     "name": "stderr",
     "output_type": "stream",
     "text": [
      "@> 2080 atoms and 1 coordinate set(s) were parsed in 0.02s.\n"
     ]
    },
    {
     "name": "stdout",
     "output_type": "stream",
     "text": [
      "./datafiles/processed_pdb/6TFZ_A.pdb A\n"
     ]
    },
    {
     "name": "stderr",
     "output_type": "stream",
     "text": [
      "@> 2103 atoms and 1 coordinate set(s) were parsed in 0.02s.\n"
     ]
    },
    {
     "name": "stdout",
     "output_type": "stream",
     "text": [
      "./datafiles/processed_pdb/6TFZ_B.pdb B\n"
     ]
    },
    {
     "name": "stderr",
     "output_type": "stream",
     "text": [
      "@> 2112 atoms and 1 coordinate set(s) were parsed in 0.04s.\n"
     ]
    },
    {
     "name": "stdout",
     "output_type": "stream",
     "text": [
      "./datafiles/processed_pdb/6TG0_A.pdb A\n"
     ]
    },
    {
     "name": "stderr",
     "output_type": "stream",
     "text": [
      "@> 2179 atoms and 1 coordinate set(s) were parsed in 0.03s.\n"
     ]
    },
    {
     "name": "stdout",
     "output_type": "stream",
     "text": [
      "./datafiles/processed_pdb/6TG0_B.pdb B\n"
     ]
    },
    {
     "name": "stderr",
     "output_type": "stream",
     "text": [
      "@> 2106 atoms and 1 coordinate set(s) were parsed in 0.03s.\n"
     ]
    },
    {
     "name": "stdout",
     "output_type": "stream",
     "text": [
      "./datafiles/processed_pdb/6TG1_A.pdb A\n"
     ]
    },
    {
     "name": "stderr",
     "output_type": "stream",
     "text": [
      "@> 2098 atoms and 1 coordinate set(s) were parsed in 0.03s.\n"
     ]
    },
    {
     "name": "stdout",
     "output_type": "stream",
     "text": [
      "./datafiles/processed_pdb/6TG1_B.pdb B\n"
     ]
    },
    {
     "name": "stderr",
     "output_type": "stream",
     "text": [
      "@> 2478 atoms and 1 coordinate set(s) were parsed in 0.03s.\n"
     ]
    },
    {
     "name": "stdout",
     "output_type": "stream",
     "text": [
      "./datafiles/processed_pdb/6V5N_D.pdb D\n"
     ]
    },
    {
     "name": "stderr",
     "output_type": "stream",
     "text": [
      "@> 2521 atoms and 1 coordinate set(s) were parsed in 0.03s.\n"
     ]
    },
    {
     "name": "stdout",
     "output_type": "stream",
     "text": [
      "./datafiles/processed_pdb/6V5N_A.pdb A\n"
     ]
    },
    {
     "name": "stderr",
     "output_type": "stream",
     "text": [
      "@> 2397 atoms and 1 coordinate set(s) were parsed in 0.02s.\n"
     ]
    },
    {
     "name": "stdout",
     "output_type": "stream",
     "text": [
      "./datafiles/processed_pdb/6V5N_B.pdb B\n"
     ]
    },
    {
     "name": "stderr",
     "output_type": "stream",
     "text": [
      "@> 2372 atoms and 1 coordinate set(s) were parsed in 0.02s.\n"
     ]
    },
    {
     "name": "stdout",
     "output_type": "stream",
     "text": [
      "./datafiles/processed_pdb/6V5N_C.pdb C\n"
     ]
    },
    {
     "name": "stderr",
     "output_type": "stream",
     "text": [
      "@> 2521 atoms and 1 coordinate set(s) were parsed in 0.05s.\n"
     ]
    },
    {
     "name": "stdout",
     "output_type": "stream",
     "text": [
      "./datafiles/processed_pdb/6V5P_A.pdb A\n"
     ]
    },
    {
     "name": "stderr",
     "output_type": "stream",
     "text": [
      "@> 2410 atoms and 1 coordinate set(s) were parsed in 0.03s.\n"
     ]
    },
    {
     "name": "stdout",
     "output_type": "stream",
     "text": [
      "./datafiles/processed_pdb/6V5P_B.pdb B\n"
     ]
    },
    {
     "name": "stderr",
     "output_type": "stream",
     "text": [
      "@> 2380 atoms and 1 coordinate set(s) were parsed in 0.02s.\n"
     ]
    },
    {
     "name": "stdout",
     "output_type": "stream",
     "text": [
      "./datafiles/processed_pdb/6V5P_C.pdb C\n"
     ]
    },
    {
     "name": "stderr",
     "output_type": "stream",
     "text": [
      "@> 2478 atoms and 1 coordinate set(s) were parsed in 0.04s.\n"
     ]
    },
    {
     "name": "stdout",
     "output_type": "stream",
     "text": [
      "./datafiles/processed_pdb/6V5P_D.pdb D\n"
     ]
    },
    {
     "name": "stderr",
     "output_type": "stream",
     "text": [
      "@> 2521 atoms and 1 coordinate set(s) were parsed in 0.02s.\n"
     ]
    },
    {
     "name": "stdout",
     "output_type": "stream",
     "text": [
      "./datafiles/processed_pdb/6V66_D.pdb D\n"
     ]
    },
    {
     "name": "stderr",
     "output_type": "stream",
     "text": [
      "@> 2521 atoms and 1 coordinate set(s) were parsed in 0.03s.\n"
     ]
    },
    {
     "name": "stdout",
     "output_type": "stream",
     "text": [
      "./datafiles/processed_pdb/6V66_A.pdb A\n"
     ]
    },
    {
     "name": "stderr",
     "output_type": "stream",
     "text": [
      "@> 2432 atoms and 1 coordinate set(s) were parsed in 0.03s.\n"
     ]
    },
    {
     "name": "stdout",
     "output_type": "stream",
     "text": [
      "./datafiles/processed_pdb/6V66_B.pdb B\n"
     ]
    },
    {
     "name": "stderr",
     "output_type": "stream",
     "text": [
      "@> 2410 atoms and 1 coordinate set(s) were parsed in 0.02s.\n"
     ]
    },
    {
     "name": "stdout",
     "output_type": "stream",
     "text": [
      "./datafiles/processed_pdb/6V66_C.pdb C\n"
     ]
    },
    {
     "name": "stderr",
     "output_type": "stream",
     "text": [
      "@> 2521 atoms and 1 coordinate set(s) were parsed in 0.03s.\n"
     ]
    },
    {
     "name": "stdout",
     "output_type": "stream",
     "text": [
      "./datafiles/processed_pdb/6V6K_D.pdb D\n"
     ]
    },
    {
     "name": "stderr",
     "output_type": "stream",
     "text": [
      "@> 2411 atoms and 1 coordinate set(s) were parsed in 0.02s.\n"
     ]
    },
    {
     "name": "stdout",
     "output_type": "stream",
     "text": [
      "./datafiles/processed_pdb/6V6K_A.pdb A\n"
     ]
    },
    {
     "name": "stderr",
     "output_type": "stream",
     "text": [
      "@> 2424 atoms and 1 coordinate set(s) were parsed in 0.03s.\n"
     ]
    },
    {
     "name": "stdout",
     "output_type": "stream",
     "text": [
      "./datafiles/processed_pdb/6V6K_B.pdb B\n"
     ]
    },
    {
     "name": "stderr",
     "output_type": "stream",
     "text": [
      "@> 2431 atoms and 1 coordinate set(s) were parsed in 0.02s.\n"
     ]
    },
    {
     "name": "stdout",
     "output_type": "stream",
     "text": [
      "./datafiles/processed_pdb/6V6K_C.pdb C\n"
     ]
    },
    {
     "name": "stderr",
     "output_type": "stream",
     "text": [
      "@> 2432 atoms and 1 coordinate set(s) were parsed in 0.02s.\n"
     ]
    },
    {
     "name": "stdout",
     "output_type": "stream",
     "text": [
      "./datafiles/processed_pdb/6V6K_E.pdb E\n"
     ]
    },
    {
     "name": "stderr",
     "output_type": "stream",
     "text": [
      "@> 2453 atoms and 1 coordinate set(s) were parsed in 0.02s.\n"
     ]
    },
    {
     "name": "stdout",
     "output_type": "stream",
     "text": [
      "./datafiles/processed_pdb/6V6K_F.pdb F\n"
     ]
    },
    {
     "name": "stderr",
     "output_type": "stream",
     "text": [
      "@> 2521 atoms and 1 coordinate set(s) were parsed in 0.02s.\n"
     ]
    },
    {
     "name": "stdout",
     "output_type": "stream",
     "text": [
      "./datafiles/processed_pdb/6V6K_G.pdb G\n"
     ]
    },
    {
     "name": "stderr",
     "output_type": "stream",
     "text": [
      "@> 2521 atoms and 1 coordinate set(s) were parsed in 0.02s.\n"
     ]
    },
    {
     "name": "stdout",
     "output_type": "stream",
     "text": [
      "./datafiles/processed_pdb/6V6K_H.pdb H\n"
     ]
    },
    {
     "name": "stderr",
     "output_type": "stream",
     "text": [
      "@> 2521 atoms and 1 coordinate set(s) were parsed in 0.02s.\n"
     ]
    },
    {
     "name": "stdout",
     "output_type": "stream",
     "text": [
      "./datafiles/processed_pdb/6V6O_D.pdb D\n"
     ]
    },
    {
     "name": "stderr",
     "output_type": "stream",
     "text": [
      "@> 2470 atoms and 1 coordinate set(s) were parsed in 0.02s.\n"
     ]
    },
    {
     "name": "stdout",
     "output_type": "stream",
     "text": [
      "./datafiles/processed_pdb/6V6O_A.pdb A\n"
     ]
    },
    {
     "name": "stderr",
     "output_type": "stream",
     "text": [
      "@> 2521 atoms and 1 coordinate set(s) were parsed in 0.02s.\n"
     ]
    },
    {
     "name": "stdout",
     "output_type": "stream",
     "text": [
      "./datafiles/processed_pdb/6V6O_B.pdb B\n"
     ]
    },
    {
     "name": "stderr",
     "output_type": "stream",
     "text": [
      "@> 2390 atoms and 1 coordinate set(s) were parsed in 0.02s.\n"
     ]
    },
    {
     "name": "stdout",
     "output_type": "stream",
     "text": [
      "./datafiles/processed_pdb/6V6O_C.pdb C\n"
     ]
    },
    {
     "name": "stderr",
     "output_type": "stream",
     "text": [
      "@> 2436 atoms and 1 coordinate set(s) were parsed in 0.04s.\n"
     ]
    },
    {
     "name": "stdout",
     "output_type": "stream",
     "text": [
      "./datafiles/processed_pdb/6V6O_E.pdb E\n"
     ]
    },
    {
     "name": "stderr",
     "output_type": "stream",
     "text": [
      "@> 2410 atoms and 1 coordinate set(s) were parsed in 0.03s.\n"
     ]
    },
    {
     "name": "stdout",
     "output_type": "stream",
     "text": [
      "./datafiles/processed_pdb/6V6O_F.pdb F\n"
     ]
    },
    {
     "name": "stderr",
     "output_type": "stream",
     "text": [
      "@> 2369 atoms and 1 coordinate set(s) were parsed in 0.03s.\n"
     ]
    },
    {
     "name": "stdout",
     "output_type": "stream",
     "text": [
      "./datafiles/processed_pdb/6V6O_G.pdb G\n"
     ]
    },
    {
     "name": "stderr",
     "output_type": "stream",
     "text": [
      "@> 2404 atoms and 1 coordinate set(s) were parsed in 0.02s.\n"
     ]
    },
    {
     "name": "stdout",
     "output_type": "stream",
     "text": [
      "./datafiles/processed_pdb/6V6O_H.pdb H\n"
     ]
    },
    {
     "name": "stderr",
     "output_type": "stream",
     "text": [
      "@> 2336 atoms and 1 coordinate set(s) were parsed in 0.02s.\n"
     ]
    },
    {
     "name": "stdout",
     "output_type": "stream",
     "text": [
      "./datafiles/processed_pdb/6VH4_A.pdb A\n"
     ]
    },
    {
     "name": "stderr",
     "output_type": "stream",
     "text": [
      "@> 2284 atoms and 1 coordinate set(s) were parsed in 0.02s.\n"
     ]
    },
    {
     "name": "stdout",
     "output_type": "stream",
     "text": [
      "./datafiles/processed_pdb/6VHN_A.pdb A\n"
     ]
    },
    {
     "name": "stderr",
     "output_type": "stream",
     "text": [
      "@> 2420 atoms and 1 coordinate set(s) were parsed in 0.02s.\n"
     ]
    },
    {
     "name": "stdout",
     "output_type": "stream",
     "text": [
      "./datafiles/processed_pdb/6VHP_A.pdb A\n"
     ]
    },
    {
     "name": "stderr",
     "output_type": "stream",
     "text": [
      "@> 2521 atoms and 1 coordinate set(s) were parsed in 0.02s.\n"
     ]
    },
    {
     "name": "stdout",
     "output_type": "stream",
     "text": [
      "./datafiles/processed_pdb/6WA2_D.pdb D\n"
     ]
    },
    {
     "name": "stderr",
     "output_type": "stream",
     "text": [
      "@> 2425 atoms and 1 coordinate set(s) were parsed in 0.02s.\n"
     ]
    },
    {
     "name": "stdout",
     "output_type": "stream",
     "text": [
      "./datafiles/processed_pdb/6WA2_A.pdb A\n"
     ]
    },
    {
     "name": "stderr",
     "output_type": "stream",
     "text": [
      "@> 2521 atoms and 1 coordinate set(s) were parsed in 0.03s.\n"
     ]
    },
    {
     "name": "stdout",
     "output_type": "stream",
     "text": [
      "./datafiles/processed_pdb/6WA2_B.pdb B\n"
     ]
    },
    {
     "name": "stderr",
     "output_type": "stream",
     "text": [
      "@> 2411 atoms and 1 coordinate set(s) were parsed in 0.03s.\n"
     ]
    },
    {
     "name": "stdout",
     "output_type": "stream",
     "text": [
      "./datafiles/processed_pdb/6WA2_C.pdb C\n"
     ]
    },
    {
     "name": "stderr",
     "output_type": "stream",
     "text": [
      "@> 2395 atoms and 1 coordinate set(s) were parsed in 0.02s.\n"
     ]
    },
    {
     "name": "stdout",
     "output_type": "stream",
     "text": [
      "./datafiles/processed_pdb/6WAK_D.pdb D\n"
     ]
    },
    {
     "name": "stderr",
     "output_type": "stream",
     "text": [
      "@> 2384 atoms and 1 coordinate set(s) were parsed in 0.02s.\n"
     ]
    },
    {
     "name": "stdout",
     "output_type": "stream",
     "text": [
      "./datafiles/processed_pdb/6WAK_A.pdb A\n"
     ]
    },
    {
     "name": "stderr",
     "output_type": "stream",
     "text": [
      "@> 2552 atoms and 1 coordinate set(s) were parsed in 0.02s.\n"
     ]
    },
    {
     "name": "stdout",
     "output_type": "stream",
     "text": [
      "./datafiles/processed_pdb/6WAK_B.pdb B\n"
     ]
    },
    {
     "name": "stderr",
     "output_type": "stream",
     "text": [
      "@> 2401 atoms and 1 coordinate set(s) were parsed in 0.02s.\n"
     ]
    },
    {
     "name": "stdout",
     "output_type": "stream",
     "text": [
      "./datafiles/processed_pdb/6WAK_C.pdb C\n"
     ]
    },
    {
     "name": "stderr",
     "output_type": "stream",
     "text": [
      "@> 2349 atoms and 1 coordinate set(s) were parsed in 0.02s.\n"
     ]
    },
    {
     "name": "stdout",
     "output_type": "stream",
     "text": [
      "./datafiles/processed_pdb/6WXN_D.pdb D\n"
     ]
    },
    {
     "name": "stderr",
     "output_type": "stream",
     "text": [
      "@> 2380 atoms and 1 coordinate set(s) were parsed in 0.04s.\n"
     ]
    },
    {
     "name": "stdout",
     "output_type": "stream",
     "text": [
      "./datafiles/processed_pdb/6WXN_A.pdb A\n"
     ]
    },
    {
     "name": "stderr",
     "output_type": "stream",
     "text": [
      "@> 2439 atoms and 1 coordinate set(s) were parsed in 0.03s.\n"
     ]
    },
    {
     "name": "stdout",
     "output_type": "stream",
     "text": [
      "./datafiles/processed_pdb/6WXN_B.pdb B\n"
     ]
    },
    {
     "name": "stderr",
     "output_type": "stream",
     "text": [
      "@> 2310 atoms and 1 coordinate set(s) were parsed in 0.02s.\n"
     ]
    },
    {
     "name": "stdout",
     "output_type": "stream",
     "text": [
      "./datafiles/processed_pdb/6WXN_C.pdb C\n"
     ]
    },
    {
     "name": "stderr",
     "output_type": "stream",
     "text": [
      "@> 2360 atoms and 1 coordinate set(s) were parsed in 0.03s.\n"
     ]
    },
    {
     "name": "stdout",
     "output_type": "stream",
     "text": [
      "./datafiles/processed_pdb/6XL4_A.pdb A\n"
     ]
    },
    {
     "name": "stderr",
     "output_type": "stream",
     "text": [
      "@> 2347 atoms and 1 coordinate set(s) were parsed in 0.02s.\n"
     ]
    },
    {
     "name": "stdout",
     "output_type": "stream",
     "text": [
      "./datafiles/processed_pdb/6XL4_B.pdb B\n"
     ]
    },
    {
     "name": "stderr",
     "output_type": "stream",
     "text": [
      "@> 2419 atoms and 1 coordinate set(s) were parsed in 0.03s.\n"
     ]
    },
    {
     "name": "stdout",
     "output_type": "stream",
     "text": [
      "./datafiles/processed_pdb/6XL4_C.pdb C\n"
     ]
    },
    {
     "name": "stderr",
     "output_type": "stream",
     "text": [
      "@> 2400 atoms and 1 coordinate set(s) were parsed in 0.04s.\n"
     ]
    },
    {
     "name": "stdout",
     "output_type": "stream",
     "text": [
      "./datafiles/processed_pdb/6XL4_D.pdb D\n"
     ]
    },
    {
     "name": "stderr",
     "output_type": "stream",
     "text": [
      "@> 2093 atoms and 1 coordinate set(s) were parsed in 0.02s.\n"
     ]
    },
    {
     "name": "stdout",
     "output_type": "stream",
     "text": [
      "./datafiles/processed_pdb/6Z4B_A.pdb A\n"
     ]
    },
    {
     "name": "stderr",
     "output_type": "stream",
     "text": [
      "@> 2018 atoms and 1 coordinate set(s) were parsed in 0.02s.\n"
     ]
    },
    {
     "name": "stdout",
     "output_type": "stream",
     "text": [
      "./datafiles/processed_pdb/6Z4B_B.pdb B\n"
     ]
    },
    {
     "name": "stderr",
     "output_type": "stream",
     "text": [
      "@> 2110 atoms and 1 coordinate set(s) were parsed in 0.02s.\n"
     ]
    },
    {
     "name": "stdout",
     "output_type": "stream",
     "text": [
      "./datafiles/processed_pdb/6Z4D_A.pdb A\n"
     ]
    },
    {
     "name": "stderr",
     "output_type": "stream",
     "text": [
      "@> 2080 atoms and 1 coordinate set(s) were parsed in 0.02s.\n"
     ]
    },
    {
     "name": "stdout",
     "output_type": "stream",
     "text": [
      "./datafiles/processed_pdb/6Z4D_B.pdb B\n"
     ]
    },
    {
     "name": "stderr",
     "output_type": "stream",
     "text": [
      "@> 2049 atoms and 1 coordinate set(s) were parsed in 0.02s.\n"
     ]
    },
    {
     "name": "stdout",
     "output_type": "stream",
     "text": [
      "./datafiles/processed_pdb/7A2A_A.pdb A\n"
     ]
    },
    {
     "name": "stderr",
     "output_type": "stream",
     "text": [
      "@> 2063 atoms and 1 coordinate set(s) were parsed in 0.02s.\n"
     ]
    },
    {
     "name": "stdout",
     "output_type": "stream",
     "text": [
      "./datafiles/processed_pdb/7A2A_B.pdb B\n"
     ]
    },
    {
     "name": "stderr",
     "output_type": "stream",
     "text": [
      "@> 2528 atoms and 1 coordinate set(s) were parsed in 0.02s.\n"
     ]
    },
    {
     "name": "stdout",
     "output_type": "stream",
     "text": [
      "./datafiles/processed_pdb/7AEI_A.pdb A\n"
     ]
    },
    {
     "name": "stderr",
     "output_type": "stream",
     "text": [
      "@> 2488 atoms and 1 coordinate set(s) were parsed in 0.02s.\n"
     ]
    },
    {
     "name": "stdout",
     "output_type": "stream",
     "text": [
      "./datafiles/processed_pdb/7AEM_A.pdb A\n"
     ]
    },
    {
     "name": "stderr",
     "output_type": "stream",
     "text": [
      "@> 2333 atoms and 1 coordinate set(s) were parsed in 0.02s.\n"
     ]
    },
    {
     "name": "stdout",
     "output_type": "stream",
     "text": [
      "./datafiles/processed_pdb/7JXI_D.pdb D\n"
     ]
    },
    {
     "name": "stderr",
     "output_type": "stream",
     "text": [
      "@> 2342 atoms and 1 coordinate set(s) were parsed in 0.02s.\n"
     ]
    },
    {
     "name": "stdout",
     "output_type": "stream",
     "text": [
      "./datafiles/processed_pdb/7JXI_A.pdb A\n"
     ]
    },
    {
     "name": "stderr",
     "output_type": "stream",
     "text": [
      "@> 2286 atoms and 1 coordinate set(s) were parsed in 0.03s.\n"
     ]
    },
    {
     "name": "stdout",
     "output_type": "stream",
     "text": [
      "./datafiles/processed_pdb/7JXI_C.pdb C\n"
     ]
    },
    {
     "name": "stderr",
     "output_type": "stream",
     "text": [
      "@> 2215 atoms and 1 coordinate set(s) were parsed in 0.02s.\n"
     ]
    },
    {
     "name": "stdout",
     "output_type": "stream",
     "text": [
      "./datafiles/processed_pdb/7JXI_B.pdb B\n"
     ]
    },
    {
     "name": "stderr",
     "output_type": "stream",
     "text": [
      "@> 2372 atoms and 1 coordinate set(s) were parsed in 0.02s.\n"
     ]
    },
    {
     "name": "stdout",
     "output_type": "stream",
     "text": [
      "./datafiles/processed_pdb/7JXK_D.pdb D\n"
     ]
    },
    {
     "name": "stderr",
     "output_type": "stream",
     "text": [
      "@> 2364 atoms and 1 coordinate set(s) were parsed in 0.02s.\n"
     ]
    },
    {
     "name": "stdout",
     "output_type": "stream",
     "text": [
      "./datafiles/processed_pdb/7JXK_A.pdb A\n"
     ]
    },
    {
     "name": "stderr",
     "output_type": "stream",
     "text": [
      "@> 2356 atoms and 1 coordinate set(s) were parsed in 0.02s.\n"
     ]
    },
    {
     "name": "stdout",
     "output_type": "stream",
     "text": [
      "./datafiles/processed_pdb/7JXK_C.pdb C\n"
     ]
    },
    {
     "name": "stderr",
     "output_type": "stream",
     "text": [
      "@> 2355 atoms and 1 coordinate set(s) were parsed in 0.02s.\n"
     ]
    },
    {
     "name": "stdout",
     "output_type": "stream",
     "text": [
      "./datafiles/processed_pdb/7JXK_F.pdb F\n"
     ]
    },
    {
     "name": "stderr",
     "output_type": "stream",
     "text": [
      "@> 2309 atoms and 1 coordinate set(s) were parsed in 0.02s.\n"
     ]
    },
    {
     "name": "stdout",
     "output_type": "stream",
     "text": [
      "./datafiles/processed_pdb/7JXK_E.pdb E\n"
     ]
    },
    {
     "name": "stderr",
     "output_type": "stream",
     "text": [
      "@> 2342 atoms and 1 coordinate set(s) were parsed in 0.02s.\n"
     ]
    },
    {
     "name": "stdout",
     "output_type": "stream",
     "text": [
      "./datafiles/processed_pdb/7JXK_B.pdb B\n"
     ]
    },
    {
     "name": "stderr",
     "output_type": "stream",
     "text": [
      "@> 2357 atoms and 1 coordinate set(s) were parsed in 0.02s.\n"
     ]
    },
    {
     "name": "stdout",
     "output_type": "stream",
     "text": [
      "./datafiles/processed_pdb/7JXL_D.pdb D\n"
     ]
    },
    {
     "name": "stderr",
     "output_type": "stream",
     "text": [
      "@> 2373 atoms and 1 coordinate set(s) were parsed in 0.02s.\n"
     ]
    },
    {
     "name": "stdout",
     "output_type": "stream",
     "text": [
      "./datafiles/processed_pdb/7JXL_A.pdb A\n"
     ]
    },
    {
     "name": "stderr",
     "output_type": "stream",
     "text": [
      "@> 2360 atoms and 1 coordinate set(s) were parsed in 0.02s.\n"
     ]
    },
    {
     "name": "stdout",
     "output_type": "stream",
     "text": [
      "./datafiles/processed_pdb/7JXL_C.pdb C\n"
     ]
    },
    {
     "name": "stderr",
     "output_type": "stream",
     "text": [
      "@> 2295 atoms and 1 coordinate set(s) were parsed in 0.02s.\n"
     ]
    },
    {
     "name": "stdout",
     "output_type": "stream",
     "text": [
      "./datafiles/processed_pdb/7JXL_B.pdb B\n"
     ]
    },
    {
     "name": "stderr",
     "output_type": "stream",
     "text": [
      "@> 2350 atoms and 1 coordinate set(s) were parsed in 0.02s.\n"
     ]
    },
    {
     "name": "stdout",
     "output_type": "stream",
     "text": [
      "./datafiles/processed_pdb/7JXM_D.pdb D\n"
     ]
    },
    {
     "name": "stderr",
     "output_type": "stream",
     "text": [
      "@> 2319 atoms and 1 coordinate set(s) were parsed in 0.02s.\n"
     ]
    },
    {
     "name": "stdout",
     "output_type": "stream",
     "text": [
      "./datafiles/processed_pdb/7JXM_A.pdb A\n"
     ]
    },
    {
     "name": "stderr",
     "output_type": "stream",
     "text": [
      "@> 2305 atoms and 1 coordinate set(s) were parsed in 0.02s.\n"
     ]
    },
    {
     "name": "stdout",
     "output_type": "stream",
     "text": [
      "./datafiles/processed_pdb/7JXM_C.pdb C\n"
     ]
    },
    {
     "name": "stderr",
     "output_type": "stream",
     "text": [
      "@> 2385 atoms and 1 coordinate set(s) were parsed in 0.02s.\n"
     ]
    },
    {
     "name": "stdout",
     "output_type": "stream",
     "text": [
      "./datafiles/processed_pdb/7JXM_B.pdb B\n"
     ]
    },
    {
     "name": "stderr",
     "output_type": "stream",
     "text": [
      "@> 2372 atoms and 1 coordinate set(s) were parsed in 0.02s.\n"
     ]
    },
    {
     "name": "stdout",
     "output_type": "stream",
     "text": [
      "./datafiles/processed_pdb/7JXP_D.pdb D\n"
     ]
    },
    {
     "name": "stderr",
     "output_type": "stream",
     "text": [
      "@> 2478 atoms and 1 coordinate set(s) were parsed in 0.02s.\n"
     ]
    },
    {
     "name": "stdout",
     "output_type": "stream",
     "text": [
      "./datafiles/processed_pdb/7JXP_A.pdb A\n"
     ]
    },
    {
     "name": "stderr",
     "output_type": "stream",
     "text": [
      "@> 2355 atoms and 1 coordinate set(s) were parsed in 0.02s.\n"
     ]
    },
    {
     "name": "stdout",
     "output_type": "stream",
     "text": [
      "./datafiles/processed_pdb/7JXP_C.pdb C\n"
     ]
    },
    {
     "name": "stderr",
     "output_type": "stream",
     "text": [
      "@> 2372 atoms and 1 coordinate set(s) were parsed in 0.02s.\n"
     ]
    },
    {
     "name": "stdout",
     "output_type": "stream",
     "text": [
      "./datafiles/processed_pdb/7JXP_F.pdb F\n"
     ]
    },
    {
     "name": "stderr",
     "output_type": "stream",
     "text": [
      "@> 2478 atoms and 1 coordinate set(s) were parsed in 0.02s.\n"
     ]
    },
    {
     "name": "stdout",
     "output_type": "stream",
     "text": [
      "./datafiles/processed_pdb/7JXP_B.pdb B\n"
     ]
    },
    {
     "name": "stderr",
     "output_type": "stream",
     "text": [
      "@> 2309 atoms and 1 coordinate set(s) were parsed in 0.03s.\n"
     ]
    },
    {
     "name": "stdout",
     "output_type": "stream",
     "text": [
      "./datafiles/processed_pdb/7JXP_E.pdb E\n"
     ]
    },
    {
     "name": "stderr",
     "output_type": "stream",
     "text": [
      "@> 2398 atoms and 1 coordinate set(s) were parsed in 0.02s.\n"
     ]
    },
    {
     "name": "stdout",
     "output_type": "stream",
     "text": [
      "./datafiles/processed_pdb/7JXQ_D.pdb D\n"
     ]
    },
    {
     "name": "stderr",
     "output_type": "stream",
     "text": [
      "@> 2389 atoms and 1 coordinate set(s) were parsed in 0.02s.\n"
     ]
    },
    {
     "name": "stdout",
     "output_type": "stream",
     "text": [
      "./datafiles/processed_pdb/7JXQ_A.pdb A\n"
     ]
    },
    {
     "name": "stderr",
     "output_type": "stream",
     "text": [
      "@> 2390 atoms and 1 coordinate set(s) were parsed in 0.02s.\n"
     ]
    },
    {
     "name": "stdout",
     "output_type": "stream",
     "text": [
      "./datafiles/processed_pdb/7JXQ_B.pdb B\n"
     ]
    },
    {
     "name": "stderr",
     "output_type": "stream",
     "text": [
      "@> 2392 atoms and 1 coordinate set(s) were parsed in 0.02s.\n"
     ]
    },
    {
     "name": "stdout",
     "output_type": "stream",
     "text": [
      "./datafiles/processed_pdb/7JXQ_C.pdb C\n"
     ]
    },
    {
     "name": "stderr",
     "output_type": "stream",
     "text": [
      "@> 2318 atoms and 1 coordinate set(s) were parsed in 0.03s.\n"
     ]
    },
    {
     "name": "stdout",
     "output_type": "stream",
     "text": [
      "./datafiles/processed_pdb/7JXW_D.pdb D\n"
     ]
    },
    {
     "name": "stderr",
     "output_type": "stream",
     "text": [
      "@> 2323 atoms and 1 coordinate set(s) were parsed in 0.03s.\n"
     ]
    },
    {
     "name": "stdout",
     "output_type": "stream",
     "text": [
      "./datafiles/processed_pdb/7JXW_A.pdb A\n"
     ]
    },
    {
     "name": "stderr",
     "output_type": "stream",
     "text": [
      "@> 2364 atoms and 1 coordinate set(s) were parsed in 0.03s.\n"
     ]
    },
    {
     "name": "stdout",
     "output_type": "stream",
     "text": [
      "./datafiles/processed_pdb/7JXW_C.pdb C\n"
     ]
    },
    {
     "name": "stderr",
     "output_type": "stream",
     "text": [
      "@> 2348 atoms and 1 coordinate set(s) were parsed in 0.02s.\n"
     ]
    },
    {
     "name": "stdout",
     "output_type": "stream",
     "text": [
      "./datafiles/processed_pdb/7JXW_B.pdb B\n"
     ]
    },
    {
     "name": "stderr",
     "output_type": "stream",
     "text": [
      "@> 2352 atoms and 1 coordinate set(s) were parsed in 0.02s.\n"
     ]
    },
    {
     "name": "stdout",
     "output_type": "stream",
     "text": [
      "./datafiles/processed_pdb/7K1H_B.pdb B\n"
     ]
    },
    {
     "name": "stderr",
     "output_type": "stream",
     "text": [
      "@> 2349 atoms and 1 coordinate set(s) were parsed in 0.03s.\n"
     ]
    },
    {
     "name": "stdout",
     "output_type": "stream",
     "text": [
      "./datafiles/processed_pdb/7K1H_A.pdb A\n"
     ]
    },
    {
     "name": "stderr",
     "output_type": "stream",
     "text": [
      "@> 2344 atoms and 1 coordinate set(s) were parsed in 0.02s.\n"
     ]
    },
    {
     "name": "stdout",
     "output_type": "stream",
     "text": [
      "./datafiles/processed_pdb/7K1H_C.pdb C\n"
     ]
    },
    {
     "name": "stderr",
     "output_type": "stream",
     "text": [
      "@> 2358 atoms and 1 coordinate set(s) were parsed in 0.02s.\n"
     ]
    },
    {
     "name": "stdout",
     "output_type": "stream",
     "text": [
      "./datafiles/processed_pdb/7K1H_D.pdb D\n"
     ]
    },
    {
     "name": "stderr",
     "output_type": "stream",
     "text": [
      "@> 2335 atoms and 1 coordinate set(s) were parsed in 0.03s.\n"
     ]
    },
    {
     "name": "stdout",
     "output_type": "stream",
     "text": [
      "./datafiles/processed_pdb/7K1H_E.pdb E\n"
     ]
    },
    {
     "name": "stderr",
     "output_type": "stream",
     "text": [
      "@> 2344 atoms and 1 coordinate set(s) were parsed in 0.02s.\n"
     ]
    },
    {
     "name": "stdout",
     "output_type": "stream",
     "text": [
      "./datafiles/processed_pdb/7K1H_F.pdb F\n"
     ]
    },
    {
     "name": "stderr",
     "output_type": "stream",
     "text": [
      "@> 2323 atoms and 1 coordinate set(s) were parsed in 0.02s.\n"
     ]
    },
    {
     "name": "stdout",
     "output_type": "stream",
     "text": [
      "./datafiles/processed_pdb/7K1I_A.pdb A\n"
     ]
    },
    {
     "name": "stderr",
     "output_type": "stream",
     "text": [
      "@> 3707 atoms and 1 coordinate set(s) were parsed in 0.04s.\n",
      "@> 3765 atoms and 1 coordinate set(s) were parsed in 0.04s.\n"
     ]
    },
    {
     "name": "stdout",
     "output_type": "stream",
     "text": [
      "./datafiles/processed_pdb/7LEN_A.pdb A\n",
      "./datafiles/processed_pdb/7LEN_B.pdb B\n"
     ]
    },
    {
     "name": "stderr",
     "output_type": "stream",
     "text": [
      "@> 3773 atoms and 1 coordinate set(s) were parsed in 0.04s.\n",
      "@> 3785 atoms and 1 coordinate set(s) were parsed in 0.04s.\n"
     ]
    },
    {
     "name": "stdout",
     "output_type": "stream",
     "text": [
      "./datafiles/processed_pdb/7LFR_A.pdb A\n",
      "./datafiles/processed_pdb/7LFR_B.pdb B\n"
     ]
    },
    {
     "name": "stderr",
     "output_type": "stream",
     "text": [
      "@> 3643 atoms and 1 coordinate set(s) were parsed in 0.03s.\n",
      "@> 3793 atoms and 1 coordinate set(s) were parsed in 0.04s.\n",
      "@> 3663 atoms and 1 coordinate set(s) were parsed in 0.03s.\n"
     ]
    },
    {
     "name": "stdout",
     "output_type": "stream",
     "text": [
      "./datafiles/processed_pdb/7LFS_A.pdb A\n",
      "./datafiles/processed_pdb/7LFS_B.pdb B\n",
      "./datafiles/processed_pdb/7LFS_C.pdb C\n",
      "./datafiles/processed_pdb/7LFS_D.pdb D\n"
     ]
    },
    {
     "name": "stderr",
     "output_type": "stream",
     "text": [
      "@> 3620 atoms and 1 coordinate set(s) were parsed in 0.03s.\n",
      "@> 2265 atoms and 1 coordinate set(s) were parsed in 0.02s.\n"
     ]
    },
    {
     "name": "stdout",
     "output_type": "stream",
     "text": [
      "./datafiles/processed_pdb/7LGS_A.pdb A\n"
     ]
    },
    {
     "name": "stderr",
     "output_type": "stream",
     "text": [
      "@> 2287 atoms and 1 coordinate set(s) were parsed in 0.02s.\n"
     ]
    },
    {
     "name": "stdout",
     "output_type": "stream",
     "text": [
      "./datafiles/processed_pdb/7LGS_B.pdb B\n"
     ]
    },
    {
     "name": "stderr",
     "output_type": "stream",
     "text": [
      "@> 2264 atoms and 1 coordinate set(s) were parsed in 0.02s.\n"
     ]
    },
    {
     "name": "stdout",
     "output_type": "stream",
     "text": [
      "./datafiles/processed_pdb/7LGS_C.pdb C\n"
     ]
    },
    {
     "name": "stderr",
     "output_type": "stream",
     "text": [
      "@> 2233 atoms and 1 coordinate set(s) were parsed in 0.02s.\n"
     ]
    },
    {
     "name": "stdout",
     "output_type": "stream",
     "text": [
      "./datafiles/processed_pdb/7LGS_D.pdb D\n"
     ]
    },
    {
     "name": "stderr",
     "output_type": "stream",
     "text": [
      "@> 2442 atoms and 1 coordinate set(s) were parsed in 0.03s.\n"
     ]
    },
    {
     "name": "stdout",
     "output_type": "stream",
     "text": [
      "./datafiles/processed_pdb/7OXB_A.pdb A\n"
     ]
    },
    {
     "name": "stderr",
     "output_type": "stream",
     "text": [
      "@> 4723 atoms and 1 coordinate set(s) were parsed in 0.05s.\n",
      "@> 4723 atoms and 1 coordinate set(s) were parsed in 0.05s.\n"
     ]
    },
    {
     "name": "stdout",
     "output_type": "stream",
     "text": [
      "./datafiles/processed_pdb/7SZ7_A.pdb A\n",
      "./datafiles/processed_pdb/7SZ7_B.pdb B\n"
     ]
    }
   ],
   "source": [
    "dist_mat_list = []\n",
    "dist_mat_pdb = []\n",
    "NCAA = ['PTR', 'SEP', 'CSX', 'CY0']\n",
    "pdb_proc = dist_analy.import_pdb.PDB_Processer(NCAA)\n",
    "for pdb_fn in found_pdbs:     \n",
    "    pdb_list = pdb_proc.process_pdb(pdb_fn+'.pdb', pdb_dir, proc_dir, egfr_uniprot)\n",
    "    for proc in pdb_list:\n",
    "        pdb = proc.split('.')[0]\n",
    "        chain = proc.split(\".\")[0].split(\"_\")[-1]\n",
    "        print(proc_dir+proc, chain)\n",
    "        try:\n",
    "            dist_mat = get_shortest_dist_matrix(proc_dir+proc, EGFR_KLIFS_IDENT, chain)\n",
    "            dist_mat_list.append(dist_mat)\n",
    "            dist_mat_pdb.append(pdb)\n",
    "        except AttributeError:\n",
    "            print('problematic pdb file')\n",
    "\n",
    "        "
   ]
  },
  {
   "cell_type": "code",
   "execution_count": null,
   "metadata": {},
   "outputs": [],
   "source": [
    "print(\"Number of PDB structures: %i ; Number of EGFR structures: %i\"%(len(found_pdbs), len(proc_pdb_list)))"
   ]
  },
  {
   "cell_type": "markdown",
   "metadata": {},
   "source": [
    "### if you already have the pdb structures processed run the cell below"
   ]
  },
  {
   "cell_type": "code",
   "execution_count": 35,
   "metadata": {},
   "outputs": [
    {
     "name": "stderr",
     "output_type": "stream",
     "text": [
      "@> 3956 atoms and 1 coordinate set(s) were parsed in 0.04s.\n",
      "@> 3947 atoms and 1 coordinate set(s) were parsed in 0.04s.\n",
      "@> 2452 atoms and 1 coordinate set(s) were parsed in 0.03s.\n"
     ]
    },
    {
     "name": "stdout",
     "output_type": "stream",
     "text": [
      "./datafiles/processed_pdb\\1IVO_A.pdb\n",
      "./datafiles/processed_pdb\\1IVO_B.pdb\n",
      "./datafiles/processed_pdb\\1M14_A.pdb\n"
     ]
    },
    {
     "name": "stderr",
     "output_type": "stream",
     "text": [
      "@> 2497 atoms and 1 coordinate set(s) were parsed in 0.02s.\n"
     ]
    },
    {
     "name": "stdout",
     "output_type": "stream",
     "text": [
      "./datafiles/processed_pdb\\1M17_A.pdb\n"
     ]
    },
    {
     "name": "stderr",
     "output_type": "stream",
     "text": [
      "@> 3820 atoms and 1 coordinate set(s) were parsed in 0.03s.\n",
      "@> 3844 atoms and 1 coordinate set(s) were parsed in 0.05s.\n",
      "@> 4597 atoms and 1 coordinate set(s) were parsed in 0.05s.\n"
     ]
    },
    {
     "name": "stdout",
     "output_type": "stream",
     "text": [
      "./datafiles/processed_pdb\\1MOX_A.pdb\n",
      "./datafiles/processed_pdb\\1MOX_B.pdb\n",
      "./datafiles/processed_pdb\\1NQL_A.pdb\n"
     ]
    },
    {
     "name": "stderr",
     "output_type": "stream",
     "text": [
      "@> 2249 atoms and 1 coordinate set(s) were parsed in 0.02s.\n"
     ]
    },
    {
     "name": "stdout",
     "output_type": "stream",
     "text": [
      "./datafiles/processed_pdb\\1XKK_A.pdb\n"
     ]
    },
    {
     "name": "stderr",
     "output_type": "stream",
     "text": [
      "@> 4653 atoms and 1 coordinate set(s) were parsed in 0.04s.\n",
      "@> WARNING Atomic data could not be parsed, please check the input file.\n"
     ]
    },
    {
     "name": "stdout",
     "output_type": "stream",
     "text": [
      "./datafiles/processed_pdb\\1YY9_A.pdb\n",
      "./datafiles/processed_pdb\\1Z9I_A_0.pdb\n"
     ]
    },
    {
     "ename": "AttributeError",
     "evalue": "'NoneType' object has no attribute 'getHierView'",
     "output_type": "error",
     "traceback": [
      "\u001b[1;31m---------------------------------------------------------------------------\u001b[0m",
      "\u001b[1;31mAttributeError\u001b[0m                            Traceback (most recent call last)",
      "\u001b[1;32m<ipython-input-35-6e43072fc2c8>\u001b[0m in \u001b[0;36m<module>\u001b[1;34m\u001b[0m\n\u001b[0;32m      7\u001b[0m     \u001b[0mpdb\u001b[0m \u001b[1;33m=\u001b[0m \u001b[0mproc\u001b[0m\u001b[1;33m.\u001b[0m\u001b[0msplit\u001b[0m\u001b[1;33m(\u001b[0m\u001b[1;34m'/'\u001b[0m\u001b[1;33m)\u001b[0m\u001b[1;33m[\u001b[0m\u001b[1;33m-\u001b[0m\u001b[1;36m1\u001b[0m\u001b[1;33m]\u001b[0m\u001b[1;33m.\u001b[0m\u001b[0msplit\u001b[0m\u001b[1;33m(\u001b[0m\u001b[1;34m'.'\u001b[0m\u001b[1;33m)\u001b[0m\u001b[1;33m[\u001b[0m\u001b[1;36m0\u001b[0m\u001b[1;33m]\u001b[0m\u001b[1;33m\u001b[0m\u001b[1;33m\u001b[0m\u001b[0m\n\u001b[0;32m      8\u001b[0m     \u001b[0mchain\u001b[0m \u001b[1;33m=\u001b[0m \u001b[0mpdb\u001b[0m\u001b[1;33m.\u001b[0m\u001b[0msplit\u001b[0m\u001b[1;33m(\u001b[0m\u001b[1;34m\".\"\u001b[0m\u001b[1;33m)\u001b[0m\u001b[1;33m[\u001b[0m\u001b[1;36m0\u001b[0m\u001b[1;33m]\u001b[0m\u001b[1;33m.\u001b[0m\u001b[0msplit\u001b[0m\u001b[1;33m(\u001b[0m\u001b[1;34m\"_\"\u001b[0m\u001b[1;33m)\u001b[0m\u001b[1;33m[\u001b[0m\u001b[1;33m-\u001b[0m\u001b[1;36m1\u001b[0m\u001b[1;33m]\u001b[0m\u001b[1;33m\u001b[0m\u001b[1;33m\u001b[0m\u001b[0m\n\u001b[1;32m----> 9\u001b[1;33m     \u001b[0mdist_mat\u001b[0m \u001b[1;33m=\u001b[0m \u001b[0mget_shortest_dist_matrix\u001b[0m\u001b[1;33m(\u001b[0m\u001b[0mproc\u001b[0m\u001b[1;33m,\u001b[0m \u001b[0mEGFR_KLIFS_IDENT\u001b[0m\u001b[1;33m,\u001b[0m \u001b[0mchain\u001b[0m\u001b[1;33m)\u001b[0m\u001b[1;33m\u001b[0m\u001b[1;33m\u001b[0m\u001b[0m\n\u001b[0m\u001b[0;32m     10\u001b[0m     \u001b[0mdist_mat_list_0\u001b[0m\u001b[1;33m.\u001b[0m\u001b[0mappend\u001b[0m\u001b[1;33m(\u001b[0m\u001b[0mdist_mat\u001b[0m\u001b[1;33m)\u001b[0m\u001b[1;33m\u001b[0m\u001b[1;33m\u001b[0m\u001b[0m\n\u001b[0;32m     11\u001b[0m     \u001b[0mdist_mat_pdb_0\u001b[0m\u001b[1;33m.\u001b[0m\u001b[0mappend\u001b[0m\u001b[1;33m(\u001b[0m\u001b[0mpdb\u001b[0m\u001b[1;33m)\u001b[0m\u001b[1;33m\u001b[0m\u001b[1;33m\u001b[0m\u001b[0m\n",
      "\u001b[1;32m~\\Desktop\\egfr_dist_analysis\\dist_analy-master\\dist_analy\\dist_analy.py\u001b[0m in \u001b[0;36mget_shortest_dist_matrix\u001b[1;34m(file, res_list, chain, min_dist, no_adj, save_dir)\u001b[0m\n\u001b[0;32m    305\u001b[0m     \"\"\"\n\u001b[0;32m    306\u001b[0m     \u001b[0mstructure\u001b[0m\u001b[1;33m=\u001b[0m \u001b[0mpdbfile\u001b[0m\u001b[1;33m.\u001b[0m\u001b[0mparsePDB\u001b[0m\u001b[1;33m(\u001b[0m\u001b[0mfile\u001b[0m\u001b[1;33m,\u001b[0m \u001b[0mchain\u001b[0m\u001b[1;33m=\u001b[0m\u001b[0mchain\u001b[0m\u001b[1;33m)\u001b[0m\u001b[1;33m\u001b[0m\u001b[1;33m\u001b[0m\u001b[0m\n\u001b[1;32m--> 307\u001b[1;33m     \u001b[0mhv\u001b[0m \u001b[1;33m=\u001b[0m \u001b[0mstructure\u001b[0m\u001b[1;33m.\u001b[0m\u001b[0mgetHierView\u001b[0m\u001b[1;33m(\u001b[0m\u001b[1;33m)\u001b[0m\u001b[1;33m\u001b[0m\u001b[1;33m\u001b[0m\u001b[0m\n\u001b[0m\u001b[0;32m    308\u001b[0m     \u001b[0mobj\u001b[0m \u001b[1;33m=\u001b[0m \u001b[0mhv\u001b[0m\u001b[1;33m[\u001b[0m\u001b[0mchain\u001b[0m\u001b[1;33m]\u001b[0m\u001b[1;33m\u001b[0m\u001b[1;33m\u001b[0m\u001b[0m\n\u001b[0;32m    309\u001b[0m     \u001b[0mres_obj\u001b[0m \u001b[1;33m=\u001b[0m \u001b[0mnp\u001b[0m\u001b[1;33m.\u001b[0m\u001b[0mempty\u001b[0m\u001b[1;33m(\u001b[0m\u001b[0mlen\u001b[0m\u001b[1;33m(\u001b[0m\u001b[0mres_list\u001b[0m\u001b[1;33m)\u001b[0m\u001b[1;33m,\u001b[0m \u001b[0mdtype\u001b[0m\u001b[1;33m=\u001b[0m\u001b[0mResidue\u001b[0m\u001b[1;33m)\u001b[0m\u001b[1;33m\u001b[0m\u001b[1;33m\u001b[0m\u001b[0m\n",
      "\u001b[1;31mAttributeError\u001b[0m: 'NoneType' object has no attribute 'getHierView'"
     ]
    }
   ],
   "source": [
    "from glob import glob\n",
    "\n",
    "dist_mat_list_0 = []\n",
    "dist_mat_pdb_0 = []\n",
    "for proc in glob(proc_dir+'*'):\n",
    "    print(proc)\n",
    "    pdb = proc.split('/')[-1].split('.')[0]\n",
    "    chain = pdb.split(\".\")[0].split(\"_\")[-1]\n",
    "    dist_mat = get_shortest_dist_matrix(proc, EGFR_KLIFS_IDENT, chain)\n",
    "    dist_mat_list_0.append(dist_mat)\n",
    "    dist_mat_pdb_0.append(pdb)"
   ]
  },
  {
   "cell_type": "code",
   "execution_count": 8,
   "metadata": {},
   "outputs": [
    {
     "name": "stderr",
     "output_type": "stream",
     "text": [
      "@> 2230 atoms and 1 coordinate set(s) were parsed in 0.03s.\n"
     ]
    },
    {
     "name": "stdout",
     "output_type": "stream",
     "text": [
      "./datafiles/processed_pdb/1AQ1_A.pdb\n"
     ]
    },
    {
     "name": "stderr",
     "output_type": "stream",
     "text": [
      "@> 2335 atoms and 1 coordinate set(s) were parsed in 0.03s.\n"
     ]
    },
    {
     "name": "stdout",
     "output_type": "stream",
     "text": [
      "./datafiles/processed_pdb/1B38_A.pdb\n"
     ]
    },
    {
     "name": "stderr",
     "output_type": "stream",
     "text": [
      "@> 2335 atoms and 1 coordinate set(s) were parsed in 0.03s.\n"
     ]
    },
    {
     "name": "stdout",
     "output_type": "stream",
     "text": [
      "./datafiles/processed_pdb/1B39_A.pdb\n"
     ]
    },
    {
     "name": "stderr",
     "output_type": "stream",
     "text": [
      "@> 2311 atoms and 1 coordinate set(s) were parsed in 0.04s.\n"
     ]
    },
    {
     "name": "stdout",
     "output_type": "stream",
     "text": [
      "./datafiles/processed_pdb/1BUH_A.pdb\n"
     ]
    },
    {
     "name": "stderr",
     "output_type": "stream",
     "text": [
      "@> 2247 atoms and 1 coordinate set(s) were parsed in 0.03s.\n"
     ]
    },
    {
     "name": "stdout",
     "output_type": "stream",
     "text": [
      "./datafiles/processed_pdb/1CKP_A.pdb\n"
     ]
    },
    {
     "name": "stderr",
     "output_type": "stream",
     "text": [
      "@> 2262 atoms and 1 coordinate set(s) were parsed in 0.03s.\n"
     ]
    },
    {
     "name": "stdout",
     "output_type": "stream",
     "text": [
      "./datafiles/processed_pdb/1DI8_A.pdb\n"
     ]
    },
    {
     "name": "stderr",
     "output_type": "stream",
     "text": [
      "@> 2208 atoms and 1 coordinate set(s) were parsed in 0.03s.\n"
     ]
    },
    {
     "name": "stdout",
     "output_type": "stream",
     "text": [
      "./datafiles/processed_pdb/1DM2_A.pdb\n"
     ]
    },
    {
     "name": "stderr",
     "output_type": "stream",
     "text": [
      "@> 2335 atoms and 1 coordinate set(s) were parsed in 0.03s.\n"
     ]
    },
    {
     "name": "stdout",
     "output_type": "stream",
     "text": [
      "./datafiles/processed_pdb/1E1V_A.pdb\n"
     ]
    },
    {
     "name": "stderr",
     "output_type": "stream",
     "text": [
      "@> 2335 atoms and 1 coordinate set(s) were parsed in 0.03s.\n"
     ]
    },
    {
     "name": "stdout",
     "output_type": "stream",
     "text": [
      "./datafiles/processed_pdb/1E1X_A.pdb\n"
     ]
    },
    {
     "name": "stderr",
     "output_type": "stream",
     "text": [
      "@> 2383 atoms and 1 coordinate set(s) were parsed in 0.03s.\n"
     ]
    },
    {
     "name": "stdout",
     "output_type": "stream",
     "text": [
      "./datafiles/processed_pdb/1E9H_A.pdb\n"
     ]
    },
    {
     "name": "stderr",
     "output_type": "stream",
     "text": [
      "@> 2389 atoms and 1 coordinate set(s) were parsed in 0.03s.\n"
     ]
    },
    {
     "name": "stdout",
     "output_type": "stream",
     "text": [
      "./datafiles/processed_pdb/1E9H_C.pdb\n"
     ]
    },
    {
     "name": "stderr",
     "output_type": "stream",
     "text": [
      "@> 2346 atoms and 1 coordinate set(s) were parsed in 0.03s.\n"
     ]
    },
    {
     "name": "stdout",
     "output_type": "stream",
     "text": [
      "./datafiles/processed_pdb/1F5Q_A.pdb\n"
     ]
    },
    {
     "name": "stderr",
     "output_type": "stream",
     "text": [
      "@> 2248 atoms and 1 coordinate set(s) were parsed in 0.03s.\n"
     ]
    },
    {
     "name": "stdout",
     "output_type": "stream",
     "text": [
      "./datafiles/processed_pdb/1F5Q_C.pdb\n"
     ]
    },
    {
     "name": "stderr",
     "output_type": "stream",
     "text": [
      "@> 2398 atoms and 1 coordinate set(s) were parsed in 0.03s.\n"
     ]
    },
    {
     "name": "stdout",
     "output_type": "stream",
     "text": [
      "./datafiles/processed_pdb/1FIN_A.pdb\n"
     ]
    },
    {
     "name": "stderr",
     "output_type": "stream",
     "text": [
      "@> 2398 atoms and 1 coordinate set(s) were parsed in 0.03s.\n"
     ]
    },
    {
     "name": "stdout",
     "output_type": "stream",
     "text": [
      "./datafiles/processed_pdb/1FIN_C.pdb\n"
     ]
    },
    {
     "name": "stderr",
     "output_type": "stream",
     "text": [
      "@> 2382 atoms and 1 coordinate set(s) were parsed in 0.03s.\n"
     ]
    },
    {
     "name": "stdout",
     "output_type": "stream",
     "text": [
      "./datafiles/processed_pdb/1FQ1_B.pdb\n"
     ]
    },
    {
     "name": "stderr",
     "output_type": "stream",
     "text": [
      "@> 2260 atoms and 1 coordinate set(s) were parsed in 0.03s.\n"
     ]
    },
    {
     "name": "stdout",
     "output_type": "stream",
     "text": [
      "./datafiles/processed_pdb/1FVT_A.pdb\n"
     ]
    },
    {
     "name": "stderr",
     "output_type": "stream",
     "text": [
      "@> 2377 atoms and 1 coordinate set(s) were parsed in 0.04s.\n"
     ]
    },
    {
     "name": "stdout",
     "output_type": "stream",
     "text": [
      "./datafiles/processed_pdb/1FVV_A.pdb\n"
     ]
    },
    {
     "name": "stderr",
     "output_type": "stream",
     "text": [
      "@> 2381 atoms and 1 coordinate set(s) were parsed in 0.03s.\n"
     ]
    },
    {
     "name": "stdout",
     "output_type": "stream",
     "text": [
      "./datafiles/processed_pdb/1FVV_C.pdb\n"
     ]
    },
    {
     "name": "stderr",
     "output_type": "stream",
     "text": [
      "@> 2212 atoms and 1 coordinate set(s) were parsed in 0.05s.\n"
     ]
    },
    {
     "name": "stdout",
     "output_type": "stream",
     "text": [
      "./datafiles/processed_pdb/1G5S_A.pdb\n"
     ]
    },
    {
     "name": "stderr",
     "output_type": "stream",
     "text": [
      "@> 2223 atoms and 1 coordinate set(s) were parsed in 0.03s.\n"
     ]
    },
    {
     "name": "stdout",
     "output_type": "stream",
     "text": [
      "./datafiles/processed_pdb/1GIH_A.pdb\n"
     ]
    },
    {
     "name": "stderr",
     "output_type": "stream",
     "text": [
      "@> 2242 atoms and 1 coordinate set(s) were parsed in 0.02s.\n"
     ]
    },
    {
     "name": "stdout",
     "output_type": "stream",
     "text": [
      "./datafiles/processed_pdb/1GII_A.pdb\n"
     ]
    },
    {
     "name": "stderr",
     "output_type": "stream",
     "text": [
      "@> 2199 atoms and 1 coordinate set(s) were parsed in 0.03s.\n"
     ]
    },
    {
     "name": "stdout",
     "output_type": "stream",
     "text": [
      "./datafiles/processed_pdb/1GIJ_A.pdb\n"
     ]
    },
    {
     "name": "stderr",
     "output_type": "stream",
     "text": [
      "@> 2382 atoms and 1 coordinate set(s) were parsed in 0.03s.\n"
     ]
    },
    {
     "name": "stdout",
     "output_type": "stream",
     "text": [
      "./datafiles/processed_pdb/1GY3_A.pdb\n"
     ]
    },
    {
     "name": "stderr",
     "output_type": "stream",
     "text": [
      "@> 2381 atoms and 1 coordinate set(s) were parsed in 0.03s.\n"
     ]
    },
    {
     "name": "stdout",
     "output_type": "stream",
     "text": [
      "./datafiles/processed_pdb/1GY3_C.pdb\n"
     ]
    },
    {
     "name": "stderr",
     "output_type": "stream",
     "text": [
      "@> 2342 atoms and 1 coordinate set(s) were parsed in 0.03s.\n"
     ]
    },
    {
     "name": "stdout",
     "output_type": "stream",
     "text": [
      "./datafiles/processed_pdb/1GZ8_A.pdb\n"
     ]
    },
    {
     "name": "stderr",
     "output_type": "stream",
     "text": [
      "@> 2169 atoms and 1 coordinate set(s) were parsed in 0.03s.\n"
     ]
    },
    {
     "name": "stdout",
     "output_type": "stream",
     "text": [
      "./datafiles/processed_pdb/1H00_A.pdb\n"
     ]
    },
    {
     "name": "stderr",
     "output_type": "stream",
     "text": [
      "@> 2288 atoms and 1 coordinate set(s) were parsed in 0.02s.\n"
     ]
    },
    {
     "name": "stdout",
     "output_type": "stream",
     "text": [
      "./datafiles/processed_pdb/1H01_A.pdb\n"
     ]
    },
    {
     "name": "stderr",
     "output_type": "stream",
     "text": [
      "@> 2245 atoms and 1 coordinate set(s) were parsed in 0.02s.\n"
     ]
    },
    {
     "name": "stdout",
     "output_type": "stream",
     "text": [
      "./datafiles/processed_pdb/1H07_A.pdb\n"
     ]
    },
    {
     "name": "stderr",
     "output_type": "stream",
     "text": [
      "@> 2239 atoms and 1 coordinate set(s) were parsed in 0.02s.\n"
     ]
    },
    {
     "name": "stdout",
     "output_type": "stream",
     "text": [
      "./datafiles/processed_pdb/1H08_A.pdb\n"
     ]
    },
    {
     "name": "stderr",
     "output_type": "stream",
     "text": [
      "@> 2311 atoms and 1 coordinate set(s) were parsed in 0.03s.\n"
     ]
    },
    {
     "name": "stdout",
     "output_type": "stream",
     "text": [
      "./datafiles/processed_pdb/1H0V_A.pdb\n"
     ]
    },
    {
     "name": "stderr",
     "output_type": "stream",
     "text": [
      "@> 2270 atoms and 1 coordinate set(s) were parsed in 0.02s.\n"
     ]
    },
    {
     "name": "stdout",
     "output_type": "stream",
     "text": [
      "./datafiles/processed_pdb/1H0W_A.pdb\n"
     ]
    },
    {
     "name": "stderr",
     "output_type": "stream",
     "text": [
      "@> 2388 atoms and 1 coordinate set(s) were parsed in 0.03s.\n"
     ]
    },
    {
     "name": "stdout",
     "output_type": "stream",
     "text": [
      "./datafiles/processed_pdb/1H1P_A.pdb\n"
     ]
    },
    {
     "name": "stderr",
     "output_type": "stream",
     "text": [
      "@> 2388 atoms and 1 coordinate set(s) were parsed in 0.03s.\n"
     ]
    },
    {
     "name": "stdout",
     "output_type": "stream",
     "text": [
      "./datafiles/processed_pdb/1H1P_C.pdb\n"
     ]
    },
    {
     "name": "stderr",
     "output_type": "stream",
     "text": [
      "@> 2388 atoms and 1 coordinate set(s) were parsed in 0.03s.\n"
     ]
    },
    {
     "name": "stdout",
     "output_type": "stream",
     "text": [
      "./datafiles/processed_pdb/1H1Q_A.pdb\n"
     ]
    },
    {
     "name": "stderr",
     "output_type": "stream",
     "text": [
      "@> 2388 atoms and 1 coordinate set(s) were parsed in 0.03s.\n"
     ]
    },
    {
     "name": "stdout",
     "output_type": "stream",
     "text": [
      "./datafiles/processed_pdb/1H1Q_C.pdb\n"
     ]
    },
    {
     "name": "stderr",
     "output_type": "stream",
     "text": [
      "@> 2388 atoms and 1 coordinate set(s) were parsed in 0.03s.\n"
     ]
    },
    {
     "name": "stdout",
     "output_type": "stream",
     "text": [
      "./datafiles/processed_pdb/1H1R_A.pdb\n"
     ]
    },
    {
     "name": "stderr",
     "output_type": "stream",
     "text": [
      "@> 2388 atoms and 1 coordinate set(s) were parsed in 0.03s.\n"
     ]
    },
    {
     "name": "stdout",
     "output_type": "stream",
     "text": [
      "./datafiles/processed_pdb/1H1R_C.pdb\n"
     ]
    },
    {
     "name": "stderr",
     "output_type": "stream",
     "text": [
      "@> 2388 atoms and 1 coordinate set(s) were parsed in 0.03s.\n"
     ]
    },
    {
     "name": "stdout",
     "output_type": "stream",
     "text": [
      "./datafiles/processed_pdb/1H1S_A.pdb\n"
     ]
    },
    {
     "name": "stderr",
     "output_type": "stream",
     "text": [
      "@> 2388 atoms and 1 coordinate set(s) were parsed in 0.03s.\n"
     ]
    },
    {
     "name": "stdout",
     "output_type": "stream",
     "text": [
      "./datafiles/processed_pdb/1H1S_C.pdb\n"
     ]
    },
    {
     "name": "stderr",
     "output_type": "stream",
     "text": [
      "@> 2363 atoms and 1 coordinate set(s) were parsed in 0.03s.\n"
     ]
    },
    {
     "name": "stdout",
     "output_type": "stream",
     "text": [
      "./datafiles/processed_pdb/1H24_A.pdb\n"
     ]
    },
    {
     "name": "stderr",
     "output_type": "stream",
     "text": [
      "@> 2363 atoms and 1 coordinate set(s) were parsed in 0.03s.\n"
     ]
    },
    {
     "name": "stdout",
     "output_type": "stream",
     "text": [
      "./datafiles/processed_pdb/1H24_C.pdb\n"
     ]
    },
    {
     "name": "stderr",
     "output_type": "stream",
     "text": [
      "@> 2363 atoms and 1 coordinate set(s) were parsed in 0.03s.\n"
     ]
    },
    {
     "name": "stdout",
     "output_type": "stream",
     "text": [
      "./datafiles/processed_pdb/1H25_A.pdb\n"
     ]
    },
    {
     "name": "stderr",
     "output_type": "stream",
     "text": [
      "@> 2229 atoms and 1 coordinate set(s) were parsed in 0.02s.\n"
     ]
    },
    {
     "name": "stdout",
     "output_type": "stream",
     "text": [
      "./datafiles/processed_pdb/1H25_C.pdb\n"
     ]
    },
    {
     "name": "stderr",
     "output_type": "stream",
     "text": [
      "@> 2389 atoms and 1 coordinate set(s) were parsed in 0.03s.\n"
     ]
    },
    {
     "name": "stdout",
     "output_type": "stream",
     "text": [
      "./datafiles/processed_pdb/1H26_A.pdb\n"
     ]
    },
    {
     "name": "stderr",
     "output_type": "stream",
     "text": [
      "@> 2149 atoms and 1 coordinate set(s) were parsed in 0.02s.\n"
     ]
    },
    {
     "name": "stdout",
     "output_type": "stream",
     "text": [
      "./datafiles/processed_pdb/1H26_C.pdb\n"
     ]
    },
    {
     "name": "stderr",
     "output_type": "stream",
     "text": [
      "@> 2389 atoms and 1 coordinate set(s) were parsed in 0.03s.\n"
     ]
    },
    {
     "name": "stdout",
     "output_type": "stream",
     "text": [
      "./datafiles/processed_pdb/1H27_A.pdb\n"
     ]
    },
    {
     "name": "stderr",
     "output_type": "stream",
     "text": [
      "@> 2342 atoms and 1 coordinate set(s) were parsed in 0.02s.\n"
     ]
    },
    {
     "name": "stdout",
     "output_type": "stream",
     "text": [
      "./datafiles/processed_pdb/1H27_C.pdb\n"
     ]
    },
    {
     "name": "stderr",
     "output_type": "stream",
     "text": [
      "@> 2388 atoms and 1 coordinate set(s) were parsed in 0.03s.\n"
     ]
    },
    {
     "name": "stdout",
     "output_type": "stream",
     "text": [
      "./datafiles/processed_pdb/1H28_A.pdb\n"
     ]
    },
    {
     "name": "stderr",
     "output_type": "stream",
     "text": [
      "@> 2388 atoms and 1 coordinate set(s) were parsed in 0.03s.\n"
     ]
    },
    {
     "name": "stdout",
     "output_type": "stream",
     "text": [
      "./datafiles/processed_pdb/1H28_C.pdb\n"
     ]
    },
    {
     "name": "stderr",
     "output_type": "stream",
     "text": [
      "@> 2366 atoms and 1 coordinate set(s) were parsed in 0.03s.\n"
     ]
    },
    {
     "name": "stdout",
     "output_type": "stream",
     "text": [
      "./datafiles/processed_pdb/1HCK_A.pdb\n"
     ]
    },
    {
     "name": "stderr",
     "output_type": "stream",
     "text": [
      "@> 2366 atoms and 1 coordinate set(s) were parsed in 0.04s.\n"
     ]
    },
    {
     "name": "stdout",
     "output_type": "stream",
     "text": [
      "./datafiles/processed_pdb/1HCL_A.pdb\n"
     ]
    },
    {
     "name": "stderr",
     "output_type": "stream",
     "text": [
      "@> 2402 atoms and 1 coordinate set(s) were parsed in 0.03s.\n"
     ]
    },
    {
     "name": "stdout",
     "output_type": "stream",
     "text": [
      "./datafiles/processed_pdb/1JST_A.pdb\n"
     ]
    },
    {
     "name": "stderr",
     "output_type": "stream",
     "text": [
      "@> 2402 atoms and 1 coordinate set(s) were parsed in 0.03s.\n"
     ]
    },
    {
     "name": "stdout",
     "output_type": "stream",
     "text": [
      "./datafiles/processed_pdb/1JST_C.pdb\n"
     ]
    },
    {
     "name": "stderr",
     "output_type": "stream",
     "text": [
      "@> 2302 atoms and 1 coordinate set(s) were parsed in 0.03s.\n"
     ]
    },
    {
     "name": "stdout",
     "output_type": "stream",
     "text": [
      "./datafiles/processed_pdb/1JSU_A.pdb\n"
     ]
    },
    {
     "name": "stderr",
     "output_type": "stream",
     "text": [
      "@> 2316 atoms and 1 coordinate set(s) were parsed in 0.04s.\n"
     ]
    },
    {
     "name": "stdout",
     "output_type": "stream",
     "text": [
      "./datafiles/processed_pdb/1JSV_A.pdb\n"
     ]
    },
    {
     "name": "stderr",
     "output_type": "stream",
     "text": [
      "@> 2121 atoms and 1 coordinate set(s) were parsed in 0.03s.\n"
     ]
    },
    {
     "name": "stdout",
     "output_type": "stream",
     "text": [
      "./datafiles/processed_pdb/1JVP_P.pdb\n"
     ]
    },
    {
     "name": "stderr",
     "output_type": "stream",
     "text": [
      "@> 2246 atoms and 1 coordinate set(s) were parsed in 0.02s.\n"
     ]
    },
    {
     "name": "stdout",
     "output_type": "stream",
     "text": [
      "./datafiles/processed_pdb/1KE5_A.pdb\n"
     ]
    },
    {
     "name": "stderr",
     "output_type": "stream",
     "text": [
      "@> 2246 atoms and 1 coordinate set(s) were parsed in 0.02s.\n"
     ]
    },
    {
     "name": "stdout",
     "output_type": "stream",
     "text": [
      "./datafiles/processed_pdb/1KE6_A.pdb\n"
     ]
    },
    {
     "name": "stderr",
     "output_type": "stream",
     "text": [
      "@> 2253 atoms and 1 coordinate set(s) were parsed in 0.03s.\n"
     ]
    },
    {
     "name": "stdout",
     "output_type": "stream",
     "text": [
      "./datafiles/processed_pdb/1KE7_A.pdb\n"
     ]
    },
    {
     "name": "stderr",
     "output_type": "stream",
     "text": [
      "@> 2260 atoms and 1 coordinate set(s) were parsed in 0.03s.\n"
     ]
    },
    {
     "name": "stdout",
     "output_type": "stream",
     "text": [
      "./datafiles/processed_pdb/1KE8_A.pdb\n"
     ]
    },
    {
     "name": "stderr",
     "output_type": "stream",
     "text": [
      "@> 2250 atoms and 1 coordinate set(s) were parsed in 0.02s.\n"
     ]
    },
    {
     "name": "stdout",
     "output_type": "stream",
     "text": [
      "./datafiles/processed_pdb/1KE9_A.pdb\n"
     ]
    },
    {
     "name": "stderr",
     "output_type": "stream",
     "text": [
      "@> 2386 atoms and 1 coordinate set(s) were parsed in 0.03s.\n"
     ]
    },
    {
     "name": "stdout",
     "output_type": "stream",
     "text": [
      "./datafiles/processed_pdb/1OGU_A.pdb\n"
     ]
    },
    {
     "name": "stderr",
     "output_type": "stream",
     "text": [
      "@> 2185 atoms and 1 coordinate set(s) were parsed in 0.02s.\n"
     ]
    },
    {
     "name": "stdout",
     "output_type": "stream",
     "text": [
      "./datafiles/processed_pdb/1OGU_C.pdb\n"
     ]
    },
    {
     "name": "stderr",
     "output_type": "stream",
     "text": [
      "@> 2380 atoms and 1 coordinate set(s) were parsed in 0.03s.\n"
     ]
    },
    {
     "name": "stdout",
     "output_type": "stream",
     "text": [
      "./datafiles/processed_pdb/1OI9_A.pdb\n"
     ]
    },
    {
     "name": "stderr",
     "output_type": "stream",
     "text": [
      "@> 2388 atoms and 1 coordinate set(s) were parsed in 0.03s.\n"
     ]
    },
    {
     "name": "stdout",
     "output_type": "stream",
     "text": [
      "./datafiles/processed_pdb/1OI9_C.pdb\n"
     ]
    },
    {
     "name": "stderr",
     "output_type": "stream",
     "text": [
      "@> 2106 atoms and 1 coordinate set(s) were parsed in 0.02s.\n"
     ]
    },
    {
     "name": "stdout",
     "output_type": "stream",
     "text": [
      "./datafiles/processed_pdb/1OIQ_A.pdb\n"
     ]
    },
    {
     "name": "stderr",
     "output_type": "stream",
     "text": [
      "@> 2285 atoms and 1 coordinate set(s) were parsed in 0.02s.\n"
     ]
    },
    {
     "name": "stdout",
     "output_type": "stream",
     "text": [
      "./datafiles/processed_pdb/1OIR_A.pdb\n"
     ]
    },
    {
     "name": "stderr",
     "output_type": "stream",
     "text": [
      "@> 2196 atoms and 1 coordinate set(s) were parsed in 0.02s.\n"
     ]
    },
    {
     "name": "stdout",
     "output_type": "stream",
     "text": [
      "./datafiles/processed_pdb/1OIT_A.pdb\n"
     ]
    },
    {
     "name": "stderr",
     "output_type": "stream",
     "text": [
      "@> 2383 atoms and 1 coordinate set(s) were parsed in 0.03s.\n"
     ]
    },
    {
     "name": "stdout",
     "output_type": "stream",
     "text": [
      "./datafiles/processed_pdb/1OIU_A.pdb\n"
     ]
    },
    {
     "name": "stderr",
     "output_type": "stream",
     "text": [
      "@> 2134 atoms and 1 coordinate set(s) were parsed in 0.02s.\n"
     ]
    },
    {
     "name": "stdout",
     "output_type": "stream",
     "text": [
      "./datafiles/processed_pdb/1OIU_C.pdb\n"
     ]
    },
    {
     "name": "stderr",
     "output_type": "stream",
     "text": [
      "@> 2364 atoms and 1 coordinate set(s) were parsed in 0.03s.\n"
     ]
    },
    {
     "name": "stdout",
     "output_type": "stream",
     "text": [
      "./datafiles/processed_pdb/1OIY_A.pdb\n"
     ]
    },
    {
     "name": "stderr",
     "output_type": "stream",
     "text": [
      "@> 2388 atoms and 1 coordinate set(s) were parsed in 0.03s.\n"
     ]
    },
    {
     "name": "stdout",
     "output_type": "stream",
     "text": [
      "./datafiles/processed_pdb/1OIY_C.pdb\n"
     ]
    },
    {
     "name": "stderr",
     "output_type": "stream",
     "text": [
      "@> 2370 atoms and 1 coordinate set(s) were parsed in 0.03s.\n"
     ]
    },
    {
     "name": "stdout",
     "output_type": "stream",
     "text": [
      "./datafiles/processed_pdb/1OKV_A.pdb\n"
     ]
    },
    {
     "name": "stderr",
     "output_type": "stream",
     "text": [
      "@> 2377 atoms and 1 coordinate set(s) were parsed in 0.03s.\n"
     ]
    },
    {
     "name": "stdout",
     "output_type": "stream",
     "text": [
      "./datafiles/processed_pdb/1OKV_C.pdb\n"
     ]
    },
    {
     "name": "stderr",
     "output_type": "stream",
     "text": [
      "@> 2378 atoms and 1 coordinate set(s) were parsed in 0.03s.\n"
     ]
    },
    {
     "name": "stdout",
     "output_type": "stream",
     "text": [
      "./datafiles/processed_pdb/1OKW_A.pdb\n"
     ]
    },
    {
     "name": "stderr",
     "output_type": "stream",
     "text": [
      "@> 2378 atoms and 1 coordinate set(s) were parsed in 0.03s.\n"
     ]
    },
    {
     "name": "stdout",
     "output_type": "stream",
     "text": [
      "./datafiles/processed_pdb/1OKW_C.pdb\n"
     ]
    },
    {
     "name": "stderr",
     "output_type": "stream",
     "text": [
      "@> 2378 atoms and 1 coordinate set(s) were parsed in 0.03s.\n"
     ]
    },
    {
     "name": "stdout",
     "output_type": "stream",
     "text": [
      "./datafiles/processed_pdb/1OL1_A.pdb\n"
     ]
    },
    {
     "name": "stderr",
     "output_type": "stream",
     "text": [
      "@> 2378 atoms and 1 coordinate set(s) were parsed in 0.03s.\n"
     ]
    },
    {
     "name": "stdout",
     "output_type": "stream",
     "text": [
      "./datafiles/processed_pdb/1OL1_C.pdb\n"
     ]
    },
    {
     "name": "stderr",
     "output_type": "stream",
     "text": [
      "@> 2378 atoms and 1 coordinate set(s) were parsed in 0.03s.\n"
     ]
    },
    {
     "name": "stdout",
     "output_type": "stream",
     "text": [
      "./datafiles/processed_pdb/1OL2_A.pdb\n"
     ]
    },
    {
     "name": "stderr",
     "output_type": "stream",
     "text": [
      "@> 2378 atoms and 1 coordinate set(s) were parsed in 0.03s.\n"
     ]
    },
    {
     "name": "stdout",
     "output_type": "stream",
     "text": [
      "./datafiles/processed_pdb/1OL2_C.pdb\n"
     ]
    },
    {
     "name": "stderr",
     "output_type": "stream",
     "text": [
      "@> 2189 atoms and 1 coordinate set(s) were parsed in 0.03s.\n"
     ]
    },
    {
     "name": "stdout",
     "output_type": "stream",
     "text": [
      "./datafiles/processed_pdb/1P2A_A.pdb\n"
     ]
    },
    {
     "name": "stderr",
     "output_type": "stream",
     "text": [
      "@> 2388 atoms and 1 coordinate set(s) were parsed in 0.03s.\n"
     ]
    },
    {
     "name": "stdout",
     "output_type": "stream",
     "text": [
      "./datafiles/processed_pdb/1P5E_A.pdb\n"
     ]
    },
    {
     "name": "stderr",
     "output_type": "stream",
     "text": [
      "@> 2388 atoms and 1 coordinate set(s) were parsed in 0.03s.\n"
     ]
    },
    {
     "name": "stdout",
     "output_type": "stream",
     "text": [
      "./datafiles/processed_pdb/1P5E_C.pdb\n"
     ]
    },
    {
     "name": "stderr",
     "output_type": "stream",
     "text": [
      "@> 2918 atoms and 1 coordinate set(s) were parsed in 0.03s.\n"
     ]
    },
    {
     "name": "stdout",
     "output_type": "stream",
     "text": [
      "./datafiles/processed_pdb/1PF8_A.pdb\n"
     ]
    },
    {
     "name": "stderr",
     "output_type": "stream",
     "text": [
      "@> 2388 atoms and 1 coordinate set(s) were parsed in 0.03s.\n"
     ]
    },
    {
     "name": "stdout",
     "output_type": "stream",
     "text": [
      "./datafiles/processed_pdb/1PKD_A.pdb\n"
     ]
    },
    {
     "name": "stderr",
     "output_type": "stream",
     "text": [
      "@> 2388 atoms and 1 coordinate set(s) were parsed in 0.03s.\n"
     ]
    },
    {
     "name": "stdout",
     "output_type": "stream",
     "text": [
      "./datafiles/processed_pdb/1PKD_C.pdb\n"
     ]
    },
    {
     "name": "stderr",
     "output_type": "stream",
     "text": [
      "@> 2365 atoms and 1 coordinate set(s) were parsed in 0.03s.\n"
     ]
    },
    {
     "name": "stdout",
     "output_type": "stream",
     "text": [
      "./datafiles/processed_pdb/1PW2_A.pdb\n"
     ]
    },
    {
     "name": "stderr",
     "output_type": "stream",
     "text": [
      "@> 2365 atoms and 1 coordinate set(s) were parsed in 0.03s.\n"
     ]
    },
    {
     "name": "stdout",
     "output_type": "stream",
     "text": [
      "./datafiles/processed_pdb/1PXI_A.pdb\n"
     ]
    },
    {
     "name": "stderr",
     "output_type": "stream",
     "text": [
      "@> 2365 atoms and 1 coordinate set(s) were parsed in 0.03s.\n"
     ]
    },
    {
     "name": "stdout",
     "output_type": "stream",
     "text": [
      "./datafiles/processed_pdb/1PXJ_A.pdb\n"
     ]
    },
    {
     "name": "stderr",
     "output_type": "stream",
     "text": [
      "@> 2335 atoms and 1 coordinate set(s) were parsed in 0.03s.\n"
     ]
    },
    {
     "name": "stdout",
     "output_type": "stream",
     "text": [
      "./datafiles/processed_pdb/1PXK_A.pdb\n"
     ]
    },
    {
     "name": "stderr",
     "output_type": "stream",
     "text": [
      "@> 2334 atoms and 1 coordinate set(s) were parsed in 0.03s.\n"
     ]
    },
    {
     "name": "stdout",
     "output_type": "stream",
     "text": [
      "./datafiles/processed_pdb/1PXL_A.pdb\n"
     ]
    },
    {
     "name": "stderr",
     "output_type": "stream",
     "text": [
      "@> 2335 atoms and 1 coordinate set(s) were parsed in 0.03s.\n"
     ]
    },
    {
     "name": "stdout",
     "output_type": "stream",
     "text": [
      "./datafiles/processed_pdb/1PXM_A.pdb\n"
     ]
    },
    {
     "name": "stderr",
     "output_type": "stream",
     "text": [
      "@> 2366 atoms and 1 coordinate set(s) were parsed in 0.03s.\n"
     ]
    },
    {
     "name": "stdout",
     "output_type": "stream",
     "text": [
      "./datafiles/processed_pdb/1PXN_A.pdb\n"
     ]
    },
    {
     "name": "stderr",
     "output_type": "stream",
     "text": [
      "@> 2366 atoms and 1 coordinate set(s) were parsed in 0.03s.\n"
     ]
    },
    {
     "name": "stdout",
     "output_type": "stream",
     "text": [
      "./datafiles/processed_pdb/1PXO_A.pdb\n"
     ]
    },
    {
     "name": "stderr",
     "output_type": "stream",
     "text": [
      "@> 2366 atoms and 1 coordinate set(s) were parsed in 0.03s.\n"
     ]
    },
    {
     "name": "stdout",
     "output_type": "stream",
     "text": [
      "./datafiles/processed_pdb/1PXP_A.pdb\n"
     ]
    },
    {
     "name": "stderr",
     "output_type": "stream",
     "text": [
      "@> 2150 atoms and 1 coordinate set(s) were parsed in 0.02s.\n"
     ]
    },
    {
     "name": "stdout",
     "output_type": "stream",
     "text": [
      "./datafiles/processed_pdb/1PYE_A.pdb\n"
     ]
    },
    {
     "name": "stderr",
     "output_type": "stream",
     "text": [
      "@> 2388 atoms and 1 coordinate set(s) were parsed in 0.03s.\n"
     ]
    },
    {
     "name": "stdout",
     "output_type": "stream",
     "text": [
      "./datafiles/processed_pdb/1QMZ_A.pdb\n"
     ]
    },
    {
     "name": "stderr",
     "output_type": "stream",
     "text": [
      "@> 2388 atoms and 1 coordinate set(s) were parsed in 0.03s.\n"
     ]
    },
    {
     "name": "stdout",
     "output_type": "stream",
     "text": [
      "./datafiles/processed_pdb/1QMZ_C.pdb\n"
     ]
    },
    {
     "name": "stderr",
     "output_type": "stream",
     "text": [
      "@> 2206 atoms and 1 coordinate set(s) were parsed in 0.03s.\n"
     ]
    },
    {
     "name": "stdout",
     "output_type": "stream",
     "text": [
      "./datafiles/processed_pdb/1R78_A.pdb\n"
     ]
    },
    {
     "name": "stderr",
     "output_type": "stream",
     "text": [
      "@> 2378 atoms and 1 coordinate set(s) were parsed in 0.03s.\n"
     ]
    },
    {
     "name": "stdout",
     "output_type": "stream",
     "text": [
      "./datafiles/processed_pdb/1URC_A.pdb\n"
     ]
    },
    {
     "name": "stderr",
     "output_type": "stream",
     "text": [
      "@> 2379 atoms and 1 coordinate set(s) were parsed in 0.03s.\n"
     ]
    },
    {
     "name": "stdout",
     "output_type": "stream",
     "text": [
      "./datafiles/processed_pdb/1URC_C.pdb\n"
     ]
    },
    {
     "name": "stderr",
     "output_type": "stream",
     "text": [
      "@> 2151 atoms and 1 coordinate set(s) were parsed in 0.04s.\n"
     ]
    },
    {
     "name": "stdout",
     "output_type": "stream",
     "text": [
      "./datafiles/processed_pdb/1URW_A.pdb\n"
     ]
    },
    {
     "name": "stderr",
     "output_type": "stream",
     "text": [
      "@> 2167 atoms and 1 coordinate set(s) were parsed in 0.02s.\n"
     ]
    },
    {
     "name": "stdout",
     "output_type": "stream",
     "text": [
      "./datafiles/processed_pdb/1V1K_A.pdb\n"
     ]
    },
    {
     "name": "stderr",
     "output_type": "stream",
     "text": [
      "@> 2427 atoms and 1 coordinate set(s) were parsed in 0.03s.\n"
     ]
    },
    {
     "name": "stdout",
     "output_type": "stream",
     "text": [
      "./datafiles/processed_pdb/1VYW_A.pdb\n"
     ]
    },
    {
     "name": "stderr",
     "output_type": "stream",
     "text": [
      "@> 2405 atoms and 1 coordinate set(s) were parsed in 0.03s.\n"
     ]
    },
    {
     "name": "stdout",
     "output_type": "stream",
     "text": [
      "./datafiles/processed_pdb/1VYW_C.pdb\n"
     ]
    },
    {
     "name": "stderr",
     "output_type": "stream",
     "text": [
      "@> 2246 atoms and 1 coordinate set(s) were parsed in 0.02s.\n"
     ]
    },
    {
     "name": "stdout",
     "output_type": "stream",
     "text": [
      "./datafiles/processed_pdb/1VYZ_A.pdb\n"
     ]
    },
    {
     "name": "stderr",
     "output_type": "stream",
     "text": [
      "@> 2252 atoms and 1 coordinate set(s) were parsed in 0.03s.\n"
     ]
    },
    {
     "name": "stdout",
     "output_type": "stream",
     "text": [
      "./datafiles/processed_pdb/1W0X_C.pdb\n"
     ]
    },
    {
     "name": "stderr",
     "output_type": "stream",
     "text": [
      "@> 2342 atoms and 1 coordinate set(s) were parsed in 0.03s.\n"
     ]
    },
    {
     "name": "stdout",
     "output_type": "stream",
     "text": [
      "./datafiles/processed_pdb/1W8C_A.pdb\n"
     ]
    },
    {
     "name": "stderr",
     "output_type": "stream",
     "text": [
      "@> 2399 atoms and 1 coordinate set(s) were parsed in 0.03s.\n"
     ]
    },
    {
     "name": "stdout",
     "output_type": "stream",
     "text": [
      "./datafiles/processed_pdb/1W98_A.pdb\n"
     ]
    },
    {
     "name": "stderr",
     "output_type": "stream",
     "text": [
      "@> 2278 atoms and 1 coordinate set(s) were parsed in 0.03s.\n"
     ]
    },
    {
     "name": "stdout",
     "output_type": "stream",
     "text": [
      "./datafiles/processed_pdb/1WCC_A.pdb\n"
     ]
    },
    {
     "name": "stderr",
     "output_type": "stream",
     "text": [
      "@> 2345 atoms and 1 coordinate set(s) were parsed in 0.03s.\n"
     ]
    },
    {
     "name": "stdout",
     "output_type": "stream",
     "text": [
      "./datafiles/processed_pdb/1Y8Y_A.pdb\n"
     ]
    },
    {
     "name": "stderr",
     "output_type": "stream",
     "text": [
      "@> 2282 atoms and 1 coordinate set(s) were parsed in 0.03s.\n"
     ]
    },
    {
     "name": "stdout",
     "output_type": "stream",
     "text": [
      "./datafiles/processed_pdb/1Y91_A.pdb\n"
     ]
    },
    {
     "name": "stderr",
     "output_type": "stream",
     "text": [
      "@> 2398 atoms and 1 coordinate set(s) were parsed in 0.03s.\n"
     ]
    },
    {
     "name": "stdout",
     "output_type": "stream",
     "text": [
      "./datafiles/processed_pdb/1YKR_A.pdb\n"
     ]
    },
    {
     "name": "stderr",
     "output_type": "stream",
     "text": [
      "@> 2364 atoms and 1 coordinate set(s) were parsed in 0.03s.\n"
     ]
    },
    {
     "name": "stdout",
     "output_type": "stream",
     "text": [
      "./datafiles/processed_pdb/2A0C_X.pdb\n"
     ]
    },
    {
     "name": "stderr",
     "output_type": "stream",
     "text": [
      "@> 2308 atoms and 1 coordinate set(s) were parsed in 0.03s.\n"
     ]
    },
    {
     "name": "stdout",
     "output_type": "stream",
     "text": [
      "./datafiles/processed_pdb/2A4L_A.pdb\n"
     ]
    },
    {
     "name": "stderr",
     "output_type": "stream",
     "text": [
      "@> 2277 atoms and 1 coordinate set(s) were parsed in 0.03s.\n"
     ]
    },
    {
     "name": "stdout",
     "output_type": "stream",
     "text": [
      "./datafiles/processed_pdb/2B52_A.pdb\n"
     ]
    },
    {
     "name": "stderr",
     "output_type": "stream",
     "text": [
      "@> 2366 atoms and 1 coordinate set(s) were parsed in 0.03s.\n"
     ]
    },
    {
     "name": "stdout",
     "output_type": "stream",
     "text": [
      "./datafiles/processed_pdb/2B53_A.pdb\n"
     ]
    },
    {
     "name": "stderr",
     "output_type": "stream",
     "text": [
      "@> 2911 atoms and 1 coordinate set(s) were parsed in 0.03s.\n"
     ]
    },
    {
     "name": "stdout",
     "output_type": "stream",
     "text": [
      "./datafiles/processed_pdb/2B54_A.pdb\n"
     ]
    },
    {
     "name": "stderr",
     "output_type": "stream",
     "text": [
      "@> 2218 atoms and 1 coordinate set(s) were parsed in 0.02s.\n"
     ]
    },
    {
     "name": "stdout",
     "output_type": "stream",
     "text": [
      "./datafiles/processed_pdb/2B55_A.pdb\n"
     ]
    },
    {
     "name": "stderr",
     "output_type": "stream",
     "text": [
      "@> 2208 atoms and 1 coordinate set(s) were parsed in 0.02s.\n"
     ]
    },
    {
     "name": "stdout",
     "output_type": "stream",
     "text": [
      "./datafiles/processed_pdb/2BHE_A.pdb\n"
     ]
    },
    {
     "name": "stderr",
     "output_type": "stream",
     "text": [
      "@> 2210 atoms and 1 coordinate set(s) were parsed in 0.02s.\n"
     ]
    },
    {
     "name": "stdout",
     "output_type": "stream",
     "text": [
      "./datafiles/processed_pdb/2BHH_A.pdb\n"
     ]
    },
    {
     "name": "stderr",
     "output_type": "stream",
     "text": [
      "@> 2427 atoms and 1 coordinate set(s) were parsed in 0.03s.\n"
     ]
    },
    {
     "name": "stdout",
     "output_type": "stream",
     "text": [
      "./datafiles/processed_pdb/2BKZ_A.pdb\n"
     ]
    },
    {
     "name": "stderr",
     "output_type": "stream",
     "text": [
      "@> 2397 atoms and 1 coordinate set(s) were parsed in 0.03s.\n"
     ]
    },
    {
     "name": "stdout",
     "output_type": "stream",
     "text": [
      "./datafiles/processed_pdb/2BKZ_C.pdb\n"
     ]
    },
    {
     "name": "stderr",
     "output_type": "stream",
     "text": [
      "@> 2427 atoms and 1 coordinate set(s) were parsed in 0.03s.\n"
     ]
    },
    {
     "name": "stdout",
     "output_type": "stream",
     "text": [
      "./datafiles/processed_pdb/2BPM_A.pdb\n"
     ]
    },
    {
     "name": "stderr",
     "output_type": "stream",
     "text": [
      "@> 2405 atoms and 1 coordinate set(s) were parsed in 0.03s.\n"
     ]
    },
    {
     "name": "stdout",
     "output_type": "stream",
     "text": [
      "./datafiles/processed_pdb/2BPM_C.pdb\n"
     ]
    },
    {
     "name": "stderr",
     "output_type": "stream",
     "text": [
      "@> 2215 atoms and 1 coordinate set(s) were parsed in 0.03s.\n"
     ]
    },
    {
     "name": "stdout",
     "output_type": "stream",
     "text": [
      "./datafiles/processed_pdb/2BTR_A.pdb\n"
     ]
    },
    {
     "name": "stderr",
     "output_type": "stream",
     "text": [
      "@> 2211 atoms and 1 coordinate set(s) were parsed in 0.03s.\n"
     ]
    },
    {
     "name": "stdout",
     "output_type": "stream",
     "text": [
      "./datafiles/processed_pdb/2BTS_A.pdb\n"
     ]
    },
    {
     "name": "stderr",
     "output_type": "stream",
     "text": [
      "@> 2419 atoms and 1 coordinate set(s) were parsed in 0.03s.\n"
     ]
    },
    {
     "name": "stdout",
     "output_type": "stream",
     "text": [
      "./datafiles/processed_pdb/2C4G_A.pdb\n"
     ]
    },
    {
     "name": "stderr",
     "output_type": "stream",
     "text": [
      "@> 2412 atoms and 1 coordinate set(s) were parsed in 0.03s.\n"
     ]
    },
    {
     "name": "stdout",
     "output_type": "stream",
     "text": [
      "./datafiles/processed_pdb/2C4G_C.pdb\n"
     ]
    },
    {
     "name": "stderr",
     "output_type": "stream",
     "text": [
      "@> 2378 atoms and 1 coordinate set(s) were parsed in 0.03s.\n"
     ]
    },
    {
     "name": "stdout",
     "output_type": "stream",
     "text": [
      "./datafiles/processed_pdb/2C5N_A.pdb\n"
     ]
    },
    {
     "name": "stderr",
     "output_type": "stream",
     "text": [
      "@> 2379 atoms and 1 coordinate set(s) were parsed in 0.03s.\n"
     ]
    },
    {
     "name": "stdout",
     "output_type": "stream",
     "text": [
      "./datafiles/processed_pdb/2C5N_C.pdb\n"
     ]
    },
    {
     "name": "stderr",
     "output_type": "stream",
     "text": [
      "@> 2377 atoms and 1 coordinate set(s) were parsed in 0.03s.\n"
     ]
    },
    {
     "name": "stdout",
     "output_type": "stream",
     "text": [
      "./datafiles/processed_pdb/2C5O_A.pdb\n"
     ]
    },
    {
     "name": "stderr",
     "output_type": "stream",
     "text": [
      "@> 2379 atoms and 1 coordinate set(s) were parsed in 0.03s.\n"
     ]
    },
    {
     "name": "stdout",
     "output_type": "stream",
     "text": [
      "./datafiles/processed_pdb/2C5O_C.pdb\n"
     ]
    },
    {
     "name": "stderr",
     "output_type": "stream",
     "text": [
      "@> 2378 atoms and 1 coordinate set(s) were parsed in 0.03s.\n"
     ]
    },
    {
     "name": "stdout",
     "output_type": "stream",
     "text": [
      "./datafiles/processed_pdb/2C5V_A.pdb\n"
     ]
    },
    {
     "name": "stderr",
     "output_type": "stream",
     "text": [
      "@> 2378 atoms and 1 coordinate set(s) were parsed in 0.03s.\n"
     ]
    },
    {
     "name": "stdout",
     "output_type": "stream",
     "text": [
      "./datafiles/processed_pdb/2C5V_C.pdb\n"
     ]
    },
    {
     "name": "stderr",
     "output_type": "stream",
     "text": [
      "@> 2378 atoms and 1 coordinate set(s) were parsed in 0.03s.\n"
     ]
    },
    {
     "name": "stdout",
     "output_type": "stream",
     "text": [
      "./datafiles/processed_pdb/2C5X_A.pdb\n"
     ]
    },
    {
     "name": "stderr",
     "output_type": "stream",
     "text": [
      "@> 2378 atoms and 1 coordinate set(s) were parsed in 0.03s.\n"
     ]
    },
    {
     "name": "stdout",
     "output_type": "stream",
     "text": [
      "./datafiles/processed_pdb/2C5X_C.pdb\n"
     ]
    },
    {
     "name": "stderr",
     "output_type": "stream",
     "text": [
      "@> 2330 atoms and 1 coordinate set(s) were parsed in 0.02s.\n"
     ]
    },
    {
     "name": "stdout",
     "output_type": "stream",
     "text": [
      "./datafiles/processed_pdb/2C5Y_A.pdb\n"
     ]
    },
    {
     "name": "stderr",
     "output_type": "stream",
     "text": [
      "@> 2321 atoms and 1 coordinate set(s) were parsed in 0.03s.\n"
     ]
    },
    {
     "name": "stdout",
     "output_type": "stream",
     "text": [
      "./datafiles/processed_pdb/2C68_A.pdb\n"
     ]
    },
    {
     "name": "stderr",
     "output_type": "stream",
     "text": [
      "@> 2345 atoms and 1 coordinate set(s) were parsed in 0.03s.\n"
     ]
    },
    {
     "name": "stdout",
     "output_type": "stream",
     "text": [
      "./datafiles/processed_pdb/2C69_A.pdb\n"
     ]
    },
    {
     "name": "stderr",
     "output_type": "stream",
     "text": [
      "@> 2345 atoms and 1 coordinate set(s) were parsed in 0.03s.\n"
     ]
    },
    {
     "name": "stdout",
     "output_type": "stream",
     "text": [
      "./datafiles/processed_pdb/2C6I_A.pdb\n"
     ]
    },
    {
     "name": "stderr",
     "output_type": "stream",
     "text": [
      "@> 2345 atoms and 1 coordinate set(s) were parsed in 0.03s.\n"
     ]
    },
    {
     "name": "stdout",
     "output_type": "stream",
     "text": [
      "./datafiles/processed_pdb/2C6K_A.pdb\n"
     ]
    },
    {
     "name": "stderr",
     "output_type": "stream",
     "text": [
      "@> 2340 atoms and 1 coordinate set(s) were parsed in 0.03s.\n"
     ]
    },
    {
     "name": "stdout",
     "output_type": "stream",
     "text": [
      "./datafiles/processed_pdb/2C6L_A.pdb\n"
     ]
    },
    {
     "name": "stderr",
     "output_type": "stream",
     "text": [
      "@> 2321 atoms and 1 coordinate set(s) were parsed in 0.03s.\n"
     ]
    },
    {
     "name": "stdout",
     "output_type": "stream",
     "text": [
      "./datafiles/processed_pdb/2C6M_A.pdb\n"
     ]
    },
    {
     "name": "stderr",
     "output_type": "stream",
     "text": [
      "@> 2321 atoms and 1 coordinate set(s) were parsed in 0.03s.\n"
     ]
    },
    {
     "name": "stdout",
     "output_type": "stream",
     "text": [
      "./datafiles/processed_pdb/2C6O_A.pdb\n"
     ]
    },
    {
     "name": "stderr",
     "output_type": "stream",
     "text": [
      "@> 2382 atoms and 1 coordinate set(s) were parsed in 0.03s.\n"
     ]
    },
    {
     "name": "stdout",
     "output_type": "stream",
     "text": [
      "./datafiles/processed_pdb/2C6T_A.pdb\n"
     ]
    },
    {
     "name": "stderr",
     "output_type": "stream",
     "text": [
      "@> 2382 atoms and 1 coordinate set(s) were parsed in 0.03s.\n"
     ]
    },
    {
     "name": "stdout",
     "output_type": "stream",
     "text": [
      "./datafiles/processed_pdb/2C6T_C.pdb\n"
     ]
    },
    {
     "name": "stderr",
     "output_type": "stream",
     "text": [
      "@> 2388 atoms and 1 coordinate set(s) were parsed in 0.03s.\n"
     ]
    },
    {
     "name": "stdout",
     "output_type": "stream",
     "text": [
      "./datafiles/processed_pdb/2CCH_A.pdb\n"
     ]
    },
    {
     "name": "stderr",
     "output_type": "stream",
     "text": [
      "@> 2388 atoms and 1 coordinate set(s) were parsed in 0.03s.\n"
     ]
    },
    {
     "name": "stdout",
     "output_type": "stream",
     "text": [
      "./datafiles/processed_pdb/2CCH_C.pdb\n"
     ]
    },
    {
     "name": "stderr",
     "output_type": "stream",
     "text": [
      "@> 2388 atoms and 1 coordinate set(s) were parsed in 0.03s.\n"
     ]
    },
    {
     "name": "stdout",
     "output_type": "stream",
     "text": [
      "./datafiles/processed_pdb/2CCI_A.pdb\n"
     ]
    },
    {
     "name": "stderr",
     "output_type": "stream",
     "text": [
      "@> 2388 atoms and 1 coordinate set(s) were parsed in 0.03s.\n"
     ]
    },
    {
     "name": "stdout",
     "output_type": "stream",
     "text": [
      "./datafiles/processed_pdb/2CCI_C.pdb\n"
     ]
    },
    {
     "name": "stderr",
     "output_type": "stream",
     "text": [
      "@> 2315 atoms and 1 coordinate set(s) were parsed in 0.03s.\n"
     ]
    },
    {
     "name": "stdout",
     "output_type": "stream",
     "text": [
      "./datafiles/processed_pdb/2CJM_A.pdb\n"
     ]
    },
    {
     "name": "stderr",
     "output_type": "stream",
     "text": [
      "@> 2387 atoms and 1 coordinate set(s) were parsed in 0.03s.\n"
     ]
    },
    {
     "name": "stdout",
     "output_type": "stream",
     "text": [
      "./datafiles/processed_pdb/2CJM_C.pdb\n"
     ]
    },
    {
     "name": "stderr",
     "output_type": "stream",
     "text": [
      "@> 2357 atoms and 1 coordinate set(s) were parsed in 0.03s.\n"
     ]
    },
    {
     "name": "stdout",
     "output_type": "stream",
     "text": [
      "./datafiles/processed_pdb/2CLX_A.pdb\n"
     ]
    },
    {
     "name": "stderr",
     "output_type": "stream",
     "text": [
      "@> 2331 atoms and 1 coordinate set(s) were parsed in 0.03s.\n"
     ]
    },
    {
     "name": "stdout",
     "output_type": "stream",
     "text": [
      "./datafiles/processed_pdb/2DS1_A.pdb\n"
     ]
    },
    {
     "name": "stderr",
     "output_type": "stream",
     "text": [
      "@> 2199 atoms and 1 coordinate set(s) were parsed in 0.03s.\n"
     ]
    },
    {
     "name": "stdout",
     "output_type": "stream",
     "text": [
      "./datafiles/processed_pdb/2DUV_A.pdb\n"
     ]
    },
    {
     "name": "stderr",
     "output_type": "stream",
     "text": [
      "@> 2398 atoms and 1 coordinate set(s) were parsed in 0.03s.\n"
     ]
    },
    {
     "name": "stdout",
     "output_type": "stream",
     "text": [
      "./datafiles/processed_pdb/2EXM_A.pdb\n"
     ]
    },
    {
     "name": "stderr",
     "output_type": "stream",
     "text": [
      "@> 2292 atoms and 1 coordinate set(s) were parsed in 0.03s.\n"
     ]
    },
    {
     "name": "stdout",
     "output_type": "stream",
     "text": [
      "./datafiles/processed_pdb/2FVD_A.pdb\n"
     ]
    },
    {
     "name": "stderr",
     "output_type": "stream",
     "text": [
      "@> 2407 atoms and 1 coordinate set(s) were parsed in 0.03s.\n"
     ]
    },
    {
     "name": "stdout",
     "output_type": "stream",
     "text": [
      "./datafiles/processed_pdb/2G9X_A.pdb\n"
     ]
    },
    {
     "name": "stderr",
     "output_type": "stream",
     "text": [
      "@> 2208 atoms and 1 coordinate set(s) were parsed in 0.02s.\n"
     ]
    },
    {
     "name": "stdout",
     "output_type": "stream",
     "text": [
      "./datafiles/processed_pdb/2G9X_C.pdb\n"
     ]
    },
    {
     "name": "stderr",
     "output_type": "stream",
     "text": [
      "@> 2307 atoms and 1 coordinate set(s) were parsed in 0.03s.\n"
     ]
    },
    {
     "name": "stdout",
     "output_type": "stream",
     "text": [
      "./datafiles/processed_pdb/2I40_A.pdb\n"
     ]
    },
    {
     "name": "stderr",
     "output_type": "stream",
     "text": [
      "@> 2349 atoms and 1 coordinate set(s) were parsed in 0.03s.\n"
     ]
    },
    {
     "name": "stdout",
     "output_type": "stream",
     "text": [
      "./datafiles/processed_pdb/2I40_C.pdb\n"
     ]
    },
    {
     "name": "stderr",
     "output_type": "stream",
     "text": [
      "@> 2354 atoms and 1 coordinate set(s) were parsed in 0.03s.\n"
     ]
    },
    {
     "name": "stdout",
     "output_type": "stream",
     "text": [
      "./datafiles/processed_pdb/2IW6_A.pdb\n"
     ]
    },
    {
     "name": "stderr",
     "output_type": "stream",
     "text": [
      "@> 2378 atoms and 1 coordinate set(s) were parsed in 0.03s.\n"
     ]
    },
    {
     "name": "stdout",
     "output_type": "stream",
     "text": [
      "./datafiles/processed_pdb/2IW6_C.pdb\n"
     ]
    },
    {
     "name": "stderr",
     "output_type": "stream",
     "text": [
      "@> 2395 atoms and 1 coordinate set(s) were parsed in 0.03s.\n"
     ]
    },
    {
     "name": "stdout",
     "output_type": "stream",
     "text": [
      "./datafiles/processed_pdb/2IW8_A.pdb\n"
     ]
    },
    {
     "name": "stderr",
     "output_type": "stream",
     "text": [
      "@> 2130 atoms and 1 coordinate set(s) were parsed in 0.03s.\n"
     ]
    },
    {
     "name": "stdout",
     "output_type": "stream",
     "text": [
      "./datafiles/processed_pdb/2IW8_C.pdb\n"
     ]
    },
    {
     "name": "stderr",
     "output_type": "stream",
     "text": [
      "@> 2366 atoms and 1 coordinate set(s) were parsed in 0.03s.\n"
     ]
    },
    {
     "name": "stdout",
     "output_type": "stream",
     "text": [
      "./datafiles/processed_pdb/2IW9_A.pdb\n"
     ]
    },
    {
     "name": "stderr",
     "output_type": "stream",
     "text": [
      "@> 2153 atoms and 1 coordinate set(s) were parsed in 0.02s.\n"
     ]
    },
    {
     "name": "stdout",
     "output_type": "stream",
     "text": [
      "./datafiles/processed_pdb/2IW9_C.pdb\n"
     ]
    },
    {
     "name": "stderr",
     "output_type": "stream",
     "text": [
      "@> 2219 atoms and 1 coordinate set(s) were parsed in 0.02s.\n"
     ]
    },
    {
     "name": "stdout",
     "output_type": "stream",
     "text": [
      "./datafiles/processed_pdb/2J9M_A.pdb\n"
     ]
    },
    {
     "name": "stderr",
     "output_type": "stream",
     "text": [
      "@> 2326 atoms and 1 coordinate set(s) were parsed in 0.03s.\n"
     ]
    },
    {
     "name": "stdout",
     "output_type": "stream",
     "text": [
      "./datafiles/processed_pdb/2JGZ_A.pdb\n"
     ]
    },
    {
     "name": "stderr",
     "output_type": "stream",
     "text": [
      "@> 2336 atoms and 1 coordinate set(s) were parsed in 0.03s.\n"
     ]
    },
    {
     "name": "stdout",
     "output_type": "stream",
     "text": [
      "./datafiles/processed_pdb/2R3F_A.pdb\n"
     ]
    },
    {
     "name": "stderr",
     "output_type": "stream",
     "text": [
      "@> 2318 atoms and 1 coordinate set(s) were parsed in 0.02s.\n"
     ]
    },
    {
     "name": "stdout",
     "output_type": "stream",
     "text": [
      "./datafiles/processed_pdb/2R3G_A.pdb\n"
     ]
    },
    {
     "name": "stderr",
     "output_type": "stream",
     "text": [
      "@> 2331 atoms and 1 coordinate set(s) were parsed in 0.03s.\n"
     ]
    },
    {
     "name": "stdout",
     "output_type": "stream",
     "text": [
      "./datafiles/processed_pdb/2R3H_A.pdb\n"
     ]
    },
    {
     "name": "stderr",
     "output_type": "stream",
     "text": [
      "@> 2338 atoms and 1 coordinate set(s) were parsed in 0.03s.\n"
     ]
    },
    {
     "name": "stdout",
     "output_type": "stream",
     "text": [
      "./datafiles/processed_pdb/2R3I_A.pdb\n"
     ]
    },
    {
     "name": "stderr",
     "output_type": "stream",
     "text": [
      "@> 2253 atoms and 1 coordinate set(s) were parsed in 0.03s.\n"
     ]
    },
    {
     "name": "stdout",
     "output_type": "stream",
     "text": [
      "./datafiles/processed_pdb/2R3J_A.pdb\n"
     ]
    },
    {
     "name": "stderr",
     "output_type": "stream",
     "text": [
      "@> 2244 atoms and 1 coordinate set(s) were parsed in 0.02s.\n"
     ]
    },
    {
     "name": "stdout",
     "output_type": "stream",
     "text": [
      "./datafiles/processed_pdb/2R3K_A.pdb\n"
     ]
    },
    {
     "name": "stderr",
     "output_type": "stream",
     "text": [
      "@> 2220 atoms and 1 coordinate set(s) were parsed in 0.02s.\n"
     ]
    },
    {
     "name": "stdout",
     "output_type": "stream",
     "text": [
      "./datafiles/processed_pdb/2R3L_A.pdb\n"
     ]
    },
    {
     "name": "stderr",
     "output_type": "stream",
     "text": [
      "@> 2252 atoms and 1 coordinate set(s) were parsed in 0.02s.\n"
     ]
    },
    {
     "name": "stdout",
     "output_type": "stream",
     "text": [
      "./datafiles/processed_pdb/2R3M_A.pdb\n"
     ]
    },
    {
     "name": "stderr",
     "output_type": "stream",
     "text": [
      "@> 2222 atoms and 1 coordinate set(s) were parsed in 0.03s.\n"
     ]
    },
    {
     "name": "stdout",
     "output_type": "stream",
     "text": [
      "./datafiles/processed_pdb/2R3N_A.pdb\n"
     ]
    },
    {
     "name": "stderr",
     "output_type": "stream",
     "text": [
      "@> 2338 atoms and 1 coordinate set(s) were parsed in 0.03s.\n"
     ]
    },
    {
     "name": "stdout",
     "output_type": "stream",
     "text": [
      "./datafiles/processed_pdb/2R3O_A.pdb\n"
     ]
    },
    {
     "name": "stderr",
     "output_type": "stream",
     "text": [
      "@> 2338 atoms and 1 coordinate set(s) were parsed in 0.03s.\n"
     ]
    },
    {
     "name": "stdout",
     "output_type": "stream",
     "text": [
      "./datafiles/processed_pdb/2R3P_A.pdb\n"
     ]
    },
    {
     "name": "stderr",
     "output_type": "stream",
     "text": [
      "@> 2320 atoms and 1 coordinate set(s) were parsed in 0.03s.\n"
     ]
    },
    {
     "name": "stdout",
     "output_type": "stream",
     "text": [
      "./datafiles/processed_pdb/2R3Q_A.pdb\n"
     ]
    },
    {
     "name": "stderr",
     "output_type": "stream",
     "text": [
      "@> 2336 atoms and 1 coordinate set(s) were parsed in 0.03s.\n"
     ]
    },
    {
     "name": "stdout",
     "output_type": "stream",
     "text": [
      "./datafiles/processed_pdb/2R3R_A.pdb\n"
     ]
    },
    {
     "name": "stderr",
     "output_type": "stream",
     "text": [
      "@> 2247 atoms and 1 coordinate set(s) were parsed in 0.03s.\n"
     ]
    },
    {
     "name": "stdout",
     "output_type": "stream",
     "text": [
      "./datafiles/processed_pdb/2R64_A.pdb\n"
     ]
    },
    {
     "name": "stderr",
     "output_type": "stream",
     "text": [
      "@> 2378 atoms and 1 coordinate set(s) were parsed in 0.03s.\n"
     ]
    },
    {
     "name": "stdout",
     "output_type": "stream",
     "text": [
      "./datafiles/processed_pdb/2UUE_A.pdb\n"
     ]
    },
    {
     "name": "stderr",
     "output_type": "stream",
     "text": [
      "@> 2379 atoms and 1 coordinate set(s) were parsed in 0.03s.\n"
     ]
    },
    {
     "name": "stdout",
     "output_type": "stream",
     "text": [
      "./datafiles/processed_pdb/2UUE_C.pdb\n"
     ]
    },
    {
     "name": "stderr",
     "output_type": "stream",
     "text": [
      "@> 2382 atoms and 1 coordinate set(s) were parsed in 0.03s.\n"
     ]
    },
    {
     "name": "stdout",
     "output_type": "stream",
     "text": [
      "./datafiles/processed_pdb/2UZB_A.pdb\n"
     ]
    },
    {
     "name": "stderr",
     "output_type": "stream",
     "text": [
      "@> 2318 atoms and 1 coordinate set(s) were parsed in 0.03s.\n"
     ]
    },
    {
     "name": "stdout",
     "output_type": "stream",
     "text": [
      "./datafiles/processed_pdb/2UZB_C.pdb\n"
     ]
    },
    {
     "name": "stderr",
     "output_type": "stream",
     "text": [
      "@> 2382 atoms and 1 coordinate set(s) were parsed in 0.03s.\n"
     ]
    },
    {
     "name": "stdout",
     "output_type": "stream",
     "text": [
      "./datafiles/processed_pdb/2UZD_A.pdb\n"
     ]
    },
    {
     "name": "stderr",
     "output_type": "stream",
     "text": [
      "@> 2382 atoms and 1 coordinate set(s) were parsed in 0.03s.\n"
     ]
    },
    {
     "name": "stdout",
     "output_type": "stream",
     "text": [
      "./datafiles/processed_pdb/2UZD_C.pdb\n"
     ]
    },
    {
     "name": "stderr",
     "output_type": "stream",
     "text": [
      "@> 2370 atoms and 1 coordinate set(s) were parsed in 0.03s.\n"
     ]
    },
    {
     "name": "stdout",
     "output_type": "stream",
     "text": [
      "./datafiles/processed_pdb/2UZE_A.pdb\n"
     ]
    },
    {
     "name": "stderr",
     "output_type": "stream",
     "text": [
      "@> 2378 atoms and 1 coordinate set(s) were parsed in 0.03s.\n"
     ]
    },
    {
     "name": "stdout",
     "output_type": "stream",
     "text": [
      "./datafiles/processed_pdb/2UZE_C.pdb\n"
     ]
    },
    {
     "name": "stderr",
     "output_type": "stream",
     "text": [
      "@> 2383 atoms and 1 coordinate set(s) were parsed in 0.03s.\n"
     ]
    },
    {
     "name": "stdout",
     "output_type": "stream",
     "text": [
      "./datafiles/processed_pdb/2UZL_A.pdb\n"
     ]
    },
    {
     "name": "stderr",
     "output_type": "stream",
     "text": [
      "@> 2383 atoms and 1 coordinate set(s) were parsed in 0.03s.\n"
     ]
    },
    {
     "name": "stdout",
     "output_type": "stream",
     "text": [
      "./datafiles/processed_pdb/2UZL_C.pdb\n"
     ]
    },
    {
     "name": "stderr",
     "output_type": "stream",
     "text": [
      "@> 2240 atoms and 1 coordinate set(s) were parsed in 0.03s.\n"
     ]
    },
    {
     "name": "stdout",
     "output_type": "stream",
     "text": [
      "./datafiles/processed_pdb/2UZN_A.pdb\n"
     ]
    },
    {
     "name": "stderr",
     "output_type": "stream",
     "text": [
      "@> 2321 atoms and 1 coordinate set(s) were parsed in 0.03s.\n"
     ]
    },
    {
     "name": "stdout",
     "output_type": "stream",
     "text": [
      "./datafiles/processed_pdb/2UZO_A.pdb\n"
     ]
    },
    {
     "name": "stderr",
     "output_type": "stream",
     "text": [
      "@> 2345 atoms and 1 coordinate set(s) were parsed in 0.03s.\n"
     ]
    },
    {
     "name": "stdout",
     "output_type": "stream",
     "text": [
      "./datafiles/processed_pdb/2V0D_A.pdb\n"
     ]
    },
    {
     "name": "stderr",
     "output_type": "stream",
     "text": [
      "@> 2378 atoms and 1 coordinate set(s) were parsed in 0.03s.\n"
     ]
    },
    {
     "name": "stdout",
     "output_type": "stream",
     "text": [
      "./datafiles/processed_pdb/2V22_A.pdb\n"
     ]
    },
    {
     "name": "stderr",
     "output_type": "stream",
     "text": [
      "@> 2379 atoms and 1 coordinate set(s) were parsed in 0.03s.\n"
     ]
    },
    {
     "name": "stdout",
     "output_type": "stream",
     "text": [
      "./datafiles/processed_pdb/2V22_C.pdb\n"
     ]
    },
    {
     "name": "stderr",
     "output_type": "stream",
     "text": [
      "@> 2244 atoms and 1 coordinate set(s) were parsed in 0.02s.\n"
     ]
    },
    {
     "name": "stdout",
     "output_type": "stream",
     "text": [
      "./datafiles/processed_pdb/2VTA_A.pdb\n"
     ]
    },
    {
     "name": "stderr",
     "output_type": "stream",
     "text": [
      "@> 2244 atoms and 1 coordinate set(s) were parsed in 0.03s.\n"
     ]
    },
    {
     "name": "stdout",
     "output_type": "stream",
     "text": [
      "./datafiles/processed_pdb/2VTH_A.pdb\n"
     ]
    },
    {
     "name": "stderr",
     "output_type": "stream",
     "text": [
      "@> 2254 atoms and 1 coordinate set(s) were parsed in 0.02s.\n"
     ]
    },
    {
     "name": "stdout",
     "output_type": "stream",
     "text": [
      "./datafiles/processed_pdb/2VTI_A.pdb\n"
     ]
    },
    {
     "name": "stderr",
     "output_type": "stream",
     "text": [
      "@> 2228 atoms and 1 coordinate set(s) were parsed in 0.02s.\n"
     ]
    },
    {
     "name": "stdout",
     "output_type": "stream",
     "text": [
      "./datafiles/processed_pdb/2VTJ_A.pdb\n"
     ]
    },
    {
     "name": "stderr",
     "output_type": "stream",
     "text": [
      "@> 2335 atoms and 1 coordinate set(s) were parsed in 0.03s.\n"
     ]
    },
    {
     "name": "stdout",
     "output_type": "stream",
     "text": [
      "./datafiles/processed_pdb/2VTL_A.pdb\n"
     ]
    },
    {
     "name": "stderr",
     "output_type": "stream",
     "text": [
      "@> 2335 atoms and 1 coordinate set(s) were parsed in 0.02s.\n"
     ]
    },
    {
     "name": "stdout",
     "output_type": "stream",
     "text": [
      "./datafiles/processed_pdb/2VTM_A.pdb\n"
     ]
    },
    {
     "name": "stderr",
     "output_type": "stream",
     "text": [
      "@> 2211 atoms and 1 coordinate set(s) were parsed in 0.02s.\n"
     ]
    },
    {
     "name": "stdout",
     "output_type": "stream",
     "text": [
      "./datafiles/processed_pdb/2VTN_A.pdb\n"
     ]
    },
    {
     "name": "stderr",
     "output_type": "stream",
     "text": [
      "@> 2284 atoms and 1 coordinate set(s) were parsed in 0.03s.\n"
     ]
    },
    {
     "name": "stdout",
     "output_type": "stream",
     "text": [
      "./datafiles/processed_pdb/2VTO_A.pdb\n"
     ]
    },
    {
     "name": "stderr",
     "output_type": "stream",
     "text": [
      "@> 2263 atoms and 1 coordinate set(s) were parsed in 0.03s.\n"
     ]
    },
    {
     "name": "stdout",
     "output_type": "stream",
     "text": [
      "./datafiles/processed_pdb/2VTP_A.pdb\n"
     ]
    },
    {
     "name": "stderr",
     "output_type": "stream",
     "text": [
      "@> 2211 atoms and 1 coordinate set(s) were parsed in 0.03s.\n"
     ]
    },
    {
     "name": "stdout",
     "output_type": "stream",
     "text": [
      "./datafiles/processed_pdb/2VTQ_A.pdb\n"
     ]
    },
    {
     "name": "stderr",
     "output_type": "stream",
     "text": [
      "@> 2339 atoms and 1 coordinate set(s) were parsed in 0.03s.\n"
     ]
    },
    {
     "name": "stdout",
     "output_type": "stream",
     "text": [
      "./datafiles/processed_pdb/2VTR_A.pdb\n"
     ]
    },
    {
     "name": "stderr",
     "output_type": "stream",
     "text": [
      "@> 2277 atoms and 1 coordinate set(s) were parsed in 0.02s.\n"
     ]
    },
    {
     "name": "stdout",
     "output_type": "stream",
     "text": [
      "./datafiles/processed_pdb/2VTS_A.pdb\n"
     ]
    },
    {
     "name": "stderr",
     "output_type": "stream",
     "text": [
      "@> 2195 atoms and 1 coordinate set(s) were parsed in 0.02s.\n"
     ]
    },
    {
     "name": "stdout",
     "output_type": "stream",
     "text": [
      "./datafiles/processed_pdb/2VTT_A.pdb\n"
     ]
    },
    {
     "name": "stderr",
     "output_type": "stream",
     "text": [
      "@> 2305 atoms and 1 coordinate set(s) were parsed in 0.02s.\n"
     ]
    },
    {
     "name": "stdout",
     "output_type": "stream",
     "text": [
      "./datafiles/processed_pdb/2VU3_A.pdb\n"
     ]
    },
    {
     "name": "stderr",
     "output_type": "stream",
     "text": [
      "@> 2179 atoms and 1 coordinate set(s) were parsed in 0.02s.\n"
     ]
    },
    {
     "name": "stdout",
     "output_type": "stream",
     "text": [
      "./datafiles/processed_pdb/2VV9_A.pdb\n"
     ]
    },
    {
     "name": "stderr",
     "output_type": "stream",
     "text": [
      "@> 2182 atoms and 1 coordinate set(s) were parsed in 0.03s.\n"
     ]
    },
    {
     "name": "stdout",
     "output_type": "stream",
     "text": [
      "./datafiles/processed_pdb/2W05_A.pdb\n"
     ]
    },
    {
     "name": "stderr",
     "output_type": "stream",
     "text": [
      "@> 2205 atoms and 1 coordinate set(s) were parsed in 0.03s.\n"
     ]
    },
    {
     "name": "stdout",
     "output_type": "stream",
     "text": [
      "./datafiles/processed_pdb/2W06_A.pdb\n"
     ]
    },
    {
     "name": "stderr",
     "output_type": "stream",
     "text": [
      "@> 2206 atoms and 1 coordinate set(s) were parsed in 0.02s.\n"
     ]
    },
    {
     "name": "stdout",
     "output_type": "stream",
     "text": [
      "./datafiles/processed_pdb/2W17_A.pdb\n"
     ]
    },
    {
     "name": "stderr",
     "output_type": "stream",
     "text": [
      "@> 2278 atoms and 1 coordinate set(s) were parsed in 0.02s.\n"
     ]
    },
    {
     "name": "stdout",
     "output_type": "stream",
     "text": [
      "./datafiles/processed_pdb/2W1H_A.pdb\n"
     ]
    },
    {
     "name": "stderr",
     "output_type": "stream",
     "text": [
      "@> 2377 atoms and 1 coordinate set(s) were parsed in 0.03s.\n"
     ]
    },
    {
     "name": "stdout",
     "output_type": "stream",
     "text": [
      "./datafiles/processed_pdb/2WEV_A.pdb\n"
     ]
    },
    {
     "name": "stderr",
     "output_type": "stream",
     "text": [
      "@> 2379 atoms and 1 coordinate set(s) were parsed in 0.03s.\n"
     ]
    },
    {
     "name": "stdout",
     "output_type": "stream",
     "text": [
      "./datafiles/processed_pdb/2WEV_C.pdb\n"
     ]
    },
    {
     "name": "stderr",
     "output_type": "stream",
     "text": [
      "@> 2371 atoms and 1 coordinate set(s) were parsed in 0.03s.\n"
     ]
    },
    {
     "name": "stdout",
     "output_type": "stream",
     "text": [
      "./datafiles/processed_pdb/2WFY_A.pdb\n"
     ]
    },
    {
     "name": "stderr",
     "output_type": "stream",
     "text": [
      "@> 2379 atoms and 1 coordinate set(s) were parsed in 0.03s.\n"
     ]
    },
    {
     "name": "stdout",
     "output_type": "stream",
     "text": [
      "./datafiles/processed_pdb/2WFY_C.pdb\n"
     ]
    },
    {
     "name": "stderr",
     "output_type": "stream",
     "text": [
      "@> 2378 atoms and 1 coordinate set(s) were parsed in 0.03s.\n"
     ]
    },
    {
     "name": "stdout",
     "output_type": "stream",
     "text": [
      "./datafiles/processed_pdb/2WHB_A.pdb\n"
     ]
    },
    {
     "name": "stderr",
     "output_type": "stream",
     "text": [
      "@> 2379 atoms and 1 coordinate set(s) were parsed in 0.03s.\n"
     ]
    },
    {
     "name": "stdout",
     "output_type": "stream",
     "text": [
      "./datafiles/processed_pdb/2WHB_C.pdb\n"
     ]
    },
    {
     "name": "stderr",
     "output_type": "stream",
     "text": [
      "@> 2427 atoms and 1 coordinate set(s) were parsed in 0.03s.\n"
     ]
    },
    {
     "name": "stdout",
     "output_type": "stream",
     "text": [
      "./datafiles/processed_pdb/2WIH_A.pdb\n"
     ]
    },
    {
     "name": "stderr",
     "output_type": "stream",
     "text": [
      "@> 2405 atoms and 1 coordinate set(s) were parsed in 0.03s.\n"
     ]
    },
    {
     "name": "stdout",
     "output_type": "stream",
     "text": [
      "./datafiles/processed_pdb/2WIH_C.pdb\n"
     ]
    },
    {
     "name": "stderr",
     "output_type": "stream",
     "text": [
      "@> 2391 atoms and 1 coordinate set(s) were parsed in 0.03s.\n"
     ]
    },
    {
     "name": "stdout",
     "output_type": "stream",
     "text": [
      "./datafiles/processed_pdb/2WIP_A.pdb\n"
     ]
    },
    {
     "name": "stderr",
     "output_type": "stream",
     "text": [
      "@> 2350 atoms and 1 coordinate set(s) were parsed in 0.03s.\n"
     ]
    },
    {
     "name": "stdout",
     "output_type": "stream",
     "text": [
      "./datafiles/processed_pdb/2WIP_C.pdb\n"
     ]
    },
    {
     "name": "stderr",
     "output_type": "stream",
     "text": [
      "@> 2388 atoms and 1 coordinate set(s) were parsed in 0.03s.\n"
     ]
    },
    {
     "name": "stdout",
     "output_type": "stream",
     "text": [
      "./datafiles/processed_pdb/2WMA_A.pdb\n"
     ]
    },
    {
     "name": "stderr",
     "output_type": "stream",
     "text": [
      "@> 2131 atoms and 1 coordinate set(s) were parsed in 0.02s.\n"
     ]
    },
    {
     "name": "stdout",
     "output_type": "stream",
     "text": [
      "./datafiles/processed_pdb/2WMA_C.pdb\n"
     ]
    },
    {
     "name": "stderr",
     "output_type": "stream",
     "text": [
      "@> 2388 atoms and 1 coordinate set(s) were parsed in 0.03s.\n"
     ]
    },
    {
     "name": "stdout",
     "output_type": "stream",
     "text": [
      "./datafiles/processed_pdb/2WMB_A.pdb\n"
     ]
    },
    {
     "name": "stderr",
     "output_type": "stream",
     "text": [
      "@> 2146 atoms and 1 coordinate set(s) were parsed in 0.03s.\n"
     ]
    },
    {
     "name": "stdout",
     "output_type": "stream",
     "text": [
      "./datafiles/processed_pdb/2WMB_C.pdb\n"
     ]
    },
    {
     "name": "stderr",
     "output_type": "stream",
     "text": [
      "@> 2427 atoms and 1 coordinate set(s) were parsed in 0.03s.\n"
     ]
    },
    {
     "name": "stdout",
     "output_type": "stream",
     "text": [
      "./datafiles/processed_pdb/2WPA_A.pdb\n"
     ]
    },
    {
     "name": "stderr",
     "output_type": "stream",
     "text": [
      "@> 2405 atoms and 1 coordinate set(s) were parsed in 0.03s.\n"
     ]
    },
    {
     "name": "stdout",
     "output_type": "stream",
     "text": [
      "./datafiles/processed_pdb/2WPA_C.pdb\n"
     ]
    },
    {
     "name": "stderr",
     "output_type": "stream",
     "text": [
      "@> 2427 atoms and 1 coordinate set(s) were parsed in 0.03s.\n"
     ]
    },
    {
     "name": "stdout",
     "output_type": "stream",
     "text": [
      "./datafiles/processed_pdb/2WXV_A.pdb\n"
     ]
    },
    {
     "name": "stderr",
     "output_type": "stream",
     "text": [
      "@> 2405 atoms and 1 coordinate set(s) were parsed in 0.03s.\n"
     ]
    },
    {
     "name": "stdout",
     "output_type": "stream",
     "text": [
      "./datafiles/processed_pdb/2WXV_C.pdb\n"
     ]
    },
    {
     "name": "stderr",
     "output_type": "stream",
     "text": [
      "@> 2378 atoms and 1 coordinate set(s) were parsed in 0.03s.\n"
     ]
    },
    {
     "name": "stdout",
     "output_type": "stream",
     "text": [
      "./datafiles/processed_pdb/2X1N_A.pdb\n"
     ]
    },
    {
     "name": "stderr",
     "output_type": "stream",
     "text": [
      "@> 2379 atoms and 1 coordinate set(s) were parsed in 0.03s.\n"
     ]
    },
    {
     "name": "stdout",
     "output_type": "stream",
     "text": [
      "./datafiles/processed_pdb/2X1N_C.pdb\n"
     ]
    },
    {
     "name": "stderr",
     "output_type": "stream",
     "text": [
      "@> 2372 atoms and 1 coordinate set(s) were parsed in 0.03s.\n"
     ]
    },
    {
     "name": "stdout",
     "output_type": "stream",
     "text": [
      "./datafiles/processed_pdb/2XMY_A.pdb\n"
     ]
    },
    {
     "name": "stderr",
     "output_type": "stream",
     "text": [
      "@> 2379 atoms and 1 coordinate set(s) were parsed in 0.03s.\n"
     ]
    },
    {
     "name": "stdout",
     "output_type": "stream",
     "text": [
      "./datafiles/processed_pdb/2XNB_A.pdb\n"
     ]
    },
    {
     "name": "stderr",
     "output_type": "stream",
     "text": [
      "@> 2395 atoms and 1 coordinate set(s) were parsed in 0.03s.\n"
     ]
    },
    {
     "name": "stdout",
     "output_type": "stream",
     "text": [
      "./datafiles/processed_pdb/3BHT_A.pdb\n"
     ]
    },
    {
     "name": "stderr",
     "output_type": "stream",
     "text": [
      "@> 2174 atoms and 1 coordinate set(s) were parsed in 0.02s.\n"
     ]
    },
    {
     "name": "stdout",
     "output_type": "stream",
     "text": [
      "./datafiles/processed_pdb/3BHT_C.pdb\n"
     ]
    },
    {
     "name": "stderr",
     "output_type": "stream",
     "text": [
      "@> 2395 atoms and 1 coordinate set(s) were parsed in 0.03s.\n"
     ]
    },
    {
     "name": "stdout",
     "output_type": "stream",
     "text": [
      "./datafiles/processed_pdb/3BHU_A.pdb\n"
     ]
    },
    {
     "name": "stderr",
     "output_type": "stream",
     "text": [
      "@> 2178 atoms and 1 coordinate set(s) were parsed in 0.02s.\n"
     ]
    },
    {
     "name": "stdout",
     "output_type": "stream",
     "text": [
      "./datafiles/processed_pdb/3BHU_C.pdb\n"
     ]
    },
    {
     "name": "stderr",
     "output_type": "stream",
     "text": [
      "@> 2395 atoms and 1 coordinate set(s) were parsed in 0.03s.\n"
     ]
    },
    {
     "name": "stdout",
     "output_type": "stream",
     "text": [
      "./datafiles/processed_pdb/3BHV_A.pdb\n"
     ]
    },
    {
     "name": "stderr",
     "output_type": "stream",
     "text": [
      "@> 2178 atoms and 1 coordinate set(s) were parsed in 0.02s.\n"
     ]
    },
    {
     "name": "stdout",
     "output_type": "stream",
     "text": [
      "./datafiles/processed_pdb/3BHV_C.pdb\n"
     ]
    },
    {
     "name": "stderr",
     "output_type": "stream",
     "text": [
      "@> 2399 atoms and 1 coordinate set(s) were parsed in 0.03s.\n"
     ]
    },
    {
     "name": "stdout",
     "output_type": "stream",
     "text": [
      "./datafiles/processed_pdb/3DDP_A.pdb\n"
     ]
    },
    {
     "name": "stderr",
     "output_type": "stream",
     "text": [
      "@> 2407 atoms and 1 coordinate set(s) were parsed in 0.03s.\n"
     ]
    },
    {
     "name": "stdout",
     "output_type": "stream",
     "text": [
      "./datafiles/processed_pdb/3DDP_C.pdb\n"
     ]
    },
    {
     "name": "stderr",
     "output_type": "stream",
     "text": [
      "@> 2391 atoms and 1 coordinate set(s) were parsed in 0.03s.\n"
     ]
    },
    {
     "name": "stdout",
     "output_type": "stream",
     "text": [
      "./datafiles/processed_pdb/3DDQ_A.pdb\n"
     ]
    },
    {
     "name": "stderr",
     "output_type": "stream",
     "text": [
      "@> 2145 atoms and 1 coordinate set(s) were parsed in 0.03s.\n"
     ]
    },
    {
     "name": "stdout",
     "output_type": "stream",
     "text": [
      "./datafiles/processed_pdb/3DDQ_C.pdb\n"
     ]
    },
    {
     "name": "stderr",
     "output_type": "stream",
     "text": [
      "@> 2399 atoms and 1 coordinate set(s) were parsed in 0.03s.\n"
     ]
    },
    {
     "name": "stdout",
     "output_type": "stream",
     "text": [
      "./datafiles/processed_pdb/3DOG_A.pdb\n"
     ]
    },
    {
     "name": "stderr",
     "output_type": "stream",
     "text": [
      "@> 2152 atoms and 1 coordinate set(s) were parsed in 0.02s.\n"
     ]
    },
    {
     "name": "stdout",
     "output_type": "stream",
     "text": [
      "./datafiles/processed_pdb/3DOG_C.pdb\n"
     ]
    },
    {
     "name": "stderr",
     "output_type": "stream",
     "text": [
      "@> 2305 atoms and 1 coordinate set(s) were parsed in 0.03s.\n"
     ]
    },
    {
     "name": "stdout",
     "output_type": "stream",
     "text": [
      "./datafiles/processed_pdb/3EID_A.pdb\n"
     ]
    },
    {
     "name": "stderr",
     "output_type": "stream",
     "text": [
      "@> 2281 atoms and 1 coordinate set(s) were parsed in 0.02s.\n"
     ]
    },
    {
     "name": "stdout",
     "output_type": "stream",
     "text": [
      "./datafiles/processed_pdb/3EID_C.pdb\n"
     ]
    },
    {
     "name": "stderr",
     "output_type": "stream",
     "text": [
      "@> 2331 atoms and 1 coordinate set(s) were parsed in 0.03s.\n"
     ]
    },
    {
     "name": "stdout",
     "output_type": "stream",
     "text": [
      "./datafiles/processed_pdb/3EJ1_A.pdb\n"
     ]
    },
    {
     "name": "stderr",
     "output_type": "stream",
     "text": [
      "@> 2336 atoms and 1 coordinate set(s) were parsed in 0.03s.\n"
     ]
    },
    {
     "name": "stdout",
     "output_type": "stream",
     "text": [
      "./datafiles/processed_pdb/3EJ1_C.pdb\n"
     ]
    },
    {
     "name": "stderr",
     "output_type": "stream",
     "text": [
      "@> 2317 atoms and 1 coordinate set(s) were parsed in 0.03s.\n"
     ]
    },
    {
     "name": "stdout",
     "output_type": "stream",
     "text": [
      "./datafiles/processed_pdb/3EOC_A.pdb\n"
     ]
    },
    {
     "name": "stderr",
     "output_type": "stream",
     "text": [
      "@> 2297 atoms and 1 coordinate set(s) were parsed in 0.03s.\n"
     ]
    },
    {
     "name": "stdout",
     "output_type": "stream",
     "text": [
      "./datafiles/processed_pdb/3EOC_C.pdb\n"
     ]
    },
    {
     "name": "stderr",
     "output_type": "stream",
     "text": [
      "@> 2201 atoms and 1 coordinate set(s) were parsed in 0.03s.\n"
     ]
    },
    {
     "name": "stdout",
     "output_type": "stream",
     "text": [
      "./datafiles/processed_pdb/3EZR_A.pdb\n"
     ]
    },
    {
     "name": "stderr",
     "output_type": "stream",
     "text": [
      "@> 2227 atoms and 1 coordinate set(s) were parsed in 0.03s.\n"
     ]
    },
    {
     "name": "stdout",
     "output_type": "stream",
     "text": [
      "./datafiles/processed_pdb/3EZV_A.pdb\n"
     ]
    },
    {
     "name": "stderr",
     "output_type": "stream",
     "text": [
      "@> 2390 atoms and 1 coordinate set(s) were parsed in 0.03s.\n"
     ]
    },
    {
     "name": "stdout",
     "output_type": "stream",
     "text": [
      "./datafiles/processed_pdb/3F5X_A.pdb\n"
     ]
    },
    {
     "name": "stderr",
     "output_type": "stream",
     "text": [
      "@> 2398 atoms and 1 coordinate set(s) were parsed in 0.03s.\n"
     ]
    },
    {
     "name": "stdout",
     "output_type": "stream",
     "text": [
      "./datafiles/processed_pdb/3F5X_C.pdb\n"
     ]
    },
    {
     "name": "stderr",
     "output_type": "stream",
     "text": [
      "@> 2282 atoms and 1 coordinate set(s) were parsed in 0.03s.\n"
     ]
    },
    {
     "name": "stdout",
     "output_type": "stream",
     "text": [
      "./datafiles/processed_pdb/3FZ1_A.pdb\n"
     ]
    },
    {
     "name": "stderr",
     "output_type": "stream",
     "text": [
      "@> 2240 atoms and 1 coordinate set(s) were parsed in 0.02s.\n"
     ]
    },
    {
     "name": "stdout",
     "output_type": "stream",
     "text": [
      "./datafiles/processed_pdb/3IG7_A.pdb\n"
     ]
    },
    {
     "name": "stderr",
     "output_type": "stream",
     "text": [
      "@> 2335 atoms and 1 coordinate set(s) were parsed in 0.03s.\n"
     ]
    },
    {
     "name": "stdout",
     "output_type": "stream",
     "text": [
      "./datafiles/processed_pdb/3IGG_A.pdb\n"
     ]
    },
    {
     "name": "stderr",
     "output_type": "stream",
     "text": [
      "@> 2273 atoms and 1 coordinate set(s) were parsed in 0.03s.\n"
     ]
    },
    {
     "name": "stdout",
     "output_type": "stream",
     "text": [
      "./datafiles/processed_pdb/3LE6_A.pdb\n"
     ]
    },
    {
     "name": "stderr",
     "output_type": "stream",
     "text": [
      "@> 2293 atoms and 1 coordinate set(s) were parsed in 0.03s.\n"
     ]
    },
    {
     "name": "stdout",
     "output_type": "stream",
     "text": [
      "./datafiles/processed_pdb/3LFN_A.pdb\n"
     ]
    },
    {
     "name": "stderr",
     "output_type": "stream",
     "text": [
      "@> 2332 atoms and 1 coordinate set(s) were parsed in 0.03s.\n"
     ]
    },
    {
     "name": "stdout",
     "output_type": "stream",
     "text": [
      "./datafiles/processed_pdb/3LFQ_A.pdb\n"
     ]
    },
    {
     "name": "stderr",
     "output_type": "stream",
     "text": [
      "@> 2339 atoms and 1 coordinate set(s) were parsed in 0.03s.\n"
     ]
    },
    {
     "name": "stdout",
     "output_type": "stream",
     "text": [
      "./datafiles/processed_pdb/3LFS_A.pdb\n"
     ]
    },
    {
     "name": "stderr",
     "output_type": "stream",
     "text": [
      "@> 2387 atoms and 1 coordinate set(s) were parsed in 0.03s.\n"
     ]
    },
    {
     "name": "stdout",
     "output_type": "stream",
     "text": [
      "./datafiles/processed_pdb/3MY5_A.pdb\n"
     ]
    },
    {
     "name": "stderr",
     "output_type": "stream",
     "text": [
      "@> 2141 atoms and 1 coordinate set(s) were parsed in 0.04s.\n"
     ]
    },
    {
     "name": "stdout",
     "output_type": "stream",
     "text": [
      "./datafiles/processed_pdb/3MY5_C.pdb\n"
     ]
    },
    {
     "name": "stderr",
     "output_type": "stream",
     "text": [
      "@> 2322 atoms and 1 coordinate set(s) were parsed in 0.03s.\n"
     ]
    },
    {
     "name": "stdout",
     "output_type": "stream",
     "text": [
      "./datafiles/processed_pdb/3NS9_A.pdb\n"
     ]
    },
    {
     "name": "stderr",
     "output_type": "stream",
     "text": [
      "@> 2303 atoms and 1 coordinate set(s) were parsed in 0.05s.\n"
     ]
    },
    {
     "name": "stdout",
     "output_type": "stream",
     "text": [
      "./datafiles/processed_pdb/3PJ8_A.pdb\n"
     ]
    },
    {
     "name": "stderr",
     "output_type": "stream",
     "text": [
      "@> 2431 atoms and 1 coordinate set(s) were parsed in 0.03s.\n"
     ]
    },
    {
     "name": "stdout",
     "output_type": "stream",
     "text": [
      "./datafiles/processed_pdb/3PXF_A.pdb\n"
     ]
    },
    {
     "name": "stderr",
     "output_type": "stream",
     "text": [
      "@> 2399 atoms and 1 coordinate set(s) were parsed in 0.03s.\n"
     ]
    },
    {
     "name": "stdout",
     "output_type": "stream",
     "text": [
      "./datafiles/processed_pdb/3PXQ_A.pdb\n"
     ]
    },
    {
     "name": "stderr",
     "output_type": "stream",
     "text": [
      "@> 2366 atoms and 1 coordinate set(s) were parsed in 0.03s.\n"
     ]
    },
    {
     "name": "stdout",
     "output_type": "stream",
     "text": [
      "./datafiles/processed_pdb/3PXR_A.pdb\n"
     ]
    },
    {
     "name": "stderr",
     "output_type": "stream",
     "text": [
      "@> 2366 atoms and 1 coordinate set(s) were parsed in 0.05s.\n"
     ]
    },
    {
     "name": "stdout",
     "output_type": "stream",
     "text": [
      "./datafiles/processed_pdb/3PXY_A.pdb\n"
     ]
    },
    {
     "name": "stderr",
     "output_type": "stream",
     "text": [
      "@> 2431 atoms and 1 coordinate set(s) were parsed in 0.03s.\n"
     ]
    },
    {
     "name": "stdout",
     "output_type": "stream",
     "text": [
      "./datafiles/processed_pdb/3PXZ_A.pdb\n"
     ]
    },
    {
     "name": "stderr",
     "output_type": "stream",
     "text": [
      "@> 2366 atoms and 1 coordinate set(s) were parsed in 0.03s.\n"
     ]
    },
    {
     "name": "stdout",
     "output_type": "stream",
     "text": [
      "./datafiles/processed_pdb/3PY0_A.pdb\n"
     ]
    },
    {
     "name": "stderr",
     "output_type": "stream",
     "text": [
      "@> 2431 atoms and 1 coordinate set(s) were parsed in 0.03s.\n"
     ]
    },
    {
     "name": "stdout",
     "output_type": "stream",
     "text": [
      "./datafiles/processed_pdb/3PY1_A.pdb\n"
     ]
    },
    {
     "name": "stderr",
     "output_type": "stream",
     "text": [
      "@> 2396 atoms and 1 coordinate set(s) were parsed in 0.03s.\n"
     ]
    },
    {
     "name": "stdout",
     "output_type": "stream",
     "text": [
      "./datafiles/processed_pdb/3QHR_A.pdb\n"
     ]
    },
    {
     "name": "stderr",
     "output_type": "stream",
     "text": [
      "@> 2396 atoms and 1 coordinate set(s) were parsed in 0.03s.\n"
     ]
    },
    {
     "name": "stdout",
     "output_type": "stream",
     "text": [
      "./datafiles/processed_pdb/3QHR_C.pdb\n"
     ]
    },
    {
     "name": "stderr",
     "output_type": "stream",
     "text": [
      "@> 2396 atoms and 1 coordinate set(s) were parsed in 0.03s.\n"
     ]
    },
    {
     "name": "stdout",
     "output_type": "stream",
     "text": [
      "./datafiles/processed_pdb/3QHW_A.pdb\n"
     ]
    },
    {
     "name": "stderr",
     "output_type": "stream",
     "text": [
      "@> 2396 atoms and 1 coordinate set(s) were parsed in 0.03s.\n"
     ]
    },
    {
     "name": "stdout",
     "output_type": "stream",
     "text": [
      "./datafiles/processed_pdb/3QHW_C.pdb\n"
     ]
    },
    {
     "name": "stderr",
     "output_type": "stream",
     "text": [
      "@> 2366 atoms and 1 coordinate set(s) were parsed in 0.03s.\n"
     ]
    },
    {
     "name": "stdout",
     "output_type": "stream",
     "text": [
      "./datafiles/processed_pdb/3QL8_A.pdb\n"
     ]
    },
    {
     "name": "stderr",
     "output_type": "stream",
     "text": [
      "@> 2366 atoms and 1 coordinate set(s) were parsed in 0.03s.\n"
     ]
    },
    {
     "name": "stdout",
     "output_type": "stream",
     "text": [
      "./datafiles/processed_pdb/3QQF_A.pdb\n"
     ]
    },
    {
     "name": "stderr",
     "output_type": "stream",
     "text": [
      "@> 2366 atoms and 1 coordinate set(s) were parsed in 0.03s.\n"
     ]
    },
    {
     "name": "stdout",
     "output_type": "stream",
     "text": [
      "./datafiles/processed_pdb/3QQG_A.pdb\n"
     ]
    },
    {
     "name": "stderr",
     "output_type": "stream",
     "text": [
      "@> 2366 atoms and 1 coordinate set(s) were parsed in 0.03s.\n"
     ]
    },
    {
     "name": "stdout",
     "output_type": "stream",
     "text": [
      "./datafiles/processed_pdb/3QQH_A.pdb\n"
     ]
    },
    {
     "name": "stderr",
     "output_type": "stream",
     "text": [
      "@> 2366 atoms and 1 coordinate set(s) were parsed in 0.03s.\n"
     ]
    },
    {
     "name": "stdout",
     "output_type": "stream",
     "text": [
      "./datafiles/processed_pdb/3QQJ_A.pdb\n"
     ]
    },
    {
     "name": "stderr",
     "output_type": "stream",
     "text": [
      "@> 2366 atoms and 1 coordinate set(s) were parsed in 0.03s.\n"
     ]
    },
    {
     "name": "stdout",
     "output_type": "stream",
     "text": [
      "./datafiles/processed_pdb/3QQK_A.pdb\n"
     ]
    },
    {
     "name": "stderr",
     "output_type": "stream",
     "text": [
      "@> 2366 atoms and 1 coordinate set(s) were parsed in 0.03s.\n"
     ]
    },
    {
     "name": "stdout",
     "output_type": "stream",
     "text": [
      "./datafiles/processed_pdb/3QQL_A.pdb\n"
     ]
    },
    {
     "name": "stderr",
     "output_type": "stream",
     "text": [
      "@> 2366 atoms and 1 coordinate set(s) were parsed in 0.03s.\n"
     ]
    },
    {
     "name": "stdout",
     "output_type": "stream",
     "text": [
      "./datafiles/processed_pdb/3QRT_A.pdb\n"
     ]
    },
    {
     "name": "stderr",
     "output_type": "stream",
     "text": [
      "@> 2374 atoms and 1 coordinate set(s) were parsed in 0.03s.\n"
     ]
    },
    {
     "name": "stdout",
     "output_type": "stream",
     "text": [
      "./datafiles/processed_pdb/3QRU_A.pdb\n"
     ]
    },
    {
     "name": "stderr",
     "output_type": "stream",
     "text": [
      "@> 2366 atoms and 1 coordinate set(s) were parsed in 0.03s.\n"
     ]
    },
    {
     "name": "stdout",
     "output_type": "stream",
     "text": [
      "./datafiles/processed_pdb/3QTQ_A.pdb\n"
     ]
    },
    {
     "name": "stderr",
     "output_type": "stream",
     "text": [
      "@> 2269 atoms and 1 coordinate set(s) were parsed in 0.03s.\n"
     ]
    },
    {
     "name": "stdout",
     "output_type": "stream",
     "text": [
      "./datafiles/processed_pdb/3QTR_A.pdb\n"
     ]
    },
    {
     "name": "stderr",
     "output_type": "stream",
     "text": [
      "@> 2269 atoms and 1 coordinate set(s) were parsed in 0.03s.\n"
     ]
    },
    {
     "name": "stdout",
     "output_type": "stream",
     "text": [
      "./datafiles/processed_pdb/3QTS_A.pdb\n"
     ]
    },
    {
     "name": "stderr",
     "output_type": "stream",
     "text": [
      "@> 2366 atoms and 1 coordinate set(s) were parsed in 0.03s.\n"
     ]
    },
    {
     "name": "stdout",
     "output_type": "stream",
     "text": [
      "./datafiles/processed_pdb/3QTU_A.pdb\n"
     ]
    },
    {
     "name": "stderr",
     "output_type": "stream",
     "text": [
      "@> 2366 atoms and 1 coordinate set(s) were parsed in 0.03s.\n"
     ]
    },
    {
     "name": "stdout",
     "output_type": "stream",
     "text": [
      "./datafiles/processed_pdb/3QTW_A.pdb\n"
     ]
    },
    {
     "name": "stderr",
     "output_type": "stream",
     "text": [
      "@> 2366 atoms and 1 coordinate set(s) were parsed in 0.03s.\n"
     ]
    },
    {
     "name": "stdout",
     "output_type": "stream",
     "text": [
      "./datafiles/processed_pdb/3QTX_A.pdb\n"
     ]
    },
    {
     "name": "stderr",
     "output_type": "stream",
     "text": [
      "@> 2366 atoms and 1 coordinate set(s) were parsed in 0.03s.\n"
     ]
    },
    {
     "name": "stdout",
     "output_type": "stream",
     "text": [
      "./datafiles/processed_pdb/3QTZ_A.pdb\n"
     ]
    },
    {
     "name": "stderr",
     "output_type": "stream",
     "text": [
      "@> 2366 atoms and 1 coordinate set(s) were parsed in 0.03s.\n"
     ]
    },
    {
     "name": "stdout",
     "output_type": "stream",
     "text": [
      "./datafiles/processed_pdb/3QU0_A.pdb\n"
     ]
    },
    {
     "name": "stderr",
     "output_type": "stream",
     "text": [
      "@> 2366 atoms and 1 coordinate set(s) were parsed in 0.03s.\n"
     ]
    },
    {
     "name": "stdout",
     "output_type": "stream",
     "text": [
      "./datafiles/processed_pdb/3QWJ_A.pdb\n"
     ]
    },
    {
     "name": "stderr",
     "output_type": "stream",
     "text": [
      "@> 2366 atoms and 1 coordinate set(s) were parsed in 0.04s.\n"
     ]
    },
    {
     "name": "stdout",
     "output_type": "stream",
     "text": [
      "./datafiles/processed_pdb/3QWK_A.pdb\n"
     ]
    },
    {
     "name": "stderr",
     "output_type": "stream",
     "text": [
      "@> 2366 atoms and 1 coordinate set(s) were parsed in 0.04s.\n"
     ]
    },
    {
     "name": "stdout",
     "output_type": "stream",
     "text": [
      "./datafiles/processed_pdb/3QX2_A.pdb\n"
     ]
    },
    {
     "name": "stderr",
     "output_type": "stream",
     "text": [
      "@> 2366 atoms and 1 coordinate set(s) were parsed in 0.03s.\n"
     ]
    },
    {
     "name": "stdout",
     "output_type": "stream",
     "text": [
      "./datafiles/processed_pdb/3QX4_A.pdb\n"
     ]
    },
    {
     "name": "stderr",
     "output_type": "stream",
     "text": [
      "@> 2366 atoms and 1 coordinate set(s) were parsed in 0.03s.\n"
     ]
    },
    {
     "name": "stdout",
     "output_type": "stream",
     "text": [
      "./datafiles/processed_pdb/3QXO_A.pdb\n"
     ]
    },
    {
     "name": "stderr",
     "output_type": "stream",
     "text": [
      "@> 2366 atoms and 1 coordinate set(s) were parsed in 0.03s.\n"
     ]
    },
    {
     "name": "stdout",
     "output_type": "stream",
     "text": [
      "./datafiles/processed_pdb/3QXP_A.pdb\n"
     ]
    },
    {
     "name": "stderr",
     "output_type": "stream",
     "text": [
      "@> 2366 atoms and 1 coordinate set(s) were parsed in 0.03s.\n"
     ]
    },
    {
     "name": "stdout",
     "output_type": "stream",
     "text": [
      "./datafiles/processed_pdb/3QZF_A.pdb\n"
     ]
    },
    {
     "name": "stderr",
     "output_type": "stream",
     "text": [
      "@> 2366 atoms and 1 coordinate set(s) were parsed in 0.03s.\n"
     ]
    },
    {
     "name": "stdout",
     "output_type": "stream",
     "text": [
      "./datafiles/processed_pdb/3QZG_A.pdb\n"
     ]
    },
    {
     "name": "stderr",
     "output_type": "stream",
     "text": [
      "@> 2366 atoms and 1 coordinate set(s) were parsed in 0.03s.\n"
     ]
    },
    {
     "name": "stdout",
     "output_type": "stream",
     "text": [
      "./datafiles/processed_pdb/3QZH_A.pdb\n"
     ]
    },
    {
     "name": "stderr",
     "output_type": "stream",
     "text": [
      "@> 2366 atoms and 1 coordinate set(s) were parsed in 0.03s.\n"
     ]
    },
    {
     "name": "stdout",
     "output_type": "stream",
     "text": [
      "./datafiles/processed_pdb/3QZI_A.pdb\n"
     ]
    },
    {
     "name": "stderr",
     "output_type": "stream",
     "text": [
      "@> 2366 atoms and 1 coordinate set(s) were parsed in 0.03s.\n"
     ]
    },
    {
     "name": "stdout",
     "output_type": "stream",
     "text": [
      "./datafiles/processed_pdb/3R1Q_A.pdb\n"
     ]
    },
    {
     "name": "stderr",
     "output_type": "stream",
     "text": [
      "@> 2366 atoms and 1 coordinate set(s) were parsed in 0.03s.\n"
     ]
    },
    {
     "name": "stdout",
     "output_type": "stream",
     "text": [
      "./datafiles/processed_pdb/3R1S_A.pdb\n"
     ]
    },
    {
     "name": "stderr",
     "output_type": "stream",
     "text": [
      "@> 2366 atoms and 1 coordinate set(s) were parsed in 0.03s.\n"
     ]
    },
    {
     "name": "stdout",
     "output_type": "stream",
     "text": [
      "./datafiles/processed_pdb/3R1Y_A.pdb\n"
     ]
    },
    {
     "name": "stderr",
     "output_type": "stream",
     "text": [
      "@> 2366 atoms and 1 coordinate set(s) were parsed in 0.03s.\n"
     ]
    },
    {
     "name": "stdout",
     "output_type": "stream",
     "text": [
      "./datafiles/processed_pdb/3R28_A.pdb\n"
     ]
    },
    {
     "name": "stderr",
     "output_type": "stream",
     "text": [
      "@> 2366 atoms and 1 coordinate set(s) were parsed in 0.03s.\n"
     ]
    },
    {
     "name": "stdout",
     "output_type": "stream",
     "text": [
      "./datafiles/processed_pdb/3R6X_A.pdb\n"
     ]
    },
    {
     "name": "stderr",
     "output_type": "stream",
     "text": [
      "@> 2366 atoms and 1 coordinate set(s) were parsed in 0.03s.\n"
     ]
    },
    {
     "name": "stdout",
     "output_type": "stream",
     "text": [
      "./datafiles/processed_pdb/3R71_A.pdb\n"
     ]
    },
    {
     "name": "stderr",
     "output_type": "stream",
     "text": [
      "@> 2366 atoms and 1 coordinate set(s) were parsed in 0.03s.\n"
     ]
    },
    {
     "name": "stdout",
     "output_type": "stream",
     "text": [
      "./datafiles/processed_pdb/3R73_A.pdb\n"
     ]
    },
    {
     "name": "stderr",
     "output_type": "stream",
     "text": [
      "@> 2366 atoms and 1 coordinate set(s) were parsed in 0.03s.\n"
     ]
    },
    {
     "name": "stdout",
     "output_type": "stream",
     "text": [
      "./datafiles/processed_pdb/3R7E_A.pdb\n"
     ]
    },
    {
     "name": "stderr",
     "output_type": "stream",
     "text": [
      "@> 2269 atoms and 1 coordinate set(s) were parsed in 0.03s.\n"
     ]
    },
    {
     "name": "stdout",
     "output_type": "stream",
     "text": [
      "./datafiles/processed_pdb/3R7I_A.pdb\n"
     ]
    },
    {
     "name": "stderr",
     "output_type": "stream",
     "text": [
      "@> 2269 atoms and 1 coordinate set(s) were parsed in 0.03s.\n"
     ]
    },
    {
     "name": "stdout",
     "output_type": "stream",
     "text": [
      "./datafiles/processed_pdb/3R7U_A.pdb\n"
     ]
    },
    {
     "name": "stderr",
     "output_type": "stream",
     "text": [
      "@> 2366 atoms and 1 coordinate set(s) were parsed in 0.03s.\n"
     ]
    },
    {
     "name": "stdout",
     "output_type": "stream",
     "text": [
      "./datafiles/processed_pdb/3R7V_A.pdb\n"
     ]
    },
    {
     "name": "stderr",
     "output_type": "stream",
     "text": [
      "@> 2366 atoms and 1 coordinate set(s) were parsed in 0.02s.\n"
     ]
    },
    {
     "name": "stdout",
     "output_type": "stream",
     "text": [
      "./datafiles/processed_pdb/3R7Y_A.pdb\n"
     ]
    },
    {
     "name": "stderr",
     "output_type": "stream",
     "text": [
      "@> 2366 atoms and 1 coordinate set(s) were parsed in 0.03s.\n"
     ]
    },
    {
     "name": "stdout",
     "output_type": "stream",
     "text": [
      "./datafiles/processed_pdb/3R83_A.pdb\n"
     ]
    },
    {
     "name": "stderr",
     "output_type": "stream",
     "text": [
      "@> 2366 atoms and 1 coordinate set(s) were parsed in 0.03s.\n"
     ]
    },
    {
     "name": "stdout",
     "output_type": "stream",
     "text": [
      "./datafiles/processed_pdb/3R8L_A.pdb\n"
     ]
    },
    {
     "name": "stderr",
     "output_type": "stream",
     "text": [
      "@> 2298 atoms and 1 coordinate set(s) were parsed in 0.02s.\n"
     ]
    },
    {
     "name": "stdout",
     "output_type": "stream",
     "text": [
      "./datafiles/processed_pdb/3R8M_A.pdb\n"
     ]
    },
    {
     "name": "stderr",
     "output_type": "stream",
     "text": [
      "@> 2366 atoms and 1 coordinate set(s) were parsed in 0.03s.\n"
     ]
    },
    {
     "name": "stdout",
     "output_type": "stream",
     "text": [
      "./datafiles/processed_pdb/3R8P_A.pdb\n"
     ]
    },
    {
     "name": "stderr",
     "output_type": "stream",
     "text": [
      "@> 2366 atoms and 1 coordinate set(s) were parsed in 0.03s.\n"
     ]
    },
    {
     "name": "stdout",
     "output_type": "stream",
     "text": [
      "./datafiles/processed_pdb/3R8U_A.pdb\n"
     ]
    },
    {
     "name": "stderr",
     "output_type": "stream",
     "text": [
      "@> 2366 atoms and 1 coordinate set(s) were parsed in 0.03s.\n"
     ]
    },
    {
     "name": "stdout",
     "output_type": "stream",
     "text": [
      "./datafiles/processed_pdb/3R8V_A.pdb\n"
     ]
    },
    {
     "name": "stderr",
     "output_type": "stream",
     "text": [
      "@> 2329 atoms and 1 coordinate set(s) were parsed in 0.03s.\n"
     ]
    },
    {
     "name": "stdout",
     "output_type": "stream",
     "text": [
      "./datafiles/processed_pdb/3R8Z_A.pdb\n"
     ]
    },
    {
     "name": "stderr",
     "output_type": "stream",
     "text": [
      "@> 2366 atoms and 1 coordinate set(s) were parsed in 0.03s.\n"
     ]
    },
    {
     "name": "stdout",
     "output_type": "stream",
     "text": [
      "./datafiles/processed_pdb/3R9D_A.pdb\n"
     ]
    },
    {
     "name": "stderr",
     "output_type": "stream",
     "text": [
      "@> 2366 atoms and 1 coordinate set(s) were parsed in 0.02s.\n"
     ]
    },
    {
     "name": "stdout",
     "output_type": "stream",
     "text": [
      "./datafiles/processed_pdb/3R9H_A.pdb\n"
     ]
    },
    {
     "name": "stderr",
     "output_type": "stream",
     "text": [
      "@> 2269 atoms and 1 coordinate set(s) were parsed in 0.03s.\n"
     ]
    },
    {
     "name": "stdout",
     "output_type": "stream",
     "text": [
      "./datafiles/processed_pdb/3R9N_A.pdb\n"
     ]
    },
    {
     "name": "stderr",
     "output_type": "stream",
     "text": [
      "@> 2269 atoms and 1 coordinate set(s) were parsed in 0.02s.\n"
     ]
    },
    {
     "name": "stdout",
     "output_type": "stream",
     "text": [
      "./datafiles/processed_pdb/3R9O_A.pdb\n"
     ]
    },
    {
     "name": "stderr",
     "output_type": "stream",
     "text": [
      "@> 2269 atoms and 1 coordinate set(s) were parsed in 0.02s.\n"
     ]
    },
    {
     "name": "stdout",
     "output_type": "stream",
     "text": [
      "./datafiles/processed_pdb/3RAH_A.pdb\n"
     ]
    },
    {
     "name": "stderr",
     "output_type": "stream",
     "text": [
      "@> 2366 atoms and 1 coordinate set(s) were parsed in 0.03s.\n"
     ]
    },
    {
     "name": "stdout",
     "output_type": "stream",
     "text": [
      "./datafiles/processed_pdb/3RAI_A.pdb\n"
     ]
    },
    {
     "name": "stderr",
     "output_type": "stream",
     "text": [
      "@> 2231 atoms and 1 coordinate set(s) were parsed in 0.02s.\n"
     ]
    },
    {
     "name": "stdout",
     "output_type": "stream",
     "text": [
      "./datafiles/processed_pdb/3RAK_A.pdb\n"
     ]
    },
    {
     "name": "stderr",
     "output_type": "stream",
     "text": [
      "@> 2231 atoms and 1 coordinate set(s) were parsed in 0.03s.\n"
     ]
    },
    {
     "name": "stdout",
     "output_type": "stream",
     "text": [
      "./datafiles/processed_pdb/3RAL_A.pdb\n"
     ]
    },
    {
     "name": "stderr",
     "output_type": "stream",
     "text": [
      "@> 2366 atoms and 1 coordinate set(s) were parsed in 0.03s.\n"
     ]
    },
    {
     "name": "stdout",
     "output_type": "stream",
     "text": [
      "./datafiles/processed_pdb/3RJC_A.pdb\n"
     ]
    },
    {
     "name": "stderr",
     "output_type": "stream",
     "text": [
      "@> 2366 atoms and 1 coordinate set(s) were parsed in 0.03s.\n"
     ]
    },
    {
     "name": "stdout",
     "output_type": "stream",
     "text": [
      "./datafiles/processed_pdb/3RK5_A.pdb\n"
     ]
    },
    {
     "name": "stderr",
     "output_type": "stream",
     "text": [
      "@> 2366 atoms and 1 coordinate set(s) were parsed in 0.04s.\n"
     ]
    },
    {
     "name": "stdout",
     "output_type": "stream",
     "text": [
      "./datafiles/processed_pdb/3RK7_A.pdb\n"
     ]
    },
    {
     "name": "stderr",
     "output_type": "stream",
     "text": [
      "@> 2366 atoms and 1 coordinate set(s) were parsed in 0.03s.\n"
     ]
    },
    {
     "name": "stdout",
     "output_type": "stream",
     "text": [
      "./datafiles/processed_pdb/3RK9_A.pdb\n"
     ]
    },
    {
     "name": "stderr",
     "output_type": "stream",
     "text": [
      "@> 2366 atoms and 1 coordinate set(s) were parsed in 0.03s.\n"
     ]
    },
    {
     "name": "stdout",
     "output_type": "stream",
     "text": [
      "./datafiles/processed_pdb/3RKB_A.pdb\n"
     ]
    },
    {
     "name": "stderr",
     "output_type": "stream",
     "text": [
      "@> 2354 atoms and 1 coordinate set(s) were parsed in 0.03s.\n"
     ]
    },
    {
     "name": "stdout",
     "output_type": "stream",
     "text": [
      "./datafiles/processed_pdb/3RM6_A.pdb\n"
     ]
    },
    {
     "name": "stderr",
     "output_type": "stream",
     "text": [
      "@> 2366 atoms and 1 coordinate set(s) were parsed in 0.03s.\n"
     ]
    },
    {
     "name": "stdout",
     "output_type": "stream",
     "text": [
      "./datafiles/processed_pdb/3RM7_A.pdb\n"
     ]
    },
    {
     "name": "stderr",
     "output_type": "stream",
     "text": [
      "@> 2239 atoms and 1 coordinate set(s) were parsed in 0.03s.\n"
     ]
    },
    {
     "name": "stdout",
     "output_type": "stream",
     "text": [
      "./datafiles/processed_pdb/3RMF_A.pdb\n"
     ]
    },
    {
     "name": "stderr",
     "output_type": "stream",
     "text": [
      "@> 2366 atoms and 1 coordinate set(s) were parsed in 0.03s.\n"
     ]
    },
    {
     "name": "stdout",
     "output_type": "stream",
     "text": [
      "./datafiles/processed_pdb/3RNI_A.pdb\n"
     ]
    },
    {
     "name": "stderr",
     "output_type": "stream",
     "text": [
      "@> 2366 atoms and 1 coordinate set(s) were parsed in 0.03s.\n"
     ]
    },
    {
     "name": "stdout",
     "output_type": "stream",
     "text": [
      "./datafiles/processed_pdb/3ROY_A.pdb\n"
     ]
    },
    {
     "name": "stderr",
     "output_type": "stream",
     "text": [
      "@> 2366 atoms and 1 coordinate set(s) were parsed in 0.03s.\n"
     ]
    },
    {
     "name": "stdout",
     "output_type": "stream",
     "text": [
      "./datafiles/processed_pdb/3RPO_A.pdb\n"
     ]
    },
    {
     "name": "stderr",
     "output_type": "stream",
     "text": [
      "@> 2269 atoms and 1 coordinate set(s) were parsed in 0.02s.\n"
     ]
    },
    {
     "name": "stdout",
     "output_type": "stream",
     "text": [
      "./datafiles/processed_pdb/3RPR_A.pdb\n"
     ]
    },
    {
     "name": "stderr",
     "output_type": "stream",
     "text": [
      "@> 2366 atoms and 1 coordinate set(s) were parsed in 0.03s.\n"
     ]
    },
    {
     "name": "stdout",
     "output_type": "stream",
     "text": [
      "./datafiles/processed_pdb/3RPV_A.pdb\n"
     ]
    },
    {
     "name": "stderr",
     "output_type": "stream",
     "text": [
      "@> 2231 atoms and 1 coordinate set(s) were parsed in 0.03s.\n"
     ]
    },
    {
     "name": "stdout",
     "output_type": "stream",
     "text": [
      "./datafiles/processed_pdb/3RPY_A.pdb\n"
     ]
    },
    {
     "name": "stderr",
     "output_type": "stream",
     "text": [
      "@> 2269 atoms and 1 coordinate set(s) were parsed in 0.03s.\n"
     ]
    },
    {
     "name": "stdout",
     "output_type": "stream",
     "text": [
      "./datafiles/processed_pdb/3RZB_A.pdb\n"
     ]
    },
    {
     "name": "stderr",
     "output_type": "stream",
     "text": [
      "@> 2366 atoms and 1 coordinate set(s) were parsed in 0.03s.\n"
     ]
    },
    {
     "name": "stdout",
     "output_type": "stream",
     "text": [
      "./datafiles/processed_pdb/3S00_A.pdb\n"
     ]
    },
    {
     "name": "stderr",
     "output_type": "stream",
     "text": [
      "@> 2362 atoms and 1 coordinate set(s) were parsed in 0.03s.\n"
     ]
    },
    {
     "name": "stdout",
     "output_type": "stream",
     "text": [
      "./datafiles/processed_pdb/3S0O_A.pdb\n"
     ]
    },
    {
     "name": "stderr",
     "output_type": "stream",
     "text": [
      "@> 2231 atoms and 1 coordinate set(s) were parsed in 0.02s.\n"
     ]
    },
    {
     "name": "stdout",
     "output_type": "stream",
     "text": [
      "./datafiles/processed_pdb/3S1H_A.pdb\n"
     ]
    },
    {
     "name": "stderr",
     "output_type": "stream",
     "text": [
      "@> 2247 atoms and 1 coordinate set(s) were parsed in 0.02s.\n"
     ]
    },
    {
     "name": "stdout",
     "output_type": "stream",
     "text": [
      "./datafiles/processed_pdb/3S2P_A.pdb\n"
     ]
    },
    {
     "name": "stderr",
     "output_type": "stream",
     "text": [
      "@> 2325 atoms and 1 coordinate set(s) were parsed in 0.03s.\n"
     ]
    },
    {
     "name": "stdout",
     "output_type": "stream",
     "text": [
      "./datafiles/processed_pdb/3SQQ_A.pdb\n"
     ]
    },
    {
     "name": "stderr",
     "output_type": "stream",
     "text": [
      "@> 2245 atoms and 1 coordinate set(s) were parsed in 0.03s.\n"
     ]
    },
    {
     "name": "stdout",
     "output_type": "stream",
     "text": [
      "./datafiles/processed_pdb/3SW4_A.pdb\n"
     ]
    },
    {
     "name": "stderr",
     "output_type": "stream",
     "text": [
      "@> 2217 atoms and 1 coordinate set(s) were parsed in 0.03s.\n"
     ]
    },
    {
     "name": "stdout",
     "output_type": "stream",
     "text": [
      "./datafiles/processed_pdb/3SW7_A.pdb\n"
     ]
    },
    {
     "name": "stderr",
     "output_type": "stream",
     "text": [
      "@> 2366 atoms and 1 coordinate set(s) were parsed in 0.03s.\n"
     ]
    },
    {
     "name": "stdout",
     "output_type": "stream",
     "text": [
      "./datafiles/processed_pdb/3TI1_A.pdb\n"
     ]
    },
    {
     "name": "stderr",
     "output_type": "stream",
     "text": [
      "@> 2358 atoms and 1 coordinate set(s) were parsed in 0.03s.\n"
     ]
    },
    {
     "name": "stdout",
     "output_type": "stream",
     "text": [
      "./datafiles/processed_pdb/3TIY_A.pdb\n"
     ]
    },
    {
     "name": "stderr",
     "output_type": "stream",
     "text": [
      "@> 2358 atoms and 1 coordinate set(s) were parsed in 0.03s.\n"
     ]
    },
    {
     "name": "stdout",
     "output_type": "stream",
     "text": [
      "./datafiles/processed_pdb/3TIZ_A.pdb\n"
     ]
    },
    {
     "name": "stderr",
     "output_type": "stream",
     "text": [
      "@> 2384 atoms and 1 coordinate set(s) were parsed in 0.04s.\n"
     ]
    },
    {
     "name": "stdout",
     "output_type": "stream",
     "text": [
      "./datafiles/processed_pdb/3TNW_A.pdb\n"
     ]
    },
    {
     "name": "stderr",
     "output_type": "stream",
     "text": [
      "@> 2345 atoms and 1 coordinate set(s) were parsed in 0.03s.\n"
     ]
    },
    {
     "name": "stdout",
     "output_type": "stream",
     "text": [
      "./datafiles/processed_pdb/3TNW_C.pdb\n"
     ]
    },
    {
     "name": "stderr",
     "output_type": "stream",
     "text": [
      "@> 2275 atoms and 1 coordinate set(s) were parsed in 0.03s.\n"
     ]
    },
    {
     "name": "stdout",
     "output_type": "stream",
     "text": [
      "./datafiles/processed_pdb/3ULI_A.pdb\n"
     ]
    },
    {
     "name": "stderr",
     "output_type": "stream",
     "text": [
      "@> 2366 atoms and 1 coordinate set(s) were parsed in 0.03s.\n"
     ]
    },
    {
     "name": "stdout",
     "output_type": "stream",
     "text": [
      "./datafiles/processed_pdb/3UNJ_A.pdb\n"
     ]
    },
    {
     "name": "stderr",
     "output_type": "stream",
     "text": [
      "@> 2371 atoms and 1 coordinate set(s) were parsed in 0.03s.\n"
     ]
    },
    {
     "name": "stdout",
     "output_type": "stream",
     "text": [
      "./datafiles/processed_pdb/3UNK_A.pdb\n"
     ]
    },
    {
     "name": "stderr",
     "output_type": "stream",
     "text": [
      "@> 2273 atoms and 1 coordinate set(s) were parsed in 0.03s.\n"
     ]
    },
    {
     "name": "stdout",
     "output_type": "stream",
     "text": [
      "./datafiles/processed_pdb/3WBL_A.pdb\n"
     ]
    },
    {
     "name": "stderr",
     "output_type": "stream",
     "text": [
      "@> 2158 atoms and 1 coordinate set(s) were parsed in 0.02s.\n"
     ]
    },
    {
     "name": "stdout",
     "output_type": "stream",
     "text": [
      "./datafiles/processed_pdb/4ACM_A.pdb\n"
     ]
    },
    {
     "name": "stderr",
     "output_type": "stream",
     "text": [
      "@> 2403 atoms and 1 coordinate set(s) were parsed in 0.03s.\n"
     ]
    },
    {
     "name": "stdout",
     "output_type": "stream",
     "text": [
      "./datafiles/processed_pdb/4BCK_A.pdb\n"
     ]
    },
    {
     "name": "stderr",
     "output_type": "stream",
     "text": [
      "@> 2363 atoms and 1 coordinate set(s) were parsed in 0.03s.\n"
     ]
    },
    {
     "name": "stdout",
     "output_type": "stream",
     "text": [
      "./datafiles/processed_pdb/4BCK_C.pdb\n"
     ]
    },
    {
     "name": "stderr",
     "output_type": "stream",
     "text": [
      "@> 2375 atoms and 1 coordinate set(s) were parsed in 0.03s.\n"
     ]
    },
    {
     "name": "stdout",
     "output_type": "stream",
     "text": [
      "./datafiles/processed_pdb/4BCM_A.pdb\n"
     ]
    },
    {
     "name": "stderr",
     "output_type": "stream",
     "text": [
      "@> 2370 atoms and 1 coordinate set(s) were parsed in 0.03s.\n"
     ]
    },
    {
     "name": "stdout",
     "output_type": "stream",
     "text": [
      "./datafiles/processed_pdb/4BCM_C.pdb\n"
     ]
    },
    {
     "name": "stderr",
     "output_type": "stream",
     "text": [
      "@> 2391 atoms and 1 coordinate set(s) were parsed in 0.03s.\n"
     ]
    },
    {
     "name": "stdout",
     "output_type": "stream",
     "text": [
      "./datafiles/processed_pdb/4BCN_A.pdb\n"
     ]
    },
    {
     "name": "stderr",
     "output_type": "stream",
     "text": [
      "@> 2374 atoms and 1 coordinate set(s) were parsed in 0.03s.\n"
     ]
    },
    {
     "name": "stdout",
     "output_type": "stream",
     "text": [
      "./datafiles/processed_pdb/4BCN_C.pdb\n"
     ]
    },
    {
     "name": "stderr",
     "output_type": "stream",
     "text": [
      "@> 2407 atoms and 1 coordinate set(s) were parsed in 0.03s.\n"
     ]
    },
    {
     "name": "stdout",
     "output_type": "stream",
     "text": [
      "./datafiles/processed_pdb/4BCO_A.pdb\n"
     ]
    },
    {
     "name": "stderr",
     "output_type": "stream",
     "text": [
      "@> 2163 atoms and 1 coordinate set(s) were parsed in 0.03s.\n"
     ]
    },
    {
     "name": "stdout",
     "output_type": "stream",
     "text": [
      "./datafiles/processed_pdb/4BCO_C.pdb\n"
     ]
    },
    {
     "name": "stderr",
     "output_type": "stream",
     "text": [
      "@> 2406 atoms and 1 coordinate set(s) were parsed in 0.03s.\n"
     ]
    },
    {
     "name": "stdout",
     "output_type": "stream",
     "text": [
      "./datafiles/processed_pdb/4BCP_A.pdb\n"
     ]
    },
    {
     "name": "stderr",
     "output_type": "stream",
     "text": [
      "@> 2150 atoms and 1 coordinate set(s) were parsed in 0.02s.\n"
     ]
    },
    {
     "name": "stdout",
     "output_type": "stream",
     "text": [
      "./datafiles/processed_pdb/4BCP_C.pdb\n"
     ]
    },
    {
     "name": "stderr",
     "output_type": "stream",
     "text": [
      "@> 2355 atoms and 1 coordinate set(s) were parsed in 0.03s.\n"
     ]
    },
    {
     "name": "stdout",
     "output_type": "stream",
     "text": [
      "./datafiles/processed_pdb/4BCQ_A.pdb\n"
     ]
    },
    {
     "name": "stderr",
     "output_type": "stream",
     "text": [
      "@> 2359 atoms and 1 coordinate set(s) were parsed in 0.03s.\n"
     ]
    },
    {
     "name": "stdout",
     "output_type": "stream",
     "text": [
      "./datafiles/processed_pdb/4BCQ_C.pdb\n"
     ]
    },
    {
     "name": "stderr",
     "output_type": "stream",
     "text": [
      "@> 2212 atoms and 1 coordinate set(s) were parsed in 0.03s.\n"
     ]
    },
    {
     "name": "stdout",
     "output_type": "stream",
     "text": [
      "./datafiles/processed_pdb/4BGH_A.pdb\n"
     ]
    },
    {
     "name": "stderr",
     "output_type": "stream",
     "text": [
      "@> 2157 atoms and 1 coordinate set(s) were parsed in 0.02s.\n"
     ]
    },
    {
     "name": "stdout",
     "output_type": "stream",
     "text": [
      "./datafiles/processed_pdb/4BZD_A.pdb\n"
     ]
    },
    {
     "name": "stderr",
     "output_type": "stream",
     "text": [
      "@> 2388 atoms and 1 coordinate set(s) were parsed in 0.03s.\n"
     ]
    },
    {
     "name": "stdout",
     "output_type": "stream",
     "text": [
      "./datafiles/processed_pdb/4CFM_A.pdb\n"
     ]
    },
    {
     "name": "stderr",
     "output_type": "stream",
     "text": [
      "@> 2141 atoms and 1 coordinate set(s) were parsed in 0.02s.\n"
     ]
    },
    {
     "name": "stdout",
     "output_type": "stream",
     "text": [
      "./datafiles/processed_pdb/4CFM_C.pdb\n"
     ]
    },
    {
     "name": "stderr",
     "output_type": "stream",
     "text": [
      "@> 2386 atoms and 1 coordinate set(s) were parsed in 0.03s.\n"
     ]
    },
    {
     "name": "stdout",
     "output_type": "stream",
     "text": [
      "./datafiles/processed_pdb/4CFN_A.pdb\n"
     ]
    },
    {
     "name": "stderr",
     "output_type": "stream",
     "text": [
      "@> 2381 atoms and 1 coordinate set(s) were parsed in 0.03s.\n"
     ]
    },
    {
     "name": "stdout",
     "output_type": "stream",
     "text": [
      "./datafiles/processed_pdb/4CFN_C.pdb\n"
     ]
    },
    {
     "name": "stderr",
     "output_type": "stream",
     "text": [
      "@> 2406 atoms and 1 coordinate set(s) were parsed in 0.03s.\n"
     ]
    },
    {
     "name": "stdout",
     "output_type": "stream",
     "text": [
      "./datafiles/processed_pdb/4CFU_A.pdb\n"
     ]
    },
    {
     "name": "stderr",
     "output_type": "stream",
     "text": [
      "@> 2185 atoms and 1 coordinate set(s) were parsed in 0.02s.\n"
     ]
    },
    {
     "name": "stdout",
     "output_type": "stream",
     "text": [
      "./datafiles/processed_pdb/4CFU_C.pdb\n"
     ]
    },
    {
     "name": "stderr",
     "output_type": "stream",
     "text": [
      "@> 2418 atoms and 1 coordinate set(s) were parsed in 0.03s.\n"
     ]
    },
    {
     "name": "stdout",
     "output_type": "stream",
     "text": [
      "./datafiles/processed_pdb/4CFV_A.pdb\n"
     ]
    },
    {
     "name": "stderr",
     "output_type": "stream",
     "text": [
      "@> 2130 atoms and 1 coordinate set(s) were parsed in 0.03s.\n"
     ]
    },
    {
     "name": "stdout",
     "output_type": "stream",
     "text": [
      "./datafiles/processed_pdb/4CFV_C.pdb\n"
     ]
    },
    {
     "name": "stderr",
     "output_type": "stream",
     "text": [
      "@> 2411 atoms and 1 coordinate set(s) were parsed in 0.03s.\n"
     ]
    },
    {
     "name": "stdout",
     "output_type": "stream",
     "text": [
      "./datafiles/processed_pdb/4CFW_A.pdb\n"
     ]
    },
    {
     "name": "stderr",
     "output_type": "stream",
     "text": [
      "@> 2392 atoms and 1 coordinate set(s) were parsed in 0.03s.\n"
     ]
    },
    {
     "name": "stdout",
     "output_type": "stream",
     "text": [
      "./datafiles/processed_pdb/4CFW_C.pdb\n"
     ]
    },
    {
     "name": "stderr",
     "output_type": "stream",
     "text": [
      "@> 2407 atoms and 1 coordinate set(s) were parsed in 0.03s.\n"
     ]
    },
    {
     "name": "stdout",
     "output_type": "stream",
     "text": [
      "./datafiles/processed_pdb/4CFX_A.pdb\n"
     ]
    },
    {
     "name": "stderr",
     "output_type": "stream",
     "text": [
      "@> 2407 atoms and 1 coordinate set(s) were parsed in 0.03s.\n"
     ]
    },
    {
     "name": "stdout",
     "output_type": "stream",
     "text": [
      "./datafiles/processed_pdb/4CFX_C.pdb\n"
     ]
    },
    {
     "name": "stderr",
     "output_type": "stream",
     "text": [
      "@> 2162 atoms and 1 coordinate set(s) were parsed in 0.02s.\n"
     ]
    },
    {
     "name": "stdout",
     "output_type": "stream",
     "text": [
      "./datafiles/processed_pdb/4D1X_A.pdb\n"
     ]
    },
    {
     "name": "stderr",
     "output_type": "stream",
     "text": [
      "@> 4027 atoms and 1 coordinate set(s) were parsed in 0.05s.\n"
     ]
    },
    {
     "name": "stdout",
     "output_type": "stream",
     "text": [
      "./datafiles/processed_pdb/4D1Z_A.pdb\n"
     ]
    },
    {
     "name": "stderr",
     "output_type": "stream",
     "text": [
      "@> 2298 atoms and 1 coordinate set(s) were parsed in 0.03s.\n"
     ]
    },
    {
     "name": "stdout",
     "output_type": "stream",
     "text": [
      "./datafiles/processed_pdb/4EK3_A.pdb\n"
     ]
    },
    {
     "name": "stderr",
     "output_type": "stream",
     "text": [
      "@> 2300 atoms and 1 coordinate set(s) were parsed in 0.03s.\n"
     ]
    },
    {
     "name": "stdout",
     "output_type": "stream",
     "text": [
      "./datafiles/processed_pdb/4EK4_A.pdb\n"
     ]
    },
    {
     "name": "stderr",
     "output_type": "stream",
     "text": [
      "@> 2328 atoms and 1 coordinate set(s) were parsed in 0.03s.\n"
     ]
    },
    {
     "name": "stdout",
     "output_type": "stream",
     "text": [
      "./datafiles/processed_pdb/4EK5_A.pdb\n"
     ]
    },
    {
     "name": "stderr",
     "output_type": "stream",
     "text": [
      "@> 2234 atoms and 1 coordinate set(s) were parsed in 0.03s.\n"
     ]
    },
    {
     "name": "stdout",
     "output_type": "stream",
     "text": [
      "./datafiles/processed_pdb/4EK6_A.pdb\n"
     ]
    },
    {
     "name": "stderr",
     "output_type": "stream",
     "text": [
      "@> 2253 atoms and 1 coordinate set(s) were parsed in 0.03s.\n"
     ]
    },
    {
     "name": "stdout",
     "output_type": "stream",
     "text": [
      "./datafiles/processed_pdb/4EK8_A.pdb\n"
     ]
    },
    {
     "name": "stderr",
     "output_type": "stream",
     "text": [
      "@> 2375 atoms and 1 coordinate set(s) were parsed in 0.03s.\n"
     ]
    },
    {
     "name": "stdout",
     "output_type": "stream",
     "text": [
      "./datafiles/processed_pdb/4EOI_A.pdb\n"
     ]
    },
    {
     "name": "stderr",
     "output_type": "stream",
     "text": [
      "@> 2387 atoms and 1 coordinate set(s) were parsed in 0.03s.\n"
     ]
    },
    {
     "name": "stdout",
     "output_type": "stream",
     "text": [
      "./datafiles/processed_pdb/4EOI_C.pdb\n"
     ]
    },
    {
     "name": "stderr",
     "output_type": "stream",
     "text": [
      "@> 2374 atoms and 1 coordinate set(s) were parsed in 0.03s.\n"
     ]
    },
    {
     "name": "stdout",
     "output_type": "stream",
     "text": [
      "./datafiles/processed_pdb/4EOJ_A.pdb\n"
     ]
    },
    {
     "name": "stderr",
     "output_type": "stream",
     "text": [
      "@> 2263 atoms and 1 coordinate set(s) were parsed in 0.04s.\n"
     ]
    },
    {
     "name": "stdout",
     "output_type": "stream",
     "text": [
      "./datafiles/processed_pdb/4EOJ_C.pdb\n"
     ]
    },
    {
     "name": "stderr",
     "output_type": "stream",
     "text": [
      "@> 2362 atoms and 1 coordinate set(s) were parsed in 0.03s.\n"
     ]
    },
    {
     "name": "stdout",
     "output_type": "stream",
     "text": [
      "./datafiles/processed_pdb/4EOK_A.pdb\n"
     ]
    },
    {
     "name": "stderr",
     "output_type": "stream",
     "text": [
      "@> 2405 atoms and 1 coordinate set(s) were parsed in 0.03s.\n"
     ]
    },
    {
     "name": "stdout",
     "output_type": "stream",
     "text": [
      "./datafiles/processed_pdb/4EOK_C.pdb\n"
     ]
    },
    {
     "name": "stderr",
     "output_type": "stream",
     "text": [
      "@> 2367 atoms and 1 coordinate set(s) were parsed in 0.04s.\n"
     ]
    },
    {
     "name": "stdout",
     "output_type": "stream",
     "text": [
      "./datafiles/processed_pdb/4EOL_A.pdb\n"
     ]
    },
    {
     "name": "stderr",
     "output_type": "stream",
     "text": [
      "@> 2405 atoms and 1 coordinate set(s) were parsed in 0.03s.\n"
     ]
    },
    {
     "name": "stdout",
     "output_type": "stream",
     "text": [
      "./datafiles/processed_pdb/4EOL_C.pdb\n"
     ]
    },
    {
     "name": "stderr",
     "output_type": "stream",
     "text": [
      "@> 2377 atoms and 1 coordinate set(s) were parsed in 0.03s.\n"
     ]
    },
    {
     "name": "stdout",
     "output_type": "stream",
     "text": [
      "./datafiles/processed_pdb/4EOM_A.pdb\n"
     ]
    },
    {
     "name": "stderr",
     "output_type": "stream",
     "text": [
      "@> 2205 atoms and 1 coordinate set(s) were parsed in 0.03s.\n"
     ]
    },
    {
     "name": "stdout",
     "output_type": "stream",
     "text": [
      "./datafiles/processed_pdb/4EOM_C.pdb\n"
     ]
    },
    {
     "name": "stderr",
     "output_type": "stream",
     "text": [
      "@> 2406 atoms and 1 coordinate set(s) were parsed in 0.03s.\n"
     ]
    },
    {
     "name": "stdout",
     "output_type": "stream",
     "text": [
      "./datafiles/processed_pdb/4EON_A.pdb\n"
     ]
    },
    {
     "name": "stderr",
     "output_type": "stream",
     "text": [
      "@> 2398 atoms and 1 coordinate set(s) were parsed in 0.03s.\n"
     ]
    },
    {
     "name": "stdout",
     "output_type": "stream",
     "text": [
      "./datafiles/processed_pdb/4EON_C.pdb\n"
     ]
    },
    {
     "name": "stderr",
     "output_type": "stream",
     "text": [
      "@> 2372 atoms and 1 coordinate set(s) were parsed in 0.03s.\n"
     ]
    },
    {
     "name": "stdout",
     "output_type": "stream",
     "text": [
      "./datafiles/processed_pdb/4EOO_A.pdb\n"
     ]
    },
    {
     "name": "stderr",
     "output_type": "stream",
     "text": [
      "@> 2392 atoms and 1 coordinate set(s) were parsed in 0.03s.\n"
     ]
    },
    {
     "name": "stdout",
     "output_type": "stream",
     "text": [
      "./datafiles/processed_pdb/4EOO_C.pdb\n"
     ]
    },
    {
     "name": "stderr",
     "output_type": "stream",
     "text": [
      "@> 2394 atoms and 1 coordinate set(s) were parsed in 0.03s.\n"
     ]
    },
    {
     "name": "stdout",
     "output_type": "stream",
     "text": [
      "./datafiles/processed_pdb/4EOP_A.pdb\n"
     ]
    },
    {
     "name": "stderr",
     "output_type": "stream",
     "text": [
      "@> 2388 atoms and 1 coordinate set(s) were parsed in 0.04s.\n"
     ]
    },
    {
     "name": "stdout",
     "output_type": "stream",
     "text": [
      "./datafiles/processed_pdb/4EOP_C.pdb\n"
     ]
    },
    {
     "name": "stderr",
     "output_type": "stream",
     "text": [
      "@> 2379 atoms and 1 coordinate set(s) were parsed in 0.03s.\n"
     ]
    },
    {
     "name": "stdout",
     "output_type": "stream",
     "text": [
      "./datafiles/processed_pdb/4EOQ_A.pdb\n"
     ]
    },
    {
     "name": "stderr",
     "output_type": "stream",
     "text": [
      "@> 2210 atoms and 1 coordinate set(s) were parsed in 0.04s.\n"
     ]
    },
    {
     "name": "stdout",
     "output_type": "stream",
     "text": [
      "./datafiles/processed_pdb/4EOQ_C.pdb\n"
     ]
    },
    {
     "name": "stderr",
     "output_type": "stream",
     "text": [
      "@> 2368 atoms and 1 coordinate set(s) were parsed in 0.03s.\n"
     ]
    },
    {
     "name": "stdout",
     "output_type": "stream",
     "text": [
      "./datafiles/processed_pdb/4EOR_A.pdb\n"
     ]
    },
    {
     "name": "stderr",
     "output_type": "stream",
     "text": [
      "@> 2161 atoms and 1 coordinate set(s) were parsed in 0.04s.\n"
     ]
    },
    {
     "name": "stdout",
     "output_type": "stream",
     "text": [
      "./datafiles/processed_pdb/4EOR_C.pdb\n"
     ]
    },
    {
     "name": "stderr",
     "output_type": "stream",
     "text": [
      "@> 2387 atoms and 1 coordinate set(s) were parsed in 0.04s.\n"
     ]
    },
    {
     "name": "stdout",
     "output_type": "stream",
     "text": [
      "./datafiles/processed_pdb/4EOS_A.pdb\n"
     ]
    },
    {
     "name": "stderr",
     "output_type": "stream",
     "text": [
      "@> 2388 atoms and 1 coordinate set(s) were parsed in 0.03s.\n"
     ]
    },
    {
     "name": "stdout",
     "output_type": "stream",
     "text": [
      "./datafiles/processed_pdb/4EOS_C.pdb\n"
     ]
    },
    {
     "name": "stderr",
     "output_type": "stream",
     "text": [
      "@> 2361 atoms and 1 coordinate set(s) were parsed in 0.03s.\n"
     ]
    },
    {
     "name": "stdout",
     "output_type": "stream",
     "text": [
      "./datafiles/processed_pdb/4ERW_A.pdb\n"
     ]
    },
    {
     "name": "stderr",
     "output_type": "stream",
     "text": [
      "@> 2366 atoms and 1 coordinate set(s) were parsed in 0.03s.\n"
     ]
    },
    {
     "name": "stdout",
     "output_type": "stream",
     "text": [
      "./datafiles/processed_pdb/4EZ3_A.pdb\n"
     ]
    },
    {
     "name": "stderr",
     "output_type": "stream",
     "text": [
      "@> 2431 atoms and 1 coordinate set(s) were parsed in 0.04s.\n"
     ]
    },
    {
     "name": "stdout",
     "output_type": "stream",
     "text": [
      "./datafiles/processed_pdb/4EZ7_A.pdb\n"
     ]
    },
    {
     "name": "stderr",
     "output_type": "stream",
     "text": [
      "@> 2273 atoms and 1 coordinate set(s) were parsed in 0.04s.\n"
     ]
    },
    {
     "name": "stdout",
     "output_type": "stream",
     "text": [
      "./datafiles/processed_pdb/4FKG_A.pdb\n"
     ]
    },
    {
     "name": "stderr",
     "output_type": "stream",
     "text": [
      "@> 2517 atoms and 1 coordinate set(s) were parsed in 0.15s.\n"
     ]
    },
    {
     "name": "stdout",
     "output_type": "stream",
     "text": [
      "./datafiles/processed_pdb/4FKI_A.pdb\n"
     ]
    },
    {
     "name": "stderr",
     "output_type": "stream",
     "text": [
      "@> 2225 atoms and 1 coordinate set(s) were parsed in 0.03s.\n"
     ]
    },
    {
     "name": "stdout",
     "output_type": "stream",
     "text": [
      "./datafiles/processed_pdb/4FKJ_A.pdb\n"
     ]
    },
    {
     "name": "stderr",
     "output_type": "stream",
     "text": [
      "@> 2336 atoms and 1 coordinate set(s) were parsed in 0.03s.\n"
     ]
    },
    {
     "name": "stdout",
     "output_type": "stream",
     "text": [
      "./datafiles/processed_pdb/4FKL_A.pdb\n"
     ]
    },
    {
     "name": "stderr",
     "output_type": "stream",
     "text": [
      "@> 2299 atoms and 1 coordinate set(s) were parsed in 0.03s.\n"
     ]
    },
    {
     "name": "stdout",
     "output_type": "stream",
     "text": [
      "./datafiles/processed_pdb/4FKO_A.pdb\n"
     ]
    },
    {
     "name": "stderr",
     "output_type": "stream",
     "text": [
      "@> 2227 atoms and 1 coordinate set(s) were parsed in 0.03s.\n"
     ]
    },
    {
     "name": "stdout",
     "output_type": "stream",
     "text": [
      "./datafiles/processed_pdb/4FKP_A.pdb\n"
     ]
    },
    {
     "name": "stderr",
     "output_type": "stream",
     "text": [
      "@> 2250 atoms and 1 coordinate set(s) were parsed in 0.02s.\n"
     ]
    },
    {
     "name": "stdout",
     "output_type": "stream",
     "text": [
      "./datafiles/processed_pdb/4FKQ_A.pdb\n"
     ]
    },
    {
     "name": "stderr",
     "output_type": "stream",
     "text": [
      "@> 2238 atoms and 1 coordinate set(s) were parsed in 0.03s.\n"
     ]
    },
    {
     "name": "stdout",
     "output_type": "stream",
     "text": [
      "./datafiles/processed_pdb/4FKR_A.pdb\n"
     ]
    },
    {
     "name": "stderr",
     "output_type": "stream",
     "text": [
      "@> 4339 atoms and 1 coordinate set(s) were parsed in 0.06s.\n"
     ]
    },
    {
     "name": "stdout",
     "output_type": "stream",
     "text": [
      "./datafiles/processed_pdb/4FKS_A.pdb\n"
     ]
    },
    {
     "name": "stderr",
     "output_type": "stream",
     "text": [
      "@> 4462 atoms and 1 coordinate set(s) were parsed in 0.06s.\n"
     ]
    },
    {
     "name": "stdout",
     "output_type": "stream",
     "text": [
      "./datafiles/processed_pdb/4FKT_A.pdb\n"
     ]
    },
    {
     "name": "stderr",
     "output_type": "stream",
     "text": [
      "@> 4741 atoms and 1 coordinate set(s) were parsed in 0.11s.\n"
     ]
    },
    {
     "name": "stdout",
     "output_type": "stream",
     "text": [
      "./datafiles/processed_pdb/4FKU_A.pdb\n"
     ]
    },
    {
     "name": "stderr",
     "output_type": "stream",
     "text": [
      "@> 2217 atoms and 1 coordinate set(s) were parsed in 0.03s.\n"
     ]
    },
    {
     "name": "stdout",
     "output_type": "stream",
     "text": [
      "./datafiles/processed_pdb/4FKV_A.pdb\n"
     ]
    },
    {
     "name": "stderr",
     "output_type": "stream",
     "text": [
      "@> 2215 atoms and 1 coordinate set(s) were parsed in 0.03s.\n"
     ]
    },
    {
     "name": "stdout",
     "output_type": "stream",
     "text": [
      "./datafiles/processed_pdb/4FKW_A.pdb\n"
     ]
    },
    {
     "name": "stderr",
     "output_type": "stream",
     "text": [
      "@> 2345 atoms and 1 coordinate set(s) were parsed in 0.03s.\n"
     ]
    },
    {
     "name": "stdout",
     "output_type": "stream",
     "text": [
      "./datafiles/processed_pdb/4FX3_A.pdb\n"
     ]
    },
    {
     "name": "stderr",
     "output_type": "stream",
     "text": [
      "@> 2359 atoms and 1 coordinate set(s) were parsed in 0.04s.\n"
     ]
    },
    {
     "name": "stdout",
     "output_type": "stream",
     "text": [
      "./datafiles/processed_pdb/4FX3_C.pdb\n"
     ]
    },
    {
     "name": "stderr",
     "output_type": "stream",
     "text": [
      "@> 2443 atoms and 1 coordinate set(s) were parsed in 0.04s.\n"
     ]
    },
    {
     "name": "stdout",
     "output_type": "stream",
     "text": [
      "./datafiles/processed_pdb/4GCJ_A.pdb\n"
     ]
    },
    {
     "name": "stderr",
     "output_type": "stream",
     "text": [
      "@> 2382 atoms and 1 coordinate set(s) were parsed in 0.03s.\n"
     ]
    },
    {
     "name": "stdout",
     "output_type": "stream",
     "text": [
      "./datafiles/processed_pdb/4I3Z_A.pdb\n"
     ]
    },
    {
     "name": "stderr",
     "output_type": "stream",
     "text": [
      "@> 2382 atoms and 1 coordinate set(s) were parsed in 0.03s.\n"
     ]
    },
    {
     "name": "stdout",
     "output_type": "stream",
     "text": [
      "./datafiles/processed_pdb/4I3Z_C.pdb\n"
     ]
    },
    {
     "name": "stderr",
     "output_type": "stream",
     "text": [
      "@> 2382 atoms and 1 coordinate set(s) were parsed in 0.03s.\n"
     ]
    },
    {
     "name": "stdout",
     "output_type": "stream",
     "text": [
      "./datafiles/processed_pdb/4II5_A.pdb\n"
     ]
    },
    {
     "name": "stderr",
     "output_type": "stream",
     "text": [
      "@> 2382 atoms and 1 coordinate set(s) were parsed in 0.04s.\n"
     ]
    },
    {
     "name": "stdout",
     "output_type": "stream",
     "text": [
      "./datafiles/processed_pdb/4II5_C.pdb\n"
     ]
    },
    {
     "name": "stderr",
     "output_type": "stream",
     "text": [
      "@> 2398 atoms and 1 coordinate set(s) were parsed in 0.03s.\n"
     ]
    },
    {
     "name": "stdout",
     "output_type": "stream",
     "text": [
      "./datafiles/processed_pdb/4KD1_A.pdb\n"
     ]
    },
    {
     "name": "stderr",
     "output_type": "stream",
     "text": [
      "@> 2300 atoms and 1 coordinate set(s) were parsed in 0.03s.\n"
     ]
    },
    {
     "name": "stdout",
     "output_type": "stream",
     "text": [
      "./datafiles/processed_pdb/4LYN_A.pdb\n"
     ]
    },
    {
     "name": "stderr",
     "output_type": "stream",
     "text": [
      "@> 2247 atoms and 1 coordinate set(s) were parsed in 0.03s.\n"
     ]
    },
    {
     "name": "stdout",
     "output_type": "stream",
     "text": [
      "./datafiles/processed_pdb/4NJ3_A.pdb\n"
     ]
    },
    {
     "name": "stderr",
     "output_type": "stream",
     "text": [
      "@> 2322 atoms and 1 coordinate set(s) were parsed in 0.03s.\n"
     ]
    },
    {
     "name": "stdout",
     "output_type": "stream",
     "text": [
      "./datafiles/processed_pdb/4RJ3_A.pdb\n"
     ]
    },
    {
     "name": "stderr",
     "output_type": "stream",
     "text": [
      "@> 2225 atoms and 1 coordinate set(s) were parsed in 0.03s.\n"
     ]
    },
    {
     "name": "stdout",
     "output_type": "stream",
     "text": [
      "./datafiles/processed_pdb/5A14_A.pdb\n"
     ]
    },
    {
     "name": "stderr",
     "output_type": "stream",
     "text": [
      "@> 2194 atoms and 1 coordinate set(s) were parsed in 0.02s.\n"
     ]
    },
    {
     "name": "stdout",
     "output_type": "stream",
     "text": [
      "./datafiles/processed_pdb/5AND_A.pdb\n"
     ]
    },
    {
     "name": "stderr",
     "output_type": "stream",
     "text": [
      "@> 2366 atoms and 1 coordinate set(s) were parsed in 0.03s.\n"
     ]
    },
    {
     "name": "stdout",
     "output_type": "stream",
     "text": [
      "./datafiles/processed_pdb/5ANE_A.pdb\n"
     ]
    },
    {
     "name": "stderr",
     "output_type": "stream",
     "text": [
      "@> 2155 atoms and 1 coordinate set(s) were parsed in 0.03s.\n"
     ]
    },
    {
     "name": "stdout",
     "output_type": "stream",
     "text": [
      "./datafiles/processed_pdb/5ANG_A.pdb\n"
     ]
    },
    {
     "name": "stderr",
     "output_type": "stream",
     "text": [
      "@> 2254 atoms and 1 coordinate set(s) were parsed in 0.03s.\n"
     ]
    },
    {
     "name": "stdout",
     "output_type": "stream",
     "text": [
      "./datafiles/processed_pdb/5ANI_A.pdb\n"
     ]
    },
    {
     "name": "stderr",
     "output_type": "stream",
     "text": [
      "@> 2336 atoms and 1 coordinate set(s) were parsed in 0.03s.\n"
     ]
    },
    {
     "name": "stdout",
     "output_type": "stream",
     "text": [
      "./datafiles/processed_pdb/5ANJ_A.pdb\n"
     ]
    },
    {
     "name": "stderr",
     "output_type": "stream",
     "text": [
      "@> 2204 atoms and 1 coordinate set(s) were parsed in 0.03s.\n"
     ]
    },
    {
     "name": "stdout",
     "output_type": "stream",
     "text": [
      "./datafiles/processed_pdb/5ANK_A.pdb\n"
     ]
    },
    {
     "name": "stderr",
     "output_type": "stream",
     "text": [
      "@> 2229 atoms and 1 coordinate set(s) were parsed in 0.03s.\n"
     ]
    },
    {
     "name": "stdout",
     "output_type": "stream",
     "text": [
      "./datafiles/processed_pdb/5ANO_A.pdb\n"
     ]
    },
    {
     "name": "stderr",
     "output_type": "stream",
     "text": [
      "@> 2407 atoms and 1 coordinate set(s) were parsed in 0.06s.\n"
     ]
    },
    {
     "name": "stdout",
     "output_type": "stream",
     "text": [
      "./datafiles/processed_pdb/5CYI_A.pdb\n"
     ]
    },
    {
     "name": "stderr",
     "output_type": "stream",
     "text": [
      "@> 2388 atoms and 1 coordinate set(s) were parsed in 0.05s.\n"
     ]
    },
    {
     "name": "stdout",
     "output_type": "stream",
     "text": [
      "./datafiles/processed_pdb/5CYI_C.pdb\n"
     ]
    },
    {
     "name": "stderr",
     "output_type": "stream",
     "text": [
      "@> 2116 atoms and 1 coordinate set(s) were parsed in 0.03s.\n"
     ]
    },
    {
     "name": "stdout",
     "output_type": "stream",
     "text": [
      "./datafiles/processed_pdb/5D1J_A.pdb\n"
     ]
    },
    {
     "name": "stderr",
     "output_type": "stream",
     "text": [
      "@> 2076 atoms and 1 coordinate set(s) were parsed in 0.02s.\n"
     ]
    },
    {
     "name": "stdout",
     "output_type": "stream",
     "text": [
      "./datafiles/processed_pdb/5FP5_A.pdb\n"
     ]
    },
    {
     "name": "stderr",
     "output_type": "stream",
     "text": [
      "@> 2176 atoms and 1 coordinate set(s) were parsed in 0.03s.\n"
     ]
    },
    {
     "name": "stdout",
     "output_type": "stream",
     "text": [
      "./datafiles/processed_pdb/5FP6_A.pdb\n"
     ]
    },
    {
     "name": "stderr",
     "output_type": "stream",
     "text": [
      "@> 2280 atoms and 1 coordinate set(s) were parsed in 0.05s.\n"
     ]
    },
    {
     "name": "stdout",
     "output_type": "stream",
     "text": [
      "./datafiles/processed_pdb/5IEV_A.pdb\n"
     ]
    },
    {
     "name": "stderr",
     "output_type": "stream",
     "text": [
      "@> 2286 atoms and 1 coordinate set(s) were parsed in 0.03s.\n"
     ]
    },
    {
     "name": "stdout",
     "output_type": "stream",
     "text": [
      "./datafiles/processed_pdb/5IEX_A.pdb\n"
     ]
    },
    {
     "name": "stderr",
     "output_type": "stream",
     "text": [
      "@> 2296 atoms and 1 coordinate set(s) were parsed in 0.03s.\n"
     ]
    },
    {
     "name": "stdout",
     "output_type": "stream",
     "text": [
      "./datafiles/processed_pdb/5IEY_A.pdb\n"
     ]
    },
    {
     "name": "stderr",
     "output_type": "stream",
     "text": [
      "@> 2392 atoms and 1 coordinate set(s) were parsed in 0.03s.\n"
     ]
    },
    {
     "name": "stdout",
     "output_type": "stream",
     "text": [
      "./datafiles/processed_pdb/5IF1_A.pdb\n"
     ]
    },
    {
     "name": "stderr",
     "output_type": "stream",
     "text": [
      "@> 2372 atoms and 1 coordinate set(s) were parsed in 0.03s.\n"
     ]
    },
    {
     "name": "stdout",
     "output_type": "stream",
     "text": [
      "./datafiles/processed_pdb/5IF1_C.pdb\n"
     ]
    },
    {
     "name": "stderr",
     "output_type": "stream",
     "text": [
      "@> 2309 atoms and 1 coordinate set(s) were parsed in 0.03s.\n"
     ]
    },
    {
     "name": "stdout",
     "output_type": "stream",
     "text": [
      "./datafiles/processed_pdb/5JQ5_A.pdb\n"
     ]
    },
    {
     "name": "stderr",
     "output_type": "stream",
     "text": [
      "@> 2234 atoms and 1 coordinate set(s) were parsed in 0.03s.\n"
     ]
    },
    {
     "name": "stdout",
     "output_type": "stream",
     "text": [
      "./datafiles/processed_pdb/5JQ8_A.pdb\n"
     ]
    },
    {
     "name": "stderr",
     "output_type": "stream",
     "text": [
      "@> 2268 atoms and 1 coordinate set(s) were parsed in 0.03s.\n"
     ]
    },
    {
     "name": "stdout",
     "output_type": "stream",
     "text": [
      "./datafiles/processed_pdb/5K4J_A.pdb\n"
     ]
    },
    {
     "name": "stderr",
     "output_type": "stream",
     "text": [
      "@> 2399 atoms and 1 coordinate set(s) were parsed in 0.03s.\n"
     ]
    },
    {
     "name": "stdout",
     "output_type": "stream",
     "text": [
      "./datafiles/processed_pdb/5L2W_A.pdb\n"
     ]
    },
    {
     "name": "stderr",
     "output_type": "stream",
     "text": [
      "@> 2391 atoms and 1 coordinate set(s) were parsed in 0.04s.\n"
     ]
    },
    {
     "name": "stdout",
     "output_type": "stream",
     "text": [
      "./datafiles/processed_pdb/5LMK_A.pdb\n"
     ]
    },
    {
     "name": "stderr",
     "output_type": "stream",
     "text": [
      "@> 2134 atoms and 1 coordinate set(s) were parsed in 0.03s.\n"
     ]
    },
    {
     "name": "stdout",
     "output_type": "stream",
     "text": [
      "./datafiles/processed_pdb/5LMK_C.pdb\n"
     ]
    },
    {
     "name": "stderr",
     "output_type": "stream",
     "text": [
      "@> 2364 atoms and 1 coordinate set(s) were parsed in 0.03s.\n"
     ]
    },
    {
     "name": "stdout",
     "output_type": "stream",
     "text": [
      "./datafiles/processed_pdb/5MHQ_A.pdb\n"
     ]
    },
    {
     "name": "stderr",
     "output_type": "stream",
     "text": [
      "@> 2380 atoms and 1 coordinate set(s) were parsed in 0.03s.\n"
     ]
    },
    {
     "name": "stdout",
     "output_type": "stream",
     "text": [
      "./datafiles/processed_pdb/5NEV_A.pdb\n"
     ]
    },
    {
     "name": "stderr",
     "output_type": "stream",
     "text": [
      "@> 2388 atoms and 1 coordinate set(s) were parsed in 0.03s.\n"
     ]
    },
    {
     "name": "stdout",
     "output_type": "stream",
     "text": [
      "./datafiles/processed_pdb/5NEV_C.pdb\n"
     ]
    },
    {
     "name": "stderr",
     "output_type": "stream",
     "text": [
      "@> 2283 atoms and 1 coordinate set(s) were parsed in 0.03s.\n"
     ]
    },
    {
     "name": "stdout",
     "output_type": "stream",
     "text": [
      "./datafiles/processed_pdb/5OO0_A.pdb\n"
     ]
    },
    {
     "name": "stderr",
     "output_type": "stream",
     "text": [
      "@> 2172 atoms and 1 coordinate set(s) were parsed in 0.02s.\n"
     ]
    },
    {
     "name": "stdout",
     "output_type": "stream",
     "text": [
      "./datafiles/processed_pdb/5OO1_A.pdb\n"
     ]
    },
    {
     "name": "stderr",
     "output_type": "stream",
     "text": [
      "@> 2284 atoms and 1 coordinate set(s) were parsed in 0.03s.\n"
     ]
    },
    {
     "name": "stdout",
     "output_type": "stream",
     "text": [
      "./datafiles/processed_pdb/5OO3_A.pdb\n"
     ]
    },
    {
     "name": "stderr",
     "output_type": "stream",
     "text": [
      "@> 2291 atoms and 1 coordinate set(s) were parsed in 0.02s.\n"
     ]
    },
    {
     "name": "stdout",
     "output_type": "stream",
     "text": [
      "./datafiles/processed_pdb/5OSJ_A.pdb\n"
     ]
    },
    {
     "name": "stderr",
     "output_type": "stream",
     "text": [
      "@> 2303 atoms and 1 coordinate set(s) were parsed in 0.03s.\n"
     ]
    },
    {
     "name": "stdout",
     "output_type": "stream",
     "text": [
      "./datafiles/processed_pdb/5OSM_A.pdb\n"
     ]
    },
    {
     "name": "stderr",
     "output_type": "stream",
     "text": [
      "@> 2294 atoms and 1 coordinate set(s) were parsed in 0.03s.\n"
     ]
    },
    {
     "name": "stdout",
     "output_type": "stream",
     "text": [
      "./datafiles/processed_pdb/5UQ1_A.pdb\n"
     ]
    },
    {
     "name": "stderr",
     "output_type": "stream",
     "text": [
      "@> 2293 atoms and 1 coordinate set(s) were parsed in 0.02s.\n"
     ]
    },
    {
     "name": "stdout",
     "output_type": "stream",
     "text": [
      "./datafiles/processed_pdb/5UQ1_C.pdb\n"
     ]
    },
    {
     "name": "stderr",
     "output_type": "stream",
     "text": [
      "@> 2355 atoms and 1 coordinate set(s) were parsed in 0.03s.\n"
     ]
    },
    {
     "name": "stdout",
     "output_type": "stream",
     "text": [
      "./datafiles/processed_pdb/5UQ2_A.pdb\n"
     ]
    },
    {
     "name": "stderr",
     "output_type": "stream",
     "text": [
      "@> 2138 atoms and 1 coordinate set(s) were parsed in 0.02s.\n"
     ]
    },
    {
     "name": "stdout",
     "output_type": "stream",
     "text": [
      "./datafiles/processed_pdb/5UQ3_A.pdb\n"
     ]
    },
    {
     "name": "stderr",
     "output_type": "stream",
     "text": [
      "@> 2238 atoms and 1 coordinate set(s) were parsed in 0.02s.\n"
     ]
    },
    {
     "name": "stdout",
     "output_type": "stream",
     "text": [
      "./datafiles/processed_pdb/6ATH_A.pdb\n"
     ]
    },
    {
     "name": "stderr",
     "output_type": "stream",
     "text": [
      "@> 2364 atoms and 1 coordinate set(s) were parsed in 0.03s.\n"
     ]
    },
    {
     "name": "stdout",
     "output_type": "stream",
     "text": [
      "./datafiles/processed_pdb/6GUB_A.pdb\n"
     ]
    },
    {
     "name": "stderr",
     "output_type": "stream",
     "text": [
      "@> 2342 atoms and 1 coordinate set(s) were parsed in 0.03s.\n"
     ]
    },
    {
     "name": "stdout",
     "output_type": "stream",
     "text": [
      "./datafiles/processed_pdb/6GUB_C.pdb\n"
     ]
    },
    {
     "name": "stderr",
     "output_type": "stream",
     "text": [
      "@> 2345 atoms and 1 coordinate set(s) were parsed in 0.03s.\n"
     ]
    },
    {
     "name": "stdout",
     "output_type": "stream",
     "text": [
      "./datafiles/processed_pdb/6GUC_A.pdb\n"
     ]
    },
    {
     "name": "stderr",
     "output_type": "stream",
     "text": [
      "@> 2388 atoms and 1 coordinate set(s) were parsed in 0.03s.\n"
     ]
    },
    {
     "name": "stdout",
     "output_type": "stream",
     "text": [
      "./datafiles/processed_pdb/6GUC_C.pdb\n"
     ]
    },
    {
     "name": "stderr",
     "output_type": "stream",
     "text": [
      "@> 2363 atoms and 1 coordinate set(s) were parsed in 0.03s.\n"
     ]
    },
    {
     "name": "stdout",
     "output_type": "stream",
     "text": [
      "./datafiles/processed_pdb/6GUE_A.pdb\n"
     ]
    },
    {
     "name": "stderr",
     "output_type": "stream",
     "text": [
      "@> 2321 atoms and 1 coordinate set(s) were parsed in 0.03s.\n"
     ]
    },
    {
     "name": "stdout",
     "output_type": "stream",
     "text": [
      "./datafiles/processed_pdb/6GUE_C.pdb\n"
     ]
    },
    {
     "name": "stderr",
     "output_type": "stream",
     "text": [
      "@> 2383 atoms and 1 coordinate set(s) were parsed in 0.03s.\n"
     ]
    },
    {
     "name": "stdout",
     "output_type": "stream",
     "text": [
      "./datafiles/processed_pdb/6GUF_A.pdb\n"
     ]
    },
    {
     "name": "stderr",
     "output_type": "stream",
     "text": [
      "@> 2399 atoms and 1 coordinate set(s) were parsed in 0.03s.\n"
     ]
    },
    {
     "name": "stdout",
     "output_type": "stream",
     "text": [
      "./datafiles/processed_pdb/6GUF_C.pdb\n"
     ]
    },
    {
     "name": "stderr",
     "output_type": "stream",
     "text": [
      "@> 2302 atoms and 1 coordinate set(s) were parsed in 0.03s.\n"
     ]
    },
    {
     "name": "stdout",
     "output_type": "stream",
     "text": [
      "./datafiles/processed_pdb/6GUH_A.pdb\n"
     ]
    },
    {
     "name": "stderr",
     "output_type": "stream",
     "text": [
      "@> 2242 atoms and 1 coordinate set(s) were parsed in 0.02s.\n"
     ]
    },
    {
     "name": "stdout",
     "output_type": "stream",
     "text": [
      "./datafiles/processed_pdb/6GUK_A.pdb\n"
     ]
    },
    {
     "name": "stderr",
     "output_type": "stream",
     "text": [
      "@> 2318 atoms and 1 coordinate set(s) were parsed in 0.03s.\n"
     ]
    },
    {
     "name": "stdout",
     "output_type": "stream",
     "text": [
      "./datafiles/processed_pdb/6GVA_A.pdb\n"
     ]
    },
    {
     "name": "stderr",
     "output_type": "stream",
     "text": [
      "@> 2194 atoms and 1 coordinate set(s) were parsed in 0.03s.\n"
     ]
    },
    {
     "name": "stdout",
     "output_type": "stream",
     "text": [
      "./datafiles/processed_pdb/6INL_A.pdb\n"
     ]
    },
    {
     "name": "stderr",
     "output_type": "stream",
     "text": [
      "@> 2245 atoms and 1 coordinate set(s) were parsed in 0.03s.\n"
     ]
    },
    {
     "name": "stdout",
     "output_type": "stream",
     "text": [
      "./datafiles/processed_pdb/6JGM_A.pdb\n"
     ]
    },
    {
     "name": "stderr",
     "output_type": "stream",
     "text": [
      "@> 2339 atoms and 1 coordinate set(s) were parsed in 0.03s.\n"
     ]
    },
    {
     "name": "stdout",
     "output_type": "stream",
     "text": [
      "./datafiles/processed_pdb/6OQI_A.pdb\n"
     ]
    },
    {
     "name": "stderr",
     "output_type": "stream",
     "text": [
      "@> 2349 atoms and 1 coordinate set(s) were parsed in 0.03s.\n"
     ]
    },
    {
     "name": "stdout",
     "output_type": "stream",
     "text": [
      "./datafiles/processed_pdb/6P3W_A.pdb\n"
     ]
    },
    {
     "name": "stderr",
     "output_type": "stream",
     "text": [
      "@> 2292 atoms and 1 coordinate set(s) were parsed in 0.02s.\n"
     ]
    },
    {
     "name": "stdout",
     "output_type": "stream",
     "text": [
      "./datafiles/processed_pdb/6P3W_C.pdb\n"
     ]
    },
    {
     "name": "stderr",
     "output_type": "stream",
     "text": [
      "@> 2277 atoms and 1 coordinate set(s) were parsed in 0.02s.\n"
     ]
    },
    {
     "name": "stdout",
     "output_type": "stream",
     "text": [
      "./datafiles/processed_pdb/6Q3B_A.pdb\n"
     ]
    },
    {
     "name": "stderr",
     "output_type": "stream",
     "text": [
      "@> 2334 atoms and 1 coordinate set(s) were parsed in 0.03s.\n"
     ]
    },
    {
     "name": "stdout",
     "output_type": "stream",
     "text": [
      "./datafiles/processed_pdb/6Q3C_A.pdb\n"
     ]
    },
    {
     "name": "stderr",
     "output_type": "stream",
     "text": [
      "@> 2364 atoms and 1 coordinate set(s) were parsed in 0.03s.\n"
     ]
    },
    {
     "name": "stdout",
     "output_type": "stream",
     "text": [
      "./datafiles/processed_pdb/6Q3F_A.pdb\n"
     ]
    },
    {
     "name": "stderr",
     "output_type": "stream",
     "text": [
      "@> 2252 atoms and 1 coordinate set(s) were parsed in 0.02s.\n"
     ]
    },
    {
     "name": "stdout",
     "output_type": "stream",
     "text": [
      "./datafiles/processed_pdb/6Q48_A.pdb\n"
     ]
    },
    {
     "name": "stderr",
     "output_type": "stream",
     "text": [
      "@> 2307 atoms and 1 coordinate set(s) were parsed in 0.03s.\n"
     ]
    },
    {
     "name": "stdout",
     "output_type": "stream",
     "text": [
      "./datafiles/processed_pdb/6Q49_A.pdb\n"
     ]
    },
    {
     "name": "stderr",
     "output_type": "stream",
     "text": [
      "@> 2344 atoms and 1 coordinate set(s) were parsed in 0.03s.\n"
     ]
    },
    {
     "name": "stdout",
     "output_type": "stream",
     "text": [
      "./datafiles/processed_pdb/6Q4A_A.pdb\n"
     ]
    },
    {
     "name": "stderr",
     "output_type": "stream",
     "text": [
      "@> 2347 atoms and 1 coordinate set(s) were parsed in 0.03s.\n"
     ]
    },
    {
     "name": "stdout",
     "output_type": "stream",
     "text": [
      "./datafiles/processed_pdb/6Q4B_A.pdb\n"
     ]
    },
    {
     "name": "stderr",
     "output_type": "stream",
     "text": [
      "@> 2367 atoms and 1 coordinate set(s) were parsed in 0.03s.\n"
     ]
    },
    {
     "name": "stdout",
     "output_type": "stream",
     "text": [
      "./datafiles/processed_pdb/6Q4C_A.pdb\n"
     ]
    },
    {
     "name": "stderr",
     "output_type": "stream",
     "text": [
      "@> 2324 atoms and 1 coordinate set(s) were parsed in 0.03s.\n"
     ]
    },
    {
     "name": "stdout",
     "output_type": "stream",
     "text": [
      "./datafiles/processed_pdb/6Q4D_A.pdb\n"
     ]
    },
    {
     "name": "stderr",
     "output_type": "stream",
     "text": [
      "@> 2290 atoms and 1 coordinate set(s) were parsed in 0.03s.\n"
     ]
    },
    {
     "name": "stdout",
     "output_type": "stream",
     "text": [
      "./datafiles/processed_pdb/6Q4E_A.pdb\n"
     ]
    },
    {
     "name": "stderr",
     "output_type": "stream",
     "text": [
      "@> 2358 atoms and 1 coordinate set(s) were parsed in 0.03s.\n"
     ]
    },
    {
     "name": "stdout",
     "output_type": "stream",
     "text": [
      "./datafiles/processed_pdb/6Q4F_A.pdb\n"
     ]
    },
    {
     "name": "stderr",
     "output_type": "stream",
     "text": [
      "@> 2271 atoms and 1 coordinate set(s) were parsed in 0.03s.\n"
     ]
    },
    {
     "name": "stdout",
     "output_type": "stream",
     "text": [
      "./datafiles/processed_pdb/6Q4G_A.pdb\n"
     ]
    },
    {
     "name": "stderr",
     "output_type": "stream",
     "text": [
      "@> 2350 atoms and 1 coordinate set(s) were parsed in 0.03s.\n"
     ]
    },
    {
     "name": "stdout",
     "output_type": "stream",
     "text": [
      "./datafiles/processed_pdb/6Q4H_A.pdb\n"
     ]
    },
    {
     "name": "stderr",
     "output_type": "stream",
     "text": [
      "@> 2330 atoms and 1 coordinate set(s) were parsed in 0.03s.\n"
     ]
    },
    {
     "name": "stdout",
     "output_type": "stream",
     "text": [
      "./datafiles/processed_pdb/6Q4I_A.pdb\n"
     ]
    },
    {
     "name": "stderr",
     "output_type": "stream",
     "text": [
      "@> 2337 atoms and 1 coordinate set(s) were parsed in 0.03s.\n"
     ]
    },
    {
     "name": "stdout",
     "output_type": "stream",
     "text": [
      "./datafiles/processed_pdb/6Q4J_A.pdb\n"
     ]
    },
    {
     "name": "stderr",
     "output_type": "stream",
     "text": [
      "@> 2350 atoms and 1 coordinate set(s) were parsed in 0.03s.\n"
     ]
    },
    {
     "name": "stdout",
     "output_type": "stream",
     "text": [
      "./datafiles/processed_pdb/6Q4K_A.pdb\n"
     ]
    },
    {
     "name": "stderr",
     "output_type": "stream",
     "text": [
      "@> 2334 atoms and 1 coordinate set(s) were parsed in 0.03s.\n"
     ]
    },
    {
     "name": "stdout",
     "output_type": "stream",
     "text": [
      "./datafiles/processed_pdb/6RIJ_A.pdb\n"
     ]
    },
    {
     "name": "stderr",
     "output_type": "stream",
     "text": [
      "@> 2334 atoms and 1 coordinate set(s) were parsed in 0.03s.\n"
     ]
    },
    {
     "name": "stdout",
     "output_type": "stream",
     "text": [
      "./datafiles/processed_pdb/6RIJ_C.pdb\n"
     ]
    },
    {
     "name": "stderr",
     "output_type": "stream",
     "text": [
      "@> 2237 atoms and 1 coordinate set(s) were parsed in 0.03s.\n"
     ]
    },
    {
     "name": "stdout",
     "output_type": "stream",
     "text": [
      "./datafiles/processed_pdb/6YL1_A.pdb\n"
     ]
    },
    {
     "name": "stderr",
     "output_type": "stream",
     "text": [
      "@> 2406 atoms and 1 coordinate set(s) were parsed in 0.03s.\n"
     ]
    },
    {
     "name": "stdout",
     "output_type": "stream",
     "text": [
      "./datafiles/processed_pdb/6YL6_A.pdb\n"
     ]
    },
    {
     "name": "stderr",
     "output_type": "stream",
     "text": [
      "@> 2301 atoms and 1 coordinate set(s) were parsed in 0.02s.\n"
     ]
    },
    {
     "name": "stdout",
     "output_type": "stream",
     "text": [
      "./datafiles/processed_pdb/6YLK_A.pdb\n"
     ]
    }
   ],
   "source": [
    "dist_mat_list_1 = []\n",
    "dist_mat_pdb_1 = []\n",
    "for proc in glob(proc_dir+'*'):\n",
    "    print(proc)\n",
    "    pdb = proc.split('/')[-1].split('.')[0]\n",
    "    chain = pdb.split(\".\")[0].split(\"_\")[-1]\n",
    "    dist_mat = get_shortest_dist_matrix(proc, EGFR_KLIFS_IDENT, chain, min_dist=2.2)\n",
    "    dist_mat_list_1.append(dist_mat)\n",
    "    dist_mat_pdb_1.append(pdb)\n",
    "        "
   ]
  },
  {
   "cell_type": "code",
   "execution_count": 9,
   "metadata": {},
   "outputs": [
    {
     "name": "stderr",
     "output_type": "stream",
     "text": [
      "@> 277 atoms and 1 coordinate set(s) were parsed in 0.01s.\n",
      "@> 290 atoms and 1 coordinate set(s) were parsed in 0.01s.\n",
      "@> 290 atoms and 1 coordinate set(s) were parsed in 0.01s.\n",
      "@> 287 atoms and 1 coordinate set(s) were parsed in 0.01s.\n",
      "@> 279 atoms and 1 coordinate set(s) were parsed in 0.01s.\n",
      "@> 283 atoms and 1 coordinate set(s) were parsed in 0.01s.\n",
      "@> 274 atoms and 1 coordinate set(s) were parsed in 0.01s.\n",
      "@> 290 atoms and 1 coordinate set(s) were parsed in 0.01s.\n"
     ]
    },
    {
     "name": "stdout",
     "output_type": "stream",
     "text": [
      "./datafiles/processed_pdb/1AQ1_A.pdb\n",
      "./datafiles/processed_pdb/1B38_A.pdb\n",
      "./datafiles/processed_pdb/1B39_A.pdb\n",
      "./datafiles/processed_pdb/1BUH_A.pdb\n",
      "./datafiles/processed_pdb/1CKP_A.pdb\n",
      "./datafiles/processed_pdb/1DI8_A.pdb\n",
      "./datafiles/processed_pdb/1DM2_A.pdb\n",
      "./datafiles/processed_pdb/1E1V_A.pdb\n",
      "./datafiles/processed_pdb/1E1X_A.pdb\n"
     ]
    },
    {
     "name": "stderr",
     "output_type": "stream",
     "text": [
      "@> 290 atoms and 1 coordinate set(s) were parsed in 0.01s.\n",
      "@> 296 atoms and 1 coordinate set(s) were parsed in 0.01s.\n",
      "@> 297 atoms and 1 coordinate set(s) were parsed in 0.01s.\n",
      "@> 296 atoms and 1 coordinate set(s) were parsed in 0.01s.\n",
      "@> 288 atoms and 1 coordinate set(s) were parsed in 0.01s.\n",
      "@> 298 atoms and 1 coordinate set(s) were parsed in 0.01s.\n",
      "@> 298 atoms and 1 coordinate set(s) were parsed in 0.01s.\n",
      "@> 296 atoms and 1 coordinate set(s) were parsed in 0.01s.\n",
      "@> 282 atoms and 1 coordinate set(s) were parsed in 0.01s.\n",
      "@> 298 atoms and 1 coordinate set(s) were parsed in 0.01s.\n"
     ]
    },
    {
     "name": "stdout",
     "output_type": "stream",
     "text": [
      "./datafiles/processed_pdb/1E9H_A.pdb\n",
      "./datafiles/processed_pdb/1E9H_C.pdb\n",
      "./datafiles/processed_pdb/1F5Q_A.pdb\n",
      "./datafiles/processed_pdb/1F5Q_C.pdb\n",
      "./datafiles/processed_pdb/1FIN_A.pdb\n",
      "./datafiles/processed_pdb/1FIN_C.pdb\n",
      "./datafiles/processed_pdb/1FQ1_B.pdb\n",
      "./datafiles/processed_pdb/1FVT_A.pdb\n",
      "./datafiles/processed_pdb/1FVV_A.pdb\n"
     ]
    },
    {
     "name": "stderr",
     "output_type": "stream",
     "text": [
      "@> 298 atoms and 1 coordinate set(s) were parsed in 0.01s.\n",
      "@> 275 atoms and 1 coordinate set(s) were parsed in 0.01s.\n",
      "@> 276 atoms and 1 coordinate set(s) were parsed in 0.01s.\n",
      "@> 279 atoms and 1 coordinate set(s) were parsed in 0.01s.\n",
      "@> 273 atoms and 1 coordinate set(s) were parsed in 0.01s.\n",
      "@> 296 atoms and 1 coordinate set(s) were parsed in 0.01s.\n",
      "@> 296 atoms and 1 coordinate set(s) were parsed in 0.01s.\n",
      "@> 290 atoms and 1 coordinate set(s) were parsed in 0.01s.\n",
      "@> 278 atoms and 1 coordinate set(s) were parsed in 0.01s.\n"
     ]
    },
    {
     "name": "stdout",
     "output_type": "stream",
     "text": [
      "./datafiles/processed_pdb/1FVV_C.pdb\n",
      "./datafiles/processed_pdb/1G5S_A.pdb\n",
      "./datafiles/processed_pdb/1GIH_A.pdb\n",
      "./datafiles/processed_pdb/1GII_A.pdb\n",
      "./datafiles/processed_pdb/1GIJ_A.pdb\n",
      "./datafiles/processed_pdb/1GY3_A.pdb\n",
      "./datafiles/processed_pdb/1GY3_C.pdb\n",
      "./datafiles/processed_pdb/1GZ8_A.pdb\n",
      "./datafiles/processed_pdb/1H00_A.pdb\n"
     ]
    },
    {
     "name": "stderr",
     "output_type": "stream",
     "text": [
      "@> 286 atoms and 1 coordinate set(s) were parsed in 0.01s.\n",
      "@> 285 atoms and 1 coordinate set(s) were parsed in 0.01s.\n",
      "@> 283 atoms and 1 coordinate set(s) were parsed in 0.01s.\n",
      "@> 288 atoms and 1 coordinate set(s) were parsed in 0.01s.\n",
      "@> 283 atoms and 1 coordinate set(s) were parsed in 0.01s.\n",
      "@> 297 atoms and 1 coordinate set(s) were parsed in 0.01s.\n",
      "@> 297 atoms and 1 coordinate set(s) were parsed in 0.01s.\n",
      "@> 297 atoms and 1 coordinate set(s) were parsed in 0.01s.\n",
      "@> 297 atoms and 1 coordinate set(s) were parsed in 0.01s.\n"
     ]
    },
    {
     "name": "stdout",
     "output_type": "stream",
     "text": [
      "./datafiles/processed_pdb/1H01_A.pdb\n",
      "./datafiles/processed_pdb/1H07_A.pdb\n",
      "./datafiles/processed_pdb/1H08_A.pdb\n",
      "./datafiles/processed_pdb/1H0V_A.pdb\n",
      "./datafiles/processed_pdb/1H0W_A.pdb\n",
      "./datafiles/processed_pdb/1H1P_A.pdb\n",
      "./datafiles/processed_pdb/1H1P_C.pdb\n",
      "./datafiles/processed_pdb/1H1Q_A.pdb\n",
      "./datafiles/processed_pdb/1H1Q_C.pdb\n"
     ]
    },
    {
     "name": "stderr",
     "output_type": "stream",
     "text": [
      "@> 297 atoms and 1 coordinate set(s) were parsed in 0.01s.\n",
      "@> 297 atoms and 1 coordinate set(s) were parsed in 0.01s.\n",
      "@> 297 atoms and 1 coordinate set(s) were parsed in 0.01s.\n",
      "@> 297 atoms and 1 coordinate set(s) were parsed in 0.01s.\n",
      "@> 294 atoms and 1 coordinate set(s) were parsed in 0.01s.\n",
      "@> 294 atoms and 1 coordinate set(s) were parsed in 0.01s.\n",
      "@> 294 atoms and 1 coordinate set(s) were parsed in 0.01s.\n",
      "@> 279 atoms and 1 coordinate set(s) were parsed in 0.01s.\n",
      "@> 297 atoms and 1 coordinate set(s) were parsed in 0.01s.\n"
     ]
    },
    {
     "name": "stdout",
     "output_type": "stream",
     "text": [
      "./datafiles/processed_pdb/1H1R_A.pdb\n",
      "./datafiles/processed_pdb/1H1R_C.pdb\n",
      "./datafiles/processed_pdb/1H1S_A.pdb\n",
      "./datafiles/processed_pdb/1H1S_C.pdb\n",
      "./datafiles/processed_pdb/1H24_A.pdb\n",
      "./datafiles/processed_pdb/1H24_C.pdb\n",
      "./datafiles/processed_pdb/1H25_A.pdb\n",
      "./datafiles/processed_pdb/1H25_C.pdb\n",
      "./datafiles/processed_pdb/1H26_A.pdb\n"
     ]
    },
    {
     "name": "stderr",
     "output_type": "stream",
     "text": [
      "@> 268 atoms and 1 coordinate set(s) were parsed in 0.01s.\n",
      "@> 297 atoms and 1 coordinate set(s) were parsed in 0.01s.\n",
      "@> 292 atoms and 1 coordinate set(s) were parsed in 0.01s.\n",
      "@> 297 atoms and 1 coordinate set(s) were parsed in 0.01s.\n",
      "@> 297 atoms and 1 coordinate set(s) were parsed in 0.01s.\n",
      "@> 294 atoms and 1 coordinate set(s) were parsed in 0.01s.\n",
      "@> 294 atoms and 1 coordinate set(s) were parsed in 0.01s.\n",
      "@> 298 atoms and 1 coordinate set(s) were parsed in 0.01s.\n",
      "@> 298 atoms and 1 coordinate set(s) were parsed in 0.01s.\n"
     ]
    },
    {
     "name": "stdout",
     "output_type": "stream",
     "text": [
      "./datafiles/processed_pdb/1H26_C.pdb\n",
      "./datafiles/processed_pdb/1H27_A.pdb\n",
      "./datafiles/processed_pdb/1H27_C.pdb\n",
      "./datafiles/processed_pdb/1H28_A.pdb\n",
      "./datafiles/processed_pdb/1H28_C.pdb\n",
      "./datafiles/processed_pdb/1HCK_A.pdb\n",
      "./datafiles/processed_pdb/1HCL_A.pdb\n",
      "./datafiles/processed_pdb/1JST_A.pdb\n",
      "./datafiles/processed_pdb/1JST_C.pdb\n"
     ]
    },
    {
     "name": "stderr",
     "output_type": "stream",
     "text": [
      "@> 286 atoms and 1 coordinate set(s) were parsed in 0.01s.\n",
      "@> 287 atoms and 1 coordinate set(s) were parsed in 0.01s.\n",
      "@> 268 atoms and 1 coordinate set(s) were parsed in 0.01s.\n",
      "@> 281 atoms and 1 coordinate set(s) were parsed in 0.01s.\n",
      "@> 280 atoms and 1 coordinate set(s) were parsed in 0.01s.\n",
      "@> 281 atoms and 1 coordinate set(s) were parsed in 0.01s.\n",
      "@> 282 atoms and 1 coordinate set(s) were parsed in 0.01s.\n",
      "@> 281 atoms and 1 coordinate set(s) were parsed in 0.01s.\n",
      "@> 297 atoms and 1 coordinate set(s) were parsed in 0.01s.\n"
     ]
    },
    {
     "name": "stdout",
     "output_type": "stream",
     "text": [
      "./datafiles/processed_pdb/1JSU_A.pdb\n",
      "./datafiles/processed_pdb/1JSV_A.pdb\n",
      "./datafiles/processed_pdb/1JVP_P.pdb\n",
      "./datafiles/processed_pdb/1KE5_A.pdb\n",
      "./datafiles/processed_pdb/1KE6_A.pdb\n",
      "./datafiles/processed_pdb/1KE7_A.pdb\n",
      "./datafiles/processed_pdb/1KE8_A.pdb\n",
      "./datafiles/processed_pdb/1KE9_A.pdb\n",
      "./datafiles/processed_pdb/1OGU_A.pdb\n"
     ]
    },
    {
     "name": "stderr",
     "output_type": "stream",
     "text": [
      "@> 273 atoms and 1 coordinate set(s) were parsed in 0.01s.\n",
      "@> 296 atoms and 1 coordinate set(s) were parsed in 0.01s.\n",
      "@> 297 atoms and 1 coordinate set(s) were parsed in 0.01s.\n",
      "@> 264 atoms and 1 coordinate set(s) were parsed in 0.00s.\n",
      "@> 286 atoms and 1 coordinate set(s) were parsed in 0.01s.\n",
      "@> 273 atoms and 1 coordinate set(s) were parsed in 0.01s.\n",
      "@> 297 atoms and 1 coordinate set(s) were parsed in 0.01s.\n",
      "@> 266 atoms and 1 coordinate set(s) were parsed in 0.01s.\n",
      "@> 294 atoms and 1 coordinate set(s) were parsed in 0.01s.\n"
     ]
    },
    {
     "name": "stdout",
     "output_type": "stream",
     "text": [
      "./datafiles/processed_pdb/1OGU_C.pdb\n",
      "./datafiles/processed_pdb/1OI9_A.pdb\n",
      "./datafiles/processed_pdb/1OI9_C.pdb\n",
      "./datafiles/processed_pdb/1OIQ_A.pdb\n",
      "./datafiles/processed_pdb/1OIR_A.pdb\n",
      "./datafiles/processed_pdb/1OIT_A.pdb\n",
      "./datafiles/processed_pdb/1OIU_A.pdb\n",
      "./datafiles/processed_pdb/1OIU_C.pdb\n",
      "./datafiles/processed_pdb/1OIY_A.pdb\n"
     ]
    },
    {
     "name": "stderr",
     "output_type": "stream",
     "text": [
      "@> 297 atoms and 1 coordinate set(s) were parsed in 0.01s.\n",
      "@> 295 atoms and 1 coordinate set(s) were parsed in 0.01s.\n",
      "@> 296 atoms and 1 coordinate set(s) were parsed in 0.01s.\n",
      "@> 296 atoms and 1 coordinate set(s) were parsed in 0.01s.\n",
      "@> 296 atoms and 1 coordinate set(s) were parsed in 0.01s.\n",
      "@> 296 atoms and 1 coordinate set(s) were parsed in 0.01s.\n",
      "@> 296 atoms and 1 coordinate set(s) were parsed in 0.01s.\n",
      "@> 296 atoms and 1 coordinate set(s) were parsed in 0.01s.\n",
      "@> 296 atoms and 1 coordinate set(s) were parsed in 0.01s.\n"
     ]
    },
    {
     "name": "stdout",
     "output_type": "stream",
     "text": [
      "./datafiles/processed_pdb/1OIY_C.pdb\n",
      "./datafiles/processed_pdb/1OKV_A.pdb\n",
      "./datafiles/processed_pdb/1OKV_C.pdb\n",
      "./datafiles/processed_pdb/1OKW_A.pdb\n",
      "./datafiles/processed_pdb/1OKW_C.pdb\n",
      "./datafiles/processed_pdb/1OL1_A.pdb\n",
      "./datafiles/processed_pdb/1OL1_C.pdb\n",
      "./datafiles/processed_pdb/1OL2_A.pdb\n",
      "./datafiles/processed_pdb/1OL2_C.pdb\n"
     ]
    },
    {
     "name": "stderr",
     "output_type": "stream",
     "text": [
      "@> 271 atoms and 1 coordinate set(s) were parsed in 0.01s.\n",
      "@> 297 atoms and 1 coordinate set(s) were parsed in 0.01s.\n",
      "@> 297 atoms and 1 coordinate set(s) were parsed in 0.01s.\n",
      "@> 298 atoms and 1 coordinate set(s) were parsed in 0.01s.\n",
      "@> 297 atoms and 1 coordinate set(s) were parsed in 0.01s.\n",
      "@> 297 atoms and 1 coordinate set(s) were parsed in 0.01s.\n",
      "@> 294 atoms and 1 coordinate set(s) were parsed in 0.01s.\n",
      "@> 294 atoms and 1 coordinate set(s) were parsed in 0.01s.\n",
      "@> 294 atoms and 1 coordinate set(s) were parsed in 0.01s.\n"
     ]
    },
    {
     "name": "stdout",
     "output_type": "stream",
     "text": [
      "./datafiles/processed_pdb/1P2A_A.pdb\n",
      "./datafiles/processed_pdb/1P5E_A.pdb\n",
      "./datafiles/processed_pdb/1P5E_C.pdb\n",
      "./datafiles/processed_pdb/1PF8_A.pdb\n",
      "./datafiles/processed_pdb/1PKD_A.pdb\n",
      "./datafiles/processed_pdb/1PKD_C.pdb\n",
      "./datafiles/processed_pdb/1PW2_A.pdb\n",
      "./datafiles/processed_pdb/1PXI_A.pdb\n",
      "./datafiles/processed_pdb/1PXJ_A.pdb\n"
     ]
    },
    {
     "name": "stderr",
     "output_type": "stream",
     "text": [
      "@> 290 atoms and 1 coordinate set(s) were parsed in 0.01s.\n",
      "@> 290 atoms and 1 coordinate set(s) were parsed in 0.01s.\n",
      "@> 290 atoms and 1 coordinate set(s) were parsed in 0.01s.\n",
      "@> 294 atoms and 1 coordinate set(s) were parsed in 0.01s.\n",
      "@> 294 atoms and 1 coordinate set(s) were parsed in 0.01s.\n",
      "@> 294 atoms and 1 coordinate set(s) were parsed in 0.01s.\n",
      "@> 266 atoms and 1 coordinate set(s) were parsed in 0.01s.\n",
      "@> 297 atoms and 1 coordinate set(s) were parsed in 0.01s.\n",
      "@> 297 atoms and 1 coordinate set(s) were parsed in 0.01s.\n"
     ]
    },
    {
     "name": "stdout",
     "output_type": "stream",
     "text": [
      "./datafiles/processed_pdb/1PXK_A.pdb\n",
      "./datafiles/processed_pdb/1PXL_A.pdb\n",
      "./datafiles/processed_pdb/1PXM_A.pdb\n",
      "./datafiles/processed_pdb/1PXN_A.pdb\n",
      "./datafiles/processed_pdb/1PXO_A.pdb\n",
      "./datafiles/processed_pdb/1PXP_A.pdb\n",
      "./datafiles/processed_pdb/1PYE_A.pdb\n",
      "./datafiles/processed_pdb/1QMZ_A.pdb\n",
      "./datafiles/processed_pdb/1QMZ_C.pdb\n"
     ]
    },
    {
     "name": "stderr",
     "output_type": "stream",
     "text": [
      "@> 273 atoms and 1 coordinate set(s) were parsed in 0.01s.\n",
      "@> 296 atoms and 1 coordinate set(s) were parsed in 0.01s.\n",
      "@> 296 atoms and 1 coordinate set(s) were parsed in 0.01s.\n",
      "@> 274 atoms and 1 coordinate set(s) were parsed in 0.01s.\n",
      "@> 277 atoms and 1 coordinate set(s) were parsed in 0.01s.\n",
      "@> 302 atoms and 1 coordinate set(s) were parsed in 0.01s.\n",
      "@> 299 atoms and 1 coordinate set(s) were parsed in 0.01s.\n",
      "@> 279 atoms and 1 coordinate set(s) were parsed in 0.01s.\n",
      "@> 280 atoms and 1 coordinate set(s) were parsed in 0.01s.\n"
     ]
    },
    {
     "name": "stdout",
     "output_type": "stream",
     "text": [
      "./datafiles/processed_pdb/1R78_A.pdb\n",
      "./datafiles/processed_pdb/1URC_A.pdb\n",
      "./datafiles/processed_pdb/1URC_C.pdb\n",
      "./datafiles/processed_pdb/1URW_A.pdb\n",
      "./datafiles/processed_pdb/1V1K_A.pdb\n",
      "./datafiles/processed_pdb/1VYW_A.pdb\n",
      "./datafiles/processed_pdb/1VYW_C.pdb\n",
      "./datafiles/processed_pdb/1VYZ_A.pdb\n",
      "./datafiles/processed_pdb/1W0X_C.pdb\n"
     ]
    },
    {
     "name": "stderr",
     "output_type": "stream",
     "text": [
      "@> 290 atoms and 1 coordinate set(s) were parsed in 0.01s.\n",
      "@> 298 atoms and 1 coordinate set(s) were parsed in 0.01s.\n",
      "@> 283 atoms and 1 coordinate set(s) were parsed in 0.01s.\n",
      "@> 292 atoms and 1 coordinate set(s) were parsed in 0.01s.\n",
      "@> 286 atoms and 1 coordinate set(s) were parsed in 0.01s.\n",
      "@> 298 atoms and 1 coordinate set(s) were parsed in 0.01s.\n",
      "@> 294 atoms and 1 coordinate set(s) were parsed in 0.01s.\n",
      "@> 286 atoms and 1 coordinate set(s) were parsed in 0.01s.\n",
      "@> 283 atoms and 1 coordinate set(s) were parsed in 0.01s.\n"
     ]
    },
    {
     "name": "stdout",
     "output_type": "stream",
     "text": [
      "./datafiles/processed_pdb/1W8C_A.pdb\n",
      "./datafiles/processed_pdb/1W98_A.pdb\n",
      "./datafiles/processed_pdb/1WCC_A.pdb\n",
      "./datafiles/processed_pdb/1Y8Y_A.pdb\n",
      "./datafiles/processed_pdb/1Y91_A.pdb\n",
      "./datafiles/processed_pdb/1YKR_A.pdb\n",
      "./datafiles/processed_pdb/2A0C_X.pdb\n",
      "./datafiles/processed_pdb/2A4L_A.pdb\n",
      "./datafiles/processed_pdb/2B52_A.pdb\n"
     ]
    },
    {
     "name": "stderr",
     "output_type": "stream",
     "text": [
      "@> 294 atoms and 1 coordinate set(s) were parsed in 0.01s.\n",
      "@> 298 atoms and 1 coordinate set(s) were parsed in 0.01s.\n",
      "@> 276 atoms and 1 coordinate set(s) were parsed in 0.01s.\n",
      "@> 274 atoms and 1 coordinate set(s) were parsed in 0.01s.\n",
      "@> 274 atoms and 1 coordinate set(s) were parsed in 0.01s.\n",
      "@> 302 atoms and 1 coordinate set(s) were parsed in 0.01s.\n",
      "@> 298 atoms and 1 coordinate set(s) were parsed in 0.01s.\n",
      "@> 302 atoms and 1 coordinate set(s) were parsed in 0.01s.\n",
      "@> 299 atoms and 1 coordinate set(s) were parsed in 0.01s.\n"
     ]
    },
    {
     "name": "stdout",
     "output_type": "stream",
     "text": [
      "./datafiles/processed_pdb/2B53_A.pdb\n",
      "./datafiles/processed_pdb/2B54_A.pdb\n",
      "./datafiles/processed_pdb/2B55_A.pdb\n",
      "./datafiles/processed_pdb/2BHE_A.pdb\n",
      "./datafiles/processed_pdb/2BHH_A.pdb\n",
      "./datafiles/processed_pdb/2BKZ_A.pdb\n",
      "./datafiles/processed_pdb/2BKZ_C.pdb\n",
      "./datafiles/processed_pdb/2BPM_A.pdb\n",
      "./datafiles/processed_pdb/2BPM_C.pdb\n"
     ]
    },
    {
     "name": "stderr",
     "output_type": "stream",
     "text": [
      "@> 275 atoms and 1 coordinate set(s) were parsed in 0.01s.\n",
      "@> 274 atoms and 1 coordinate set(s) were parsed in 0.01s.\n",
      "@> 301 atoms and 1 coordinate set(s) were parsed in 0.01s.\n",
      "@> 300 atoms and 1 coordinate set(s) were parsed in 0.01s.\n",
      "@> 296 atoms and 1 coordinate set(s) were parsed in 0.01s.\n",
      "@> 296 atoms and 1 coordinate set(s) were parsed in 0.01s.\n",
      "@> 296 atoms and 1 coordinate set(s) were parsed in 0.01s.\n",
      "@> 296 atoms and 1 coordinate set(s) were parsed in 0.01s.\n",
      "@> 296 atoms and 1 coordinate set(s) were parsed in 0.01s.\n"
     ]
    },
    {
     "name": "stdout",
     "output_type": "stream",
     "text": [
      "./datafiles/processed_pdb/2BTR_A.pdb\n",
      "./datafiles/processed_pdb/2BTS_A.pdb\n",
      "./datafiles/processed_pdb/2C4G_A.pdb\n",
      "./datafiles/processed_pdb/2C4G_C.pdb\n",
      "./datafiles/processed_pdb/2C5N_A.pdb\n",
      "./datafiles/processed_pdb/2C5N_C.pdb\n",
      "./datafiles/processed_pdb/2C5O_A.pdb\n",
      "./datafiles/processed_pdb/2C5O_C.pdb\n",
      "./datafiles/processed_pdb/2C5V_A.pdb\n"
     ]
    },
    {
     "name": "stderr",
     "output_type": "stream",
     "text": [
      "@> 296 atoms and 1 coordinate set(s) were parsed in 0.01s.\n",
      "@> 296 atoms and 1 coordinate set(s) were parsed in 0.01s.\n",
      "@> 296 atoms and 1 coordinate set(s) were parsed in 0.01s.\n",
      "@> 290 atoms and 1 coordinate set(s) were parsed in 0.01s.\n",
      "@> 290 atoms and 1 coordinate set(s) were parsed in 0.01s.\n",
      "@> 292 atoms and 1 coordinate set(s) were parsed in 0.01s.\n",
      "@> 292 atoms and 1 coordinate set(s) were parsed in 0.01s.\n",
      "@> 292 atoms and 1 coordinate set(s) were parsed in 0.01s.\n",
      "@> 291 atoms and 1 coordinate set(s) were parsed in 0.01s.\n"
     ]
    },
    {
     "name": "stdout",
     "output_type": "stream",
     "text": [
      "./datafiles/processed_pdb/2C5V_C.pdb\n",
      "./datafiles/processed_pdb/2C5X_A.pdb\n",
      "./datafiles/processed_pdb/2C5X_C.pdb\n",
      "./datafiles/processed_pdb/2C5Y_A.pdb\n",
      "./datafiles/processed_pdb/2C68_A.pdb\n",
      "./datafiles/processed_pdb/2C69_A.pdb\n",
      "./datafiles/processed_pdb/2C6I_A.pdb\n",
      "./datafiles/processed_pdb/2C6K_A.pdb\n",
      "./datafiles/processed_pdb/2C6L_A.pdb\n"
     ]
    },
    {
     "name": "stderr",
     "output_type": "stream",
     "text": [
      "@> 290 atoms and 1 coordinate set(s) were parsed in 0.01s.\n",
      "@> 290 atoms and 1 coordinate set(s) were parsed in 0.01s.\n",
      "@> 296 atoms and 1 coordinate set(s) were parsed in 0.01s.\n",
      "@> 296 atoms and 1 coordinate set(s) were parsed in 0.01s.\n",
      "@> 297 atoms and 1 coordinate set(s) were parsed in 0.01s.\n",
      "@> 297 atoms and 1 coordinate set(s) were parsed in 0.01s.\n",
      "@> 297 atoms and 1 coordinate set(s) were parsed in 0.01s.\n",
      "@> 297 atoms and 1 coordinate set(s) were parsed in 0.01s.\n",
      "@> 287 atoms and 1 coordinate set(s) were parsed in 0.01s.\n"
     ]
    },
    {
     "name": "stdout",
     "output_type": "stream",
     "text": [
      "./datafiles/processed_pdb/2C6M_A.pdb\n",
      "./datafiles/processed_pdb/2C6O_A.pdb\n",
      "./datafiles/processed_pdb/2C6T_A.pdb\n",
      "./datafiles/processed_pdb/2C6T_C.pdb\n",
      "./datafiles/processed_pdb/2CCH_A.pdb\n",
      "./datafiles/processed_pdb/2CCH_C.pdb\n",
      "./datafiles/processed_pdb/2CCI_A.pdb\n",
      "./datafiles/processed_pdb/2CCI_C.pdb\n",
      "./datafiles/processed_pdb/2CJM_A.pdb\n"
     ]
    },
    {
     "name": "stderr",
     "output_type": "stream",
     "text": [
      "@> 296 atoms and 1 coordinate set(s) were parsed in 0.01s.\n",
      "@> 293 atoms and 1 coordinate set(s) were parsed in 0.01s.\n",
      "@> 290 atoms and 1 coordinate set(s) were parsed in 0.01s.\n",
      "@> 272 atoms and 1 coordinate set(s) were parsed in 0.01s.\n",
      "@> 298 atoms and 1 coordinate set(s) were parsed in 0.01s.\n",
      "@> 284 atoms and 1 coordinate set(s) were parsed in 0.01s.\n",
      "@> 299 atoms and 1 coordinate set(s) were parsed in 0.01s.\n",
      "@> 275 atoms and 1 coordinate set(s) were parsed in 0.01s.\n",
      "@> 291 atoms and 1 coordinate set(s) were parsed in 0.01s.\n"
     ]
    },
    {
     "name": "stdout",
     "output_type": "stream",
     "text": [
      "./datafiles/processed_pdb/2CJM_C.pdb\n",
      "./datafiles/processed_pdb/2CLX_A.pdb\n",
      "./datafiles/processed_pdb/2DS1_A.pdb\n",
      "./datafiles/processed_pdb/2DUV_A.pdb\n",
      "./datafiles/processed_pdb/2EXM_A.pdb\n",
      "./datafiles/processed_pdb/2FVD_A.pdb\n",
      "./datafiles/processed_pdb/2G9X_A.pdb\n",
      "./datafiles/processed_pdb/2G9X_C.pdb\n",
      "./datafiles/processed_pdb/2I40_A.pdb\n"
     ]
    },
    {
     "name": "stderr",
     "output_type": "stream",
     "text": [
      "@> 296 atoms and 1 coordinate set(s) were parsed in 0.01s.\n",
      "@> 293 atoms and 1 coordinate set(s) were parsed in 0.01s.\n",
      "@> 296 atoms and 1 coordinate set(s) were parsed in 0.01s.\n",
      "@> 298 atoms and 1 coordinate set(s) were parsed in 0.01s.\n",
      "@> 266 atoms and 1 coordinate set(s) were parsed in 0.01s.\n",
      "@> 294 atoms and 1 coordinate set(s) were parsed in 0.01s.\n",
      "@> 269 atoms and 1 coordinate set(s) were parsed in 0.01s.\n",
      "@> 275 atoms and 1 coordinate set(s) were parsed in 0.01s.\n",
      "@> 289 atoms and 1 coordinate set(s) were parsed in 0.01s.\n"
     ]
    },
    {
     "name": "stdout",
     "output_type": "stream",
     "text": [
      "./datafiles/processed_pdb/2I40_C.pdb\n",
      "./datafiles/processed_pdb/2IW6_A.pdb\n",
      "./datafiles/processed_pdb/2IW6_C.pdb\n",
      "./datafiles/processed_pdb/2IW8_A.pdb\n",
      "./datafiles/processed_pdb/2IW8_C.pdb\n",
      "./datafiles/processed_pdb/2IW9_A.pdb\n",
      "./datafiles/processed_pdb/2IW9_C.pdb\n",
      "./datafiles/processed_pdb/2J9M_A.pdb\n",
      "./datafiles/processed_pdb/2JGZ_A.pdb\n"
     ]
    },
    {
     "name": "stderr",
     "output_type": "stream",
     "text": [
      "@> 290 atoms and 1 coordinate set(s) were parsed in 0.01s.\n",
      "@> 287 atoms and 1 coordinate set(s) were parsed in 0.01s.\n",
      "@> 289 atoms and 1 coordinate set(s) were parsed in 0.01s.\n",
      "@> 289 atoms and 1 coordinate set(s) were parsed in 0.01s.\n",
      "@> 278 atoms and 1 coordinate set(s) were parsed in 0.01s.\n",
      "@> 277 atoms and 1 coordinate set(s) were parsed in 0.01s.\n",
      "@> 275 atoms and 1 coordinate set(s) were parsed in 0.01s.\n",
      "@> 278 atoms and 1 coordinate set(s) were parsed in 0.01s.\n"
     ]
    },
    {
     "name": "stdout",
     "output_type": "stream",
     "text": [
      "./datafiles/processed_pdb/2R3F_A.pdb\n",
      "./datafiles/processed_pdb/2R3G_A.pdb\n",
      "./datafiles/processed_pdb/2R3H_A.pdb\n",
      "./datafiles/processed_pdb/2R3I_A.pdb\n",
      "./datafiles/processed_pdb/2R3J_A.pdb\n",
      "./datafiles/processed_pdb/2R3K_A.pdb\n",
      "./datafiles/processed_pdb/2R3L_A.pdb\n",
      "./datafiles/processed_pdb/2R3M_A.pdb\n",
      "./datafiles/processed_pdb/2R3N_A.pdb\n"
     ]
    },
    {
     "name": "stderr",
     "output_type": "stream",
     "text": [
      "@> 275 atoms and 1 coordinate set(s) were parsed in 0.01s.\n",
      "@> 289 atoms and 1 coordinate set(s) were parsed in 0.01s.\n",
      "@> 289 atoms and 1 coordinate set(s) were parsed in 0.01s.\n",
      "@> 286 atoms and 1 coordinate set(s) were parsed in 0.01s.\n",
      "@> 290 atoms and 1 coordinate set(s) were parsed in 0.01s.\n",
      "@> 279 atoms and 1 coordinate set(s) were parsed in 0.01s.\n",
      "@> 296 atoms and 1 coordinate set(s) were parsed in 0.01s.\n",
      "@> 296 atoms and 1 coordinate set(s) were parsed in 0.01s.\n",
      "@> 296 atoms and 1 coordinate set(s) were parsed in 0.01s.\n",
      "@> 293 atoms and 1 coordinate set(s) were parsed in 0.01s.\n"
     ]
    },
    {
     "name": "stdout",
     "output_type": "stream",
     "text": [
      "./datafiles/processed_pdb/2R3O_A.pdb\n",
      "./datafiles/processed_pdb/2R3P_A.pdb\n",
      "./datafiles/processed_pdb/2R3Q_A.pdb\n",
      "./datafiles/processed_pdb/2R3R_A.pdb\n",
      "./datafiles/processed_pdb/2R64_A.pdb\n",
      "./datafiles/processed_pdb/2UUE_A.pdb\n",
      "./datafiles/processed_pdb/2UUE_C.pdb\n",
      "./datafiles/processed_pdb/2UZB_A.pdb\n",
      "./datafiles/processed_pdb/2UZB_C.pdb\n"
     ]
    },
    {
     "name": "stderr",
     "output_type": "stream",
     "text": [
      "@> 296 atoms and 1 coordinate set(s) were parsed in 0.01s.\n",
      "@> 296 atoms and 1 coordinate set(s) were parsed in 0.01s.\n",
      "@> 296 atoms and 1 coordinate set(s) were parsed in 0.01s.\n",
      "@> 296 atoms and 1 coordinate set(s) were parsed in 0.01s.\n",
      "@> 296 atoms and 1 coordinate set(s) were parsed in 0.01s.\n",
      "@> 296 atoms and 1 coordinate set(s) were parsed in 0.01s.\n",
      "@> 279 atoms and 1 coordinate set(s) were parsed in 0.01s.\n",
      "@> 290 atoms and 1 coordinate set(s) were parsed in 0.01s.\n",
      "@> 292 atoms and 1 coordinate set(s) were parsed in 0.01s.\n"
     ]
    },
    {
     "name": "stdout",
     "output_type": "stream",
     "text": [
      "./datafiles/processed_pdb/2UZD_A.pdb\n",
      "./datafiles/processed_pdb/2UZD_C.pdb\n",
      "./datafiles/processed_pdb/2UZE_A.pdb\n",
      "./datafiles/processed_pdb/2UZE_C.pdb\n",
      "./datafiles/processed_pdb/2UZL_A.pdb\n",
      "./datafiles/processed_pdb/2UZL_C.pdb\n",
      "./datafiles/processed_pdb/2UZN_A.pdb\n",
      "./datafiles/processed_pdb/2UZO_A.pdb\n",
      "./datafiles/processed_pdb/2V0D_A.pdb\n"
     ]
    },
    {
     "name": "stderr",
     "output_type": "stream",
     "text": [
      "@> 296 atoms and 1 coordinate set(s) were parsed in 0.01s.\n",
      "@> 296 atoms and 1 coordinate set(s) were parsed in 0.01s.\n",
      "@> 278 atoms and 1 coordinate set(s) were parsed in 0.01s.\n",
      "@> 278 atoms and 1 coordinate set(s) were parsed in 0.01s.\n",
      "@> 280 atoms and 1 coordinate set(s) were parsed in 0.01s.\n",
      "@> 276 atoms and 1 coordinate set(s) were parsed in 0.01s.\n",
      "@> 290 atoms and 1 coordinate set(s) were parsed in 0.01s.\n",
      "@> 290 atoms and 1 coordinate set(s) were parsed in 0.01s.\n",
      "@> 274 atoms and 1 coordinate set(s) were parsed in 0.01s.\n"
     ]
    },
    {
     "name": "stdout",
     "output_type": "stream",
     "text": [
      "./datafiles/processed_pdb/2V22_A.pdb\n",
      "./datafiles/processed_pdb/2V22_C.pdb\n",
      "./datafiles/processed_pdb/2VTA_A.pdb\n",
      "./datafiles/processed_pdb/2VTH_A.pdb\n",
      "./datafiles/processed_pdb/2VTI_A.pdb\n",
      "./datafiles/processed_pdb/2VTJ_A.pdb\n",
      "./datafiles/processed_pdb/2VTL_A.pdb\n",
      "./datafiles/processed_pdb/2VTM_A.pdb\n",
      "./datafiles/processed_pdb/2VTN_A.pdb\n"
     ]
    },
    {
     "name": "stderr",
     "output_type": "stream",
     "text": [
      "@> 283 atoms and 1 coordinate set(s) were parsed in 0.01s.\n",
      "@> 281 atoms and 1 coordinate set(s) were parsed in 0.01s.\n",
      "@> 274 atoms and 1 coordinate set(s) were parsed in 0.01s.\n",
      "@> 290 atoms and 1 coordinate set(s) were parsed in 0.01s.\n",
      "@> 282 atoms and 1 coordinate set(s) were parsed in 0.01s.\n",
      "@> 272 atoms and 1 coordinate set(s) were parsed in 0.01s.\n",
      "@> 285 atoms and 1 coordinate set(s) were parsed in 0.01s.\n",
      "@> 279 atoms and 1 coordinate set(s) were parsed in 0.01s.\n",
      "@> 276 atoms and 1 coordinate set(s) were parsed in 0.01s.\n"
     ]
    },
    {
     "name": "stdout",
     "output_type": "stream",
     "text": [
      "./datafiles/processed_pdb/2VTO_A.pdb\n",
      "./datafiles/processed_pdb/2VTP_A.pdb\n",
      "./datafiles/processed_pdb/2VTQ_A.pdb\n",
      "./datafiles/processed_pdb/2VTR_A.pdb\n",
      "./datafiles/processed_pdb/2VTS_A.pdb\n",
      "./datafiles/processed_pdb/2VTT_A.pdb\n",
      "./datafiles/processed_pdb/2VU3_A.pdb\n",
      "./datafiles/processed_pdb/2VV9_A.pdb\n",
      "./datafiles/processed_pdb/2W05_A.pdb\n"
     ]
    },
    {
     "name": "stderr",
     "output_type": "stream",
     "text": [
      "@> 282 atoms and 1 coordinate set(s) were parsed in 0.01s.\n",
      "@> 278 atoms and 1 coordinate set(s) were parsed in 0.01s.\n",
      "@> 283 atoms and 1 coordinate set(s) were parsed in 0.01s.\n",
      "@> 296 atoms and 1 coordinate set(s) were parsed in 0.01s.\n",
      "@> 296 atoms and 1 coordinate set(s) were parsed in 0.01s.\n",
      "@> 295 atoms and 1 coordinate set(s) were parsed in 0.01s.\n",
      "@> 296 atoms and 1 coordinate set(s) were parsed in 0.01s.\n",
      "@> 296 atoms and 1 coordinate set(s) were parsed in 0.01s.\n",
      "@> 296 atoms and 1 coordinate set(s) were parsed in 0.01s.\n"
     ]
    },
    {
     "name": "stdout",
     "output_type": "stream",
     "text": [
      "./datafiles/processed_pdb/2W06_A.pdb\n",
      "./datafiles/processed_pdb/2W17_A.pdb\n",
      "./datafiles/processed_pdb/2W1H_A.pdb\n",
      "./datafiles/processed_pdb/2WEV_A.pdb\n",
      "./datafiles/processed_pdb/2WEV_C.pdb\n",
      "./datafiles/processed_pdb/2WFY_A.pdb\n",
      "./datafiles/processed_pdb/2WFY_C.pdb\n",
      "./datafiles/processed_pdb/2WHB_A.pdb\n",
      "./datafiles/processed_pdb/2WHB_C.pdb\n"
     ]
    },
    {
     "name": "stderr",
     "output_type": "stream",
     "text": [
      "@> 302 atoms and 1 coordinate set(s) were parsed in 0.01s.\n",
      "@> 299 atoms and 1 coordinate set(s) were parsed in 0.01s.\n",
      "@> 297 atoms and 1 coordinate set(s) were parsed in 0.01s.\n",
      "@> 292 atoms and 1 coordinate set(s) were parsed in 0.01s.\n",
      "@> 297 atoms and 1 coordinate set(s) were parsed in 0.01s.\n",
      "@> 266 atoms and 1 coordinate set(s) were parsed in 0.01s.\n",
      "@> 297 atoms and 1 coordinate set(s) were parsed in 0.01s.\n",
      "@> 267 atoms and 1 coordinate set(s) were parsed in 0.01s.\n",
      "@> 302 atoms and 1 coordinate set(s) were parsed in 0.01s.\n"
     ]
    },
    {
     "name": "stdout",
     "output_type": "stream",
     "text": [
      "./datafiles/processed_pdb/2WIH_A.pdb\n",
      "./datafiles/processed_pdb/2WIH_C.pdb\n",
      "./datafiles/processed_pdb/2WIP_A.pdb\n",
      "./datafiles/processed_pdb/2WIP_C.pdb\n",
      "./datafiles/processed_pdb/2WMA_A.pdb\n",
      "./datafiles/processed_pdb/2WMA_C.pdb\n",
      "./datafiles/processed_pdb/2WMB_A.pdb\n",
      "./datafiles/processed_pdb/2WMB_C.pdb\n",
      "./datafiles/processed_pdb/2WPA_A.pdb\n"
     ]
    },
    {
     "name": "stderr",
     "output_type": "stream",
     "text": [
      "@> 299 atoms and 1 coordinate set(s) were parsed in 0.01s.\n",
      "@> 302 atoms and 1 coordinate set(s) were parsed in 0.01s.\n",
      "@> 299 atoms and 1 coordinate set(s) were parsed in 0.01s.\n",
      "@> 296 atoms and 1 coordinate set(s) were parsed in 0.01s.\n",
      "@> 296 atoms and 1 coordinate set(s) were parsed in 0.01s.\n",
      "@> 295 atoms and 1 coordinate set(s) were parsed in 0.01s.\n",
      "@> 296 atoms and 1 coordinate set(s) were parsed in 0.01s.\n",
      "@> 298 atoms and 1 coordinate set(s) were parsed in 0.01s.\n",
      "@> 271 atoms and 1 coordinate set(s) were parsed in 0.01s.\n"
     ]
    },
    {
     "name": "stdout",
     "output_type": "stream",
     "text": [
      "./datafiles/processed_pdb/2WPA_C.pdb\n",
      "./datafiles/processed_pdb/2WXV_A.pdb\n",
      "./datafiles/processed_pdb/2WXV_C.pdb\n",
      "./datafiles/processed_pdb/2X1N_A.pdb\n",
      "./datafiles/processed_pdb/2X1N_C.pdb\n",
      "./datafiles/processed_pdb/2XMY_A.pdb\n",
      "./datafiles/processed_pdb/2XNB_A.pdb\n",
      "./datafiles/processed_pdb/3BHT_A.pdb\n",
      "./datafiles/processed_pdb/3BHT_C.pdb\n"
     ]
    },
    {
     "name": "stderr",
     "output_type": "stream",
     "text": [
      "@> 298 atoms and 1 coordinate set(s) were parsed in 0.01s.\n",
      "@> 272 atoms and 1 coordinate set(s) were parsed in 0.01s.\n",
      "@> 298 atoms and 1 coordinate set(s) were parsed in 0.01s.\n",
      "@> 272 atoms and 1 coordinate set(s) were parsed in 0.01s.\n",
      "@> 298 atoms and 1 coordinate set(s) were parsed in 0.01s.\n",
      "@> 299 atoms and 1 coordinate set(s) were parsed in 0.01s.\n",
      "@> 297 atoms and 1 coordinate set(s) were parsed in 0.01s.\n",
      "@> 267 atoms and 1 coordinate set(s) were parsed in 0.01s.\n",
      "@> 298 atoms and 1 coordinate set(s) were parsed in 0.01s.\n"
     ]
    },
    {
     "name": "stdout",
     "output_type": "stream",
     "text": [
      "./datafiles/processed_pdb/3BHU_A.pdb\n",
      "./datafiles/processed_pdb/3BHU_C.pdb\n",
      "./datafiles/processed_pdb/3BHV_A.pdb\n",
      "./datafiles/processed_pdb/3BHV_C.pdb\n",
      "./datafiles/processed_pdb/3DDP_A.pdb\n",
      "./datafiles/processed_pdb/3DDP_C.pdb\n",
      "./datafiles/processed_pdb/3DDQ_A.pdb\n",
      "./datafiles/processed_pdb/3DDQ_C.pdb\n",
      "./datafiles/processed_pdb/3DOG_A.pdb\n"
     ]
    },
    {
     "name": "stderr",
     "output_type": "stream",
     "text": [
      "@> 268 atoms and 1 coordinate set(s) were parsed in 0.01s.\n",
      "@> 292 atoms and 1 coordinate set(s) were parsed in 0.01s.\n",
      "@> 290 atoms and 1 coordinate set(s) were parsed in 0.01s.\n",
      "@> 295 atoms and 1 coordinate set(s) were parsed in 0.01s.\n",
      "@> 294 atoms and 1 coordinate set(s) were parsed in 0.01s.\n",
      "@> 295 atoms and 1 coordinate set(s) were parsed in 0.01s.\n",
      "@> 293 atoms and 1 coordinate set(s) were parsed in 0.01s.\n",
      "@> 273 atoms and 1 coordinate set(s) were parsed in 0.01s.\n"
     ]
    },
    {
     "name": "stdout",
     "output_type": "stream",
     "text": [
      "./datafiles/processed_pdb/3DOG_C.pdb\n",
      "./datafiles/processed_pdb/3EID_A.pdb\n",
      "./datafiles/processed_pdb/3EID_C.pdb\n",
      "./datafiles/processed_pdb/3EJ1_A.pdb\n",
      "./datafiles/processed_pdb/3EJ1_C.pdb\n",
      "./datafiles/processed_pdb/3EOC_A.pdb\n",
      "./datafiles/processed_pdb/3EOC_C.pdb\n",
      "./datafiles/processed_pdb/3EZR_A.pdb\n",
      "./datafiles/processed_pdb/3EZV_A.pdb\n"
     ]
    },
    {
     "name": "stderr",
     "output_type": "stream",
     "text": [
      "@> 277 atoms and 1 coordinate set(s) were parsed in 0.01s.\n",
      "@> 297 atoms and 1 coordinate set(s) were parsed in 0.01s.\n",
      "@> 298 atoms and 1 coordinate set(s) were parsed in 0.01s.\n",
      "@> 284 atoms and 1 coordinate set(s) were parsed in 0.01s.\n",
      "@> 278 atoms and 1 coordinate set(s) were parsed in 0.01s.\n",
      "@> 290 atoms and 1 coordinate set(s) were parsed in 0.01s.\n",
      "@> 283 atoms and 1 coordinate set(s) were parsed in 0.01s.\n",
      "@> 285 atoms and 1 coordinate set(s) were parsed in 0.01s.\n",
      "@> 289 atoms and 1 coordinate set(s) were parsed in 0.01s.\n",
      "@> 290 atoms and 1 coordinate set(s) were parsed in 0.01s.\n"
     ]
    },
    {
     "name": "stdout",
     "output_type": "stream",
     "text": [
      "./datafiles/processed_pdb/3F5X_A.pdb\n",
      "./datafiles/processed_pdb/3F5X_C.pdb\n",
      "./datafiles/processed_pdb/3FZ1_A.pdb\n",
      "./datafiles/processed_pdb/3IG7_A.pdb\n",
      "./datafiles/processed_pdb/3IGG_A.pdb\n",
      "./datafiles/processed_pdb/3LE6_A.pdb\n",
      "./datafiles/processed_pdb/3LFN_A.pdb\n",
      "./datafiles/processed_pdb/3LFQ_A.pdb\n",
      "./datafiles/processed_pdb/3LFS_A.pdb\n"
     ]
    },
    {
     "name": "stderr",
     "output_type": "stream",
     "text": [
      "@> 297 atoms and 1 coordinate set(s) were parsed in 0.01s.\n",
      "@> 267 atoms and 1 coordinate set(s) were parsed in 0.01s.\n",
      "@> 289 atoms and 1 coordinate set(s) were parsed in 0.01s.\n",
      "@> 288 atoms and 1 coordinate set(s) were parsed in 0.01s.\n",
      "@> 302 atoms and 1 coordinate set(s) were parsed in 0.01s.\n",
      "@> 298 atoms and 1 coordinate set(s) were parsed in 0.01s.\n",
      "@> 294 atoms and 1 coordinate set(s) were parsed in 0.01s.\n",
      "@> 294 atoms and 1 coordinate set(s) were parsed in 0.01s.\n",
      "@> 302 atoms and 1 coordinate set(s) were parsed in 0.01s.\n"
     ]
    },
    {
     "name": "stdout",
     "output_type": "stream",
     "text": [
      "./datafiles/processed_pdb/3MY5_A.pdb\n",
      "./datafiles/processed_pdb/3MY5_C.pdb\n",
      "./datafiles/processed_pdb/3NS9_A.pdb\n",
      "./datafiles/processed_pdb/3PJ8_A.pdb\n",
      "./datafiles/processed_pdb/3PXF_A.pdb\n",
      "./datafiles/processed_pdb/3PXQ_A.pdb\n",
      "./datafiles/processed_pdb/3PXR_A.pdb\n",
      "./datafiles/processed_pdb/3PXY_A.pdb\n",
      "./datafiles/processed_pdb/3PXZ_A.pdb\n"
     ]
    },
    {
     "name": "stderr",
     "output_type": "stream",
     "text": [
      "@> 294 atoms and 1 coordinate set(s) were parsed in 0.01s.\n",
      "@> 302 atoms and 1 coordinate set(s) were parsed in 0.01s.\n",
      "@> 298 atoms and 1 coordinate set(s) were parsed in 0.01s.\n",
      "@> 298 atoms and 1 coordinate set(s) were parsed in 0.01s.\n",
      "@> 298 atoms and 1 coordinate set(s) were parsed in 0.01s.\n",
      "@> 298 atoms and 1 coordinate set(s) were parsed in 0.01s.\n",
      "@> 294 atoms and 1 coordinate set(s) were parsed in 0.01s.\n",
      "@> 294 atoms and 1 coordinate set(s) were parsed in 0.01s.\n"
     ]
    },
    {
     "name": "stdout",
     "output_type": "stream",
     "text": [
      "./datafiles/processed_pdb/3PY0_A.pdb\n",
      "./datafiles/processed_pdb/3PY1_A.pdb\n",
      "./datafiles/processed_pdb/3QHR_A.pdb\n",
      "./datafiles/processed_pdb/3QHR_C.pdb\n",
      "./datafiles/processed_pdb/3QHW_A.pdb\n",
      "./datafiles/processed_pdb/3QHW_C.pdb\n",
      "./datafiles/processed_pdb/3QL8_A.pdb\n",
      "./datafiles/processed_pdb/3QQF_A.pdb\n",
      "./datafiles/processed_pdb/3QQG_A.pdb\n"
     ]
    },
    {
     "name": "stderr",
     "output_type": "stream",
     "text": [
      "@> 294 atoms and 1 coordinate set(s) were parsed in 0.01s.\n",
      "@> 294 atoms and 1 coordinate set(s) were parsed in 0.01s.\n",
      "@> 294 atoms and 1 coordinate set(s) were parsed in 0.01s.\n",
      "@> 294 atoms and 1 coordinate set(s) were parsed in 0.01s.\n",
      "@> 294 atoms and 1 coordinate set(s) were parsed in 0.01s.\n",
      "@> 294 atoms and 1 coordinate set(s) were parsed in 0.01s.\n",
      "@> 295 atoms and 1 coordinate set(s) were parsed in 0.01s.\n",
      "@> 294 atoms and 1 coordinate set(s) were parsed in 0.01s.\n",
      "@> 282 atoms and 1 coordinate set(s) were parsed in 0.01s.\n",
      "@> 282 atoms and 1 coordinate set(s) were parsed in 0.01s.\n"
     ]
    },
    {
     "name": "stdout",
     "output_type": "stream",
     "text": [
      "./datafiles/processed_pdb/3QQH_A.pdb\n",
      "./datafiles/processed_pdb/3QQJ_A.pdb\n",
      "./datafiles/processed_pdb/3QQK_A.pdb\n",
      "./datafiles/processed_pdb/3QQL_A.pdb\n",
      "./datafiles/processed_pdb/3QRT_A.pdb\n",
      "./datafiles/processed_pdb/3QRU_A.pdb\n",
      "./datafiles/processed_pdb/3QTQ_A.pdb\n",
      "./datafiles/processed_pdb/3QTR_A.pdb\n",
      "./datafiles/processed_pdb/3QTS_A.pdb\n"
     ]
    },
    {
     "name": "stderr",
     "output_type": "stream",
     "text": [
      "@> 294 atoms and 1 coordinate set(s) were parsed in 0.01s.\n",
      "@> 294 atoms and 1 coordinate set(s) were parsed in 0.01s.\n",
      "@> 294 atoms and 1 coordinate set(s) were parsed in 0.01s.\n",
      "@> 294 atoms and 1 coordinate set(s) were parsed in 0.01s.\n",
      "@> 294 atoms and 1 coordinate set(s) were parsed in 0.01s.\n",
      "@> 294 atoms and 1 coordinate set(s) were parsed in 0.01s.\n",
      "@> 294 atoms and 1 coordinate set(s) were parsed in 0.01s.\n",
      "@> 294 atoms and 1 coordinate set(s) were parsed in 0.01s.\n",
      "@> 294 atoms and 1 coordinate set(s) were parsed in 0.01s.\n"
     ]
    },
    {
     "name": "stdout",
     "output_type": "stream",
     "text": [
      "./datafiles/processed_pdb/3QTU_A.pdb\n",
      "./datafiles/processed_pdb/3QTW_A.pdb\n",
      "./datafiles/processed_pdb/3QTX_A.pdb\n",
      "./datafiles/processed_pdb/3QTZ_A.pdb\n",
      "./datafiles/processed_pdb/3QU0_A.pdb\n",
      "./datafiles/processed_pdb/3QWJ_A.pdb\n",
      "./datafiles/processed_pdb/3QWK_A.pdb\n",
      "./datafiles/processed_pdb/3QX2_A.pdb\n",
      "./datafiles/processed_pdb/3QX4_A.pdb\n"
     ]
    },
    {
     "name": "stderr",
     "output_type": "stream",
     "text": [
      "@> 294 atoms and 1 coordinate set(s) were parsed in 0.01s.\n",
      "@> 294 atoms and 1 coordinate set(s) were parsed in 0.01s.\n",
      "@> 294 atoms and 1 coordinate set(s) were parsed in 0.01s.\n",
      "@> 294 atoms and 1 coordinate set(s) were parsed in 0.01s.\n",
      "@> 294 atoms and 1 coordinate set(s) were parsed in 0.01s.\n",
      "@> 294 atoms and 1 coordinate set(s) were parsed in 0.01s.\n",
      "@> 294 atoms and 1 coordinate set(s) were parsed in 0.01s.\n",
      "@> 294 atoms and 1 coordinate set(s) were parsed in 0.01s.\n",
      "@> 294 atoms and 1 coordinate set(s) were parsed in 0.01s.\n"
     ]
    },
    {
     "name": "stdout",
     "output_type": "stream",
     "text": [
      "./datafiles/processed_pdb/3QXO_A.pdb\n",
      "./datafiles/processed_pdb/3QXP_A.pdb\n",
      "./datafiles/processed_pdb/3QZF_A.pdb\n",
      "./datafiles/processed_pdb/3QZG_A.pdb\n",
      "./datafiles/processed_pdb/3QZH_A.pdb\n",
      "./datafiles/processed_pdb/3QZI_A.pdb\n",
      "./datafiles/processed_pdb/3R1Q_A.pdb\n",
      "./datafiles/processed_pdb/3R1S_A.pdb\n",
      "./datafiles/processed_pdb/3R1Y_A.pdb\n"
     ]
    },
    {
     "name": "stderr",
     "output_type": "stream",
     "text": [
      "@> 294 atoms and 1 coordinate set(s) were parsed in 0.01s.\n",
      "@> 294 atoms and 1 coordinate set(s) were parsed in 0.01s.\n",
      "@> 294 atoms and 1 coordinate set(s) were parsed in 0.01s.\n",
      "@> 294 atoms and 1 coordinate set(s) were parsed in 0.01s.\n",
      "@> 294 atoms and 1 coordinate set(s) were parsed in 0.01s.\n",
      "@> 282 atoms and 1 coordinate set(s) were parsed in 0.01s.\n",
      "@> 282 atoms and 1 coordinate set(s) were parsed in 0.01s.\n",
      "@> 294 atoms and 1 coordinate set(s) were parsed in 0.01s.\n",
      "@> 294 atoms and 1 coordinate set(s) were parsed in 0.01s.\n"
     ]
    },
    {
     "name": "stdout",
     "output_type": "stream",
     "text": [
      "./datafiles/processed_pdb/3R28_A.pdb\n",
      "./datafiles/processed_pdb/3R6X_A.pdb\n",
      "./datafiles/processed_pdb/3R71_A.pdb\n",
      "./datafiles/processed_pdb/3R73_A.pdb\n",
      "./datafiles/processed_pdb/3R7E_A.pdb\n",
      "./datafiles/processed_pdb/3R7I_A.pdb\n",
      "./datafiles/processed_pdb/3R7U_A.pdb\n",
      "./datafiles/processed_pdb/3R7V_A.pdb\n",
      "./datafiles/processed_pdb/3R7Y_A.pdb\n"
     ]
    },
    {
     "name": "stderr",
     "output_type": "stream",
     "text": [
      "@> 294 atoms and 1 coordinate set(s) were parsed in 0.01s.\n",
      "@> 294 atoms and 1 coordinate set(s) were parsed in 0.01s.\n",
      "@> 286 atoms and 1 coordinate set(s) were parsed in 0.01s.\n",
      "@> 294 atoms and 1 coordinate set(s) were parsed in 0.01s.\n",
      "@> 294 atoms and 1 coordinate set(s) were parsed in 0.01s.\n",
      "@> 294 atoms and 1 coordinate set(s) were parsed in 0.01s.\n",
      "@> 290 atoms and 1 coordinate set(s) were parsed in 0.01s.\n",
      "@> 294 atoms and 1 coordinate set(s) were parsed in 0.01s.\n",
      "@> 294 atoms and 1 coordinate set(s) were parsed in 0.01s.\n"
     ]
    },
    {
     "name": "stdout",
     "output_type": "stream",
     "text": [
      "./datafiles/processed_pdb/3R83_A.pdb\n",
      "./datafiles/processed_pdb/3R8L_A.pdb\n",
      "./datafiles/processed_pdb/3R8M_A.pdb\n",
      "./datafiles/processed_pdb/3R8P_A.pdb\n",
      "./datafiles/processed_pdb/3R8U_A.pdb\n",
      "./datafiles/processed_pdb/3R8V_A.pdb\n",
      "./datafiles/processed_pdb/3R8Z_A.pdb\n",
      "./datafiles/processed_pdb/3R9D_A.pdb\n",
      "./datafiles/processed_pdb/3R9H_A.pdb\n"
     ]
    },
    {
     "name": "stderr",
     "output_type": "stream",
     "text": [
      "@> 282 atoms and 1 coordinate set(s) were parsed in 0.01s.\n",
      "@> 282 atoms and 1 coordinate set(s) were parsed in 0.01s.\n",
      "@> 282 atoms and 1 coordinate set(s) were parsed in 0.01s.\n",
      "@> 294 atoms and 1 coordinate set(s) were parsed in 0.01s.\n",
      "@> 277 atoms and 1 coordinate set(s) were parsed in 0.01s.\n",
      "@> 277 atoms and 1 coordinate set(s) were parsed in 0.01s.\n",
      "@> 294 atoms and 1 coordinate set(s) were parsed in 0.01s.\n",
      "@> 294 atoms and 1 coordinate set(s) were parsed in 0.01s.\n",
      "@> 294 atoms and 1 coordinate set(s) were parsed in 0.01s.\n"
     ]
    },
    {
     "name": "stdout",
     "output_type": "stream",
     "text": [
      "./datafiles/processed_pdb/3R9N_A.pdb\n",
      "./datafiles/processed_pdb/3R9O_A.pdb\n",
      "./datafiles/processed_pdb/3RAH_A.pdb\n",
      "./datafiles/processed_pdb/3RAI_A.pdb\n",
      "./datafiles/processed_pdb/3RAK_A.pdb\n",
      "./datafiles/processed_pdb/3RAL_A.pdb\n",
      "./datafiles/processed_pdb/3RJC_A.pdb\n",
      "./datafiles/processed_pdb/3RK5_A.pdb\n",
      "./datafiles/processed_pdb/3RK7_A.pdb\n"
     ]
    },
    {
     "name": "stderr",
     "output_type": "stream",
     "text": [
      "@> 294 atoms and 1 coordinate set(s) were parsed in 0.01s.\n",
      "@> 294 atoms and 1 coordinate set(s) were parsed in 0.01s.\n",
      "@> 293 atoms and 1 coordinate set(s) were parsed in 0.01s.\n",
      "@> 294 atoms and 1 coordinate set(s) were parsed in 0.01s.\n",
      "@> 278 atoms and 1 coordinate set(s) were parsed in 0.01s.\n",
      "@> 294 atoms and 1 coordinate set(s) were parsed in 0.01s.\n",
      "@> 294 atoms and 1 coordinate set(s) were parsed in 0.01s.\n",
      "@> 294 atoms and 1 coordinate set(s) were parsed in 0.01s.\n",
      "@> 282 atoms and 1 coordinate set(s) were parsed in 0.01s.\n"
     ]
    },
    {
     "name": "stdout",
     "output_type": "stream",
     "text": [
      "./datafiles/processed_pdb/3RK9_A.pdb\n",
      "./datafiles/processed_pdb/3RKB_A.pdb\n",
      "./datafiles/processed_pdb/3RM6_A.pdb\n",
      "./datafiles/processed_pdb/3RM7_A.pdb\n",
      "./datafiles/processed_pdb/3RMF_A.pdb\n",
      "./datafiles/processed_pdb/3RNI_A.pdb\n",
      "./datafiles/processed_pdb/3ROY_A.pdb\n",
      "./datafiles/processed_pdb/3RPO_A.pdb\n",
      "./datafiles/processed_pdb/3RPR_A.pdb\n"
     ]
    },
    {
     "name": "stderr",
     "output_type": "stream",
     "text": [
      "@> 294 atoms and 1 coordinate set(s) were parsed in 0.01s.\n",
      "@> 277 atoms and 1 coordinate set(s) were parsed in 0.01s.\n",
      "@> 282 atoms and 1 coordinate set(s) were parsed in 0.01s.\n",
      "@> 294 atoms and 1 coordinate set(s) were parsed in 0.01s.\n",
      "@> 293 atoms and 1 coordinate set(s) were parsed in 0.01s.\n",
      "@> 277 atoms and 1 coordinate set(s) were parsed in 0.01s.\n",
      "@> 279 atoms and 1 coordinate set(s) were parsed in 0.01s.\n",
      "@> 288 atoms and 1 coordinate set(s) were parsed in 0.01s.\n",
      "@> 279 atoms and 1 coordinate set(s) were parsed in 0.01s.\n"
     ]
    },
    {
     "name": "stdout",
     "output_type": "stream",
     "text": [
      "./datafiles/processed_pdb/3RPV_A.pdb\n",
      "./datafiles/processed_pdb/3RPY_A.pdb\n",
      "./datafiles/processed_pdb/3RZB_A.pdb\n",
      "./datafiles/processed_pdb/3S00_A.pdb\n",
      "./datafiles/processed_pdb/3S0O_A.pdb\n",
      "./datafiles/processed_pdb/3S1H_A.pdb\n",
      "./datafiles/processed_pdb/3S2P_A.pdb\n",
      "./datafiles/processed_pdb/3SQQ_A.pdb\n",
      "./datafiles/processed_pdb/3SW4_A.pdb\n"
     ]
    },
    {
     "name": "stderr",
     "output_type": "stream",
     "text": [
      "@> 278 atoms and 1 coordinate set(s) were parsed in 0.01s.\n",
      "@> 294 atoms and 1 coordinate set(s) were parsed in 0.01s.\n",
      "@> 293 atoms and 1 coordinate set(s) were parsed in 0.01s.\n",
      "@> 293 atoms and 1 coordinate set(s) were parsed in 0.01s.\n",
      "@> 296 atoms and 1 coordinate set(s) were parsed in 0.01s.\n",
      "@> 292 atoms and 1 coordinate set(s) were parsed in 0.01s.\n",
      "@> 286 atoms and 1 coordinate set(s) were parsed in 0.01s.\n",
      "@> 294 atoms and 1 coordinate set(s) were parsed in 0.01s.\n",
      "@> 295 atoms and 1 coordinate set(s) were parsed in 0.01s.\n"
     ]
    },
    {
     "name": "stdout",
     "output_type": "stream",
     "text": [
      "./datafiles/processed_pdb/3SW7_A.pdb\n",
      "./datafiles/processed_pdb/3TI1_A.pdb\n",
      "./datafiles/processed_pdb/3TIY_A.pdb\n",
      "./datafiles/processed_pdb/3TIZ_A.pdb\n",
      "./datafiles/processed_pdb/3TNW_A.pdb\n",
      "./datafiles/processed_pdb/3TNW_C.pdb\n",
      "./datafiles/processed_pdb/3ULI_A.pdb\n",
      "./datafiles/processed_pdb/3UNJ_A.pdb\n",
      "./datafiles/processed_pdb/3UNK_A.pdb\n"
     ]
    },
    {
     "name": "stderr",
     "output_type": "stream",
     "text": [
      "@> 283 atoms and 1 coordinate set(s) were parsed in 0.01s.\n",
      "@> 277 atoms and 1 coordinate set(s) were parsed in 0.01s.\n",
      "@> 299 atoms and 1 coordinate set(s) were parsed in 0.01s.\n",
      "@> 294 atoms and 1 coordinate set(s) were parsed in 0.01s.\n",
      "@> 296 atoms and 1 coordinate set(s) were parsed in 0.01s.\n",
      "@> 295 atoms and 1 coordinate set(s) were parsed in 0.01s.\n",
      "@> 297 atoms and 1 coordinate set(s) were parsed in 0.01s.\n",
      "@> 296 atoms and 1 coordinate set(s) were parsed in 0.01s.\n",
      "@> 299 atoms and 1 coordinate set(s) were parsed in 0.01s.\n"
     ]
    },
    {
     "name": "stdout",
     "output_type": "stream",
     "text": [
      "./datafiles/processed_pdb/3WBL_A.pdb\n",
      "./datafiles/processed_pdb/4ACM_A.pdb\n",
      "./datafiles/processed_pdb/4BCK_A.pdb\n",
      "./datafiles/processed_pdb/4BCK_C.pdb\n",
      "./datafiles/processed_pdb/4BCM_A.pdb\n",
      "./datafiles/processed_pdb/4BCM_C.pdb\n",
      "./datafiles/processed_pdb/4BCN_A.pdb\n",
      "./datafiles/processed_pdb/4BCN_C.pdb\n",
      "./datafiles/processed_pdb/4BCO_A.pdb\n"
     ]
    },
    {
     "name": "stderr",
     "output_type": "stream",
     "text": [
      "@> 270 atoms and 1 coordinate set(s) were parsed in 0.01s.\n",
      "@> 299 atoms and 1 coordinate set(s) were parsed in 0.01s.\n",
      "@> 268 atoms and 1 coordinate set(s) were parsed in 0.01s.\n",
      "@> 293 atoms and 1 coordinate set(s) were parsed in 0.01s.\n",
      "@> 293 atoms and 1 coordinate set(s) were parsed in 0.01s.\n",
      "@> 275 atoms and 1 coordinate set(s) were parsed in 0.01s.\n",
      "@> 277 atoms and 1 coordinate set(s) were parsed in 0.01s.\n",
      "@> 297 atoms and 1 coordinate set(s) were parsed in 0.01s.\n",
      "@> 267 atoms and 1 coordinate set(s) were parsed in 0.01s.\n"
     ]
    },
    {
     "name": "stdout",
     "output_type": "stream",
     "text": [
      "./datafiles/processed_pdb/4BCO_C.pdb\n",
      "./datafiles/processed_pdb/4BCP_A.pdb\n",
      "./datafiles/processed_pdb/4BCP_C.pdb\n",
      "./datafiles/processed_pdb/4BCQ_A.pdb\n",
      "./datafiles/processed_pdb/4BCQ_C.pdb\n",
      "./datafiles/processed_pdb/4BGH_A.pdb\n",
      "./datafiles/processed_pdb/4BZD_A.pdb\n",
      "./datafiles/processed_pdb/4CFM_A.pdb\n",
      "./datafiles/processed_pdb/4CFM_C.pdb\n"
     ]
    },
    {
     "name": "stderr",
     "output_type": "stream",
     "text": [
      "@> 297 atoms and 1 coordinate set(s) were parsed in 0.01s.\n",
      "@> 297 atoms and 1 coordinate set(s) were parsed in 0.01s.\n",
      "@> 300 atoms and 1 coordinate set(s) were parsed in 0.01s.\n",
      "@> 273 atoms and 1 coordinate set(s) were parsed in 0.01s.\n",
      "@> 301 atoms and 1 coordinate set(s) were parsed in 0.01s.\n",
      "@> 265 atoms and 1 coordinate set(s) were parsed in 0.01s.\n",
      "@> 300 atoms and 1 coordinate set(s) were parsed in 0.01s.\n",
      "@> 298 atoms and 1 coordinate set(s) were parsed in 0.01s.\n",
      "@> 299 atoms and 1 coordinate set(s) were parsed in 0.01s.\n"
     ]
    },
    {
     "name": "stdout",
     "output_type": "stream",
     "text": [
      "./datafiles/processed_pdb/4CFN_A.pdb\n",
      "./datafiles/processed_pdb/4CFN_C.pdb\n",
      "./datafiles/processed_pdb/4CFU_A.pdb\n",
      "./datafiles/processed_pdb/4CFU_C.pdb\n",
      "./datafiles/processed_pdb/4CFV_A.pdb\n",
      "./datafiles/processed_pdb/4CFV_C.pdb\n",
      "./datafiles/processed_pdb/4CFW_A.pdb\n",
      "./datafiles/processed_pdb/4CFW_C.pdb\n",
      "./datafiles/processed_pdb/4CFX_A.pdb\n"
     ]
    },
    {
     "name": "stderr",
     "output_type": "stream",
     "text": [
      "@> 299 atoms and 1 coordinate set(s) were parsed in 0.01s.\n",
      "@> 274 atoms and 1 coordinate set(s) were parsed in 0.01s.\n",
      "@> 258 atoms and 1 coordinate set(s) were parsed in 0.01s.\n",
      "@> 287 atoms and 1 coordinate set(s) were parsed in 0.01s.\n",
      "@> 287 atoms and 1 coordinate set(s) were parsed in 0.01s.\n",
      "@> 289 atoms and 1 coordinate set(s) were parsed in 0.01s.\n",
      "@> 278 atoms and 1 coordinate set(s) were parsed in 0.01s.\n",
      "@> 280 atoms and 1 coordinate set(s) were parsed in 0.01s.\n",
      "@> 295 atoms and 1 coordinate set(s) were parsed in 0.01s.\n"
     ]
    },
    {
     "name": "stdout",
     "output_type": "stream",
     "text": [
      "./datafiles/processed_pdb/4CFX_C.pdb\n",
      "./datafiles/processed_pdb/4D1X_A.pdb\n",
      "./datafiles/processed_pdb/4D1Z_A.pdb\n",
      "./datafiles/processed_pdb/4EK3_A.pdb\n",
      "./datafiles/processed_pdb/4EK4_A.pdb\n",
      "./datafiles/processed_pdb/4EK5_A.pdb\n",
      "./datafiles/processed_pdb/4EK6_A.pdb\n",
      "./datafiles/processed_pdb/4EK8_A.pdb\n",
      "./datafiles/processed_pdb/4EOI_A.pdb\n"
     ]
    },
    {
     "name": "stderr",
     "output_type": "stream",
     "text": [
      "@> 297 atoms and 1 coordinate set(s) were parsed in 0.01s.\n",
      "@> 296 atoms and 1 coordinate set(s) were parsed in 0.01s.\n",
      "@> 283 atoms and 1 coordinate set(s) were parsed in 0.01s.\n",
      "@> 294 atoms and 1 coordinate set(s) were parsed in 0.01s.\n",
      "@> 300 atoms and 1 coordinate set(s) were parsed in 0.01s.\n",
      "@> 295 atoms and 1 coordinate set(s) were parsed in 0.01s.\n",
      "@> 300 atoms and 1 coordinate set(s) were parsed in 0.01s.\n",
      "@> 297 atoms and 1 coordinate set(s) were parsed in 0.01s.\n",
      "@> 276 atoms and 1 coordinate set(s) were parsed in 0.01s.\n"
     ]
    },
    {
     "name": "stdout",
     "output_type": "stream",
     "text": [
      "./datafiles/processed_pdb/4EOI_C.pdb\n",
      "./datafiles/processed_pdb/4EOJ_A.pdb\n",
      "./datafiles/processed_pdb/4EOJ_C.pdb\n",
      "./datafiles/processed_pdb/4EOK_A.pdb\n",
      "./datafiles/processed_pdb/4EOK_C.pdb\n",
      "./datafiles/processed_pdb/4EOL_A.pdb\n",
      "./datafiles/processed_pdb/4EOL_C.pdb\n",
      "./datafiles/processed_pdb/4EOM_A.pdb\n",
      "./datafiles/processed_pdb/4EOM_C.pdb\n"
     ]
    },
    {
     "name": "stderr",
     "output_type": "stream",
     "text": [
      "@> 300 atoms and 1 coordinate set(s) were parsed in 0.01s.\n",
      "@> 299 atoms and 1 coordinate set(s) were parsed in 0.01s.\n",
      "@> 295 atoms and 1 coordinate set(s) were parsed in 0.01s.\n",
      "@> 298 atoms and 1 coordinate set(s) were parsed in 0.01s.\n",
      "@> 298 atoms and 1 coordinate set(s) were parsed in 0.01s.\n",
      "@> 297 atoms and 1 coordinate set(s) were parsed in 0.01s.\n",
      "@> 296 atoms and 1 coordinate set(s) were parsed in 0.01s.\n",
      "@> 276 atoms and 1 coordinate set(s) were parsed in 0.01s.\n",
      "@> 294 atoms and 1 coordinate set(s) were parsed in 0.01s.\n"
     ]
    },
    {
     "name": "stdout",
     "output_type": "stream",
     "text": [
      "./datafiles/processed_pdb/4EON_A.pdb\n",
      "./datafiles/processed_pdb/4EON_C.pdb\n",
      "./datafiles/processed_pdb/4EOO_A.pdb\n",
      "./datafiles/processed_pdb/4EOO_C.pdb\n",
      "./datafiles/processed_pdb/4EOP_A.pdb\n",
      "./datafiles/processed_pdb/4EOP_C.pdb\n",
      "./datafiles/processed_pdb/4EOQ_A.pdb\n",
      "./datafiles/processed_pdb/4EOQ_C.pdb\n",
      "./datafiles/processed_pdb/4EOR_A.pdb\n"
     ]
    },
    {
     "name": "stderr",
     "output_type": "stream",
     "text": [
      "@> 271 atoms and 1 coordinate set(s) were parsed in 0.01s.\n",
      "@> 297 atoms and 1 coordinate set(s) were parsed in 0.01s.\n",
      "@> 297 atoms and 1 coordinate set(s) were parsed in 0.01s.\n",
      "@> 292 atoms and 1 coordinate set(s) were parsed in 0.01s.\n",
      "@> 294 atoms and 1 coordinate set(s) were parsed in 0.01s.\n",
      "@> 302 atoms and 1 coordinate set(s) were parsed in 0.01s.\n",
      "@> 286 atoms and 1 coordinate set(s) were parsed in 0.01s.\n",
      "@> 287 atoms and 1 coordinate set(s) were parsed in 0.01s.\n",
      "@> 278 atoms and 1 coordinate set(s) were parsed in 0.01s.\n"
     ]
    },
    {
     "name": "stdout",
     "output_type": "stream",
     "text": [
      "./datafiles/processed_pdb/4EOR_C.pdb\n",
      "./datafiles/processed_pdb/4EOS_A.pdb\n",
      "./datafiles/processed_pdb/4EOS_C.pdb\n",
      "./datafiles/processed_pdb/4ERW_A.pdb\n",
      "./datafiles/processed_pdb/4EZ3_A.pdb\n",
      "./datafiles/processed_pdb/4EZ7_A.pdb\n",
      "./datafiles/processed_pdb/4FKG_A.pdb\n",
      "./datafiles/processed_pdb/4FKI_A.pdb\n",
      "./datafiles/processed_pdb/4FKJ_A.pdb\n"
     ]
    },
    {
     "name": "stderr",
     "output_type": "stream",
     "text": [
      "@> 290 atoms and 1 coordinate set(s) were parsed in 0.01s.\n",
      "@> 291 atoms and 1 coordinate set(s) were parsed in 0.01s.\n",
      "@> 279 atoms and 1 coordinate set(s) were parsed in 0.01s.\n",
      "@> 283 atoms and 1 coordinate set(s) were parsed in 0.01s.\n",
      "@> 282 atoms and 1 coordinate set(s) were parsed in 0.01s.\n",
      "@> 275 atoms and 1 coordinate set(s) were parsed in 0.01s.\n",
      "@> 278 atoms and 1 coordinate set(s) were parsed in 0.01s.\n",
      "@> 293 atoms and 1 coordinate set(s) were parsed in 0.01s.\n"
     ]
    },
    {
     "name": "stdout",
     "output_type": "stream",
     "text": [
      "./datafiles/processed_pdb/4FKL_A.pdb\n",
      "./datafiles/processed_pdb/4FKO_A.pdb\n",
      "./datafiles/processed_pdb/4FKP_A.pdb\n",
      "./datafiles/processed_pdb/4FKQ_A.pdb\n",
      "./datafiles/processed_pdb/4FKR_A.pdb\n",
      "./datafiles/processed_pdb/4FKS_A.pdb\n",
      "./datafiles/processed_pdb/4FKT_A.pdb\n",
      "./datafiles/processed_pdb/4FKU_A.pdb\n",
      "./datafiles/processed_pdb/4FKV_A.pdb\n"
     ]
    },
    {
     "name": "stderr",
     "output_type": "stream",
     "text": [
      "@> 282 atoms and 1 coordinate set(s) were parsed in 0.01s.\n",
      "@> 280 atoms and 1 coordinate set(s) were parsed in 0.01s.\n",
      "@> 298 atoms and 1 coordinate set(s) were parsed in 0.01s.\n",
      "@> 298 atoms and 1 coordinate set(s) were parsed in 0.01s.\n",
      "@> 304 atoms and 1 coordinate set(s) were parsed in 0.01s.\n",
      "@> 296 atoms and 1 coordinate set(s) were parsed in 0.01s.\n",
      "@> 296 atoms and 1 coordinate set(s) were parsed in 0.01s.\n",
      "@> 296 atoms and 1 coordinate set(s) were parsed in 0.01s.\n",
      "@> 296 atoms and 1 coordinate set(s) were parsed in 0.01s.\n",
      "@> 298 atoms and 1 coordinate set(s) were parsed in 0.01s.\n"
     ]
    },
    {
     "name": "stdout",
     "output_type": "stream",
     "text": [
      "./datafiles/processed_pdb/4FKW_A.pdb\n",
      "./datafiles/processed_pdb/4FX3_A.pdb\n",
      "./datafiles/processed_pdb/4FX3_C.pdb\n",
      "./datafiles/processed_pdb/4GCJ_A.pdb\n",
      "./datafiles/processed_pdb/4I3Z_A.pdb\n",
      "./datafiles/processed_pdb/4I3Z_C.pdb\n",
      "./datafiles/processed_pdb/4II5_A.pdb\n",
      "./datafiles/processed_pdb/4II5_C.pdb\n",
      "./datafiles/processed_pdb/4KD1_A.pdb\n"
     ]
    },
    {
     "name": "stderr",
     "output_type": "stream",
     "text": [
      "@> 287 atoms and 1 coordinate set(s) were parsed in 0.01s.\n",
      "@> 277 atoms and 1 coordinate set(s) were parsed in 0.01s.\n",
      "@> 287 atoms and 1 coordinate set(s) were parsed in 0.01s.\n",
      "@> 284 atoms and 1 coordinate set(s) were parsed in 0.01s.\n",
      "@> 273 atoms and 1 coordinate set(s) were parsed in 0.01s.\n",
      "@> 294 atoms and 1 coordinate set(s) were parsed in 0.01s.\n",
      "@> 268 atoms and 1 coordinate set(s) were parsed in 0.01s.\n",
      "@> 280 atoms and 1 coordinate set(s) were parsed in 0.01s.\n",
      "@> 291 atoms and 1 coordinate set(s) were parsed in 0.01s.\n"
     ]
    },
    {
     "name": "stdout",
     "output_type": "stream",
     "text": [
      "./datafiles/processed_pdb/4LYN_A.pdb\n",
      "./datafiles/processed_pdb/4NJ3_A.pdb\n",
      "./datafiles/processed_pdb/4RJ3_A.pdb\n",
      "./datafiles/processed_pdb/5A14_A.pdb\n",
      "./datafiles/processed_pdb/5AND_A.pdb\n",
      "./datafiles/processed_pdb/5ANE_A.pdb\n",
      "./datafiles/processed_pdb/5ANG_A.pdb\n",
      "./datafiles/processed_pdb/5ANI_A.pdb\n",
      "./datafiles/processed_pdb/5ANJ_A.pdb\n"
     ]
    },
    {
     "name": "stderr",
     "output_type": "stream",
     "text": [
      "@> 273 atoms and 1 coordinate set(s) were parsed in 0.01s.\n",
      "@> 277 atoms and 1 coordinate set(s) were parsed in 0.01s.\n",
      "@> 299 atoms and 1 coordinate set(s) were parsed in 0.01s.\n",
      "@> 297 atoms and 1 coordinate set(s) were parsed in 0.01s.\n",
      "@> 265 atoms and 1 coordinate set(s) were parsed in 0.01s.\n",
      "@> 264 atoms and 1 coordinate set(s) were parsed in 0.01s.\n",
      "@> 278 atoms and 1 coordinate set(s) were parsed in 0.01s.\n",
      "@> 284 atoms and 1 coordinate set(s) were parsed in 0.01s.\n",
      "@> 285 atoms and 1 coordinate set(s) were parsed in 0.01s.\n"
     ]
    },
    {
     "name": "stdout",
     "output_type": "stream",
     "text": [
      "./datafiles/processed_pdb/5ANK_A.pdb\n",
      "./datafiles/processed_pdb/5ANO_A.pdb\n",
      "./datafiles/processed_pdb/5CYI_A.pdb\n",
      "./datafiles/processed_pdb/5CYI_C.pdb\n",
      "./datafiles/processed_pdb/5D1J_A.pdb\n",
      "./datafiles/processed_pdb/5FP5_A.pdb\n",
      "./datafiles/processed_pdb/5FP6_A.pdb\n",
      "./datafiles/processed_pdb/5IEV_A.pdb\n",
      "./datafiles/processed_pdb/5IEX_A.pdb\n"
     ]
    },
    {
     "name": "stderr",
     "output_type": "stream",
     "text": [
      "@> 286 atoms and 1 coordinate set(s) were parsed in 0.01s.\n",
      "@> 298 atoms and 1 coordinate set(s) were parsed in 0.01s.\n",
      "@> 296 atoms and 1 coordinate set(s) were parsed in 0.01s.\n",
      "@> 287 atoms and 1 coordinate set(s) were parsed in 0.01s.\n",
      "@> 278 atoms and 1 coordinate set(s) were parsed in 0.01s.\n",
      "@> 282 atoms and 1 coordinate set(s) were parsed in 0.01s.\n"
     ]
    },
    {
     "name": "stdout",
     "output_type": "stream",
     "text": [
      "./datafiles/processed_pdb/5IEY_A.pdb\n",
      "./datafiles/processed_pdb/5IF1_A.pdb\n",
      "./datafiles/processed_pdb/5IF1_C.pdb\n",
      "./datafiles/processed_pdb/5JQ5_A.pdb\n",
      "./datafiles/processed_pdb/5JQ8_A.pdb\n",
      "./datafiles/processed_pdb/5K4J_A.pdb\n"
     ]
    },
    {
     "name": "stderr",
     "output_type": "stream",
     "text": [
      "@> 298 atoms and 1 coordinate set(s) were parsed in 0.01s.\n",
      "@> 297 atoms and 1 coordinate set(s) were parsed in 0.01s.\n",
      "@> 266 atoms and 1 coordinate set(s) were parsed in 0.01s.\n",
      "@> 291 atoms and 1 coordinate set(s) were parsed in 0.01s.\n",
      "@> 296 atoms and 1 coordinate set(s) were parsed in 0.01s.\n",
      "@> 297 atoms and 1 coordinate set(s) were parsed in 0.01s.\n"
     ]
    },
    {
     "name": "stdout",
     "output_type": "stream",
     "text": [
      "./datafiles/processed_pdb/5L2W_A.pdb\n",
      "./datafiles/processed_pdb/5LMK_A.pdb\n",
      "./datafiles/processed_pdb/5LMK_C.pdb\n",
      "./datafiles/processed_pdb/5MHQ_A.pdb\n",
      "./datafiles/processed_pdb/5NEV_A.pdb\n",
      "./datafiles/processed_pdb/5NEV_C.pdb\n",
      "./datafiles/processed_pdb/5OO0_A.pdb\n"
     ]
    },
    {
     "name": "stderr",
     "output_type": "stream",
     "text": [
      "@> 288 atoms and 1 coordinate set(s) were parsed in 0.01s.\n",
      "@> 278 atoms and 1 coordinate set(s) were parsed in 0.01s.\n",
      "@> 286 atoms and 1 coordinate set(s) were parsed in 0.01s.\n",
      "@> 292 atoms and 1 coordinate set(s) were parsed in 0.01s.\n",
      "@> 292 atoms and 1 coordinate set(s) were parsed in 0.01s.\n",
      "@> 288 atoms and 1 coordinate set(s) were parsed in 0.01s.\n",
      "@> 289 atoms and 1 coordinate set(s) were parsed in 0.01s.\n",
      "@> 296 atoms and 1 coordinate set(s) were parsed in 0.01s.\n",
      "@> 270 atoms and 1 coordinate set(s) were parsed in 0.01s.\n",
      "@> 278 atoms and 1 coordinate set(s) were parsed in 0.01s.\n"
     ]
    },
    {
     "name": "stdout",
     "output_type": "stream",
     "text": [
      "./datafiles/processed_pdb/5OO1_A.pdb\n",
      "./datafiles/processed_pdb/5OO3_A.pdb\n",
      "./datafiles/processed_pdb/5OSJ_A.pdb\n",
      "./datafiles/processed_pdb/5OSM_A.pdb\n",
      "./datafiles/processed_pdb/5UQ1_A.pdb\n",
      "./datafiles/processed_pdb/5UQ1_C.pdb\n",
      "./datafiles/processed_pdb/5UQ2_A.pdb\n",
      "./datafiles/processed_pdb/5UQ3_A.pdb\n",
      "./datafiles/processed_pdb/6ATH_A.pdb\n"
     ]
    },
    {
     "name": "stderr",
     "output_type": "stream",
     "text": [
      "@> 294 atoms and 1 coordinate set(s) were parsed in 0.01s.\n",
      "@> 292 atoms and 1 coordinate set(s) were parsed in 0.01s.\n",
      "@> 292 atoms and 1 coordinate set(s) were parsed in 0.01s.\n",
      "@> 297 atoms and 1 coordinate set(s) were parsed in 0.01s.\n",
      "@> 294 atoms and 1 coordinate set(s) were parsed in 0.01s.\n",
      "@> 289 atoms and 1 coordinate set(s) were parsed in 0.01s.\n",
      "@> 296 atoms and 1 coordinate set(s) were parsed in 0.01s.\n",
      "@> 298 atoms and 1 coordinate set(s) were parsed in 0.01s.\n",
      "@> 284 atoms and 1 coordinate set(s) were parsed in 0.01s.\n"
     ]
    },
    {
     "name": "stdout",
     "output_type": "stream",
     "text": [
      "./datafiles/processed_pdb/6GUB_A.pdb\n",
      "./datafiles/processed_pdb/6GUB_C.pdb\n",
      "./datafiles/processed_pdb/6GUC_A.pdb\n",
      "./datafiles/processed_pdb/6GUC_C.pdb\n",
      "./datafiles/processed_pdb/6GUE_A.pdb\n",
      "./datafiles/processed_pdb/6GUE_C.pdb\n",
      "./datafiles/processed_pdb/6GUF_A.pdb\n",
      "./datafiles/processed_pdb/6GUF_C.pdb\n",
      "./datafiles/processed_pdb/6GUH_A.pdb\n"
     ]
    },
    {
     "name": "stderr",
     "output_type": "stream",
     "text": [
      "@> 278 atoms and 1 coordinate set(s) were parsed in 0.01s.\n",
      "@> 288 atoms and 1 coordinate set(s) were parsed in 0.01s.\n",
      "@> 272 atoms and 1 coordinate set(s) were parsed in 0.01s.\n",
      "@> 279 atoms and 1 coordinate set(s) were parsed in 0.01s.\n",
      "@> 290 atoms and 1 coordinate set(s) were parsed in 0.01s.\n",
      "@> 298 atoms and 1 coordinate set(s) were parsed in 0.01s.\n",
      "@> 296 atoms and 1 coordinate set(s) were parsed in 0.01s.\n",
      "@> 283 atoms and 1 coordinate set(s) were parsed in 0.01s.\n",
      "@> 288 atoms and 1 coordinate set(s) were parsed in 0.01s.\n"
     ]
    },
    {
     "name": "stdout",
     "output_type": "stream",
     "text": [
      "./datafiles/processed_pdb/6GUK_A.pdb\n",
      "./datafiles/processed_pdb/6GVA_A.pdb\n",
      "./datafiles/processed_pdb/6INL_A.pdb\n",
      "./datafiles/processed_pdb/6JGM_A.pdb\n",
      "./datafiles/processed_pdb/6OQI_A.pdb\n",
      "./datafiles/processed_pdb/6P3W_A.pdb\n",
      "./datafiles/processed_pdb/6P3W_C.pdb\n",
      "./datafiles/processed_pdb/6Q3B_A.pdb\n",
      "./datafiles/processed_pdb/6Q3C_A.pdb\n"
     ]
    },
    {
     "name": "stderr",
     "output_type": "stream",
     "text": [
      "@> 292 atoms and 1 coordinate set(s) were parsed in 0.01s.\n",
      "@> 280 atoms and 1 coordinate set(s) were parsed in 0.01s.\n",
      "@> 287 atoms and 1 coordinate set(s) were parsed in 0.01s.\n",
      "@> 291 atoms and 1 coordinate set(s) were parsed in 0.01s.\n",
      "@> 291 atoms and 1 coordinate set(s) were parsed in 0.01s.\n",
      "@> 293 atoms and 1 coordinate set(s) were parsed in 0.01s.\n",
      "@> 288 atoms and 1 coordinate set(s) were parsed in 0.01s.\n",
      "@> 284 atoms and 1 coordinate set(s) were parsed in 0.01s.\n",
      "@> 291 atoms and 1 coordinate set(s) were parsed in 0.01s.\n"
     ]
    },
    {
     "name": "stdout",
     "output_type": "stream",
     "text": [
      "./datafiles/processed_pdb/6Q3F_A.pdb\n",
      "./datafiles/processed_pdb/6Q48_A.pdb\n",
      "./datafiles/processed_pdb/6Q49_A.pdb\n",
      "./datafiles/processed_pdb/6Q4A_A.pdb\n",
      "./datafiles/processed_pdb/6Q4B_A.pdb\n",
      "./datafiles/processed_pdb/6Q4C_A.pdb\n",
      "./datafiles/processed_pdb/6Q4D_A.pdb\n",
      "./datafiles/processed_pdb/6Q4E_A.pdb\n",
      "./datafiles/processed_pdb/6Q4F_A.pdb\n"
     ]
    },
    {
     "name": "stderr",
     "output_type": "stream",
     "text": [
      "@> 282 atoms and 1 coordinate set(s) were parsed in 0.01s.\n",
      "@> 291 atoms and 1 coordinate set(s) were parsed in 0.01s.\n",
      "@> 288 atoms and 1 coordinate set(s) were parsed in 0.01s.\n",
      "@> 289 atoms and 1 coordinate set(s) were parsed in 0.01s.\n",
      "@> 291 atoms and 1 coordinate set(s) were parsed in 0.01s.\n",
      "@> 290 atoms and 1 coordinate set(s) were parsed in 0.01s.\n",
      "@> 290 atoms and 1 coordinate set(s) were parsed in 0.01s.\n",
      "@> 287 atoms and 1 coordinate set(s) were parsed in 0.01s.\n",
      "@> 303 atoms and 1 coordinate set(s) were parsed in 0.01s.\n"
     ]
    },
    {
     "name": "stdout",
     "output_type": "stream",
     "text": [
      "./datafiles/processed_pdb/6Q4G_A.pdb\n",
      "./datafiles/processed_pdb/6Q4H_A.pdb\n",
      "./datafiles/processed_pdb/6Q4I_A.pdb\n",
      "./datafiles/processed_pdb/6Q4J_A.pdb\n",
      "./datafiles/processed_pdb/6Q4K_A.pdb\n",
      "./datafiles/processed_pdb/6RIJ_A.pdb\n",
      "./datafiles/processed_pdb/6RIJ_C.pdb\n",
      "./datafiles/processed_pdb/6YL1_A.pdb\n",
      "./datafiles/processed_pdb/6YL6_A.pdb\n"
     ]
    },
    {
     "name": "stderr",
     "output_type": "stream",
     "text": [
      "@> 295 atoms and 1 coordinate set(s) were parsed in 0.01s.\n"
     ]
    },
    {
     "name": "stdout",
     "output_type": "stream",
     "text": [
      "./datafiles/processed_pdb/6YLK_A.pdb\n"
     ]
    }
   ],
   "source": [
    "dist_mat_list_2 = []\n",
    "dist_mat_pdb_2 = []\n",
    "for proc in glob(proc_dir+'*'):\n",
    "    print(proc)\n",
    "    pdb = proc.split('/')[-1].split('.')[0]\n",
    "    chain = pdb.split(\".\")[0].split(\"_\")[-1]\n",
    "    dist_mat = get_ca_dist_matrix(proc, CDK2_KLIFS_IDENT, chain)\n",
    "    dist_mat_list_2.append(dist_mat)\n",
    "    dist_mat_pdb_2.append(pdb)\n",
    "        "
   ]
  },
  {
   "cell_type": "code",
   "execution_count": 84,
   "metadata": {},
   "outputs": [],
   "source": [
    "def plot_stacked_histogram(r1,r2,mats,idents,inds_fc,var=None):\n",
    "    #max_dist = np.amax(mats)\n",
    "    min_val = 1000\n",
    "    max_val = 0\n",
    "    clust_value = []\n",
    "    for ind_fc in inds_fc:\n",
    "        value = []\n",
    "        for mat in [mats[x] for x in ind_fc]:\n",
    "            if mat[r1,r2] != 0:\n",
    "                if mat[r1,r2] > max_val: max_val = mat[r1,r2]\n",
    "                if mat[r1,r2] < min_val: min_val = mat[r1,r2]\n",
    "                value.append(mat[r1,r2])\n",
    "        clust_value.append(value)\n",
    "    bins=np.arange(min_val-1,max_val+1,0.15)\n",
    "   # print(bins)\n",
    "    plt.figure()\n",
    "    cl = ['g','r','c','m','y']\n",
    "    n,bins,patches = plt.hist(x=clust_value, bins=bins, stacked=True, color=cl )    \n",
    "    plt.xlabel('Distance')\n",
    "    plt.ylabel('Frequency')\n",
    "    title = \"\"\n",
    "    for ident in idents:\n",
    "        title=title + \"/Indices %i and %i \"%(ident[r1],ident[r2])\n",
    "    if var:\n",
    "        title=title+ \"Variance %.3f\"%var[r1,r2]\n",
    "    plt.title(title)"
   ]
  },
  {
   "cell_type": "code",
   "execution_count": 94,
   "metadata": {},
   "outputs": [
    {
     "name": "stdout",
     "output_type": "stream",
     "text": [
      "3\n"
     ]
    }
   ],
   "source": [
    "SMALL_DIST_MAT = np.array([[[0, 1, 2, 3], [10, 0 , 12, 13], [20, 21, 0, 23], [30, 31, 32, 0]], \\\n",
    "                        [[0, 0, 2, 3], [0, 0 , 0, 0], [20, 0, 0, 23], [30, 0, 32, 0]], \\\n",
    "                        [[0, 1, 2, 3], [10, 0, 12, 13], [20, 21, 0, 23], [30, 31, 32, 0]]])\n",
    "\n",
    "\n",
    "def XY_getTriu(x,y,m,k):\n",
    "    l = m-k\n",
    "    ind = 0\n",
    "    while(y != 0):\n",
    "        ind += l\n",
    "        l -= 1\n",
    "        y -= 1\n",
    "        x -= 1\n",
    "    return(ind+x)\n",
    "\n",
    "print(XY_getTriu(0,3,4,1))\n"
   ]
  },
  {
   "cell_type": "markdown",
   "metadata": {},
   "source": [
    "### shortest distance, no minimum distance, no adjacent residues"
   ]
  },
  {
   "cell_type": "code",
   "execution_count": 13,
   "metadata": {},
   "outputs": [
    {
     "name": "stdout",
     "output_type": "stream",
     "text": [
      "74 [19, 20, 30, 31, 32, 33, 34, 35, 50, 51, 52, 53, 54, 55, 56, 57, 58, 59, 61, 62, 63, 64, 65, 66, 67, 68, 69, 77, 78, 79, 80, 86, 87, 88, 89, 90, 91, 92, 93, 114, 117, 118, 119, 120, 121, 122, 123, 125, 127, 128, 129, 130, 131, 132, 133, 134, 135, 139, 142, 143, 144, 165, 167, 168, 169, 171, 174, 185, 187, 190, 192, 195, 262, 274]\n",
      "3\n",
      "PCA\n",
      "link_cols\n",
      "dendrogram\n",
      "plot PCA\n",
      "cluster size: 232 g\n",
      "cluster size: 78 r\n",
      "cluster size: 5 c\n",
      "cluster size: 212 m\n",
      "[0.80311482 0.03306304]\n"
     ]
    },
    {
     "data": {
      "image/png": "[encoded data removed]",
      "text/plain": [
       "<Figure size 1800x360 with 1 Axes>"
      ]
     },
     "metadata": {
      "needs_background": "light"
     },
     "output_type": "display_data"
    },
    {
     "data": {
      "image/png": "[encoded data removed]",
      "text/plain": [
       "<Figure size 432x288 with 1 Axes>"
      ]
     },
     "metadata": {
      "needs_background": "light"
     },
     "output_type": "display_data"
    }
   ],
   "source": [
    "dist_mat_list_0 = np.array(dist_mat_list_0)\n",
    "dist_mats_0, res_list_0, ind_list_0, inds_fc_0, medoid_ind_list_0 = dist_analy.pca.run(dist_mat_list_0, CDK2_KLIFS_IDENT, 4)"
   ]
  },
  {
   "cell_type": "code",
   "execution_count": 14,
   "metadata": {},
   "outputs": [
    {
     "name": "stdout",
     "output_type": "stream",
     "text": [
      "3\n",
      "\u001b[38;5;214mK33\u001b[0m-\u001b[38;5;214mE51\u001b[0m: 2.264, -22.486\n",
      "\n",
      "\u001b[38;5;202mE57\u001b[0m-R122: 2.024, -19.313\n",
      "\n",
      "\u001b[38;5;214mE51\u001b[0m-L78: 3.043, -12.303\n",
      "\n",
      "\u001b[38;5;214mE51\u001b[0m-\u001b[38;5;3mF80\u001b[0m: 3.147, -11.333\n",
      "\n",
      "\u001b[38;5;202mL55\u001b[0m-\u001b[38;5;3mF80\u001b[0m: 2.993, -6.235\n",
      "\n",
      "\u001b[38;5;202mL55\u001b[0m-V64: 3.364, -5.600\n",
      "\n",
      "\u001b[38;5;202mS53\u001b[0m-V69: 3.034, 5.164\n",
      "\n",
      "\u001b[38;5;202mK56\u001b[0m-L67: 2.763, 5.097\n",
      "\n",
      "\u001b[38;5;202mK56\u001b[0m-K65: 2.546, 5.078\n",
      "\n",
      "[(5, 9, 358, -22.486499061415067), (15, 45, 1019, -19.313318505270956), (9, 28, 639, -12.302679163764811), (9, 30, 641, -11.332944517539293), (13, 30, 887, -6.234790585348119), (13, 21, 878, -5.6000361318802625), (11, 26, 762, 5.164162871197212), (14, 24, 940, 5.096849613019017), (14, 22, 938, 5.078081082034714)]\n"
     ]
    },
    {
     "data": {
      "image/png": "[encoded data removed]",
      "text/plain": [
       "<Figure size 432x288 with 1 Axes>"
      ]
     },
     "metadata": {
      "needs_background": "light"
     },
     "output_type": "display_data"
    }
   ],
   "source": [
    "c1 = 0\n",
    "c2 = 3\n",
    "\n",
    "feats_0 = dist_analy.pca.triu_flatten(dist_mats_0, res_list_0)\n",
    "uniprot_sequence = 'MENFQKVEKIGEGTYGVVYKARNKLTGEVVALKKIRLDTETEGVPSTAIREISLLKELNHPNIVKLLDVIHTENKLYLVFEFLHQDLKKFMDASALTGIPLPLIKSYLFQLLQGLAFCHSHRVLHRDLKPQNLLINTEGAIKLADFGLARAFGVPVRTYTHEVVTLWYRAPEILLGCKYYSTAVDIWSLGCIFAEMVTRRALFPGDSEIDQLFRIFRTLGTPDEVVWPGVTSMPDYKPSFPKWARQDFSKVVPPLDEDGRSLLSQMLHYDPNKRISAKAALAHPFFQDVTKPVPHLRL'\n",
    "\n",
    "zscore_0, min_dist_0 = dist_analy.pca.calc_cluster_zscore(inds_fc_0[c1], inds_fc_0[c2], feats_0)\n",
    "dist_analy.pca.plot_zscore(c1, c2, feats_0, min_dist_0, zscore_0, res_list_0, uniprot_sequence, xcutoff=3.5, top=25)"
   ]
  },
  {
   "cell_type": "code",
   "execution_count": 96,
   "metadata": {},
   "outputs": [
    {
     "name": "stdout",
     "output_type": "stream",
     "text": [
      "544\n"
     ]
    },
    {
     "data": {
      "image/png": "[encoded data removed]",
      "text/plain": [
       "<Figure size 432x288 with 1 Axes>"
      ]
     },
     "metadata": {
      "needs_background": "light"
     },
     "output_type": "display_data"
    }
   ],
   "source": [
    "r1 = 32\n",
    "r2 = 51\n",
    "plot_stacked_histogram(res_list_0.index(r1),res_list_0.index(r2),dist_mats_0,[res_list_0],inds_fc_0,var=None)\n",
    "print(XY_getTriu(res_list_0.index(r1),res_list_0.index(r2),len(res_list_0),1))\n"
   ]
  },
  {
   "cell_type": "code",
   "execution_count": 100,
   "metadata": {},
   "outputs": [
    {
     "name": "stdout",
     "output_type": "stream",
     "text": [
      "-5.880182821221464 0.4124166664895844 0.28746784073822207 0.34432038655911196\n",
      "-17.077649336955453 -1.1358110951036873\n"
     ]
    }
   ],
   "source": [
    "index = 544\n",
    "# print(feats_0[:,index])\n",
    "# print(feats_0[inds_fc_0[c2],index]) ## how to handle this??\n",
    "print(np.subtract(np.average(feats_0[inds_fc_0[c1], index]), np.average(feats_0[inds_fc_0[c2], index])), np.std(feats_0[inds_fc_0[c1], index], axis=0), np.std(feats_0[inds_fc_0[c2], index], axis=0),np.sqrt(np.multiply(np.std(feats_0[inds_fc_0[c1], index], axis=0),np.std(feats_0[inds_fc_0[c2], index], axis=0))))\n",
    "val1 = np.divide(np.subtract(np.average(feats_0[inds_fc_0[c1], index]), np.average(feats_0[inds_fc_0[c2], index])), np.sqrt(np.multiply(np.std(feats_0[inds_fc_0[c1], index], axis=0),np.std(feats_0[inds_fc_0[c2], index], axis=0))))\n",
    "print(val1, np.divide(val1, (np.subtract(np.amin(feats_0[:,index]),1.5))))"
   ]
  },
  {
   "cell_type": "code",
   "execution_count": 107,
   "metadata": {},
   "outputs": [
    {
     "name": "stdout",
     "output_type": "stream",
     "text": [
      "(array([ 27,  67, 452, 477]),)\n",
      "['1H01_A', '1OIR_A', '4RJ3_A', '5MHQ_A']\n"
     ]
    }
   ],
   "source": [
    "r1 = 33\n",
    "r2 = 51\n",
    "# plot_stacked_histogram(CDK2_KLIFS_IDENT.index(r1),CDK2_KLIFS_IDENT.index(r2),dist_mat_list_0,[CDK2_KLIFS_IDENT],inds_fc_0,var=None)\n",
    "# print(XY_getTriu(CDK2_KLIFS_IDENT.index(r1),CDK2_KLIFS_IDENT.index(r2),len(CDK2_KLIFS_IDENT),1))\n",
    "\n",
    "\n",
    "r1r2_missing = np.where(dist_mat_list_0[:,CDK2_KLIFS_IDENT.index(r1),CDK2_KLIFS_IDENT.index(r2)]==0)\n",
    "print(r1r2_missing)\n",
    "print([dist_mat_pdb_0[x] for x in r1r2_missing[0]])"
   ]
  },
  {
   "cell_type": "markdown",
   "metadata": {},
   "source": [
    "### shortest distance, minimum distance = 2.2 , no adjacent residues"
   ]
  },
  {
   "cell_type": "code",
   "execution_count": 15,
   "metadata": {
    "scrolled": true
   },
   "outputs": [
    {
     "name": "stdout",
     "output_type": "stream",
     "text": [
      "74 [19, 20, 30, 31, 32, 33, 34, 35, 50, 51, 52, 53, 54, 55, 56, 57, 58, 59, 61, 62, 63, 64, 65, 66, 67, 68, 69, 77, 78, 79, 80, 86, 87, 88, 89, 90, 91, 92, 93, 114, 117, 118, 119, 120, 121, 122, 123, 125, 127, 128, 129, 130, 131, 132, 133, 134, 135, 139, 142, 143, 144, 165, 167, 168, 169, 171, 174, 185, 187, 190, 192, 195, 262, 274]\n",
      "3\n",
      "PCA\n",
      "link_cols\n",
      "dendrogram\n",
      "plot PCA\n",
      "cluster size: 232 g\n",
      "cluster size: 78 r\n",
      "cluster size: 5 c\n",
      "cluster size: 212 m\n",
      "[0.8031684 0.0330548]\n"
     ]
    },
    {
     "data": {
      "image/png": "[encoded data removed]",
      "text/plain": [
       "<Figure size 1800x360 with 1 Axes>"
      ]
     },
     "metadata": {
      "needs_background": "light"
     },
     "output_type": "display_data"
    },
    {
     "data": {
      "image/png": "[encoded data removed]",
      "text/plain": [
       "<Figure size 432x288 with 1 Axes>"
      ]
     },
     "metadata": {
      "needs_background": "light"
     },
     "output_type": "display_data"
    }
   ],
   "source": [
    "dist_mat_list_1 = np.array(dist_mat_list_1)\n",
    "dist_mats_1, res_list_1, ind_list_1, inds_fc_1, medoid_ind_list_1 = dist_analy.pca.run(dist_mat_list_1, CDK2_KLIFS_IDENT, 4)"
   ]
  },
  {
   "cell_type": "code",
   "execution_count": 28,
   "metadata": {
    "scrolled": true
   },
   "outputs": [
    {
     "name": "stdout",
     "output_type": "stream",
     "text": [
      "3\n"
     ]
    },
    {
     "ename": "IndexError",
     "evalue": "list index out of range",
     "output_type": "error",
     "traceback": [
      "\u001b[0;31m---------------------------------------------------------------------------\u001b[0m",
      "\u001b[0;31mIndexError\u001b[0m                                Traceback (most recent call last)",
      "\u001b[0;32m<ipython-input-28-9488aeaf7920>\u001b[0m in \u001b[0;36m<module>\u001b[0;34m\u001b[0m\n\u001b[1;32m      5\u001b[0m \u001b[0muniprot_sequence\u001b[0m \u001b[0;34m=\u001b[0m \u001b[0;34m'MENFQKVEKIGEGTYGVVYKARNKLTGEVVALKKIRLDTETEGVPSTAIREISLLKELNHPNIVKLLDVIHTENKLYLVFEFLHQDLKKFMDASALTGIPLPLIKSYLFQLLQGLAFCHSHRVLHRDLKPQNLLINTEGAIKLADFGLARAFGVPVRTYTHEVVTLWYRAPEILLGCKYYSTAVDIWSLGCIFAEMVTRRALFPGDSEIDQLFRIFRTLGTPDEVVWPGVTSMPDYKPSFPKWARQDFSKVVPPLDEDGRSLLSQMLHYDPNKRISAKAALAHPFFQDVTKPVPHLRL'\u001b[0m\u001b[0;34m\u001b[0m\u001b[0m\n\u001b[1;32m      6\u001b[0m \u001b[0;34m\u001b[0m\u001b[0m\n\u001b[0;32m----> 7\u001b[0;31m \u001b[0mzscore_1\u001b[0m\u001b[0;34m,\u001b[0m \u001b[0mmin_dist_1\u001b[0m \u001b[0;34m=\u001b[0m \u001b[0mdist_analy\u001b[0m\u001b[0;34m.\u001b[0m\u001b[0mpca\u001b[0m\u001b[0;34m.\u001b[0m\u001b[0mcalc_cluster_zscore\u001b[0m\u001b[0;34m(\u001b[0m\u001b[0minds_fc_1\u001b[0m\u001b[0;34m[\u001b[0m\u001b[0mc1\u001b[0m\u001b[0;34m]\u001b[0m\u001b[0;34m,\u001b[0m \u001b[0minds_fc_1\u001b[0m\u001b[0;34m[\u001b[0m\u001b[0mc2\u001b[0m\u001b[0;34m]\u001b[0m\u001b[0;34m,\u001b[0m \u001b[0mfeats_1\u001b[0m\u001b[0;34m)\u001b[0m\u001b[0;34m\u001b[0m\u001b[0m\n\u001b[0m\u001b[1;32m      8\u001b[0m \u001b[0mdist_analy\u001b[0m\u001b[0;34m.\u001b[0m\u001b[0mpca\u001b[0m\u001b[0;34m.\u001b[0m\u001b[0mplot_zscore\u001b[0m\u001b[0;34m(\u001b[0m\u001b[0mc1\u001b[0m\u001b[0;34m,\u001b[0m \u001b[0mc2\u001b[0m\u001b[0;34m,\u001b[0m \u001b[0mfeats_1\u001b[0m\u001b[0;34m,\u001b[0m \u001b[0mmin_dist_1\u001b[0m\u001b[0;34m,\u001b[0m \u001b[0mzscore_1\u001b[0m\u001b[0;34m,\u001b[0m \u001b[0mres_list_1\u001b[0m\u001b[0;34m,\u001b[0m \u001b[0muniprot_sequence\u001b[0m\u001b[0;34m,\u001b[0m \u001b[0mxcutoff\u001b[0m\u001b[0;34m=\u001b[0m\u001b[0;36m3.5\u001b[0m\u001b[0;34m)\u001b[0m\u001b[0;34m\u001b[0m\u001b[0m\n",
      "\u001b[0;31mIndexError\u001b[0m: list index out of range"
     ]
    }
   ],
   "source": [
    "c1 = 0\n",
    "c2 = 4\n",
    "\n",
    "feats_1 = dist_analy.pca.triu_flatten(dist_mats_1, res_list_1)\n",
    "uniprot_sequence = 'MENFQKVEKIGEGTYGVVYKARNKLTGEVVALKKIRLDTETEGVPSTAIREISLLKELNHPNIVKLLDVIHTENKLYLVFEFLHQDLKKFMDASALTGIPLPLIKSYLFQLLQGLAFCHSHRVLHRDLKPQNLLINTEGAIKLADFGLARAFGVPVRTYTHEVVTLWYRAPEILLGCKYYSTAVDIWSLGCIFAEMVTRRALFPGDSEIDQLFRIFRTLGTPDEVVWPGVTSMPDYKPSFPKWARQDFSKVVPPLDEDGRSLLSQMLHYDPNKRISAKAALAHPFFQDVTKPVPHLRL'\n",
    "\n",
    "zscore_1, min_dist_1 = dist_analy.pca.calc_cluster_zscore(inds_fc_1[c1], inds_fc_1[c2], feats_1)\n",
    "dist_analy.pca.plot_zscore(c1, c2, feats_1, min_dist_1, zscore_1, res_list_1, uniprot_sequence, xcutoff=3.5)"
   ]
  },
  {
   "cell_type": "code",
   "execution_count": 63,
   "metadata": {},
   "outputs": [
    {
     "name": "stdout",
     "output_type": "stream",
     "text": [
      "[2.2 2.2 2.2 2.2]\n",
      "0.10948591408704136 0.0 0.0\n",
      "inf\n"
     ]
    },
    {
     "name": "stderr",
     "output_type": "stream",
     "text": [
      "/Library/Frameworks/Python.framework/Versions/3.6/lib/python3.6/site-packages/ipykernel_launcher.py:5: RuntimeWarning: divide by zero encountered in true_divide\n",
      "  \"\"\"\n"
     ]
    }
   ],
   "source": [
    "index = 1182\n",
    "# print(feats_1[:,index])\n",
    "print(feats_1[inds_fc_1[c2],index]) ## how to handle this??\n",
    "print(np.std(feats_1[inds_fc_1[c1], index], axis=0), np.std(feats_1[inds_fc_1[c2], index], axis=0),np.sqrt(np.multiply(np.std(feats_1[inds_fc_1[c1], index], axis=0),np.std(feats_1[inds_fc_1[c2], index], axis=0))))\n",
    "val1 = np.divide(np.subtract(np.average(feats_1[inds_fc_1[c1], index]), np.average(feats_1[inds_fc_1[c2], index])), np.sqrt(np.multiply(np.std(feats_1[inds_fc_1[c1], index], axis=0),np.std(feats_1[inds_fc_1[c2], index], axis=0))))\n",
    "print(np.divide(val1, (np.subtract(np.amin(feats_1[:,index]),1.5))))"
   ]
  },
  {
   "cell_type": "markdown",
   "metadata": {},
   "source": [
    "### carbon alpha distance, no adjacent residues"
   ]
  },
  {
   "cell_type": "code",
   "execution_count": 21,
   "metadata": {
    "scrolled": true
   },
   "outputs": [
    {
     "name": "stdout",
     "output_type": "stream",
     "text": [
      "73 [19, 20, 30, 31, 32, 34, 35, 50, 51, 52, 53, 54, 55, 56, 57, 58, 59, 61, 62, 63, 64, 65, 66, 67, 68, 69, 77, 78, 79, 80, 86, 87, 88, 89, 90, 91, 92, 93, 114, 117, 118, 119, 120, 121, 122, 123, 125, 127, 128, 129, 130, 131, 132, 133, 134, 135, 139, 142, 143, 144, 165, 167, 168, 169, 171, 174, 185, 187, 190, 192, 195, 262, 274]\n",
      "3\n",
      "PCA\n",
      "link_cols\n",
      "dendrogram\n",
      "plot PCA\n",
      "cluster size: 232 g\n",
      "cluster size: 5 r\n",
      "cluster size: 156 c\n",
      "cluster size: 134 m\n",
      "[0.87466258 0.03588653]\n"
     ]
    },
    {
     "data": {
      "image/png": "[encoded data removed]",
      "text/plain": [
       "<Figure size 1800x360 with 1 Axes>"
      ]
     },
     "metadata": {
      "needs_background": "light"
     },
     "output_type": "display_data"
    },
    {
     "data": {
      "image/png": "[encoded data removed]",
      "text/plain": [
       "<Figure size 432x288 with 1 Axes>"
      ]
     },
     "metadata": {
      "needs_background": "light"
     },
     "output_type": "display_data"
    }
   ],
   "source": [
    "dist_mat_list_2 = np.array(dist_mat_list_2)\n",
    "dist_mats_2, res_list_2, ind_list_2, inds_fc_2, medoid_ind_list_2 = dist_analy.pca.run(dist_mat_list_2, CDK2_KLIFS_IDENT, 4)"
   ]
  },
  {
   "cell_type": "code",
   "execution_count": 39,
   "metadata": {
    "scrolled": true
   },
   "outputs": [
    {
     "name": "stdout",
     "output_type": "stream",
     "text": [
      "3\n",
      "\u001b[38;5;202mS53\u001b[0m-V69: 5.891, 2.571\n",
      "\n",
      "\u001b[38;5;202mK56\u001b[0m-L66: 4.998, 2.291\n",
      "\n",
      "\u001b[38;5;202mS53\u001b[0m-D68: 7.153, 1.846\n",
      "\n",
      "\u001b[38;5;202mL55\u001b[0m-K65: 6.625, -1.679\n",
      "\n",
      "\u001b[38;5;202mK56\u001b[0m-L67: 6.064, 1.635\n",
      "\n",
      "\u001b[38;5;202mL55\u001b[0m-V64: 7.779, -1.590\n",
      "\n",
      "\u001b[38;5;214mE51\u001b[0m-\u001b[38;5;202mL55\u001b[0m: 5.368, -1.550\n",
      "\n",
      "[(10, 25, 689, 2.5707614743715204), (13, 22, 866, 2.290640163435239), (10, 24, 688, 1.8456281316425789), (12, 21, 806, -1.6789425703365135), (13, 23, 867, 1.6346750517140274), (12, 20, 805, -1.590353107140729), (8, 12, 551, -1.549918415634661)]\n"
     ]
    },
    {
     "data": {
      "image/png": "[encoded data removed]",
      "text/plain": [
       "<Figure size 432x288 with 1 Axes>"
      ]
     },
     "metadata": {
      "needs_background": "light"
     },
     "output_type": "display_data"
    }
   ],
   "source": [
    "c1 = 0\n",
    "c2 = 4\n",
    "\n",
    "feats_2 = dist_analy.pca.triu_flatten(dist_mats_2, res_list_2)\n",
    "uniprot_sequence = 'MENFQKVEKIGEGTYGVVYKARNKLTGEVVALKKIRLDTETEGVPSTAIREISLLKELNHPNIVKLLDVIHTENKLYLVFEFLHQDLKKFMDASALTGIPLPLIKSYLFQLLQGLAFCHSHRVLHRDLKPQNLLINTEGAIKLADFGLARAFGVPVRTYTHEVVTLWYRAPEILLGCKYYSTAVDIWSLGCIFAEMVTRRALFPGDSEIDQLFRIFRTLGTPDEVVWPGVTSMPDYKPSFPKWARQDFSKVVPPLDEDGRSLLSQMLHYDPNKRISAKAALAHPFFQDVTKPVPHLRL'\n",
    "\n",
    "zscore_2, min_dist_2 = dist_analy.pca.calc_cluster_zscore(inds_fc_2[c1], inds_fc_2[c2], feats_2)\n",
    "dist_analy.pca.plot_zscore(c1, c2, feats_2, min_dist_2, zscore_2, res_list_2, uniprot_sequence, xcutoff=8, ycutoff=1.5)"
   ]
  },
  {
   "cell_type": "code",
   "execution_count": null,
   "metadata": {},
   "outputs": [],
   "source": []
  }
 ],
 "metadata": {
  "kernelspec": {
   "display_name": "Python 3",
   "language": "python",
   "name": "python3"
  },
  "language_info": {
   "codemirror_mode": {
    "name": "ipython",
    "version": 3
   },
   "file_extension": ".py",
   "mimetype": "text/x-python",
   "name": "python",
   "nbconvert_exporter": "python",
   "pygments_lexer": "ipython3",
   "version": "3.8.12"
  }
 },
 "nbformat": 4,
 "nbformat_minor": 2
}
